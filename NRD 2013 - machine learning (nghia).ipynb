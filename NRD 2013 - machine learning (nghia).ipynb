{
 "cells": [
  {
   "cell_type": "code",
   "execution_count": 1,
   "metadata": {},
   "outputs": [],
   "source": [
    "from sklearn import tree\n",
    "import pandas as pd\n",
    "import numpy as np\n",
    "import os\n",
    "import warnings\n",
    "warnings.filterwarnings(\"ignore\")"
   ]
  },
  {
   "cell_type": "code",
   "execution_count": 2,
   "metadata": {},
   "outputs": [
    {
     "output_type": "execute_result",
     "data": {
      "text/plain": [
       "   index  age  aweekend  died    discwt  dispuniform  dmonth  dqtr  drg  \\\n",
       "0      0   89         1   0.0  1.071937          5.0       3     1  372   \n",
       "1      1   89         1   0.0  1.071937          1.0       6     2  853   \n",
       "2      2   89         0   0.0  1.071937          5.0       9     3  853   \n",
       "3      3   48         0   0.0  3.063669          1.0       6     2  330   \n",
       "4      4   65         0   0.0  1.919980          1.0       5     2  387   \n",
       "\n",
       "   drgver  ...  _Iage_group_1 _Iage_group_2 _Inew_cc_in_1 _Inew_cc_in_2  \\\n",
       "0      30  ...              0             1             0             1   \n",
       "1      30  ...              0             1             0             1   \n",
       "2      30  ...              0             1             1             0   \n",
       "3      30  ...              1             0             0             0   \n",
       "4      30  ...              0             1             0             0   \n",
       "\n",
       "  _Ipayer_2 _Ipayer_3 _Ipayer_4 _Izipinc_qr_2 _Izipinc_qr_3 _Izipinc_qr_4  \n",
       "0       0.0       0.0       0.0           0.0           0.0           1.0  \n",
       "1       0.0       0.0       0.0           0.0           0.0           1.0  \n",
       "2       0.0       0.0       0.0           0.0           0.0           1.0  \n",
       "3       1.0       0.0       0.0           0.0           1.0           0.0  \n",
       "4       0.0       0.0       0.0           1.0           0.0           0.0  \n",
       "\n",
       "[5 rows x 362 columns]"
      ],
      "text/html": "<div>\n<style scoped>\n    .dataframe tbody tr th:only-of-type {\n        vertical-align: middle;\n    }\n\n    .dataframe tbody tr th {\n        vertical-align: top;\n    }\n\n    .dataframe thead th {\n        text-align: right;\n    }\n</style>\n<table border=\"1\" class=\"dataframe\">\n  <thead>\n    <tr style=\"text-align: right;\">\n      <th></th>\n      <th>index</th>\n      <th>age</th>\n      <th>aweekend</th>\n      <th>died</th>\n      <th>discwt</th>\n      <th>dispuniform</th>\n      <th>dmonth</th>\n      <th>dqtr</th>\n      <th>drg</th>\n      <th>drgver</th>\n      <th>...</th>\n      <th>_Iage_group_1</th>\n      <th>_Iage_group_2</th>\n      <th>_Inew_cc_in_1</th>\n      <th>_Inew_cc_in_2</th>\n      <th>_Ipayer_2</th>\n      <th>_Ipayer_3</th>\n      <th>_Ipayer_4</th>\n      <th>_Izipinc_qr_2</th>\n      <th>_Izipinc_qr_3</th>\n      <th>_Izipinc_qr_4</th>\n    </tr>\n  </thead>\n  <tbody>\n    <tr>\n      <th>0</th>\n      <td>0</td>\n      <td>89</td>\n      <td>1</td>\n      <td>0.0</td>\n      <td>1.071937</td>\n      <td>5.0</td>\n      <td>3</td>\n      <td>1</td>\n      <td>372</td>\n      <td>30</td>\n      <td>...</td>\n      <td>0</td>\n      <td>1</td>\n      <td>0</td>\n      <td>1</td>\n      <td>0.0</td>\n      <td>0.0</td>\n      <td>0.0</td>\n      <td>0.0</td>\n      <td>0.0</td>\n      <td>1.0</td>\n    </tr>\n    <tr>\n      <th>1</th>\n      <td>1</td>\n      <td>89</td>\n      <td>1</td>\n      <td>0.0</td>\n      <td>1.071937</td>\n      <td>1.0</td>\n      <td>6</td>\n      <td>2</td>\n      <td>853</td>\n      <td>30</td>\n      <td>...</td>\n      <td>0</td>\n      <td>1</td>\n      <td>0</td>\n      <td>1</td>\n      <td>0.0</td>\n      <td>0.0</td>\n      <td>0.0</td>\n      <td>0.0</td>\n      <td>0.0</td>\n      <td>1.0</td>\n    </tr>\n    <tr>\n      <th>2</th>\n      <td>2</td>\n      <td>89</td>\n      <td>0</td>\n      <td>0.0</td>\n      <td>1.071937</td>\n      <td>5.0</td>\n      <td>9</td>\n      <td>3</td>\n      <td>853</td>\n      <td>30</td>\n      <td>...</td>\n      <td>0</td>\n      <td>1</td>\n      <td>1</td>\n      <td>0</td>\n      <td>0.0</td>\n      <td>0.0</td>\n      <td>0.0</td>\n      <td>0.0</td>\n      <td>0.0</td>\n      <td>1.0</td>\n    </tr>\n    <tr>\n      <th>3</th>\n      <td>3</td>\n      <td>48</td>\n      <td>0</td>\n      <td>0.0</td>\n      <td>3.063669</td>\n      <td>1.0</td>\n      <td>6</td>\n      <td>2</td>\n      <td>330</td>\n      <td>30</td>\n      <td>...</td>\n      <td>1</td>\n      <td>0</td>\n      <td>0</td>\n      <td>0</td>\n      <td>1.0</td>\n      <td>0.0</td>\n      <td>0.0</td>\n      <td>0.0</td>\n      <td>1.0</td>\n      <td>0.0</td>\n    </tr>\n    <tr>\n      <th>4</th>\n      <td>4</td>\n      <td>65</td>\n      <td>0</td>\n      <td>0.0</td>\n      <td>1.919980</td>\n      <td>1.0</td>\n      <td>5</td>\n      <td>2</td>\n      <td>387</td>\n      <td>30</td>\n      <td>...</td>\n      <td>0</td>\n      <td>1</td>\n      <td>0</td>\n      <td>0</td>\n      <td>0.0</td>\n      <td>0.0</td>\n      <td>0.0</td>\n      <td>1.0</td>\n      <td>0.0</td>\n      <td>0.0</td>\n    </tr>\n  </tbody>\n</table>\n<p>5 rows × 362 columns</p>\n</div>"
     },
     "metadata": {},
     "execution_count": 2
    }
   ],
   "source": [
    "# path = '/Users/aqian/Downloads/'\n",
    "# #path = 'M:/Edmund'\n",
    "# os.chdir(path)\n",
    "df = pd.read_csv(\"../../NRD 2013 (machine learning).csv\")\n",
    "df.head()"
   ]
  },
  {
   "cell_type": "code",
   "execution_count": 3,
   "metadata": {},
   "outputs": [
    {
     "output_type": "stream",
     "name": "stdout",
     "text": [
      "['index' 'age' 'aweekend' 'died' 'discwt' 'dispuniform' 'dmonth' 'dqtr'\n 'drg' 'drgver' 'drg_nopoa' 'dx1' 'dx2' 'dx3' 'dx4' 'dx5' 'dx6' 'dx7'\n 'dx8' 'dx9' 'dx10' 'dx11' 'dx12' 'dx13' 'dx14' 'dx15' 'dx16' 'dx17'\n 'dx18' 'dx19' 'dx20' 'dx21' 'dx22' 'dx23' 'dx24' 'dx25' 'dxccs1' 'dxccs2'\n 'dxccs3' 'dxccs4' 'dxccs5' 'dxccs6' 'dxccs7' 'dxccs8' 'dxccs9' 'dxccs10'\n 'dxccs11' 'dxccs12' 'dxccs13' 'dxccs14' 'dxccs15' 'dxccs16' 'dxccs17'\n 'dxccs18' 'dxccs19' 'dxccs20' 'dxccs21' 'dxccs22' 'dxccs23' 'dxccs24'\n 'dxccs25' 'elective' 'female' 'hcup_ed' 'hosp_nrd' 'key_nrd' 'los' 'mdc'\n 'mdc_nopoa' 'nchronic' 'ndx' 'necode' 'npr' 'nrd_daystoevent'\n 'nrd_stratum' 'nrd_visitlink' 'orproc' 'pay1' 'pl_nchs' 'pr1' 'pr2' 'pr3'\n 'pr4' 'pr5' 'pr6' 'pr7' 'pr8' 'pr9' 'pr10' 'pr11' 'pr12' 'pr13' 'pr14'\n 'pr15' 'prccs1' 'prccs2' 'prccs3' 'prccs4' 'prccs5' 'prccs6' 'prccs7'\n 'prccs8' 'prccs9' 'prccs10' 'prccs11' 'prccs12' 'prccs13' 'prccs14'\n 'prccs15' 'rehabtransfer' 'resident' 'samedayevent' 'totchg' 'year'\n 'zipinc_qrtl' 'aprdrg' 'aprdrg_risk_mortality' 'aprdrg_severity'\n 'cm_aids' 'cm_alcohol' 'cm_anemdef' 'cm_arth' 'cm_bldloss' 'cm_chf'\n 'cm_chrnlung' 'cm_coag' 'cm_depress' 'cm_dm' 'cm_dmcx' 'cm_drug'\n 'cm_htn_c' 'cm_hypothy' 'cm_liver' 'cm_lymph' 'cm_lytes' 'cm_mets'\n 'cm_neuro' 'cm_obese' 'cm_para' 'cm_perivasc' 'cm_psych' 'cm_pulmcirc'\n 'cm_renlfail' 'cm_tumor' 'cm_ulcer' 'cm_valve' 'cm_wghtloss' 'diabetes'\n 'copd' 'cm_smoking' 'ibd_dx_index' 'crohn_index' 'hosp_bedsize'\n 'h_contrl' 'hosp_urcat4' 'hosp_ur_teach' 'n_disc_u' 'n_hosp_u' 's_disc_u'\n 's_hosp_u' 'total_disc' 'hosp_urban_rural_location' 'payer' 'ccr_nrd'\n 'wageindex' '_merge' 'inpt_charges' 'ibd' 'ibd_flag' 'total_adm_num'\n 'ibd_adm_num' 'ibd_adm_total' 'ibd_index_hosp' 'ibd_index_six_months'\n 'ibd_index_death' 'ibd_index_after_june' 'ibd_index_flag_exclude'\n 'ibd_min_dmonth' 'ibd_total_los' 'dmonth_dead' 'dmonth_dead_fu'\n 'ibd_fu_v1' 'ibd_fu_v2' 'ibd_alive_fu' 'before_ibd_index_adm'\n 'total_before_ibd_index' 'before_ibd_index' 'ibdtotaladm_from_index'\n 'ibdtotlos_alive_fu' 'ibdtotadm_alive_fu' 'ibd_total_charges'\n 'ibdtotcharges_alive_fu' 'age_group' 'young_quintile'\n 'young_quintile_flag' 'sum_young' 'middle_quintile'\n 'middle_quintile_flag' 'sum_middle' 'old_quintile' 'old_quintile_flag'\n 'sum_old' 'ibd_young_quartile' 'ibd_middle_quartile' 'ibd_old_quartile'\n 'tot_ibd_death' 'gi_or_hepatic_proc_index' 'blood_transfusion'\n 'parenteral_or_enteral_index' 'ibd_procedures' 'tot_gi_or_hepatic_proc'\n 'max_nrd_daystoevent' 'ibd_max_daystoevent' 'ibd_readm' 'ibd_tot_readm'\n 'ibd_net_readm' 'ibd_colostomy_adm' 'tot_colostomy_adm'\n 'ibd_ileostomy_adm' 'tot_ileoostomy_adm' 'ibd_smallbowelresect_adm'\n 'tot_smallbowelresect_adm' 'ibd_colonresect_adm' 'tot_colonresect_adm'\n 'ibd_localexcise_adm' 'tot_localexcise_adm' 'ibd_exlap_adm'\n 'tot_exlap_adm' 'ibd_lysis_adm' 'tot_lysis_adm' 'tot_blood_transfusion'\n 'tot_parenteral_or_enteral' 'tot_ibd_procedures' 'cc_mi' 'cc_chf'\n 'cc_pervasc' 'cc_cvd' 'cc_dementia' 'cc_pulm' 'cc_rheumatic' 'cc_pud'\n 'cc_mild_liver' 'cc_dm_wocomp' 'cc_dm_w_comp' 'cc_hemi_or_para'\n 'cc_renal' 'cc_malignancy' 'cc_mod_severe_liver' 'cc_met_solidtumor'\n 'cc_aids_hiv' 'cc_index' 'new_cc_index' 'fractures' 'thromboses'\n 'tot_thromboses' 'unplanned_adm' 'tot_unplanned' 'pq1_dm_short'\n 'pq2_perf_appendix' 'pq3_dm_long' 'pq5_copd_asthma' 'pq7_htn' 'cardiac'\n 'pq8_chf' 'pq10_dehydrate' 'pq11_bacterialpna' 'pq12_uti' 'pq13_angina'\n 'pq14_diabeteswocomp' 'pq15_asthma' 'pq16_dm_amputate' 'dm'\n 'top_quintile_flag' 'ibd_young_quintile' 'ibd_middle_quintile'\n 'ibd_old_quintile' 'dibd_young_quintile' 'dibd_middle_quintile'\n 'dibd_old_quintile' 'top_ibd' 'top_decile_ibd' 'new_mi_adm' 'new_chf_adm'\n 'new_unstableangina_adm' 'new_arrhythmia_adm' 'new_cardiacarrest_adm'\n 'new_meningitis_adm' 'new_encephalitis_adm' 'new_endocarditis_adm'\n 'new_pneumonia_adm' 'new_pyelonephritis_adm' 'new_osteo_adm'\n 'new_septicemia_adm' 'new_cdiff_adm' 'new_tb_adm' 'new_atypicalmyco_adm'\n 'new_fungal_adm' 'new_listeriosis_adm' 'new_leishmaniasis_adm'\n 'new_pcp_adm' 'chronic_pain' 'ibd_surgery_adm' 'tot_surgery_adm'\n 'tot_pq1' 'tot_pq2' 'tot_pq3' 'frailty_risk_score'\n 'frailty_risk_category' 'frailty_risk_category_index' 'prevent_readm'\n 'tot_prevent_readm' 'cardiac_adm' 'cvd_adm' 'resp_adm' 'infxn_adm'\n 'gu_adm' 'gi_adm' 'endo_adm' 'neuro_adm' 'malignancies_adm'\n 'fracture_adm' 'thrombosis_adm' 'ibd_specific_adm' 'others_adm'\n 'ibd_index_discharge_date' 'readmission_time' 'was_readmitted'\n 'died_in_sixmo' 'did_die_in_sixmo' 'unplanned_in_sixmo'\n 'did_unplanned_in_sixmo' 'prevent_in_sixmo' 'did_prevent_in_sixmo'\n 'proc_in_sixmo' 'did_proc_in_sixmo' 'surgery_in_sixmo'\n 'did_surgery_in_sixmo' 'survtime' 'censor_readm' 'death_time'\n 'censor_death' 'surgtime' 'censor_surg' 'severe_IBD_hospitalization'\n 'severetime' 'censor_severe' 'severe_in_sixmo' 'did_severe_in_sixmo'\n '_st' '_d' '_t' '_t0' '_Iage_group_1' '_Iage_group_2' '_Inew_cc_in_1'\n '_Inew_cc_in_2' '_Ipayer_2' '_Ipayer_3' '_Ipayer_4' '_Izipinc_qr_2'\n '_Izipinc_qr_3' '_Izipinc_qr_4']\n"
     ]
    }
   ],
   "source": [
    "# List all of the column names\n",
    "print(df.columns.values)"
   ]
  },
  {
   "cell_type": "code",
   "execution_count": 4,
   "metadata": {},
   "outputs": [
    {
     "output_type": "execute_result",
     "data": {
      "text/plain": [
       "    index  age  aweekend  died    discwt  dispuniform  dmonth  dqtr  drg  \\\n",
       "0       0   89         1   0.0  1.071937          5.0       3     1  372   \n",
       "1       1   89         1   0.0  1.071937          1.0       6     2  853   \n",
       "2       2   89         0   0.0  1.071937          5.0       9     3  853   \n",
       "3       3   48         0   0.0  3.063669          1.0       6     2  330   \n",
       "4       4   65         0   0.0  1.919980          1.0       5     2  387   \n",
       "5       5   66         0   0.0  2.242874          1.0       6     2  309   \n",
       "6       6   66         0   0.0  1.919980          6.0       8     3  386   \n",
       "7       7   66         0   0.0  1.919980          6.0       9     3  329   \n",
       "8       8   66         1   0.0  1.919980          6.0      10     4  862   \n",
       "9       9   51         0   0.0  2.958993          1.0       3     1  354   \n",
       "10     10   22         0   0.0  3.109660          1.0       1     1  330   \n",
       "11     11   33         1   0.0  1.061258          1.0       1     1  313   \n",
       "12     12   33         0   0.0  1.061258          1.0       2     1  392   \n",
       "13     13   33         1   0.0  1.061258          1.0       3     1  386   \n",
       "14     14   33         0   0.0  1.061258          1.0       3     1  204   \n",
       "\n",
       "    drgver  ...  _Iage_group_1 _Iage_group_2 _Inew_cc_in_1 _Inew_cc_in_2  \\\n",
       "0       30  ...              0             1             0             1   \n",
       "1       30  ...              0             1             0             1   \n",
       "2       30  ...              0             1             1             0   \n",
       "3       30  ...              1             0             0             0   \n",
       "4       30  ...              0             1             0             0   \n",
       "5       30  ...              0             1             0             0   \n",
       "6       30  ...              0             1             0             0   \n",
       "7       30  ...              0             1             0             0   \n",
       "8       31  ...              0             1             0             0   \n",
       "9       30  ...              1             0             0             0   \n",
       "10      30  ...              0             0             0             0   \n",
       "11      30  ...              0             0             0             0   \n",
       "12      30  ...              0             0             0             0   \n",
       "13      30  ...              0             0             0             0   \n",
       "14      30  ...              0             0             0             0   \n",
       "\n",
       "   _Ipayer_2 _Ipayer_3 _Ipayer_4 _Izipinc_qr_2 _Izipinc_qr_3 _Izipinc_qr_4  \n",
       "0        0.0       0.0       0.0           0.0           0.0           1.0  \n",
       "1        0.0       0.0       0.0           0.0           0.0           1.0  \n",
       "2        0.0       0.0       0.0           0.0           0.0           1.0  \n",
       "3        1.0       0.0       0.0           0.0           1.0           0.0  \n",
       "4        0.0       0.0       0.0           1.0           0.0           0.0  \n",
       "5        0.0       0.0       0.0           1.0           0.0           0.0  \n",
       "6        0.0       0.0       0.0           1.0           0.0           0.0  \n",
       "7        0.0       0.0       0.0           1.0           0.0           0.0  \n",
       "8        0.0       0.0       0.0           1.0           0.0           0.0  \n",
       "9        1.0       0.0       0.0           0.0           0.0           1.0  \n",
       "10       0.0       0.0       0.0           1.0           0.0           0.0  \n",
       "11       0.0       0.0       0.0           0.0           0.0           0.0  \n",
       "12       0.0       0.0       0.0           0.0           0.0           0.0  \n",
       "13       0.0       0.0       0.0           0.0           0.0           0.0  \n",
       "14       0.0       0.0       0.0           0.0           0.0           0.0  \n",
       "\n",
       "[15 rows x 362 columns]"
      ],
      "text/html": "<div>\n<style scoped>\n    .dataframe tbody tr th:only-of-type {\n        vertical-align: middle;\n    }\n\n    .dataframe tbody tr th {\n        vertical-align: top;\n    }\n\n    .dataframe thead th {\n        text-align: right;\n    }\n</style>\n<table border=\"1\" class=\"dataframe\">\n  <thead>\n    <tr style=\"text-align: right;\">\n      <th></th>\n      <th>index</th>\n      <th>age</th>\n      <th>aweekend</th>\n      <th>died</th>\n      <th>discwt</th>\n      <th>dispuniform</th>\n      <th>dmonth</th>\n      <th>dqtr</th>\n      <th>drg</th>\n      <th>drgver</th>\n      <th>...</th>\n      <th>_Iage_group_1</th>\n      <th>_Iage_group_2</th>\n      <th>_Inew_cc_in_1</th>\n      <th>_Inew_cc_in_2</th>\n      <th>_Ipayer_2</th>\n      <th>_Ipayer_3</th>\n      <th>_Ipayer_4</th>\n      <th>_Izipinc_qr_2</th>\n      <th>_Izipinc_qr_3</th>\n      <th>_Izipinc_qr_4</th>\n    </tr>\n  </thead>\n  <tbody>\n    <tr>\n      <th>0</th>\n      <td>0</td>\n      <td>89</td>\n      <td>1</td>\n      <td>0.0</td>\n      <td>1.071937</td>\n      <td>5.0</td>\n      <td>3</td>\n      <td>1</td>\n      <td>372</td>\n      <td>30</td>\n      <td>...</td>\n      <td>0</td>\n      <td>1</td>\n      <td>0</td>\n      <td>1</td>\n      <td>0.0</td>\n      <td>0.0</td>\n      <td>0.0</td>\n      <td>0.0</td>\n      <td>0.0</td>\n      <td>1.0</td>\n    </tr>\n    <tr>\n      <th>1</th>\n      <td>1</td>\n      <td>89</td>\n      <td>1</td>\n      <td>0.0</td>\n      <td>1.071937</td>\n      <td>1.0</td>\n      <td>6</td>\n      <td>2</td>\n      <td>853</td>\n      <td>30</td>\n      <td>...</td>\n      <td>0</td>\n      <td>1</td>\n      <td>0</td>\n      <td>1</td>\n      <td>0.0</td>\n      <td>0.0</td>\n      <td>0.0</td>\n      <td>0.0</td>\n      <td>0.0</td>\n      <td>1.0</td>\n    </tr>\n    <tr>\n      <th>2</th>\n      <td>2</td>\n      <td>89</td>\n      <td>0</td>\n      <td>0.0</td>\n      <td>1.071937</td>\n      <td>5.0</td>\n      <td>9</td>\n      <td>3</td>\n      <td>853</td>\n      <td>30</td>\n      <td>...</td>\n      <td>0</td>\n      <td>1</td>\n      <td>1</td>\n      <td>0</td>\n      <td>0.0</td>\n      <td>0.0</td>\n      <td>0.0</td>\n      <td>0.0</td>\n      <td>0.0</td>\n      <td>1.0</td>\n    </tr>\n    <tr>\n      <th>3</th>\n      <td>3</td>\n      <td>48</td>\n      <td>0</td>\n      <td>0.0</td>\n      <td>3.063669</td>\n      <td>1.0</td>\n      <td>6</td>\n      <td>2</td>\n      <td>330</td>\n      <td>30</td>\n      <td>...</td>\n      <td>1</td>\n      <td>0</td>\n      <td>0</td>\n      <td>0</td>\n      <td>1.0</td>\n      <td>0.0</td>\n      <td>0.0</td>\n      <td>0.0</td>\n      <td>1.0</td>\n      <td>0.0</td>\n    </tr>\n    <tr>\n      <th>4</th>\n      <td>4</td>\n      <td>65</td>\n      <td>0</td>\n      <td>0.0</td>\n      <td>1.919980</td>\n      <td>1.0</td>\n      <td>5</td>\n      <td>2</td>\n      <td>387</td>\n      <td>30</td>\n      <td>...</td>\n      <td>0</td>\n      <td>1</td>\n      <td>0</td>\n      <td>0</td>\n      <td>0.0</td>\n      <td>0.0</td>\n      <td>0.0</td>\n      <td>1.0</td>\n      <td>0.0</td>\n      <td>0.0</td>\n    </tr>\n    <tr>\n      <th>5</th>\n      <td>5</td>\n      <td>66</td>\n      <td>0</td>\n      <td>0.0</td>\n      <td>2.242874</td>\n      <td>1.0</td>\n      <td>6</td>\n      <td>2</td>\n      <td>309</td>\n      <td>30</td>\n      <td>...</td>\n      <td>0</td>\n      <td>1</td>\n      <td>0</td>\n      <td>0</td>\n      <td>0.0</td>\n      <td>0.0</td>\n      <td>0.0</td>\n      <td>1.0</td>\n      <td>0.0</td>\n      <td>0.0</td>\n    </tr>\n    <tr>\n      <th>6</th>\n      <td>6</td>\n      <td>66</td>\n      <td>0</td>\n      <td>0.0</td>\n      <td>1.919980</td>\n      <td>6.0</td>\n      <td>8</td>\n      <td>3</td>\n      <td>386</td>\n      <td>30</td>\n      <td>...</td>\n      <td>0</td>\n      <td>1</td>\n      <td>0</td>\n      <td>0</td>\n      <td>0.0</td>\n      <td>0.0</td>\n      <td>0.0</td>\n      <td>1.0</td>\n      <td>0.0</td>\n      <td>0.0</td>\n    </tr>\n    <tr>\n      <th>7</th>\n      <td>7</td>\n      <td>66</td>\n      <td>0</td>\n      <td>0.0</td>\n      <td>1.919980</td>\n      <td>6.0</td>\n      <td>9</td>\n      <td>3</td>\n      <td>329</td>\n      <td>30</td>\n      <td>...</td>\n      <td>0</td>\n      <td>1</td>\n      <td>0</td>\n      <td>0</td>\n      <td>0.0</td>\n      <td>0.0</td>\n      <td>0.0</td>\n      <td>1.0</td>\n      <td>0.0</td>\n      <td>0.0</td>\n    </tr>\n    <tr>\n      <th>8</th>\n      <td>8</td>\n      <td>66</td>\n      <td>1</td>\n      <td>0.0</td>\n      <td>1.919980</td>\n      <td>6.0</td>\n      <td>10</td>\n      <td>4</td>\n      <td>862</td>\n      <td>31</td>\n      <td>...</td>\n      <td>0</td>\n      <td>1</td>\n      <td>0</td>\n      <td>0</td>\n      <td>0.0</td>\n      <td>0.0</td>\n      <td>0.0</td>\n      <td>1.0</td>\n      <td>0.0</td>\n      <td>0.0</td>\n    </tr>\n    <tr>\n      <th>9</th>\n      <td>9</td>\n      <td>51</td>\n      <td>0</td>\n      <td>0.0</td>\n      <td>2.958993</td>\n      <td>1.0</td>\n      <td>3</td>\n      <td>1</td>\n      <td>354</td>\n      <td>30</td>\n      <td>...</td>\n      <td>1</td>\n      <td>0</td>\n      <td>0</td>\n      <td>0</td>\n      <td>1.0</td>\n      <td>0.0</td>\n      <td>0.0</td>\n      <td>0.0</td>\n      <td>0.0</td>\n      <td>1.0</td>\n    </tr>\n    <tr>\n      <th>10</th>\n      <td>10</td>\n      <td>22</td>\n      <td>0</td>\n      <td>0.0</td>\n      <td>3.109660</td>\n      <td>1.0</td>\n      <td>1</td>\n      <td>1</td>\n      <td>330</td>\n      <td>30</td>\n      <td>...</td>\n      <td>0</td>\n      <td>0</td>\n      <td>0</td>\n      <td>0</td>\n      <td>0.0</td>\n      <td>0.0</td>\n      <td>0.0</td>\n      <td>1.0</td>\n      <td>0.0</td>\n      <td>0.0</td>\n    </tr>\n    <tr>\n      <th>11</th>\n      <td>11</td>\n      <td>33</td>\n      <td>1</td>\n      <td>0.0</td>\n      <td>1.061258</td>\n      <td>1.0</td>\n      <td>1</td>\n      <td>1</td>\n      <td>313</td>\n      <td>30</td>\n      <td>...</td>\n      <td>0</td>\n      <td>0</td>\n      <td>0</td>\n      <td>0</td>\n      <td>0.0</td>\n      <td>0.0</td>\n      <td>0.0</td>\n      <td>0.0</td>\n      <td>0.0</td>\n      <td>0.0</td>\n    </tr>\n    <tr>\n      <th>12</th>\n      <td>12</td>\n      <td>33</td>\n      <td>0</td>\n      <td>0.0</td>\n      <td>1.061258</td>\n      <td>1.0</td>\n      <td>2</td>\n      <td>1</td>\n      <td>392</td>\n      <td>30</td>\n      <td>...</td>\n      <td>0</td>\n      <td>0</td>\n      <td>0</td>\n      <td>0</td>\n      <td>0.0</td>\n      <td>0.0</td>\n      <td>0.0</td>\n      <td>0.0</td>\n      <td>0.0</td>\n      <td>0.0</td>\n    </tr>\n    <tr>\n      <th>13</th>\n      <td>13</td>\n      <td>33</td>\n      <td>1</td>\n      <td>0.0</td>\n      <td>1.061258</td>\n      <td>1.0</td>\n      <td>3</td>\n      <td>1</td>\n      <td>386</td>\n      <td>30</td>\n      <td>...</td>\n      <td>0</td>\n      <td>0</td>\n      <td>0</td>\n      <td>0</td>\n      <td>0.0</td>\n      <td>0.0</td>\n      <td>0.0</td>\n      <td>0.0</td>\n      <td>0.0</td>\n      <td>0.0</td>\n    </tr>\n    <tr>\n      <th>14</th>\n      <td>14</td>\n      <td>33</td>\n      <td>0</td>\n      <td>0.0</td>\n      <td>1.061258</td>\n      <td>1.0</td>\n      <td>3</td>\n      <td>1</td>\n      <td>204</td>\n      <td>30</td>\n      <td>...</td>\n      <td>0</td>\n      <td>0</td>\n      <td>0</td>\n      <td>0</td>\n      <td>0.0</td>\n      <td>0.0</td>\n      <td>0.0</td>\n      <td>0.0</td>\n      <td>0.0</td>\n      <td>0.0</td>\n    </tr>\n  </tbody>\n</table>\n<p>15 rows × 362 columns</p>\n</div>"
     },
     "metadata": {},
     "execution_count": 4
    }
   ],
   "source": [
    "# Check the top 15 rows\n",
    "df.head(15)"
   ]
  },
  {
   "cell_type": "code",
   "execution_count": 5,
   "metadata": {},
   "outputs": [
    {
     "output_type": "execute_result",
     "data": {
      "text/plain": [
       "    index  age  aweekend  died    discwt  dispuniform  dmonth  dqtr  drg  \\\n",
       "0       0   89         1   0.0  1.071937          5.0       3     1  372   \n",
       "1       1   89         1   0.0  1.071937          1.0       6     2  853   \n",
       "2       2   89         0   0.0  1.071937          5.0       9     3  853   \n",
       "3       3   48         0   0.0  3.063669          1.0       6     2  330   \n",
       "4       4   65         0   0.0  1.919980          1.0       5     2  387   \n",
       "5       5   66         0   0.0  2.242874          1.0       6     2  309   \n",
       "6       6   66         0   0.0  1.919980          6.0       8     3  386   \n",
       "7       7   66         0   0.0  1.919980          6.0       9     3  329   \n",
       "8       8   66         1   0.0  1.919980          6.0      10     4  862   \n",
       "9       9   51         0   0.0  2.958993          1.0       3     1  354   \n",
       "10     10   22         0   0.0  3.109660          1.0       1     1  330   \n",
       "11     11   33         1   0.0  1.061258          1.0       1     1  313   \n",
       "12     12   33         0   0.0  1.061258          1.0       2     1  392   \n",
       "13     13   33         1   0.0  1.061258          1.0       3     1  386   \n",
       "14     14   33         0   0.0  1.061258          1.0       3     1  204   \n",
       "\n",
       "    drgver  ...  _Iage_group_1 _Iage_group_2 _Inew_cc_in_1 _Inew_cc_in_2  \\\n",
       "0       30  ...              0             1             0             1   \n",
       "1       30  ...              0             1             0             1   \n",
       "2       30  ...              0             1             1             0   \n",
       "3       30  ...              1             0             0             0   \n",
       "4       30  ...              0             1             0             0   \n",
       "5       30  ...              0             1             0             0   \n",
       "6       30  ...              0             1             0             0   \n",
       "7       30  ...              0             1             0             0   \n",
       "8       31  ...              0             1             0             0   \n",
       "9       30  ...              1             0             0             0   \n",
       "10      30  ...              0             0             0             0   \n",
       "11      30  ...              0             0             0             0   \n",
       "12      30  ...              0             0             0             0   \n",
       "13      30  ...              0             0             0             0   \n",
       "14      30  ...              0             0             0             0   \n",
       "\n",
       "   _Ipayer_2 _Ipayer_3 _Ipayer_4 _Izipinc_qr_2 _Izipinc_qr_3 _Izipinc_qr_4  \n",
       "0        0.0       0.0       0.0           0.0           0.0           1.0  \n",
       "1        0.0       0.0       0.0           0.0           0.0           1.0  \n",
       "2        0.0       0.0       0.0           0.0           0.0           1.0  \n",
       "3        1.0       0.0       0.0           0.0           1.0           0.0  \n",
       "4        0.0       0.0       0.0           1.0           0.0           0.0  \n",
       "5        0.0       0.0       0.0           1.0           0.0           0.0  \n",
       "6        0.0       0.0       0.0           1.0           0.0           0.0  \n",
       "7        0.0       0.0       0.0           1.0           0.0           0.0  \n",
       "8        0.0       0.0       0.0           1.0           0.0           0.0  \n",
       "9        1.0       0.0       0.0           0.0           0.0           1.0  \n",
       "10       0.0       0.0       0.0           1.0           0.0           0.0  \n",
       "11       0.0       0.0       0.0           0.0           0.0           0.0  \n",
       "12       0.0       0.0       0.0           0.0           0.0           0.0  \n",
       "13       0.0       0.0       0.0           0.0           0.0           0.0  \n",
       "14       0.0       0.0       0.0           0.0           0.0           0.0  \n",
       "\n",
       "[15 rows x 362 columns]"
      ],
      "text/html": "<div>\n<style scoped>\n    .dataframe tbody tr th:only-of-type {\n        vertical-align: middle;\n    }\n\n    .dataframe tbody tr th {\n        vertical-align: top;\n    }\n\n    .dataframe thead th {\n        text-align: right;\n    }\n</style>\n<table border=\"1\" class=\"dataframe\">\n  <thead>\n    <tr style=\"text-align: right;\">\n      <th></th>\n      <th>index</th>\n      <th>age</th>\n      <th>aweekend</th>\n      <th>died</th>\n      <th>discwt</th>\n      <th>dispuniform</th>\n      <th>dmonth</th>\n      <th>dqtr</th>\n      <th>drg</th>\n      <th>drgver</th>\n      <th>...</th>\n      <th>_Iage_group_1</th>\n      <th>_Iage_group_2</th>\n      <th>_Inew_cc_in_1</th>\n      <th>_Inew_cc_in_2</th>\n      <th>_Ipayer_2</th>\n      <th>_Ipayer_3</th>\n      <th>_Ipayer_4</th>\n      <th>_Izipinc_qr_2</th>\n      <th>_Izipinc_qr_3</th>\n      <th>_Izipinc_qr_4</th>\n    </tr>\n  </thead>\n  <tbody>\n    <tr>\n      <th>0</th>\n      <td>0</td>\n      <td>89</td>\n      <td>1</td>\n      <td>0.0</td>\n      <td>1.071937</td>\n      <td>5.0</td>\n      <td>3</td>\n      <td>1</td>\n      <td>372</td>\n      <td>30</td>\n      <td>...</td>\n      <td>0</td>\n      <td>1</td>\n      <td>0</td>\n      <td>1</td>\n      <td>0.0</td>\n      <td>0.0</td>\n      <td>0.0</td>\n      <td>0.0</td>\n      <td>0.0</td>\n      <td>1.0</td>\n    </tr>\n    <tr>\n      <th>1</th>\n      <td>1</td>\n      <td>89</td>\n      <td>1</td>\n      <td>0.0</td>\n      <td>1.071937</td>\n      <td>1.0</td>\n      <td>6</td>\n      <td>2</td>\n      <td>853</td>\n      <td>30</td>\n      <td>...</td>\n      <td>0</td>\n      <td>1</td>\n      <td>0</td>\n      <td>1</td>\n      <td>0.0</td>\n      <td>0.0</td>\n      <td>0.0</td>\n      <td>0.0</td>\n      <td>0.0</td>\n      <td>1.0</td>\n    </tr>\n    <tr>\n      <th>2</th>\n      <td>2</td>\n      <td>89</td>\n      <td>0</td>\n      <td>0.0</td>\n      <td>1.071937</td>\n      <td>5.0</td>\n      <td>9</td>\n      <td>3</td>\n      <td>853</td>\n      <td>30</td>\n      <td>...</td>\n      <td>0</td>\n      <td>1</td>\n      <td>1</td>\n      <td>0</td>\n      <td>0.0</td>\n      <td>0.0</td>\n      <td>0.0</td>\n      <td>0.0</td>\n      <td>0.0</td>\n      <td>1.0</td>\n    </tr>\n    <tr>\n      <th>3</th>\n      <td>3</td>\n      <td>48</td>\n      <td>0</td>\n      <td>0.0</td>\n      <td>3.063669</td>\n      <td>1.0</td>\n      <td>6</td>\n      <td>2</td>\n      <td>330</td>\n      <td>30</td>\n      <td>...</td>\n      <td>1</td>\n      <td>0</td>\n      <td>0</td>\n      <td>0</td>\n      <td>1.0</td>\n      <td>0.0</td>\n      <td>0.0</td>\n      <td>0.0</td>\n      <td>1.0</td>\n      <td>0.0</td>\n    </tr>\n    <tr>\n      <th>4</th>\n      <td>4</td>\n      <td>65</td>\n      <td>0</td>\n      <td>0.0</td>\n      <td>1.919980</td>\n      <td>1.0</td>\n      <td>5</td>\n      <td>2</td>\n      <td>387</td>\n      <td>30</td>\n      <td>...</td>\n      <td>0</td>\n      <td>1</td>\n      <td>0</td>\n      <td>0</td>\n      <td>0.0</td>\n      <td>0.0</td>\n      <td>0.0</td>\n      <td>1.0</td>\n      <td>0.0</td>\n      <td>0.0</td>\n    </tr>\n    <tr>\n      <th>5</th>\n      <td>5</td>\n      <td>66</td>\n      <td>0</td>\n      <td>0.0</td>\n      <td>2.242874</td>\n      <td>1.0</td>\n      <td>6</td>\n      <td>2</td>\n      <td>309</td>\n      <td>30</td>\n      <td>...</td>\n      <td>0</td>\n      <td>1</td>\n      <td>0</td>\n      <td>0</td>\n      <td>0.0</td>\n      <td>0.0</td>\n      <td>0.0</td>\n      <td>1.0</td>\n      <td>0.0</td>\n      <td>0.0</td>\n    </tr>\n    <tr>\n      <th>6</th>\n      <td>6</td>\n      <td>66</td>\n      <td>0</td>\n      <td>0.0</td>\n      <td>1.919980</td>\n      <td>6.0</td>\n      <td>8</td>\n      <td>3</td>\n      <td>386</td>\n      <td>30</td>\n      <td>...</td>\n      <td>0</td>\n      <td>1</td>\n      <td>0</td>\n      <td>0</td>\n      <td>0.0</td>\n      <td>0.0</td>\n      <td>0.0</td>\n      <td>1.0</td>\n      <td>0.0</td>\n      <td>0.0</td>\n    </tr>\n    <tr>\n      <th>7</th>\n      <td>7</td>\n      <td>66</td>\n      <td>0</td>\n      <td>0.0</td>\n      <td>1.919980</td>\n      <td>6.0</td>\n      <td>9</td>\n      <td>3</td>\n      <td>329</td>\n      <td>30</td>\n      <td>...</td>\n      <td>0</td>\n      <td>1</td>\n      <td>0</td>\n      <td>0</td>\n      <td>0.0</td>\n      <td>0.0</td>\n      <td>0.0</td>\n      <td>1.0</td>\n      <td>0.0</td>\n      <td>0.0</td>\n    </tr>\n    <tr>\n      <th>8</th>\n      <td>8</td>\n      <td>66</td>\n      <td>1</td>\n      <td>0.0</td>\n      <td>1.919980</td>\n      <td>6.0</td>\n      <td>10</td>\n      <td>4</td>\n      <td>862</td>\n      <td>31</td>\n      <td>...</td>\n      <td>0</td>\n      <td>1</td>\n      <td>0</td>\n      <td>0</td>\n      <td>0.0</td>\n      <td>0.0</td>\n      <td>0.0</td>\n      <td>1.0</td>\n      <td>0.0</td>\n      <td>0.0</td>\n    </tr>\n    <tr>\n      <th>9</th>\n      <td>9</td>\n      <td>51</td>\n      <td>0</td>\n      <td>0.0</td>\n      <td>2.958993</td>\n      <td>1.0</td>\n      <td>3</td>\n      <td>1</td>\n      <td>354</td>\n      <td>30</td>\n      <td>...</td>\n      <td>1</td>\n      <td>0</td>\n      <td>0</td>\n      <td>0</td>\n      <td>1.0</td>\n      <td>0.0</td>\n      <td>0.0</td>\n      <td>0.0</td>\n      <td>0.0</td>\n      <td>1.0</td>\n    </tr>\n    <tr>\n      <th>10</th>\n      <td>10</td>\n      <td>22</td>\n      <td>0</td>\n      <td>0.0</td>\n      <td>3.109660</td>\n      <td>1.0</td>\n      <td>1</td>\n      <td>1</td>\n      <td>330</td>\n      <td>30</td>\n      <td>...</td>\n      <td>0</td>\n      <td>0</td>\n      <td>0</td>\n      <td>0</td>\n      <td>0.0</td>\n      <td>0.0</td>\n      <td>0.0</td>\n      <td>1.0</td>\n      <td>0.0</td>\n      <td>0.0</td>\n    </tr>\n    <tr>\n      <th>11</th>\n      <td>11</td>\n      <td>33</td>\n      <td>1</td>\n      <td>0.0</td>\n      <td>1.061258</td>\n      <td>1.0</td>\n      <td>1</td>\n      <td>1</td>\n      <td>313</td>\n      <td>30</td>\n      <td>...</td>\n      <td>0</td>\n      <td>0</td>\n      <td>0</td>\n      <td>0</td>\n      <td>0.0</td>\n      <td>0.0</td>\n      <td>0.0</td>\n      <td>0.0</td>\n      <td>0.0</td>\n      <td>0.0</td>\n    </tr>\n    <tr>\n      <th>12</th>\n      <td>12</td>\n      <td>33</td>\n      <td>0</td>\n      <td>0.0</td>\n      <td>1.061258</td>\n      <td>1.0</td>\n      <td>2</td>\n      <td>1</td>\n      <td>392</td>\n      <td>30</td>\n      <td>...</td>\n      <td>0</td>\n      <td>0</td>\n      <td>0</td>\n      <td>0</td>\n      <td>0.0</td>\n      <td>0.0</td>\n      <td>0.0</td>\n      <td>0.0</td>\n      <td>0.0</td>\n      <td>0.0</td>\n    </tr>\n    <tr>\n      <th>13</th>\n      <td>13</td>\n      <td>33</td>\n      <td>1</td>\n      <td>0.0</td>\n      <td>1.061258</td>\n      <td>1.0</td>\n      <td>3</td>\n      <td>1</td>\n      <td>386</td>\n      <td>30</td>\n      <td>...</td>\n      <td>0</td>\n      <td>0</td>\n      <td>0</td>\n      <td>0</td>\n      <td>0.0</td>\n      <td>0.0</td>\n      <td>0.0</td>\n      <td>0.0</td>\n      <td>0.0</td>\n      <td>0.0</td>\n    </tr>\n    <tr>\n      <th>14</th>\n      <td>14</td>\n      <td>33</td>\n      <td>0</td>\n      <td>0.0</td>\n      <td>1.061258</td>\n      <td>1.0</td>\n      <td>3</td>\n      <td>1</td>\n      <td>204</td>\n      <td>30</td>\n      <td>...</td>\n      <td>0</td>\n      <td>0</td>\n      <td>0</td>\n      <td>0</td>\n      <td>0.0</td>\n      <td>0.0</td>\n      <td>0.0</td>\n      <td>0.0</td>\n      <td>0.0</td>\n      <td>0.0</td>\n    </tr>\n  </tbody>\n</table>\n<p>15 rows × 362 columns</p>\n</div>"
     },
     "metadata": {},
     "execution_count": 5
    }
   ],
   "source": [
    "# Make a copy of the dataframe\n",
    "df_copy = df.copy()\n",
    "df_copy.head(15)"
   ]
  },
  {
   "cell_type": "code",
   "execution_count": 6,
   "metadata": {},
   "outputs": [
    {
     "output_type": "execute_result",
     "data": {
      "text/plain": [
       "       index  age  aweekend  died    discwt  dispuniform  dmonth  dqtr  drg  \\\n",
       "94483  94483   66         0   0.0  1.814426          1.0       5     2  544   \n",
       "94484  94484   66         1   0.0  1.814426          1.0       5     2  543   \n",
       "94485  94485   66         0   0.0  1.814426          6.0       6     2  543   \n",
       "94486  94486   67         1   0.0  1.814426          6.0       7     3  543   \n",
       "94487  94487   67         0   0.0  1.814426          6.0       8     3  543   \n",
       "94488  94488   67         1   0.0  1.814426          6.0       8     3  542   \n",
       "94489  94489   67         0   0.0  1.814426          1.0       9     3  543   \n",
       "94490  94490   67         0   0.0  1.814426          5.0      12     4  490   \n",
       "94491  94491   32         1   0.0  1.625102          1.0       4     2  775   \n",
       "94492  94492   54         0   0.0  1.995433          1.0       3     1  345   \n",
       "94493  94493   44         0   0.0  1.669010          6.0       6     2  331   \n",
       "94494  94494   44         0   0.0  1.669010          1.0       8     3  346   \n",
       "94495  94495   44         0   0.0  1.669010          1.0       8     3  393   \n",
       "94496  94496   52         0   0.0  1.863343          1.0       2     1  472   \n",
       "94497  94497   72         1   0.0  1.771707          1.0       2     1  385   \n",
       "\n",
       "       drgver  ...  _Iage_group_1 _Iage_group_2 _Inew_cc_in_1 _Inew_cc_in_2  \\\n",
       "94483      30  ...              0             1             0             1   \n",
       "94484      30  ...              0             1             0             1   \n",
       "94485      30  ...              0             1             0             1   \n",
       "94486      30  ...              0             1             0             1   \n",
       "94487      30  ...              0             1             0             1   \n",
       "94488      30  ...              0             1             0             1   \n",
       "94489      30  ...              0             1             0             1   \n",
       "94490      31  ...              0             1             0             0   \n",
       "94491      30  ...              0             0             0             0   \n",
       "94492      30  ...              1             0             0             0   \n",
       "94493      30  ...              1             0             0             0   \n",
       "94494      30  ...              1             0             0             0   \n",
       "94495      30  ...              1             0             0             0   \n",
       "94496      30  ...              1             0             0             1   \n",
       "94497      30  ...              0             1             1             0   \n",
       "\n",
       "      _Ipayer_2 _Ipayer_3 _Ipayer_4 _Izipinc_qr_2 _Izipinc_qr_3 _Izipinc_qr_4  \n",
       "94483       1.0       0.0       0.0           0.0           0.0           1.0  \n",
       "94484       1.0       0.0       0.0           0.0           0.0           1.0  \n",
       "94485       1.0       0.0       0.0           0.0           0.0           1.0  \n",
       "94486       1.0       0.0       0.0           0.0           0.0           1.0  \n",
       "94487       1.0       0.0       0.0           0.0           0.0           1.0  \n",
       "94488       1.0       0.0       0.0           0.0           0.0           1.0  \n",
       "94489       1.0       0.0       0.0           0.0           0.0           1.0  \n",
       "94490       1.0       0.0       0.0           0.0           0.0           1.0  \n",
       "94491       1.0       0.0       0.0           0.0           0.0           1.0  \n",
       "94492       1.0       0.0       0.0           0.0           0.0           1.0  \n",
       "94493       1.0       0.0       0.0           0.0           0.0           1.0  \n",
       "94494       1.0       0.0       0.0           0.0           0.0           1.0  \n",
       "94495       1.0       0.0       0.0           0.0           0.0           1.0  \n",
       "94496       0.0       0.0       0.0           0.0           0.0           0.0  \n",
       "94497       0.0       0.0       0.0           1.0           0.0           0.0  \n",
       "\n",
       "[15 rows x 362 columns]"
      ],
      "text/html": "<div>\n<style scoped>\n    .dataframe tbody tr th:only-of-type {\n        vertical-align: middle;\n    }\n\n    .dataframe tbody tr th {\n        vertical-align: top;\n    }\n\n    .dataframe thead th {\n        text-align: right;\n    }\n</style>\n<table border=\"1\" class=\"dataframe\">\n  <thead>\n    <tr style=\"text-align: right;\">\n      <th></th>\n      <th>index</th>\n      <th>age</th>\n      <th>aweekend</th>\n      <th>died</th>\n      <th>discwt</th>\n      <th>dispuniform</th>\n      <th>dmonth</th>\n      <th>dqtr</th>\n      <th>drg</th>\n      <th>drgver</th>\n      <th>...</th>\n      <th>_Iage_group_1</th>\n      <th>_Iage_group_2</th>\n      <th>_Inew_cc_in_1</th>\n      <th>_Inew_cc_in_2</th>\n      <th>_Ipayer_2</th>\n      <th>_Ipayer_3</th>\n      <th>_Ipayer_4</th>\n      <th>_Izipinc_qr_2</th>\n      <th>_Izipinc_qr_3</th>\n      <th>_Izipinc_qr_4</th>\n    </tr>\n  </thead>\n  <tbody>\n    <tr>\n      <th>94483</th>\n      <td>94483</td>\n      <td>66</td>\n      <td>0</td>\n      <td>0.0</td>\n      <td>1.814426</td>\n      <td>1.0</td>\n      <td>5</td>\n      <td>2</td>\n      <td>544</td>\n      <td>30</td>\n      <td>...</td>\n      <td>0</td>\n      <td>1</td>\n      <td>0</td>\n      <td>1</td>\n      <td>1.0</td>\n      <td>0.0</td>\n      <td>0.0</td>\n      <td>0.0</td>\n      <td>0.0</td>\n      <td>1.0</td>\n    </tr>\n    <tr>\n      <th>94484</th>\n      <td>94484</td>\n      <td>66</td>\n      <td>1</td>\n      <td>0.0</td>\n      <td>1.814426</td>\n      <td>1.0</td>\n      <td>5</td>\n      <td>2</td>\n      <td>543</td>\n      <td>30</td>\n      <td>...</td>\n      <td>0</td>\n      <td>1</td>\n      <td>0</td>\n      <td>1</td>\n      <td>1.0</td>\n      <td>0.0</td>\n      <td>0.0</td>\n      <td>0.0</td>\n      <td>0.0</td>\n      <td>1.0</td>\n    </tr>\n    <tr>\n      <th>94485</th>\n      <td>94485</td>\n      <td>66</td>\n      <td>0</td>\n      <td>0.0</td>\n      <td>1.814426</td>\n      <td>6.0</td>\n      <td>6</td>\n      <td>2</td>\n      <td>543</td>\n      <td>30</td>\n      <td>...</td>\n      <td>0</td>\n      <td>1</td>\n      <td>0</td>\n      <td>1</td>\n      <td>1.0</td>\n      <td>0.0</td>\n      <td>0.0</td>\n      <td>0.0</td>\n      <td>0.0</td>\n      <td>1.0</td>\n    </tr>\n    <tr>\n      <th>94486</th>\n      <td>94486</td>\n      <td>67</td>\n      <td>1</td>\n      <td>0.0</td>\n      <td>1.814426</td>\n      <td>6.0</td>\n      <td>7</td>\n      <td>3</td>\n      <td>543</td>\n      <td>30</td>\n      <td>...</td>\n      <td>0</td>\n      <td>1</td>\n      <td>0</td>\n      <td>1</td>\n      <td>1.0</td>\n      <td>0.0</td>\n      <td>0.0</td>\n      <td>0.0</td>\n      <td>0.0</td>\n      <td>1.0</td>\n    </tr>\n    <tr>\n      <th>94487</th>\n      <td>94487</td>\n      <td>67</td>\n      <td>0</td>\n      <td>0.0</td>\n      <td>1.814426</td>\n      <td>6.0</td>\n      <td>8</td>\n      <td>3</td>\n      <td>543</td>\n      <td>30</td>\n      <td>...</td>\n      <td>0</td>\n      <td>1</td>\n      <td>0</td>\n      <td>1</td>\n      <td>1.0</td>\n      <td>0.0</td>\n      <td>0.0</td>\n      <td>0.0</td>\n      <td>0.0</td>\n      <td>1.0</td>\n    </tr>\n    <tr>\n      <th>94488</th>\n      <td>94488</td>\n      <td>67</td>\n      <td>1</td>\n      <td>0.0</td>\n      <td>1.814426</td>\n      <td>6.0</td>\n      <td>8</td>\n      <td>3</td>\n      <td>542</td>\n      <td>30</td>\n      <td>...</td>\n      <td>0</td>\n      <td>1</td>\n      <td>0</td>\n      <td>1</td>\n      <td>1.0</td>\n      <td>0.0</td>\n      <td>0.0</td>\n      <td>0.0</td>\n      <td>0.0</td>\n      <td>1.0</td>\n    </tr>\n    <tr>\n      <th>94489</th>\n      <td>94489</td>\n      <td>67</td>\n      <td>0</td>\n      <td>0.0</td>\n      <td>1.814426</td>\n      <td>1.0</td>\n      <td>9</td>\n      <td>3</td>\n      <td>543</td>\n      <td>30</td>\n      <td>...</td>\n      <td>0</td>\n      <td>1</td>\n      <td>0</td>\n      <td>1</td>\n      <td>1.0</td>\n      <td>0.0</td>\n      <td>0.0</td>\n      <td>0.0</td>\n      <td>0.0</td>\n      <td>1.0</td>\n    </tr>\n    <tr>\n      <th>94490</th>\n      <td>94490</td>\n      <td>67</td>\n      <td>0</td>\n      <td>0.0</td>\n      <td>1.814426</td>\n      <td>5.0</td>\n      <td>12</td>\n      <td>4</td>\n      <td>490</td>\n      <td>31</td>\n      <td>...</td>\n      <td>0</td>\n      <td>1</td>\n      <td>0</td>\n      <td>0</td>\n      <td>1.0</td>\n      <td>0.0</td>\n      <td>0.0</td>\n      <td>0.0</td>\n      <td>0.0</td>\n      <td>1.0</td>\n    </tr>\n    <tr>\n      <th>94491</th>\n      <td>94491</td>\n      <td>32</td>\n      <td>1</td>\n      <td>0.0</td>\n      <td>1.625102</td>\n      <td>1.0</td>\n      <td>4</td>\n      <td>2</td>\n      <td>775</td>\n      <td>30</td>\n      <td>...</td>\n      <td>0</td>\n      <td>0</td>\n      <td>0</td>\n      <td>0</td>\n      <td>1.0</td>\n      <td>0.0</td>\n      <td>0.0</td>\n      <td>0.0</td>\n      <td>0.0</td>\n      <td>1.0</td>\n    </tr>\n    <tr>\n      <th>94492</th>\n      <td>94492</td>\n      <td>54</td>\n      <td>0</td>\n      <td>0.0</td>\n      <td>1.995433</td>\n      <td>1.0</td>\n      <td>3</td>\n      <td>1</td>\n      <td>345</td>\n      <td>30</td>\n      <td>...</td>\n      <td>1</td>\n      <td>0</td>\n      <td>0</td>\n      <td>0</td>\n      <td>1.0</td>\n      <td>0.0</td>\n      <td>0.0</td>\n      <td>0.0</td>\n      <td>0.0</td>\n      <td>1.0</td>\n    </tr>\n    <tr>\n      <th>94493</th>\n      <td>94493</td>\n      <td>44</td>\n      <td>0</td>\n      <td>0.0</td>\n      <td>1.669010</td>\n      <td>6.0</td>\n      <td>6</td>\n      <td>2</td>\n      <td>331</td>\n      <td>30</td>\n      <td>...</td>\n      <td>1</td>\n      <td>0</td>\n      <td>0</td>\n      <td>0</td>\n      <td>1.0</td>\n      <td>0.0</td>\n      <td>0.0</td>\n      <td>0.0</td>\n      <td>0.0</td>\n      <td>1.0</td>\n    </tr>\n    <tr>\n      <th>94494</th>\n      <td>94494</td>\n      <td>44</td>\n      <td>0</td>\n      <td>0.0</td>\n      <td>1.669010</td>\n      <td>1.0</td>\n      <td>8</td>\n      <td>3</td>\n      <td>346</td>\n      <td>30</td>\n      <td>...</td>\n      <td>1</td>\n      <td>0</td>\n      <td>0</td>\n      <td>0</td>\n      <td>1.0</td>\n      <td>0.0</td>\n      <td>0.0</td>\n      <td>0.0</td>\n      <td>0.0</td>\n      <td>1.0</td>\n    </tr>\n    <tr>\n      <th>94495</th>\n      <td>94495</td>\n      <td>44</td>\n      <td>0</td>\n      <td>0.0</td>\n      <td>1.669010</td>\n      <td>1.0</td>\n      <td>8</td>\n      <td>3</td>\n      <td>393</td>\n      <td>30</td>\n      <td>...</td>\n      <td>1</td>\n      <td>0</td>\n      <td>0</td>\n      <td>0</td>\n      <td>1.0</td>\n      <td>0.0</td>\n      <td>0.0</td>\n      <td>0.0</td>\n      <td>0.0</td>\n      <td>1.0</td>\n    </tr>\n    <tr>\n      <th>94496</th>\n      <td>94496</td>\n      <td>52</td>\n      <td>0</td>\n      <td>0.0</td>\n      <td>1.863343</td>\n      <td>1.0</td>\n      <td>2</td>\n      <td>1</td>\n      <td>472</td>\n      <td>30</td>\n      <td>...</td>\n      <td>1</td>\n      <td>0</td>\n      <td>0</td>\n      <td>1</td>\n      <td>0.0</td>\n      <td>0.0</td>\n      <td>0.0</td>\n      <td>0.0</td>\n      <td>0.0</td>\n      <td>0.0</td>\n    </tr>\n    <tr>\n      <th>94497</th>\n      <td>94497</td>\n      <td>72</td>\n      <td>1</td>\n      <td>0.0</td>\n      <td>1.771707</td>\n      <td>1.0</td>\n      <td>2</td>\n      <td>1</td>\n      <td>385</td>\n      <td>30</td>\n      <td>...</td>\n      <td>0</td>\n      <td>1</td>\n      <td>1</td>\n      <td>0</td>\n      <td>0.0</td>\n      <td>0.0</td>\n      <td>0.0</td>\n      <td>1.0</td>\n      <td>0.0</td>\n      <td>0.0</td>\n    </tr>\n  </tbody>\n</table>\n<p>15 rows × 362 columns</p>\n</div>"
     },
     "metadata": {},
     "execution_count": 6
    }
   ],
   "source": [
    "# Check the back end of the data\n",
    "df_copy.tail(15)"
   ]
  },
  {
   "cell_type": "code",
   "execution_count": 7,
   "metadata": {},
   "outputs": [
    {
     "output_type": "execute_result",
     "data": {
      "text/plain": [
       "   nrd_visitlink  ibd_index_hosp    dx1  new_mi_adm  ibd_readm\n",
       "0         00017u               1  00845           0          0\n",
       "1         00017u               0   0389           0          1\n",
       "2         00017u               0  03842           0          1\n",
       "3         0004o5               1   5559           0          0\n",
       "4         000dbz               1   5559           0          0\n",
       "5         000dbz               0  42731           0          1\n",
       "6         000dbz               0   5559           0          1\n",
       "7         000dbz               0   5552           0          1\n",
       "8         000dbz               0  99859           0          1\n",
       "9         000mgu               1  55221           0          0\n",
       "10        0018do               1   V552           0          0\n",
       "11        001nun               1  78659           0          0\n",
       "12        001nun               0  78904           0          1\n",
       "13        001nun               0   5569           0          1\n",
       "14        001nun               0  78652           0          1\n",
       "15        001nun               0   5569           0          1\n",
       "16        001nun               0   5569           0          1\n",
       "17        001nun               0   5569           0          1\n",
       "18        003601               0  56969           0          0\n",
       "19        003601               1   5990           0          0\n",
       "20        003601               0   6824           0          1\n",
       "21        0047y1               0  82021           0          0\n",
       "22        0047y1               1   0389           0          0\n",
       "23        004816               1   5609           0          0\n",
       "24        004816               0   5921           0          1"
      ],
      "text/html": "<div>\n<style scoped>\n    .dataframe tbody tr th:only-of-type {\n        vertical-align: middle;\n    }\n\n    .dataframe tbody tr th {\n        vertical-align: top;\n    }\n\n    .dataframe thead th {\n        text-align: right;\n    }\n</style>\n<table border=\"1\" class=\"dataframe\">\n  <thead>\n    <tr style=\"text-align: right;\">\n      <th></th>\n      <th>nrd_visitlink</th>\n      <th>ibd_index_hosp</th>\n      <th>dx1</th>\n      <th>new_mi_adm</th>\n      <th>ibd_readm</th>\n    </tr>\n  </thead>\n  <tbody>\n    <tr>\n      <th>0</th>\n      <td>00017u</td>\n      <td>1</td>\n      <td>00845</td>\n      <td>0</td>\n      <td>0</td>\n    </tr>\n    <tr>\n      <th>1</th>\n      <td>00017u</td>\n      <td>0</td>\n      <td>0389</td>\n      <td>0</td>\n      <td>1</td>\n    </tr>\n    <tr>\n      <th>2</th>\n      <td>00017u</td>\n      <td>0</td>\n      <td>03842</td>\n      <td>0</td>\n      <td>1</td>\n    </tr>\n    <tr>\n      <th>3</th>\n      <td>0004o5</td>\n      <td>1</td>\n      <td>5559</td>\n      <td>0</td>\n      <td>0</td>\n    </tr>\n    <tr>\n      <th>4</th>\n      <td>000dbz</td>\n      <td>1</td>\n      <td>5559</td>\n      <td>0</td>\n      <td>0</td>\n    </tr>\n    <tr>\n      <th>5</th>\n      <td>000dbz</td>\n      <td>0</td>\n      <td>42731</td>\n      <td>0</td>\n      <td>1</td>\n    </tr>\n    <tr>\n      <th>6</th>\n      <td>000dbz</td>\n      <td>0</td>\n      <td>5559</td>\n      <td>0</td>\n      <td>1</td>\n    </tr>\n    <tr>\n      <th>7</th>\n      <td>000dbz</td>\n      <td>0</td>\n      <td>5552</td>\n      <td>0</td>\n      <td>1</td>\n    </tr>\n    <tr>\n      <th>8</th>\n      <td>000dbz</td>\n      <td>0</td>\n      <td>99859</td>\n      <td>0</td>\n      <td>1</td>\n    </tr>\n    <tr>\n      <th>9</th>\n      <td>000mgu</td>\n      <td>1</td>\n      <td>55221</td>\n      <td>0</td>\n      <td>0</td>\n    </tr>\n    <tr>\n      <th>10</th>\n      <td>0018do</td>\n      <td>1</td>\n      <td>V552</td>\n      <td>0</td>\n      <td>0</td>\n    </tr>\n    <tr>\n      <th>11</th>\n      <td>001nun</td>\n      <td>1</td>\n      <td>78659</td>\n      <td>0</td>\n      <td>0</td>\n    </tr>\n    <tr>\n      <th>12</th>\n      <td>001nun</td>\n      <td>0</td>\n      <td>78904</td>\n      <td>0</td>\n      <td>1</td>\n    </tr>\n    <tr>\n      <th>13</th>\n      <td>001nun</td>\n      <td>0</td>\n      <td>5569</td>\n      <td>0</td>\n      <td>1</td>\n    </tr>\n    <tr>\n      <th>14</th>\n      <td>001nun</td>\n      <td>0</td>\n      <td>78652</td>\n      <td>0</td>\n      <td>1</td>\n    </tr>\n    <tr>\n      <th>15</th>\n      <td>001nun</td>\n      <td>0</td>\n      <td>5569</td>\n      <td>0</td>\n      <td>1</td>\n    </tr>\n    <tr>\n      <th>16</th>\n      <td>001nun</td>\n      <td>0</td>\n      <td>5569</td>\n      <td>0</td>\n      <td>1</td>\n    </tr>\n    <tr>\n      <th>17</th>\n      <td>001nun</td>\n      <td>0</td>\n      <td>5569</td>\n      <td>0</td>\n      <td>1</td>\n    </tr>\n    <tr>\n      <th>18</th>\n      <td>003601</td>\n      <td>0</td>\n      <td>56969</td>\n      <td>0</td>\n      <td>0</td>\n    </tr>\n    <tr>\n      <th>19</th>\n      <td>003601</td>\n      <td>1</td>\n      <td>5990</td>\n      <td>0</td>\n      <td>0</td>\n    </tr>\n    <tr>\n      <th>20</th>\n      <td>003601</td>\n      <td>0</td>\n      <td>6824</td>\n      <td>0</td>\n      <td>1</td>\n    </tr>\n    <tr>\n      <th>21</th>\n      <td>0047y1</td>\n      <td>0</td>\n      <td>82021</td>\n      <td>0</td>\n      <td>0</td>\n    </tr>\n    <tr>\n      <th>22</th>\n      <td>0047y1</td>\n      <td>1</td>\n      <td>0389</td>\n      <td>0</td>\n      <td>0</td>\n    </tr>\n    <tr>\n      <th>23</th>\n      <td>004816</td>\n      <td>1</td>\n      <td>5609</td>\n      <td>0</td>\n      <td>0</td>\n    </tr>\n    <tr>\n      <th>24</th>\n      <td>004816</td>\n      <td>0</td>\n      <td>5921</td>\n      <td>0</td>\n      <td>1</td>\n    </tr>\n  </tbody>\n</table>\n</div>"
     },
     "metadata": {},
     "execution_count": 7
    }
   ],
   "source": [
    "# Check the data \n",
    "# Looks like the ibd_readm variables contains \"NA\" values\n",
    "\n",
    "df_copy[['nrd_visitlink','ibd_index_hosp', 'dx1', 'new_mi_adm', 'ibd_readm']].head(25)"
   ]
  },
  {
   "cell_type": "code",
   "execution_count": 8,
   "metadata": {},
   "outputs": [
    {
     "output_type": "execute_result",
     "data": {
      "text/plain": [
       "   nrd_visitlink  ibd_index_hosp ibd_readm\n",
       "0         00017u               1         1\n",
       "1         00017u               0         1\n",
       "2         00017u               0         1\n",
       "3         0004o5               1         0\n",
       "4         000dbz               1         1\n",
       "5         000dbz               0         1\n",
       "6         000dbz               0         1\n",
       "7         000dbz               0         1\n",
       "8         000dbz               0         1\n",
       "9         000mgu               1         0\n",
       "10        0018do               1         0\n",
       "11        001nun               1         1\n",
       "12        001nun               0         1\n",
       "13        001nun               0         1\n",
       "14        001nun               0         1\n",
       "15        001nun               0         1\n",
       "16        001nun               0         1\n",
       "17        001nun               0         1\n",
       "18        003601               0         1\n",
       "19        003601               1         1\n",
       "20        003601               0         1\n",
       "21        0047y1               0         0\n",
       "22        0047y1               1         0\n",
       "23        004816               1         1\n",
       "24        004816               0         1"
      ],
      "text/html": "<div>\n<style scoped>\n    .dataframe tbody tr th:only-of-type {\n        vertical-align: middle;\n    }\n\n    .dataframe tbody tr th {\n        vertical-align: top;\n    }\n\n    .dataframe thead th {\n        text-align: right;\n    }\n</style>\n<table border=\"1\" class=\"dataframe\">\n  <thead>\n    <tr style=\"text-align: right;\">\n      <th></th>\n      <th>nrd_visitlink</th>\n      <th>ibd_index_hosp</th>\n      <th>ibd_readm</th>\n    </tr>\n  </thead>\n  <tbody>\n    <tr>\n      <th>0</th>\n      <td>00017u</td>\n      <td>1</td>\n      <td>1</td>\n    </tr>\n    <tr>\n      <th>1</th>\n      <td>00017u</td>\n      <td>0</td>\n      <td>1</td>\n    </tr>\n    <tr>\n      <th>2</th>\n      <td>00017u</td>\n      <td>0</td>\n      <td>1</td>\n    </tr>\n    <tr>\n      <th>3</th>\n      <td>0004o5</td>\n      <td>1</td>\n      <td>0</td>\n    </tr>\n    <tr>\n      <th>4</th>\n      <td>000dbz</td>\n      <td>1</td>\n      <td>1</td>\n    </tr>\n    <tr>\n      <th>5</th>\n      <td>000dbz</td>\n      <td>0</td>\n      <td>1</td>\n    </tr>\n    <tr>\n      <th>6</th>\n      <td>000dbz</td>\n      <td>0</td>\n      <td>1</td>\n    </tr>\n    <tr>\n      <th>7</th>\n      <td>000dbz</td>\n      <td>0</td>\n      <td>1</td>\n    </tr>\n    <tr>\n      <th>8</th>\n      <td>000dbz</td>\n      <td>0</td>\n      <td>1</td>\n    </tr>\n    <tr>\n      <th>9</th>\n      <td>000mgu</td>\n      <td>1</td>\n      <td>0</td>\n    </tr>\n    <tr>\n      <th>10</th>\n      <td>0018do</td>\n      <td>1</td>\n      <td>0</td>\n    </tr>\n    <tr>\n      <th>11</th>\n      <td>001nun</td>\n      <td>1</td>\n      <td>1</td>\n    </tr>\n    <tr>\n      <th>12</th>\n      <td>001nun</td>\n      <td>0</td>\n      <td>1</td>\n    </tr>\n    <tr>\n      <th>13</th>\n      <td>001nun</td>\n      <td>0</td>\n      <td>1</td>\n    </tr>\n    <tr>\n      <th>14</th>\n      <td>001nun</td>\n      <td>0</td>\n      <td>1</td>\n    </tr>\n    <tr>\n      <th>15</th>\n      <td>001nun</td>\n      <td>0</td>\n      <td>1</td>\n    </tr>\n    <tr>\n      <th>16</th>\n      <td>001nun</td>\n      <td>0</td>\n      <td>1</td>\n    </tr>\n    <tr>\n      <th>17</th>\n      <td>001nun</td>\n      <td>0</td>\n      <td>1</td>\n    </tr>\n    <tr>\n      <th>18</th>\n      <td>003601</td>\n      <td>0</td>\n      <td>1</td>\n    </tr>\n    <tr>\n      <th>19</th>\n      <td>003601</td>\n      <td>1</td>\n      <td>1</td>\n    </tr>\n    <tr>\n      <th>20</th>\n      <td>003601</td>\n      <td>0</td>\n      <td>1</td>\n    </tr>\n    <tr>\n      <th>21</th>\n      <td>0047y1</td>\n      <td>0</td>\n      <td>0</td>\n    </tr>\n    <tr>\n      <th>22</th>\n      <td>0047y1</td>\n      <td>1</td>\n      <td>0</td>\n    </tr>\n    <tr>\n      <th>23</th>\n      <td>004816</td>\n      <td>1</td>\n      <td>1</td>\n    </tr>\n    <tr>\n      <th>24</th>\n      <td>004816</td>\n      <td>0</td>\n      <td>1</td>\n    </tr>\n  </tbody>\n</table>\n</div>"
     },
     "metadata": {},
     "execution_count": 8
    }
   ],
   "source": [
    "# # Recoding the ibd_readm outcome variable\n",
    "# readm_set = set()\n",
    "# for row in df_copy.itertuples():\n",
    "#     if row.ibd_readm == 1:\n",
    "#         readm_set.add(row.nrd_visitlink)\n",
    "        \n",
    "# readm_list = list(readm_set)\n",
    "\n",
    "# df_copy.loc[df_copy.nrd_visitlink.isin(readm_list), 'ibd_readm'] = '1'\n",
    "# df_copy[['nrd_visitlink','ibd_index_hosp', 'ibd_readm']].head(25)\n",
    "\n",
    "# Recoding the ibd_readm outcome variable\n",
    "readm_set = set()\n",
    "for index, row in df_copy[['nrd_visitlink','ibd_readm']].iterrows():\n",
    "    if row[1] == 1:\n",
    "        readm_set.add(row[0])\n",
    "        \n",
    "readm_list = list(readm_set)\n",
    "\n",
    "df_copy.loc[df_copy.nrd_visitlink.isin(readm_list), 'ibd_readm'] = '1'\n",
    "df_copy[['nrd_visitlink','ibd_index_hosp', 'ibd_readm']].head(25)"
   ]
  },
  {
   "cell_type": "code",
   "execution_count": 9,
   "metadata": {},
   "outputs": [
    {
     "output_type": "execute_result",
     "data": {
      "text/plain": [
       "   nrd_visitlink  pay1  ibd_index_hosp ibd_readm\n",
       "0         00017u   1.0               1         1\n",
       "1         00017u   1.0               0         1\n",
       "2         00017u   1.0               0         1\n",
       "3         0004o5   3.0               1         0\n",
       "4         000dbz   1.0               1         1\n",
       "5         000dbz   1.0               0         1\n",
       "6         000dbz   1.0               0         1\n",
       "7         000dbz   1.0               0         1\n",
       "8         000dbz   1.0               0         1\n",
       "9         000mgu   3.0               1         0\n",
       "10        0018do   2.0               1         0\n",
       "11        001nun   2.0               1         1\n",
       "12        001nun   2.0               0         1\n",
       "13        001nun   2.0               0         1\n",
       "14        001nun   2.0               0         1\n",
       "15        001nun   2.0               0         1\n",
       "16        001nun   2.0               0         1\n",
       "17        001nun   2.0               0         1\n",
       "18        003601   1.0               0         1\n",
       "19        003601   1.0               1         1\n",
       "20        003601   1.0               0         1\n",
       "21        0047y1   1.0               0         0\n",
       "22        0047y1   1.0               1         0\n",
       "23        004816   3.0               1         1\n",
       "24        004816   3.0               0         1"
      ],
      "text/html": "<div>\n<style scoped>\n    .dataframe tbody tr th:only-of-type {\n        vertical-align: middle;\n    }\n\n    .dataframe tbody tr th {\n        vertical-align: top;\n    }\n\n    .dataframe thead th {\n        text-align: right;\n    }\n</style>\n<table border=\"1\" class=\"dataframe\">\n  <thead>\n    <tr style=\"text-align: right;\">\n      <th></th>\n      <th>nrd_visitlink</th>\n      <th>pay1</th>\n      <th>ibd_index_hosp</th>\n      <th>ibd_readm</th>\n    </tr>\n  </thead>\n  <tbody>\n    <tr>\n      <th>0</th>\n      <td>00017u</td>\n      <td>1.0</td>\n      <td>1</td>\n      <td>1</td>\n    </tr>\n    <tr>\n      <th>1</th>\n      <td>00017u</td>\n      <td>1.0</td>\n      <td>0</td>\n      <td>1</td>\n    </tr>\n    <tr>\n      <th>2</th>\n      <td>00017u</td>\n      <td>1.0</td>\n      <td>0</td>\n      <td>1</td>\n    </tr>\n    <tr>\n      <th>3</th>\n      <td>0004o5</td>\n      <td>3.0</td>\n      <td>1</td>\n      <td>0</td>\n    </tr>\n    <tr>\n      <th>4</th>\n      <td>000dbz</td>\n      <td>1.0</td>\n      <td>1</td>\n      <td>1</td>\n    </tr>\n    <tr>\n      <th>5</th>\n      <td>000dbz</td>\n      <td>1.0</td>\n      <td>0</td>\n      <td>1</td>\n    </tr>\n    <tr>\n      <th>6</th>\n      <td>000dbz</td>\n      <td>1.0</td>\n      <td>0</td>\n      <td>1</td>\n    </tr>\n    <tr>\n      <th>7</th>\n      <td>000dbz</td>\n      <td>1.0</td>\n      <td>0</td>\n      <td>1</td>\n    </tr>\n    <tr>\n      <th>8</th>\n      <td>000dbz</td>\n      <td>1.0</td>\n      <td>0</td>\n      <td>1</td>\n    </tr>\n    <tr>\n      <th>9</th>\n      <td>000mgu</td>\n      <td>3.0</td>\n      <td>1</td>\n      <td>0</td>\n    </tr>\n    <tr>\n      <th>10</th>\n      <td>0018do</td>\n      <td>2.0</td>\n      <td>1</td>\n      <td>0</td>\n    </tr>\n    <tr>\n      <th>11</th>\n      <td>001nun</td>\n      <td>2.0</td>\n      <td>1</td>\n      <td>1</td>\n    </tr>\n    <tr>\n      <th>12</th>\n      <td>001nun</td>\n      <td>2.0</td>\n      <td>0</td>\n      <td>1</td>\n    </tr>\n    <tr>\n      <th>13</th>\n      <td>001nun</td>\n      <td>2.0</td>\n      <td>0</td>\n      <td>1</td>\n    </tr>\n    <tr>\n      <th>14</th>\n      <td>001nun</td>\n      <td>2.0</td>\n      <td>0</td>\n      <td>1</td>\n    </tr>\n    <tr>\n      <th>15</th>\n      <td>001nun</td>\n      <td>2.0</td>\n      <td>0</td>\n      <td>1</td>\n    </tr>\n    <tr>\n      <th>16</th>\n      <td>001nun</td>\n      <td>2.0</td>\n      <td>0</td>\n      <td>1</td>\n    </tr>\n    <tr>\n      <th>17</th>\n      <td>001nun</td>\n      <td>2.0</td>\n      <td>0</td>\n      <td>1</td>\n    </tr>\n    <tr>\n      <th>18</th>\n      <td>003601</td>\n      <td>1.0</td>\n      <td>0</td>\n      <td>1</td>\n    </tr>\n    <tr>\n      <th>19</th>\n      <td>003601</td>\n      <td>1.0</td>\n      <td>1</td>\n      <td>1</td>\n    </tr>\n    <tr>\n      <th>20</th>\n      <td>003601</td>\n      <td>1.0</td>\n      <td>0</td>\n      <td>1</td>\n    </tr>\n    <tr>\n      <th>21</th>\n      <td>0047y1</td>\n      <td>1.0</td>\n      <td>0</td>\n      <td>0</td>\n    </tr>\n    <tr>\n      <th>22</th>\n      <td>0047y1</td>\n      <td>1.0</td>\n      <td>1</td>\n      <td>0</td>\n    </tr>\n    <tr>\n      <th>23</th>\n      <td>004816</td>\n      <td>3.0</td>\n      <td>1</td>\n      <td>1</td>\n    </tr>\n    <tr>\n      <th>24</th>\n      <td>004816</td>\n      <td>3.0</td>\n      <td>0</td>\n      <td>1</td>\n    </tr>\n  </tbody>\n</table>\n</div>"
     },
     "metadata": {},
     "execution_count": 9
    }
   ],
   "source": [
    "# df_copy['ibd_readm'] = df_copy['ibd_readm'].fillna(0)\n",
    "\n",
    "df_copy[['nrd_visitlink', 'pay1', 'ibd_index_hosp', 'ibd_readm']].head(25)"
   ]
  },
  {
   "cell_type": "code",
   "execution_count": 10,
   "metadata": {},
   "outputs": [
    {
     "output_type": "execute_result",
     "data": {
      "text/plain": [
       "1    47402\n",
       "0    47096\n",
       "Name: ibd_index_hosp, dtype: int64"
      ]
     },
     "metadata": {},
     "execution_count": 10
    }
   ],
   "source": [
    "# Number of index hospitalizations\n",
    "index_hosp_counts = df_copy['ibd_index_hosp'].value_counts()\n",
    "index_hosp_counts"
   ]
  },
  {
   "cell_type": "code",
   "execution_count": 11,
   "metadata": {},
   "outputs": [
    {
     "output_type": "execute_result",
     "data": {
      "text/plain": [
       "1    64373\n",
       "0    30125\n",
       "Name: ibd_readm, dtype: int64"
      ]
     },
     "metadata": {},
     "execution_count": 11
    }
   ],
   "source": [
    "# Number of readmissions within six months\n",
    "readm_counts = df_copy['ibd_readm'].value_counts()\n",
    "readm_counts"
   ]
  },
  {
   "cell_type": "code",
   "execution_count": 12,
   "metadata": {},
   "outputs": [
    {
     "output_type": "execute_result",
     "data": {
      "text/plain": [
       "47402"
      ]
     },
     "metadata": {},
     "execution_count": 12
    }
   ],
   "source": [
    "# Filter the data so that only patients with an index hospitalizations are in a DataFrame\n",
    "readm_data_df = df_copy.loc[df_copy[\"ibd_index_hosp\"] == 1, :]\n",
    "\n",
    "# Check to ensure the filter worked correctly\n",
    "readm_data_df[\"ibd_index_hosp\"].count()"
   ]
  },
  {
   "cell_type": "code",
   "execution_count": 13,
   "metadata": {},
   "outputs": [],
   "source": [
    "# # Number of rows with null values\n",
    "# readm_data_df.isna().sum()"
   ]
  },
  {
   "cell_type": "code",
   "execution_count": 14,
   "metadata": {},
   "outputs": [],
   "source": [
    "# Drop all rows with null values\n",
    "# readm_data_df_clean = readm_data_df.dropna(axis='columns')\n",
    "\n",
    "# # Check the data\n",
    "# print(readm_data_df[\"ibd_index_hosp\"].count())\n",
    "# print('-' * 15)\n",
    "\n",
    "# # Check the data \n",
    "# print(readm_data_df.head(15))\n",
    "# print('-' * 15)\n",
    "\n",
    "# # Check the data \n",
    "# print(readm_data_df.tail(15))\n",
    "# print('-' * 15)"
   ]
  },
  {
   "cell_type": "code",
   "execution_count": 15,
   "metadata": {},
   "outputs": [
    {
     "output_type": "stream",
     "name": "stdout",
     "text": [
      "['index' 'age' 'aweekend' 'died' 'discwt' 'dispuniform' 'dmonth' 'dqtr'\n 'drg' 'drgver' 'drg_nopoa' 'dx1' 'dx2' 'dx3' 'dx4' 'dx5' 'dx6' 'dx7'\n 'dx8' 'dx9' 'dx10' 'dx11' 'dx12' 'dx13' 'dx14' 'dx15' 'dx16' 'dx17'\n 'dx18' 'dx19' 'dx20' 'dx21' 'dx22' 'dx23' 'dx24' 'dx25' 'dxccs1' 'dxccs2'\n 'dxccs3' 'dxccs4' 'dxccs5' 'dxccs6' 'dxccs7' 'dxccs8' 'dxccs9' 'dxccs10'\n 'dxccs11' 'dxccs12' 'dxccs13' 'dxccs14' 'dxccs15' 'dxccs16' 'dxccs17'\n 'dxccs18' 'dxccs19' 'dxccs20' 'dxccs21' 'dxccs22' 'dxccs23' 'dxccs24'\n 'dxccs25' 'elective' 'female' 'hcup_ed' 'hosp_nrd' 'key_nrd' 'los' 'mdc'\n 'mdc_nopoa' 'nchronic' 'ndx' 'necode' 'npr' 'nrd_daystoevent'\n 'nrd_stratum' 'nrd_visitlink' 'orproc' 'pay1' 'pl_nchs' 'pr1' 'pr2' 'pr3'\n 'pr4' 'pr5' 'pr6' 'pr7' 'pr8' 'pr9' 'pr10' 'pr11' 'pr12' 'pr13' 'pr14'\n 'pr15' 'prccs1' 'prccs2' 'prccs3' 'prccs4' 'prccs5' 'prccs6' 'prccs7'\n 'prccs8' 'prccs9' 'prccs10' 'prccs11' 'prccs12' 'prccs13' 'prccs14'\n 'prccs15' 'rehabtransfer' 'resident' 'samedayevent' 'totchg' 'year'\n 'zipinc_qrtl' 'aprdrg' 'aprdrg_risk_mortality' 'aprdrg_severity'\n 'cm_aids' 'cm_alcohol' 'cm_anemdef' 'cm_arth' 'cm_bldloss' 'cm_chf'\n 'cm_chrnlung' 'cm_coag' 'cm_depress' 'cm_dm' 'cm_dmcx' 'cm_drug'\n 'cm_htn_c' 'cm_hypothy' 'cm_liver' 'cm_lymph' 'cm_lytes' 'cm_mets'\n 'cm_neuro' 'cm_obese' 'cm_para' 'cm_perivasc' 'cm_psych' 'cm_pulmcirc'\n 'cm_renlfail' 'cm_tumor' 'cm_ulcer' 'cm_valve' 'cm_wghtloss' 'diabetes'\n 'copd' 'cm_smoking' 'ibd_dx_index' 'crohn_index' 'hosp_bedsize'\n 'h_contrl' 'hosp_urcat4' 'hosp_ur_teach' 'n_disc_u' 'n_hosp_u' 's_disc_u'\n 's_hosp_u' 'total_disc' 'hosp_urban_rural_location' 'payer' 'ccr_nrd'\n 'wageindex' '_merge' 'inpt_charges' 'ibd' 'ibd_flag' 'total_adm_num'\n 'ibd_adm_num' 'ibd_adm_total' 'ibd_index_hosp' 'ibd_index_six_months'\n 'ibd_index_death' 'ibd_index_after_june' 'ibd_index_flag_exclude'\n 'ibd_min_dmonth' 'ibd_total_los' 'dmonth_dead' 'dmonth_dead_fu'\n 'ibd_fu_v1' 'ibd_fu_v2' 'ibd_alive_fu' 'before_ibd_index_adm'\n 'total_before_ibd_index' 'before_ibd_index' 'ibdtotaladm_from_index'\n 'ibdtotlos_alive_fu' 'ibdtotadm_alive_fu' 'ibd_total_charges'\n 'ibdtotcharges_alive_fu' 'age_group' 'young_quintile'\n 'young_quintile_flag' 'sum_young' 'middle_quintile'\n 'middle_quintile_flag' 'sum_middle' 'old_quintile' 'old_quintile_flag'\n 'sum_old' 'ibd_young_quartile' 'ibd_middle_quartile' 'ibd_old_quartile'\n 'tot_ibd_death' 'gi_or_hepatic_proc_index' 'blood_transfusion'\n 'parenteral_or_enteral_index' 'ibd_procedures' 'tot_gi_or_hepatic_proc'\n 'max_nrd_daystoevent' 'ibd_max_daystoevent' 'ibd_readm' 'ibd_tot_readm'\n 'ibd_net_readm' 'ibd_colostomy_adm' 'tot_colostomy_adm'\n 'ibd_ileostomy_adm' 'tot_ileoostomy_adm' 'ibd_smallbowelresect_adm'\n 'tot_smallbowelresect_adm' 'ibd_colonresect_adm' 'tot_colonresect_adm'\n 'ibd_localexcise_adm' 'tot_localexcise_adm' 'ibd_exlap_adm'\n 'tot_exlap_adm' 'ibd_lysis_adm' 'tot_lysis_adm' 'tot_blood_transfusion'\n 'tot_parenteral_or_enteral' 'tot_ibd_procedures' 'cc_mi' 'cc_chf'\n 'cc_pervasc' 'cc_cvd' 'cc_dementia' 'cc_pulm' 'cc_rheumatic' 'cc_pud'\n 'cc_mild_liver' 'cc_dm_wocomp' 'cc_dm_w_comp' 'cc_hemi_or_para'\n 'cc_renal' 'cc_malignancy' 'cc_mod_severe_liver' 'cc_met_solidtumor'\n 'cc_aids_hiv' 'cc_index' 'new_cc_index' 'fractures' 'thromboses'\n 'tot_thromboses' 'unplanned_adm' 'tot_unplanned' 'pq1_dm_short'\n 'pq2_perf_appendix' 'pq3_dm_long' 'pq5_copd_asthma' 'pq7_htn' 'cardiac'\n 'pq8_chf' 'pq10_dehydrate' 'pq11_bacterialpna' 'pq12_uti' 'pq13_angina'\n 'pq14_diabeteswocomp' 'pq15_asthma' 'pq16_dm_amputate' 'dm'\n 'top_quintile_flag' 'ibd_young_quintile' 'ibd_middle_quintile'\n 'ibd_old_quintile' 'dibd_young_quintile' 'dibd_middle_quintile'\n 'dibd_old_quintile' 'top_ibd' 'top_decile_ibd' 'new_mi_adm' 'new_chf_adm'\n 'new_unstableangina_adm' 'new_arrhythmia_adm' 'new_cardiacarrest_adm'\n 'new_meningitis_adm' 'new_encephalitis_adm' 'new_endocarditis_adm'\n 'new_pneumonia_adm' 'new_pyelonephritis_adm' 'new_osteo_adm'\n 'new_septicemia_adm' 'new_cdiff_adm' 'new_tb_adm' 'new_atypicalmyco_adm'\n 'new_fungal_adm' 'new_listeriosis_adm' 'new_leishmaniasis_adm'\n 'new_pcp_adm' 'chronic_pain' 'ibd_surgery_adm' 'tot_surgery_adm'\n 'tot_pq1' 'tot_pq2' 'tot_pq3' 'frailty_risk_score'\n 'frailty_risk_category' 'frailty_risk_category_index' 'prevent_readm'\n 'tot_prevent_readm' 'cardiac_adm' 'cvd_adm' 'resp_adm' 'infxn_adm'\n 'gu_adm' 'gi_adm' 'endo_adm' 'neuro_adm' 'malignancies_adm'\n 'fracture_adm' 'thrombosis_adm' 'ibd_specific_adm' 'others_adm'\n 'ibd_index_discharge_date' 'readmission_time' 'was_readmitted'\n 'died_in_sixmo' 'did_die_in_sixmo' 'unplanned_in_sixmo'\n 'did_unplanned_in_sixmo' 'prevent_in_sixmo' 'did_prevent_in_sixmo'\n 'proc_in_sixmo' 'did_proc_in_sixmo' 'surgery_in_sixmo'\n 'did_surgery_in_sixmo' 'survtime' 'censor_readm' 'death_time'\n 'censor_death' 'surgtime' 'censor_surg' 'severe_IBD_hospitalization'\n 'severetime' 'censor_severe' 'severe_in_sixmo' 'did_severe_in_sixmo'\n '_st' '_d' '_t' '_t0' '_Iage_group_1' '_Iage_group_2' '_Inew_cc_in_1'\n '_Inew_cc_in_2' '_Ipayer_2' '_Ipayer_3' '_Ipayer_4' '_Izipinc_qr_2'\n '_Izipinc_qr_3' '_Izipinc_qr_4']\n"
     ]
    }
   ],
   "source": [
    "print(readm_data_df.columns.values)\n",
    "# readm_data_df_clean"
   ]
  },
  {
   "cell_type": "code",
   "execution_count": 16,
   "metadata": {},
   "outputs": [
    {
     "output_type": "execute_result",
     "data": {
      "text/plain": [
       "['age',\n",
       " 'female',\n",
       " 'los',\n",
       " 'aweekend',\n",
       " 'elective',\n",
       " 'orproc',\n",
       " 'hosp_urban_rural_location',\n",
       " 'payer',\n",
       " 'zipinc_qrtl',\n",
       " 'severe_IBD_hospitalization',\n",
       " 'cm_aids',\n",
       " 'cm_alcohol',\n",
       " 'cm_anemdef',\n",
       " 'cm_arth',\n",
       " 'cm_bldloss',\n",
       " 'cm_chf',\n",
       " 'cm_chrnlung',\n",
       " 'cm_depress',\n",
       " 'cm_coag',\n",
       " 'cm_dm',\n",
       " 'cm_dmcx',\n",
       " 'cm_drug',\n",
       " 'cm_htn_c',\n",
       " 'cm_hypothy',\n",
       " 'cm_liver',\n",
       " 'cm_lymph',\n",
       " 'cm_lytes',\n",
       " 'cm_mets',\n",
       " 'cm_neuro',\n",
       " 'cm_obese',\n",
       " 'cm_para',\n",
       " 'cm_perivasc',\n",
       " 'cm_psych',\n",
       " 'cm_pulmcirc',\n",
       " 'cm_renlfail',\n",
       " 'cm_tumor',\n",
       " 'cm_ulcer',\n",
       " 'cm_valve',\n",
       " 'cm_wghtloss',\n",
       " 'diabetes',\n",
       " 'copd',\n",
       " 'cm_smoking',\n",
       " 'blood_transfusion',\n",
       " 'ibd_procedures',\n",
       " 'cc_index',\n",
       " 'new_cc_index',\n",
       " 'fractures',\n",
       " 'thromboses',\n",
       " 'unplanned_adm',\n",
       " 'pq1_dm_short',\n",
       " 'pq2_perf_appendix',\n",
       " 'pq3_dm_long',\n",
       " 'pq5_copd_asthma',\n",
       " 'pq7_htn',\n",
       " 'pq8_chf',\n",
       " 'pq10_dehydrate',\n",
       " 'pq11_bacterialpna',\n",
       " 'pq12_uti',\n",
       " 'pq13_angina',\n",
       " 'pq14_diabeteswocomp',\n",
       " 'pq15_asthma',\n",
       " 'pq16_dm_amputate',\n",
       " 'new_mi_adm',\n",
       " 'new_chf_adm',\n",
       " 'new_unstableangina_adm',\n",
       " 'new_arrhythmia_adm',\n",
       " 'new_cardiacarrest_adm',\n",
       " 'new_meningitis_adm',\n",
       " 'new_encephalitis_adm',\n",
       " 'new_endocarditis_adm',\n",
       " 'new_pneumonia_adm',\n",
       " 'new_pyelonephritis_adm',\n",
       " 'new_osteo_adm',\n",
       " 'new_septicemia_adm',\n",
       " 'new_cdiff_adm',\n",
       " 'new_tb_adm',\n",
       " 'new_atypicalmyco_adm',\n",
       " 'new_fungal_adm',\n",
       " 'new_listeriosis_adm',\n",
       " 'new_leishmaniasis_adm',\n",
       " 'new_pcp_adm',\n",
       " 'chronic_pain',\n",
       " 'ibd_surgery_adm',\n",
       " 'frailty_risk_score',\n",
       " 'frailty_risk_category',\n",
       " 'frailty_risk_category_index',\n",
       " 'h_contrl',\n",
       " 'hosp_bedsize',\n",
       " 'hosp_ur_teach',\n",
       " 'hosp_urcat4',\n",
       " 'prevent_readm',\n",
       " 'cardiac_adm',\n",
       " 'cvd_adm',\n",
       " 'resp_adm',\n",
       " 'infxn_adm',\n",
       " 'gu_adm',\n",
       " 'gi_adm',\n",
       " 'endo_adm',\n",
       " 'neuro_adm',\n",
       " 'malignancies_adm',\n",
       " 'fracture_adm',\n",
       " 'thrombosis_adm',\n",
       " 'ibd_specific_adm',\n",
       " 'others_adm']"
      ]
     },
     "metadata": {},
     "execution_count": 16
    }
   ],
   "source": [
    "# List of all the variables in the dataset\n",
    "['age',\n",
    " 'female',\n",
    " 'los',\n",
    " 'aweekend',\n",
    " 'elective',\n",
    " 'orproc',\n",
    " 'hosp_urban_rural_location',\n",
    " 'payer',\n",
    " 'zipinc_qrtl',\n",
    " 'severe_IBD_hospitalization',\n",
    " 'cm_aids',\n",
    " 'cm_alcohol',\n",
    " 'cm_anemdef',\n",
    " 'cm_arth',\n",
    " 'cm_bldloss',\n",
    " 'cm_chf',\n",
    " 'cm_chrnlung',\n",
    " 'cm_depress',\n",
    " 'cm_coag',\n",
    " 'cm_dm',\n",
    " 'cm_dmcx',\n",
    " 'cm_drug',\n",
    " 'cm_htn_c',\n",
    " 'cm_hypothy',\n",
    " 'cm_liver',\n",
    " 'cm_lymph',\n",
    " 'cm_lytes',\n",
    " 'cm_mets',\n",
    " 'cm_neuro',\n",
    " 'cm_obese',\n",
    " 'cm_para',\n",
    " 'cm_perivasc',\n",
    " 'cm_psych',\n",
    " 'cm_pulmcirc',\n",
    " 'cm_renlfail',\n",
    " 'cm_tumor',\n",
    " 'cm_ulcer',\n",
    " 'cm_valve',\n",
    " 'cm_wghtloss',\n",
    " 'diabetes',\n",
    " 'copd',\n",
    " 'cm_smoking',\n",
    " 'blood_transfusion',\n",
    " 'ibd_procedures',\n",
    " 'cc_index',\n",
    " 'new_cc_index',\n",
    " 'fractures',\n",
    " 'thromboses',\n",
    " 'unplanned_adm',\n",
    " 'pq1_dm_short',\n",
    " 'pq2_perf_appendix',\n",
    " 'pq3_dm_long',\n",
    " 'pq5_copd_asthma',\n",
    " 'pq7_htn',\n",
    " 'pq8_chf',\n",
    " 'pq10_dehydrate',\n",
    " 'pq11_bacterialpna',\n",
    " 'pq12_uti',\n",
    " 'pq13_angina',\n",
    " 'pq14_diabeteswocomp',\n",
    " 'pq15_asthma',\n",
    " 'pq16_dm_amputate',\n",
    " 'new_mi_adm',\n",
    " 'new_chf_adm',\n",
    " 'new_unstableangina_adm',\n",
    " 'new_arrhythmia_adm',\n",
    " 'new_cardiacarrest_adm',\n",
    " 'new_meningitis_adm',\n",
    " 'new_encephalitis_adm',\n",
    " 'new_endocarditis_adm',\n",
    " 'new_pneumonia_adm',\n",
    " 'new_pyelonephritis_adm',\n",
    " 'new_osteo_adm',\n",
    " 'new_septicemia_adm',\n",
    " 'new_cdiff_adm',\n",
    " 'new_tb_adm',\n",
    " 'new_atypicalmyco_adm',\n",
    " 'new_fungal_adm',\n",
    " 'new_listeriosis_adm',\n",
    " 'new_leishmaniasis_adm',\n",
    " 'new_pcp_adm',\n",
    " 'chronic_pain',\n",
    " 'ibd_surgery_adm',\n",
    " 'frailty_risk_score',\n",
    " 'frailty_risk_category',\n",
    " 'frailty_risk_category_index',\n",
    " 'h_contrl',\n",
    " 'hosp_bedsize',\n",
    " 'hosp_ur_teach',\n",
    " 'hosp_urcat4',\n",
    " 'prevent_readm',\n",
    " 'cardiac_adm',\n",
    " 'cvd_adm',\n",
    " 'resp_adm',\n",
    " 'infxn_adm',\n",
    " 'gu_adm',\n",
    " 'gi_adm',\n",
    " 'endo_adm',\n",
    " 'neuro_adm',\n",
    " 'malignancies_adm',\n",
    " 'fracture_adm',\n",
    " 'thrombosis_adm',\n",
    " 'ibd_specific_adm',\n",
    " 'others_adm']"
   ]
  },
  {
   "cell_type": "markdown",
   "metadata": {},
   "source": [
    "### Grabbing the features"
   ]
  },
  {
   "cell_type": "code",
   "execution_count": 68,
   "metadata": {},
   "outputs": [
    {
     "output_type": "execute_result",
     "data": {
      "text/plain": [
       "      ibd_readm  age  female  los  aweekend  payer  zipinc_qrtl  cm_anemdef  \\\n",
       "0             1   89       0    4         1    1.0          4.0           1   \n",
       "3             0   48       1    4         0    2.0          3.0           0   \n",
       "4             1   65       0    5         0    1.0          2.0           1   \n",
       "9             0   51       0    3         0    2.0          4.0           0   \n",
       "10            0   22       0    6         0    1.0          2.0           0   \n",
       "...         ...  ...     ...  ...       ...    ...          ...         ...   \n",
       "94491         0   32       1    3         1    2.0          4.0           0   \n",
       "94492         0   54       0    4         0    2.0          4.0           0   \n",
       "94493         1   44       0    9         0    2.0          4.0           0   \n",
       "94496         0   52       1    2         0    1.0          1.0           0   \n",
       "94497         0   72       0    4         1    1.0          2.0           0   \n",
       "\n",
       "       cm_chrnlung  cm_depress  ...  cm_lytes  cm_obese  cm_psych  \\\n",
       "0                1           0  ...         1         0         0   \n",
       "3                0           0  ...         0         0         0   \n",
       "4                0           0  ...         1         0         0   \n",
       "9                0           0  ...         1         0         0   \n",
       "10               0           0  ...         1         0         0   \n",
       "...            ...         ...  ...       ...       ...       ...   \n",
       "94491            0           0  ...         0         0         0   \n",
       "94492            0           0  ...         0         0         0   \n",
       "94493            0           0  ...         0         0         0   \n",
       "94496            1           1  ...         0         0         0   \n",
       "94497            0           0  ...         0         0         0   \n",
       "\n",
       "       cm_wghtloss  diabetes  cm_smoking  blood_transfusion  ibd_procedures  \\\n",
       "0                0         0           1                  0               0   \n",
       "3                0         0           1                  0               1   \n",
       "4                0         0           1                  0               0   \n",
       "9                0         0           1                  0               0   \n",
       "10               0         0           0                  0               1   \n",
       "...            ...       ...         ...                ...             ...   \n",
       "94491            0         0           0                  0               0   \n",
       "94492            0         0           0                  0               1   \n",
       "94493            0         0           0                  1               1   \n",
       "94496            0         1           0                  0               0   \n",
       "94497            0         0           1                  0               0   \n",
       "\n",
       "       cc_index  frailty_risk_score  \n",
       "0             2                 4.7  \n",
       "3             0                 0.5  \n",
       "4             0                 5.7  \n",
       "9             0                 2.8  \n",
       "10            0                 3.8  \n",
       "...         ...                 ...  \n",
       "94491         0                 0.0  \n",
       "94492         0                 0.0  \n",
       "94493         0                 0.0  \n",
       "94496         2                 1.5  \n",
       "94497         1                 4.7  \n",
       "\n",
       "[46632 rows x 22 columns]"
      ],
      "text/html": "<div>\n<style scoped>\n    .dataframe tbody tr th:only-of-type {\n        vertical-align: middle;\n    }\n\n    .dataframe tbody tr th {\n        vertical-align: top;\n    }\n\n    .dataframe thead th {\n        text-align: right;\n    }\n</style>\n<table border=\"1\" class=\"dataframe\">\n  <thead>\n    <tr style=\"text-align: right;\">\n      <th></th>\n      <th>ibd_readm</th>\n      <th>age</th>\n      <th>female</th>\n      <th>los</th>\n      <th>aweekend</th>\n      <th>payer</th>\n      <th>zipinc_qrtl</th>\n      <th>cm_anemdef</th>\n      <th>cm_chrnlung</th>\n      <th>cm_depress</th>\n      <th>...</th>\n      <th>cm_lytes</th>\n      <th>cm_obese</th>\n      <th>cm_psych</th>\n      <th>cm_wghtloss</th>\n      <th>diabetes</th>\n      <th>cm_smoking</th>\n      <th>blood_transfusion</th>\n      <th>ibd_procedures</th>\n      <th>cc_index</th>\n      <th>frailty_risk_score</th>\n    </tr>\n  </thead>\n  <tbody>\n    <tr>\n      <th>0</th>\n      <td>1</td>\n      <td>89</td>\n      <td>0</td>\n      <td>4</td>\n      <td>1</td>\n      <td>1.0</td>\n      <td>4.0</td>\n      <td>1</td>\n      <td>1</td>\n      <td>0</td>\n      <td>...</td>\n      <td>1</td>\n      <td>0</td>\n      <td>0</td>\n      <td>0</td>\n      <td>0</td>\n      <td>1</td>\n      <td>0</td>\n      <td>0</td>\n      <td>2</td>\n      <td>4.7</td>\n    </tr>\n    <tr>\n      <th>3</th>\n      <td>0</td>\n      <td>48</td>\n      <td>1</td>\n      <td>4</td>\n      <td>0</td>\n      <td>2.0</td>\n      <td>3.0</td>\n      <td>0</td>\n      <td>0</td>\n      <td>0</td>\n      <td>...</td>\n      <td>0</td>\n      <td>0</td>\n      <td>0</td>\n      <td>0</td>\n      <td>0</td>\n      <td>1</td>\n      <td>0</td>\n      <td>1</td>\n      <td>0</td>\n      <td>0.5</td>\n    </tr>\n    <tr>\n      <th>4</th>\n      <td>1</td>\n      <td>65</td>\n      <td>0</td>\n      <td>5</td>\n      <td>0</td>\n      <td>1.0</td>\n      <td>2.0</td>\n      <td>1</td>\n      <td>0</td>\n      <td>0</td>\n      <td>...</td>\n      <td>1</td>\n      <td>0</td>\n      <td>0</td>\n      <td>0</td>\n      <td>0</td>\n      <td>1</td>\n      <td>0</td>\n      <td>0</td>\n      <td>0</td>\n      <td>5.7</td>\n    </tr>\n    <tr>\n      <th>9</th>\n      <td>0</td>\n      <td>51</td>\n      <td>0</td>\n      <td>3</td>\n      <td>0</td>\n      <td>2.0</td>\n      <td>4.0</td>\n      <td>0</td>\n      <td>0</td>\n      <td>0</td>\n      <td>...</td>\n      <td>1</td>\n      <td>0</td>\n      <td>0</td>\n      <td>0</td>\n      <td>0</td>\n      <td>1</td>\n      <td>0</td>\n      <td>0</td>\n      <td>0</td>\n      <td>2.8</td>\n    </tr>\n    <tr>\n      <th>10</th>\n      <td>0</td>\n      <td>22</td>\n      <td>0</td>\n      <td>6</td>\n      <td>0</td>\n      <td>1.0</td>\n      <td>2.0</td>\n      <td>0</td>\n      <td>0</td>\n      <td>0</td>\n      <td>...</td>\n      <td>1</td>\n      <td>0</td>\n      <td>0</td>\n      <td>0</td>\n      <td>0</td>\n      <td>0</td>\n      <td>0</td>\n      <td>1</td>\n      <td>0</td>\n      <td>3.8</td>\n    </tr>\n    <tr>\n      <th>...</th>\n      <td>...</td>\n      <td>...</td>\n      <td>...</td>\n      <td>...</td>\n      <td>...</td>\n      <td>...</td>\n      <td>...</td>\n      <td>...</td>\n      <td>...</td>\n      <td>...</td>\n      <td>...</td>\n      <td>...</td>\n      <td>...</td>\n      <td>...</td>\n      <td>...</td>\n      <td>...</td>\n      <td>...</td>\n      <td>...</td>\n      <td>...</td>\n      <td>...</td>\n      <td>...</td>\n    </tr>\n    <tr>\n      <th>94491</th>\n      <td>0</td>\n      <td>32</td>\n      <td>1</td>\n      <td>3</td>\n      <td>1</td>\n      <td>2.0</td>\n      <td>4.0</td>\n      <td>0</td>\n      <td>0</td>\n      <td>0</td>\n      <td>...</td>\n      <td>0</td>\n      <td>0</td>\n      <td>0</td>\n      <td>0</td>\n      <td>0</td>\n      <td>0</td>\n      <td>0</td>\n      <td>0</td>\n      <td>0</td>\n      <td>0.0</td>\n    </tr>\n    <tr>\n      <th>94492</th>\n      <td>0</td>\n      <td>54</td>\n      <td>0</td>\n      <td>4</td>\n      <td>0</td>\n      <td>2.0</td>\n      <td>4.0</td>\n      <td>0</td>\n      <td>0</td>\n      <td>0</td>\n      <td>...</td>\n      <td>0</td>\n      <td>0</td>\n      <td>0</td>\n      <td>0</td>\n      <td>0</td>\n      <td>0</td>\n      <td>0</td>\n      <td>1</td>\n      <td>0</td>\n      <td>0.0</td>\n    </tr>\n    <tr>\n      <th>94493</th>\n      <td>1</td>\n      <td>44</td>\n      <td>0</td>\n      <td>9</td>\n      <td>0</td>\n      <td>2.0</td>\n      <td>4.0</td>\n      <td>0</td>\n      <td>0</td>\n      <td>0</td>\n      <td>...</td>\n      <td>0</td>\n      <td>0</td>\n      <td>0</td>\n      <td>0</td>\n      <td>0</td>\n      <td>0</td>\n      <td>1</td>\n      <td>1</td>\n      <td>0</td>\n      <td>0.0</td>\n    </tr>\n    <tr>\n      <th>94496</th>\n      <td>0</td>\n      <td>52</td>\n      <td>1</td>\n      <td>2</td>\n      <td>0</td>\n      <td>1.0</td>\n      <td>1.0</td>\n      <td>0</td>\n      <td>1</td>\n      <td>1</td>\n      <td>...</td>\n      <td>0</td>\n      <td>0</td>\n      <td>0</td>\n      <td>0</td>\n      <td>1</td>\n      <td>0</td>\n      <td>0</td>\n      <td>0</td>\n      <td>2</td>\n      <td>1.5</td>\n    </tr>\n    <tr>\n      <th>94497</th>\n      <td>0</td>\n      <td>72</td>\n      <td>0</td>\n      <td>4</td>\n      <td>1</td>\n      <td>1.0</td>\n      <td>2.0</td>\n      <td>0</td>\n      <td>0</td>\n      <td>0</td>\n      <td>...</td>\n      <td>0</td>\n      <td>0</td>\n      <td>0</td>\n      <td>0</td>\n      <td>0</td>\n      <td>1</td>\n      <td>0</td>\n      <td>0</td>\n      <td>1</td>\n      <td>4.7</td>\n    </tr>\n  </tbody>\n</table>\n<p>46632 rows × 22 columns</p>\n</div>"
     },
     "metadata": {},
     "execution_count": 68
    }
   ],
   "source": [
    "# Grab the features\n",
    "\n",
    "# data = readm_data_df[['age', 'zipinc_qrtl', 'female', 'hosp_bedsize', 'h_contrl', 'hosp_urcat4', \n",
    "#                       'hosp_ur_teach', 'aweekend', 'elective', 'los', 'payer', 'cc_index', 'frailty_risk_score', \n",
    "#                       'prevent_readm', 'cardiac_adm', 'cvd_adm', 'resp_adm', 'infxn_adm', 'gu_adm', 'gi_adm', 'endo_adm', \n",
    "#                       'neuro_adm', 'malignancies_adm', 'fracture_adm', 'thrombosis_adm', 'ibd_specific_adm', 'others_adm',\n",
    "#                       'severe_IBD_hospitalization', 'ibd_readm']]\n",
    "\n",
    "# data = readm_data_df[['age', 'frailty_risk_score', 'los', 'zipinc_qrtl', 'cc_index', 'ibd_readm']]\n",
    "\n",
    "# data = readm_data_df[['age', 'frailty_risk_score', 'los', 'zipinc_qrtl', 'ibd_specific_adm', 'infxn_adm', 'new_cdiff_adm',\n",
    "#                       'hosp_bedsize', 'h_contrl', 'payer', 'cc_index', 'hosp_urcat4', 'ibd_readm']]\n",
    "\n",
    "data = readm_data_df[['ibd_readm','age', 'female', 'los', 'aweekend', 'payer', 'zipinc_qrtl',\n",
    "       'cm_anemdef', 'cm_chrnlung', 'cm_depress', 'cm_htn_c',\n",
    "       'cm_hypothy', 'cm_lytes', 'cm_obese', 'cm_psych', 'cm_wghtloss',\n",
    "       'diabetes', 'cm_smoking', 'blood_transfusion', 'ibd_procedures',\n",
    "       'cc_index', 'frailty_risk_score']]\n",
    "\n",
    "# data = readm_data_df[['ibd_readm','age', 'female', 'los', 'aweekend', 'payer', 'zipinc_qrtl',\n",
    "#        'cm_anemdef', 'cm_depress', 'cm_htn_c', 'cm_hypothy', 'diabetes',\n",
    "#        'cm_smoking', 'ibd_procedures', 'cc_index', 'frailty_risk_score',\n",
    "#        'h_contrl', 'hosp_bedsize', 'hosp_ur_teach', 'hosp_urcat4',\n",
    "#        'gi_adm']]\n",
    "\n",
    "# data = readm_data_df[['ibd_readm',\n",
    "#  'age',\n",
    "#  'female',\n",
    "#  'los',\n",
    "#  'aweekend',\n",
    "#  'elective',\n",
    "#  'orproc',\n",
    "#  'hosp_urban_rural_location',\n",
    "#  'payer',\n",
    "#  'zipinc_qrtl',\n",
    "#  'severe_IBD_hospitalization',\n",
    "#  'cm_aids',\n",
    "#  'cm_alcohol',\n",
    "#  'cm_anemdef',\n",
    "#  'cm_arth',\n",
    "#  'cm_bldloss',\n",
    "#  'cm_chf',\n",
    "#  'cm_chrnlung',\n",
    "#  'cm_depress',\n",
    "#  'cm_coag',\n",
    "#  'cm_dm',\n",
    "#  'cm_dmcx',\n",
    "#  'cm_drug',\n",
    "#  'cm_htn_c',\n",
    "#  'cm_hypothy',\n",
    "#  'cm_liver',\n",
    "#  'cm_lymph',\n",
    "#  'cm_lytes',\n",
    "#  'cm_mets',\n",
    "#  'cm_neuro',\n",
    "#  'cm_obese',\n",
    "#  'cm_para',\n",
    "#  'cm_perivasc',\n",
    "#  'cm_psych',\n",
    "#  'cm_pulmcirc',\n",
    "#  'cm_renlfail',\n",
    "#  'cm_tumor',\n",
    "#  'cm_ulcer',\n",
    "#  'cm_valve',\n",
    "#  'cm_wghtloss',\n",
    "#  'diabetes',\n",
    "#  'copd',\n",
    "#  'cm_smoking',\n",
    "#  'blood_transfusion',\n",
    "#  'ibd_procedures',\n",
    "#  'cc_index',\n",
    "#  'new_cc_index',\n",
    "#  'fractures',\n",
    "#  'thromboses',\n",
    "#  'unplanned_adm',\n",
    "#  'pq1_dm_short',\n",
    "#  'pq2_perf_appendix',\n",
    "#  'pq3_dm_long',\n",
    "#  'pq5_copd_asthma',\n",
    "#  'pq7_htn',\n",
    "#  'pq8_chf',\n",
    "#  'pq10_dehydrate',\n",
    "#  'pq11_bacterialpna',\n",
    "#  'pq12_uti',\n",
    "#  'pq13_angina',\n",
    "#  'pq14_diabeteswocomp',\n",
    "#  'pq15_asthma',\n",
    "#  'pq16_dm_amputate',\n",
    "#  'new_mi_adm',\n",
    "#  'new_chf_adm',\n",
    "#  'new_unstableangina_adm',\n",
    "#  'new_arrhythmia_adm',\n",
    "#  'new_cardiacarrest_adm',\n",
    "#  'new_meningitis_adm',\n",
    "#  'new_encephalitis_adm',\n",
    "#  'new_endocarditis_adm',\n",
    "#  'new_pneumonia_adm',\n",
    "#  'new_pyelonephritis_adm',\n",
    "#  'new_osteo_adm',\n",
    "#  'new_septicemia_adm',\n",
    "#  'new_cdiff_adm',\n",
    "#  'new_tb_adm',\n",
    "#  'new_atypicalmyco_adm',\n",
    "#  'new_fungal_adm',\n",
    "#  'new_listeriosis_adm',\n",
    "#  'new_leishmaniasis_adm',\n",
    "#  'new_pcp_adm',\n",
    "#  'chronic_pain',\n",
    "#  'ibd_surgery_adm',\n",
    "#  'frailty_risk_score',\n",
    "#  'frailty_risk_category_index',\n",
    "#  'h_contrl',\n",
    "#  'hosp_bedsize',\n",
    "#  'hosp_ur_teach',\n",
    "#  'hosp_urcat4',\n",
    "#  'prevent_readm',\n",
    "#  'cardiac_adm',\n",
    "#  'cvd_adm',\n",
    "#  'resp_adm',\n",
    "#  'infxn_adm',\n",
    "#  'gu_adm',\n",
    "#  'gi_adm',\n",
    "#  'endo_adm',\n",
    "#  'neuro_adm',\n",
    "#  'malignancies_adm',\n",
    "#  'fracture_adm',\n",
    "#  'thrombosis_adm',\n",
    "#  'ibd_specific_adm',\n",
    "#  'others_adm']]\n",
    "\n",
    "cleaned_data = data.dropna(axis='rows')\n",
    "cleaned_data"
   ]
  },
  {
   "cell_type": "code",
   "execution_count": 69,
   "metadata": {},
   "outputs": [
    {
     "output_type": "stream",
     "name": "stdout",
     "text": [
      "                         age    female       los  aweekend     payer  \\\nage                 1.000000  0.021296  0.066278  0.008442 -0.417895   \nfemale              0.021296  1.000000 -0.024857  0.003233 -0.076497   \nlos                 0.066278 -0.024857  1.000000  0.000160 -0.062497   \naweekend            0.008442  0.003233  0.000160  1.000000 -0.007053   \npayer              -0.417895 -0.076497 -0.062497 -0.007053  1.000000   \nzipinc_qrtl         0.040667 -0.025209 -0.022854 -0.013701  0.043966   \ncm_anemdef          0.043188  0.037891  0.101437  0.019768 -0.049093   \ncm_chrnlung         0.163325  0.048264  0.036068  0.010981 -0.127454   \ncm_depress          0.028691  0.099926  0.004484  0.008888 -0.044881   \ncm_htn_c            0.469228 -0.006298  0.027163  0.008981 -0.225083   \ncm_hypothy          0.209962  0.141562  0.001374  0.003691 -0.110095   \ncm_lytes            0.125987  0.028235  0.164939  0.049395 -0.069883   \ncm_obese            0.020946  0.050731  0.028885 -0.006217 -0.026942   \ncm_psych           -0.027774  0.026626  0.046587  0.008252 -0.052764   \ncm_wghtloss         0.029447 -0.014840  0.250725  0.003789 -0.030028   \ndiabetes            0.224748 -0.022008  0.047239  0.013865 -0.125772   \ncm_smoking          0.015789 -0.054575 -0.029495  0.003132 -0.009367   \nblood_transfusion   0.093726  0.002988  0.199027 -0.005000 -0.050996   \nibd_procedures     -0.097885 -0.046050  0.211267 -0.036837  0.069267   \ncc_index            0.325557 -0.046518  0.122473  0.010737 -0.194786   \nfrailty_risk_score  0.362390  0.040058  0.297862  0.045666 -0.221984   \n\n                    zipinc_qrtl  cm_anemdef  cm_chrnlung  cm_depress  \\\nage                    0.040667    0.043188     0.163325    0.028691   \nfemale                -0.025209    0.037891     0.048264    0.099926   \nlos                   -0.022854    0.101437     0.036068    0.004484   \naweekend              -0.013701    0.019768     0.010981    0.008888   \npayer                  0.043966   -0.049093    -0.127454   -0.044881   \nzipinc_qrtl            1.000000   -0.033949    -0.041316   -0.013750   \ncm_anemdef            -0.033949    1.000000     0.022610    0.030320   \ncm_chrnlung           -0.041316    0.022610     1.000000    0.058757   \ncm_depress            -0.013750    0.030320     0.058757    1.000000   \ncm_htn_c              -0.044202    0.024357     0.128667    0.053475   \ncm_hypothy             0.014917    0.025001     0.063004    0.059330   \ncm_lytes              -0.029645    0.141971     0.041337    0.025244   \ncm_obese              -0.028921    0.008272     0.074536    0.045064   \ncm_psych              -0.041353    0.020326     0.050299   -0.039862   \ncm_wghtloss           -0.023576    0.125351     0.010410    0.007303   \ndiabetes              -0.044987    0.054383     0.076924    0.027922   \ncm_smoking            -0.068659   -0.025507     0.144735    0.062088   \nblood_transfusion     -0.008060    0.141666     0.011309   -0.013196   \nibd_procedures        -0.006252    0.029332    -0.044243   -0.018527   \ncc_index              -0.018003    0.113304     0.313943    0.025510   \nfrailty_risk_score    -0.034033    0.211703     0.120183    0.068340   \n\n                    cm_htn_c  ...  cm_lytes  cm_obese  cm_psych  cm_wghtloss  \\\nage                 0.469228  ...  0.125987  0.020946 -0.027774     0.029447   \nfemale             -0.006298  ...  0.028235  0.050731  0.026626    -0.014840   \nlos                 0.027163  ...  0.164939  0.028885  0.046587     0.250725   \naweekend            0.008981  ...  0.049395 -0.006217  0.008252     0.003789   \npayer              -0.225083  ... -0.069883 -0.026942 -0.052764    -0.030028   \nzipinc_qrtl        -0.044202  ... -0.029645 -0.028921 -0.041353    -0.023576   \ncm_anemdef          0.024357  ...  0.141971  0.008272  0.020326     0.125351   \ncm_chrnlung         0.128667  ...  0.041337  0.074536  0.050299     0.010410   \ncm_depress          0.053475  ...  0.025244  0.045064 -0.039862     0.007303   \ncm_htn_c            1.000000  ...  0.064694  0.116023  0.006589    -0.035976   \ncm_hypothy          0.123967  ...  0.023048  0.041230  0.025886    -0.008135   \ncm_lytes            0.064694  ...  1.000000 -0.001066  0.024616     0.182582   \ncm_obese            0.116023  ... -0.001066  1.000000  0.039445    -0.024223   \ncm_psych            0.006589  ...  0.024616  0.039445  1.000000     0.005844   \ncm_wghtloss        -0.035976  ...  0.182582 -0.024223  0.005844     1.000000   \ndiabetes            0.256795  ...  0.066265  0.169711  0.023432    -0.006905   \ncm_smoking          0.043690  ... -0.000685  0.028338  0.052209    -0.011019   \nblood_transfusion   0.036025  ...  0.100782 -0.010722  0.000746     0.146492   \nibd_procedures     -0.061260  ...  0.040575 -0.003599 -0.016527     0.133783   \ncc_index            0.195506  ...  0.102021  0.040119  0.008307     0.062770   \nfrailty_risk_score  0.183281  ...  0.533813  0.035689  0.069363     0.210381   \n\n                    diabetes  cm_smoking  blood_transfusion  ibd_procedures  \\\nage                 0.224748    0.015789           0.093726       -0.097885   \nfemale             -0.022008   -0.054575           0.002988       -0.046050   \nlos                 0.047239   -0.029495           0.199027        0.211267   \naweekend            0.013865    0.003132          -0.005000       -0.036837   \npayer              -0.125772   -0.009367          -0.050996        0.069267   \nzipinc_qrtl        -0.044987   -0.068659          -0.008060       -0.006252   \ncm_anemdef          0.054383   -0.025507           0.141666        0.029332   \ncm_chrnlung         0.076924    0.144735           0.011309       -0.044243   \ncm_depress          0.027922    0.062088          -0.013196       -0.018527   \ncm_htn_c            0.256795    0.043690           0.036025       -0.061260   \ncm_hypothy          0.073783   -0.017271           0.007343       -0.045141   \ncm_lytes            0.066265   -0.000685           0.100782        0.040575   \ncm_obese            0.169711    0.028338          -0.010722       -0.003599   \ncm_psych            0.023432    0.052209           0.000746       -0.016527   \ncm_wghtloss        -0.006905   -0.011019           0.146492        0.133783   \ndiabetes            1.000000    0.008302           0.030097       -0.043762   \ncm_smoking          0.008302    1.000000          -0.040103       -0.028816   \nblood_transfusion   0.030097   -0.040103           1.000000        0.143344   \nibd_procedures     -0.043762   -0.028816           0.143344        1.000000   \ncc_index            0.149867    0.053888           0.126688       -0.036942   \nfrailty_risk_score  0.143819    0.016809           0.169229       -0.038226   \n\n                    cc_index  frailty_risk_score  \nage                 0.325557            0.362390  \nfemale             -0.046518            0.040058  \nlos                 0.122473            0.297862  \naweekend            0.010737            0.045666  \npayer              -0.194786           -0.221984  \nzipinc_qrtl        -0.018003           -0.034033  \ncm_anemdef          0.113304            0.211703  \ncm_chrnlung         0.313943            0.120183  \ncm_depress          0.025510            0.068340  \ncm_htn_c            0.195506            0.183281  \ncm_hypothy          0.075722            0.099864  \ncm_lytes            0.102021            0.533813  \ncm_obese            0.040119            0.035689  \ncm_psych            0.008307            0.069363  \ncm_wghtloss         0.062770            0.210381  \ndiabetes            0.149867            0.143819  \ncm_smoking          0.053888            0.016809  \nblood_transfusion   0.126688            0.169229  \nibd_procedures     -0.036942           -0.038226  \ncc_index            1.000000            0.278504  \nfrailty_risk_score  0.278504            1.000000  \n\n[21 rows x 21 columns]\n"
     ]
    }
   ],
   "source": [
    "# Correlation matrix\n",
    "corrMatrix = data.corr()\n",
    "print(corrMatrix)"
   ]
  },
  {
   "cell_type": "code",
   "execution_count": 70,
   "metadata": {},
   "outputs": [],
   "source": [
    "# # Generating a heatmap\n",
    "# import seaborn as sn\n",
    "# import matplotlib.pyplot as plt\n",
    "\n",
    "\n",
    "# fig, ax = plt.subplots(figsize=(20,20))         # Sample figsize in inches\n",
    "# sn.heatmap(corrMatrix, annot=True)\n",
    "# plt.show()"
   ]
  },
  {
   "cell_type": "code",
   "execution_count": 71,
   "metadata": {},
   "outputs": [
    {
     "output_type": "execute_result",
     "data": {
      "text/plain": [
       "0        1\n",
       "3        0\n",
       "4        1\n",
       "9        0\n",
       "10       0\n",
       "        ..\n",
       "94491    0\n",
       "94492    0\n",
       "94493    1\n",
       "94496    0\n",
       "94497    0\n",
       "Name: ibd_readm, Length: 46632, dtype: int64"
      ]
     },
     "metadata": {},
     "execution_count": 71
    }
   ],
   "source": [
    "# Grab outcome/label names after dropping na's/rows with na's\n",
    "target = cleaned_data[\"ibd_readm\"]\n",
    "target_names = [\"none\", \"readmitted\"]\n",
    "target = target.astype('int64')\n",
    "target"
   ]
  },
  {
   "cell_type": "code",
   "execution_count": 72,
   "metadata": {},
   "outputs": [
    {
     "output_type": "execute_result",
     "data": {
      "text/plain": [
       "Index(['age', 'female', 'los', 'aweekend', 'payer', 'zipinc_qrtl',\n",
       "       'cm_anemdef', 'cm_chrnlung', 'cm_depress', 'cm_htn_c', 'cm_hypothy',\n",
       "       'cm_lytes', 'cm_obese', 'cm_psych', 'cm_wghtloss', 'diabetes',\n",
       "       'cm_smoking', 'blood_transfusion', 'ibd_procedures', 'cc_index',\n",
       "       'frailty_risk_score'],\n",
       "      dtype='object')"
      ]
     },
     "metadata": {},
     "execution_count": 72
    }
   ],
   "source": [
    "# Grab feature names after dropping na's/rows with na\n",
    "cleaned_data_wo_outcome = cleaned_data.drop('ibd_readm', axis=1)\n",
    "featured_names = cleaned_data_wo_outcome.columns\n",
    "featured_names"
   ]
  },
  {
   "cell_type": "code",
   "execution_count": 73,
   "metadata": {},
   "outputs": [
    {
     "output_type": "execute_result",
     "data": {
      "text/plain": [
       "age                   0\n",
       "female                0\n",
       "los                   0\n",
       "aweekend              0\n",
       "payer                 0\n",
       "zipinc_qrtl           0\n",
       "cm_anemdef            0\n",
       "cm_chrnlung           0\n",
       "cm_depress            0\n",
       "cm_htn_c              0\n",
       "cm_hypothy            0\n",
       "cm_lytes              0\n",
       "cm_obese              0\n",
       "cm_psych              0\n",
       "cm_wghtloss           0\n",
       "diabetes              0\n",
       "cm_smoking            0\n",
       "blood_transfusion     0\n",
       "ibd_procedures        0\n",
       "cc_index              0\n",
       "frailty_risk_score    0\n",
       "dtype: int64"
      ]
     },
     "metadata": {},
     "execution_count": 73
    }
   ],
   "source": [
    "# Check for na values\n",
    "cleaned_data_wo_outcome.isnull().sum()"
   ]
  },
  {
   "cell_type": "code",
   "execution_count": 60,
   "metadata": {},
   "outputs": [],
   "source": [
    "# Show rows where the null values are \n",
    "# Data check\n",
    "# check_data = readm_data_df[['nrd_visitlink', 'ibd_index_hosp', 'ibd_readm', 'age', 'zipinc_qrtl', 'female', 'los', 'pay1', 'new_cc_index', 'frailty_risk_score']]\n",
    "# check_data[check_data.isna().any(axis=1)]"
   ]
  },
  {
   "cell_type": "code",
   "execution_count": 24,
   "metadata": {},
   "outputs": [],
   "source": [
    "# # Change one of the variables\n",
    "\n",
    "# from sklearn.preprocessing import LabelEncoder\n",
    "\n",
    "# # Step 1: Label-encode data set\n",
    "# label_encoder = LabelEncoder()\n",
    "# label_encoder.fit(y)\n",
    "# encoded_y = label_encoder.transform(y)"
   ]
  },
  {
   "cell_type": "markdown",
   "metadata": {},
   "source": [
    "### Using traditional train-test split"
   ]
  },
  {
   "cell_type": "code",
   "execution_count": 114,
   "metadata": {},
   "outputs": [],
   "source": [
    "from sklearn.ensemble import RandomForestClassifier\n",
    "from sklearn.tree import DecisionTreeClassifier\n",
    "from sklearn.model_selection import StratifiedKFold\n",
    "from sklearn.feature_selection import RFE\n",
    "\n",
    "clf = DecisionTreeClassifier()\n",
    "trans = RFE(clf, n_features_to_select=20)\n",
    "data_trans = trans.fit_transform(cleaned_data_wo_outcome, target)\n",
    "columns_retained_RFECV = cleaned_data.iloc[:, 1:].columns[trans.get_support()].values"
   ]
  },
  {
   "cell_type": "code",
   "execution_count": 115,
   "metadata": {},
   "outputs": [
    {
     "output_type": "execute_result",
     "data": {
      "text/plain": [
       "array(['age', 'female', 'los', 'aweekend', 'payer', 'zipinc_qrtl',\n",
       "       'cm_anemdef', 'cm_depress', 'cm_htn_c', 'cm_hypothy', 'diabetes',\n",
       "       'cm_smoking', 'ibd_procedures', 'cc_index', 'frailty_risk_score',\n",
       "       'h_contrl', 'hosp_bedsize', 'hosp_ur_teach', 'hosp_urcat4',\n",
       "       'gi_adm'], dtype=object)"
      ]
     },
     "metadata": {},
     "execution_count": 115
    }
   ],
   "source": [
    "columns_retained_RFECV"
   ]
  },
  {
   "cell_type": "code",
   "execution_count": 50,
   "metadata": {},
   "outputs": [
    {
     "output_type": "execute_result",
     "data": {
      "text/plain": [
       "array(['age', 'female', 'los', 'aweekend', 'payer', 'zipinc_qrtl',\n",
       "       'cm_anemdef', 'cm_chrnlung', 'cm_depress', 'cm_htn_c',\n",
       "       'cm_hypothy', 'cm_lytes', 'cm_obese', 'cm_psych', 'cm_wghtloss',\n",
       "       'diabetes', 'cm_smoking', 'blood_transfusion', 'ibd_procedures',\n",
       "       'cc_index', 'thromboses', 'unplanned_adm', 'frailty_risk_score',\n",
       "       'h_contrl', 'hosp_bedsize', 'hosp_ur_teach', 'hosp_urcat4',\n",
       "       'infxn_adm', 'gi_adm', 'ibd_specific_adm'], dtype=object)"
      ]
     },
     "metadata": {},
     "execution_count": 50
    }
   ],
   "source": [
    "columns_retained_RFECV\n"
   ]
  },
  {
   "cell_type": "code",
   "execution_count": 103,
   "metadata": {},
   "outputs": [
    {
     "output_type": "execute_result",
     "data": {
      "text/plain": [
       "array(['age', 'female', 'los', 'aweekend', 'elective', 'orproc', 'payer',\n",
       "       'zipinc_qrtl', 'cm_alcohol', 'cm_anemdef', 'cm_arth', 'cm_bldloss',\n",
       "       'cm_chrnlung', 'cm_depress', 'cm_coag', 'cm_dm', 'cm_drug',\n",
       "       'cm_htn_c', 'cm_hypothy', 'cm_liver', 'cm_lytes', 'cm_neuro',\n",
       "       'cm_obese', 'cm_perivasc', 'cm_psych', 'cm_renlfail',\n",
       "       'cm_wghtloss', 'diabetes', 'copd', 'cm_smoking',\n",
       "       'blood_transfusion', 'ibd_procedures', 'cc_index', 'new_cc_index',\n",
       "       'thromboses', 'unplanned_adm', 'new_arrhythmia_adm',\n",
       "       'new_septicemia_adm', 'frailty_risk_score', 'h_contrl',\n",
       "       'hosp_bedsize', 'hosp_ur_teach', 'hosp_urcat4', 'prevent_readm',\n",
       "       'cardiac_adm', 'resp_adm', 'infxn_adm', 'gu_adm', 'gi_adm',\n",
       "       'ibd_specific_adm'], dtype=object)"
      ]
     },
     "metadata": {},
     "execution_count": 103
    }
   ],
   "source": [
    "columns_retained_RFECV"
   ]
  },
  {
   "cell_type": "code",
   "execution_count": 143,
   "metadata": {},
   "outputs": [],
   "source": [
    "# Set up training and testing datasets\n",
    "\n",
    "from sklearn.model_selection import train_test_split\n",
    "X_train, X_test, y_train, y_test = train_test_split(cleaned_data_wo_outcome, target, random_state=42)"
   ]
  },
  {
   "cell_type": "code",
   "execution_count": 75,
   "metadata": {},
   "outputs": [
    {
     "output_type": "stream",
     "name": "stdout",
     "text": [
      "(34974, 21) (34974,)\n"
     ]
    }
   ],
   "source": [
    "print(X_train.shape, y_train.shape)"
   ]
  },
  {
   "cell_type": "code",
   "execution_count": 123,
   "metadata": {},
   "outputs": [
    {
     "output_type": "stream",
     "name": "stdout",
     "text": [
      "Training Score: 0.89763824555384\n",
      "Testing Score: 0.6087665122662549\n"
     ]
    }
   ],
   "source": [
    "from sklearn.ensemble import RandomForestClassifier\n",
    "rf = RandomForestClassifier(n_estimators=200, max_depth=15)\n",
    "rf.fit(X_train, y_train)\n",
    "\n",
    "print(f'Training Score: {rf.score(X_train, y_train)}')\n",
    "print(f'Testing Score: {rf.score(X_test, y_test)}')"
   ]
  },
  {
   "cell_type": "code",
   "execution_count": 124,
   "metadata": {},
   "outputs": [],
   "source": [
    "from sklearn.model_selection import GridSearchCV\n",
    "param_grid = {'n_estimators': [10, 50, 100, 250],\n",
    "              'max_depth': [5, 10, 15]}\n",
    "grid = GridSearchCV(rf,param_grid, verbose=3)"
   ]
  },
  {
   "cell_type": "code",
   "execution_count": 126,
   "metadata": {},
   "outputs": [
    {
     "output_type": "stream",
     "name": "stdout",
     "text": [
      "Fitting 5 folds for each of 12 candidates, totalling 60 fits\n",
      "[CV] max_depth=5, n_estimators=10 ....................................\n",
      "[Parallel(n_jobs=1)]: Using backend SequentialBackend with 1 concurrent workers.\n",
      "[CV] ........ max_depth=5, n_estimators=10, score=0.599, total=   0.3s\n",
      "[CV] max_depth=5, n_estimators=10 ....................................\n",
      "[Parallel(n_jobs=1)]: Done   1 out of   1 | elapsed:    0.2s remaining:    0.0s\n",
      "[CV] ........ max_depth=5, n_estimators=10, score=0.598, total=   0.2s\n",
      "[CV] max_depth=5, n_estimators=10 ....................................\n",
      "[Parallel(n_jobs=1)]: Done   2 out of   2 | elapsed:    0.4s remaining:    0.0s\n",
      "[CV] ........ max_depth=5, n_estimators=10, score=0.599, total=   0.2s\n",
      "[CV] max_depth=5, n_estimators=10 ....................................\n",
      "[CV] ........ max_depth=5, n_estimators=10, score=0.599, total=   0.2s\n",
      "[CV] max_depth=5, n_estimators=10 ....................................\n",
      "[CV] ........ max_depth=5, n_estimators=10, score=0.596, total=   0.2s\n",
      "[CV] max_depth=5, n_estimators=50 ....................................\n",
      "[CV] ........ max_depth=5, n_estimators=50, score=0.596, total=   1.2s\n",
      "[CV] max_depth=5, n_estimators=50 ....................................\n",
      "[CV] ........ max_depth=5, n_estimators=50, score=0.600, total=   1.1s\n",
      "[CV] max_depth=5, n_estimators=50 ....................................\n",
      "[CV] ........ max_depth=5, n_estimators=50, score=0.598, total=   1.1s\n",
      "[CV] max_depth=5, n_estimators=50 ....................................\n",
      "[CV] ........ max_depth=5, n_estimators=50, score=0.598, total=   1.0s\n",
      "[CV] max_depth=5, n_estimators=50 ....................................\n",
      "[CV] ........ max_depth=5, n_estimators=50, score=0.600, total=   1.1s\n",
      "[CV] max_depth=5, n_estimators=100 ...................................\n",
      "[CV] ....... max_depth=5, n_estimators=100, score=0.599, total=   1.9s\n",
      "[CV] max_depth=5, n_estimators=100 ...................................\n",
      "[CV] ....... max_depth=5, n_estimators=100, score=0.602, total=   1.8s\n",
      "[CV] max_depth=5, n_estimators=100 ...................................\n",
      "[CV] ....... max_depth=5, n_estimators=100, score=0.596, total=   1.9s\n",
      "[CV] max_depth=5, n_estimators=100 ...................................\n",
      "[CV] ....... max_depth=5, n_estimators=100, score=0.599, total=   1.9s\n",
      "[CV] max_depth=5, n_estimators=100 ...................................\n",
      "[CV] ....... max_depth=5, n_estimators=100, score=0.593, total=   1.8s\n",
      "[CV] max_depth=5, n_estimators=250 ...................................\n",
      "[CV] ....... max_depth=5, n_estimators=250, score=0.599, total=   4.9s\n",
      "[CV] max_depth=5, n_estimators=250 ...................................\n",
      "[CV] ....... max_depth=5, n_estimators=250, score=0.602, total=   4.3s\n",
      "[CV] max_depth=5, n_estimators=250 ...................................\n",
      "[CV] ....... max_depth=5, n_estimators=250, score=0.596, total=   3.4s\n",
      "[CV] max_depth=5, n_estimators=250 ...................................\n",
      "[CV] ....... max_depth=5, n_estimators=250, score=0.600, total=   3.5s\n",
      "[CV] max_depth=5, n_estimators=250 ...................................\n",
      "[CV] ....... max_depth=5, n_estimators=250, score=0.595, total=   3.8s\n",
      "[CV] max_depth=10, n_estimators=10 ...................................\n",
      "[CV] ....... max_depth=10, n_estimators=10, score=0.601, total=   0.3s\n",
      "[CV] max_depth=10, n_estimators=10 ...................................\n",
      "[CV] ....... max_depth=10, n_estimators=10, score=0.599, total=   0.3s\n",
      "[CV] max_depth=10, n_estimators=10 ...................................\n",
      "[CV] ....... max_depth=10, n_estimators=10, score=0.593, total=   0.3s\n",
      "[CV] max_depth=10, n_estimators=10 ...................................\n",
      "[CV] ....... max_depth=10, n_estimators=10, score=0.607, total=   0.3s\n",
      "[CV] max_depth=10, n_estimators=10 ...................................\n",
      "[CV] ....... max_depth=10, n_estimators=10, score=0.598, total=   0.3s\n",
      "[CV] max_depth=10, n_estimators=50 ...................................\n",
      "[CV] ....... max_depth=10, n_estimators=50, score=0.607, total=   1.4s\n",
      "[CV] max_depth=10, n_estimators=50 ...................................\n",
      "[CV] ....... max_depth=10, n_estimators=50, score=0.602, total=   1.4s\n",
      "[CV] max_depth=10, n_estimators=50 ...................................\n",
      "[CV] ....... max_depth=10, n_estimators=50, score=0.604, total=   1.2s\n",
      "[CV] max_depth=10, n_estimators=50 ...................................\n",
      "[CV] ....... max_depth=10, n_estimators=50, score=0.607, total=   1.4s\n",
      "[CV] max_depth=10, n_estimators=50 ...................................\n",
      "[CV] ....... max_depth=10, n_estimators=50, score=0.604, total=   1.1s\n",
      "[CV] max_depth=10, n_estimators=100 ..................................\n",
      "[CV] ...... max_depth=10, n_estimators=100, score=0.608, total=   2.3s\n",
      "[CV] max_depth=10, n_estimators=100 ..................................\n",
      "[CV] ...... max_depth=10, n_estimators=100, score=0.605, total=   3.7s\n",
      "[CV] max_depth=10, n_estimators=100 ..................................\n",
      "[CV] ...... max_depth=10, n_estimators=100, score=0.601, total=   3.3s\n",
      "[CV] max_depth=10, n_estimators=100 ..................................\n",
      "[CV] ...... max_depth=10, n_estimators=100, score=0.616, total=   3.3s\n",
      "[CV] max_depth=10, n_estimators=100 ..................................\n",
      "[CV] ...... max_depth=10, n_estimators=100, score=0.604, total=   3.1s\n",
      "[CV] max_depth=10, n_estimators=250 ..................................\n",
      "[CV] ...... max_depth=10, n_estimators=250, score=0.609, total=   7.3s\n",
      "[CV] max_depth=10, n_estimators=250 ..................................\n",
      "[CV] ...... max_depth=10, n_estimators=250, score=0.611, total=   7.3s\n",
      "[CV] max_depth=10, n_estimators=250 ..................................\n",
      "[CV] ...... max_depth=10, n_estimators=250, score=0.601, total=   7.3s\n",
      "[CV] max_depth=10, n_estimators=250 ..................................\n",
      "[CV] ...... max_depth=10, n_estimators=250, score=0.611, total=   7.2s\n",
      "[CV] max_depth=10, n_estimators=250 ..................................\n",
      "[CV] ...... max_depth=10, n_estimators=250, score=0.598, total=   7.2s\n",
      "[CV] max_depth=15, n_estimators=10 ...................................\n",
      "[CV] ....... max_depth=15, n_estimators=10, score=0.590, total=   0.5s\n",
      "[CV] max_depth=15, n_estimators=10 ...................................\n",
      "[CV] ....... max_depth=15, n_estimators=10, score=0.579, total=   0.5s\n",
      "[CV] max_depth=15, n_estimators=10 ...................................\n",
      "[CV] ....... max_depth=15, n_estimators=10, score=0.580, total=   0.4s\n",
      "[CV] max_depth=15, n_estimators=10 ...................................\n",
      "[CV] ....... max_depth=15, n_estimators=10, score=0.589, total=   0.5s\n",
      "[CV] max_depth=15, n_estimators=10 ...................................\n",
      "[CV] ....... max_depth=15, n_estimators=10, score=0.584, total=   0.4s\n",
      "[CV] max_depth=15, n_estimators=50 ...................................\n",
      "[CV] ....... max_depth=15, n_estimators=50, score=0.604, total=   2.2s\n",
      "[CV] max_depth=15, n_estimators=50 ...................................\n",
      "[CV] ....... max_depth=15, n_estimators=50, score=0.600, total=   2.1s\n",
      "[CV] max_depth=15, n_estimators=50 ...................................\n",
      "[CV] ....... max_depth=15, n_estimators=50, score=0.595, total=   2.1s\n",
      "[CV] max_depth=15, n_estimators=50 ...................................\n",
      "[CV] ....... max_depth=15, n_estimators=50, score=0.610, total=   2.2s\n",
      "[CV] max_depth=15, n_estimators=50 ...................................\n",
      "[CV] ....... max_depth=15, n_estimators=50, score=0.601, total=   2.3s\n",
      "[CV] max_depth=15, n_estimators=100 ..................................\n",
      "[CV] ...... max_depth=15, n_estimators=100, score=0.606, total=   4.3s\n",
      "[CV] max_depth=15, n_estimators=100 ..................................\n",
      "[CV] ...... max_depth=15, n_estimators=100, score=0.598, total=   4.2s\n",
      "[CV] max_depth=15, n_estimators=100 ..................................\n",
      "[CV] ...... max_depth=15, n_estimators=100, score=0.599, total=   4.3s\n",
      "[CV] max_depth=15, n_estimators=100 ..................................\n",
      "[CV] ...... max_depth=15, n_estimators=100, score=0.609, total=   4.2s\n",
      "[CV] max_depth=15, n_estimators=100 ..................................\n",
      "[CV] ...... max_depth=15, n_estimators=100, score=0.597, total=   4.3s\n",
      "[CV] max_depth=15, n_estimators=250 ..................................\n",
      "[CV] ...... max_depth=15, n_estimators=250, score=0.605, total=  10.6s\n",
      "[CV] max_depth=15, n_estimators=250 ..................................\n",
      "[CV] ...... max_depth=15, n_estimators=250, score=0.601, total=  10.4s\n",
      "[CV] max_depth=15, n_estimators=250 ..................................\n",
      "[CV] ...... max_depth=15, n_estimators=250, score=0.601, total=  10.5s\n",
      "[CV] max_depth=15, n_estimators=250 ..................................\n",
      "[CV] ...... max_depth=15, n_estimators=250, score=0.613, total=  11.3s\n",
      "[CV] max_depth=15, n_estimators=250 ..................................\n",
      "[CV] ...... max_depth=15, n_estimators=250, score=0.605, total=  11.1s\n",
      "[Parallel(n_jobs=1)]: Done  60 out of  60 | elapsed:  3.1min finished\n"
     ]
    },
    {
     "output_type": "execute_result",
     "data": {
      "text/plain": [
       "GridSearchCV(cv=None, error_score=nan,\n",
       "             estimator=RandomForestClassifier(bootstrap=True, ccp_alpha=0.0,\n",
       "                                              class_weight=None,\n",
       "                                              criterion='gini', max_depth=15,\n",
       "                                              max_features='auto',\n",
       "                                              max_leaf_nodes=None,\n",
       "                                              max_samples=None,\n",
       "                                              min_impurity_decrease=0.0,\n",
       "                                              min_impurity_split=None,\n",
       "                                              min_samples_leaf=1,\n",
       "                                              min_samples_split=2,\n",
       "                                              min_weight_fraction_leaf=0.0,\n",
       "                                              n_estimators=200, n_jobs=None,\n",
       "                                              oob_score=False,\n",
       "                                              random_state=None, verbose=0,\n",
       "                                              warm_start=False),\n",
       "             iid='deprecated', n_jobs=None,\n",
       "             param_grid={'max_depth': [5, 10, 15],\n",
       "                         'n_estimators': [10, 50, 100, 250]},\n",
       "             pre_dispatch='2*n_jobs', refit=True, return_train_score=False,\n",
       "             scoring=None, verbose=3)"
      ]
     },
     "metadata": {},
     "execution_count": 126
    }
   ],
   "source": [
    "grid.fit(X_train, y_train)"
   ]
  },
  {
   "cell_type": "code",
   "execution_count": 127,
   "metadata": {},
   "outputs": [
    {
     "output_type": "stream",
     "name": "stdout",
     "text": [
      "{'max_depth': 10, 'n_estimators': 100}\n0.6067935285283843\n"
     ]
    }
   ],
   "source": [
    "print(grid.best_params_)\n",
    "print(grid.best_score_)"
   ]
  },
  {
   "cell_type": "code",
   "execution_count": 129,
   "metadata": {},
   "outputs": [
    {
     "output_type": "stream",
     "name": "stdout",
     "text": [
      "Training Score: 0.7078115171270086\n",
      "Testing Score: 0.6155429747812661\n"
     ]
    }
   ],
   "source": [
    "# Check the training and testing scores\n",
    "print(f'Training Score: {grid.score(X_train, y_train)}')\n",
    "grid.predict(X_test)\n",
    "print(f'Testing Score: {grid.score(X_test, y_test)}')"
   ]
  },
  {
   "cell_type": "code",
   "execution_count": 27,
   "metadata": {},
   "outputs": [
    {
     "output_type": "execute_result",
     "data": {
      "text/plain": [
       "'2.4.0'"
      ]
     },
     "metadata": {},
     "execution_count": 27
    }
   ],
   "source": [
    "from numpy.random import seed\n",
    "seed(1)\n",
    "import tensorflow\n",
    "tensorflow.keras.__version__"
   ]
  },
  {
   "cell_type": "code",
   "execution_count": 28,
   "metadata": {},
   "outputs": [],
   "source": [
    "\n",
    "from sklearn.preprocessing import LabelEncoder, StandardScaler\n",
    "from tensorflow.keras.utils import to_categorical"
   ]
  },
  {
   "cell_type": "code",
   "execution_count": 144,
   "metadata": {},
   "outputs": [
    {
     "output_type": "execute_result",
     "data": {
      "text/plain": [
       "(11658,)"
      ]
     },
     "metadata": {},
     "execution_count": 144
    }
   ],
   "source": [
    "X_scaler = StandardScaler().fit(X_train)\n",
    "X_train_scaled = X_scaler.transform(X_train)\n",
    "X_test_scaled = X_scaler.transform(X_test)\n",
    "# y_train = to_categorical(y_train)\n",
    "# y_test = to_categorical(y_test)\n",
    "y_test.shape\n"
   ]
  },
  {
   "cell_type": "code",
   "execution_count": 30,
   "metadata": {},
   "outputs": [],
   "source": [
    "from tensorflow.keras.models import Sequential\n",
    "from tensorflow.keras.layers import Dense"
   ]
  },
  {
   "cell_type": "code",
   "execution_count": 194,
   "metadata": {},
   "outputs": [],
   "source": [
    "model = Sequential()\n",
    "model.add(Dense(units=50, activation='relu', input_dim=20))\n",
    "model.add(Dense(units=100, activation='relu'))\n",
    "model.add(Dense(units=200, activation='relu'))\n",
    "model.add(Dense(units=400, activation='relu'))\n",
    "model.add(Dense(units=200, activation='relu'))\n",
    "model.add(Dense(units=200, activation='relu'))\n",
    "model.add(Dense(units=1, activation='softmax'))"
   ]
  },
  {
   "cell_type": "code",
   "execution_count": 145,
   "metadata": {},
   "outputs": [],
   "source": [
    "model = Sequential()\n",
    "model.add(Dense(100, activation='relu', input_dim=X_train_scaled.shape[1]))\n",
    "model.add(Dense(200, activation='relu'))\n",
    "model.add(Dense(200, activation='relu'))\n",
    "model.add(Dense(200, activation='relu'))\n",
    "model.add(Dense(100, activation='relu'))\n",
    "model.add(Dense(1, activation=\"sigmoid\"))"
   ]
  },
  {
   "cell_type": "code",
   "execution_count": 146,
   "metadata": {},
   "outputs": [],
   "source": [
    "model.compile(optimizer='adam',\n",
    "              loss='binary_crossentropy',\n",
    "              metrics=['accuracy'])"
   ]
  },
  {
   "cell_type": "code",
   "execution_count": 147,
   "metadata": {},
   "outputs": [
    {
     "output_type": "stream",
     "name": "stdout",
     "text": [
      "Epoch 1/250\n",
      "1093/1093 - 3s - loss: 0.6648 - accuracy: 0.5984\n",
      "Epoch 2/250\n",
      "1093/1093 - 3s - loss: 0.6584 - accuracy: 0.6052\n",
      "Epoch 3/250\n",
      "1093/1093 - 3s - loss: 0.6552 - accuracy: 0.6123\n",
      "Epoch 4/250\n",
      "1093/1093 - 4s - loss: 0.6532 - accuracy: 0.6137\n",
      "Epoch 5/250\n",
      "1093/1093 - 4s - loss: 0.6505 - accuracy: 0.6192\n",
      "Epoch 6/250\n",
      "1093/1093 - 3s - loss: 0.6485 - accuracy: 0.6202\n",
      "Epoch 7/250\n",
      "1093/1093 - 3s - loss: 0.6464 - accuracy: 0.6248\n",
      "Epoch 8/250\n",
      "1093/1093 - 3s - loss: 0.6427 - accuracy: 0.6318\n",
      "Epoch 9/250\n",
      "1093/1093 - 4s - loss: 0.6373 - accuracy: 0.6380\n",
      "Epoch 10/250\n",
      "1093/1093 - 3s - loss: 0.6315 - accuracy: 0.6461\n",
      "Epoch 11/250\n",
      "1093/1093 - 3s - loss: 0.6245 - accuracy: 0.6551\n",
      "Epoch 12/250\n",
      "1093/1093 - 3s - loss: 0.6167 - accuracy: 0.6632\n",
      "Epoch 13/250\n",
      "1093/1093 - 3s - loss: 0.6074 - accuracy: 0.6703\n",
      "Epoch 14/250\n",
      "1093/1093 - 3s - loss: 0.5960 - accuracy: 0.6841\n",
      "Epoch 15/250\n",
      "1093/1093 - 3s - loss: 0.5828 - accuracy: 0.6952\n",
      "Epoch 16/250\n",
      "1093/1093 - 3s - loss: 0.5696 - accuracy: 0.7033\n",
      "Epoch 17/250\n",
      "1093/1093 - 3s - loss: 0.5536 - accuracy: 0.7150\n",
      "Epoch 18/250\n",
      "1093/1093 - 3s - loss: 0.5376 - accuracy: 0.7278\n",
      "Epoch 19/250\n",
      "1093/1093 - 3s - loss: 0.5206 - accuracy: 0.7383\n",
      "Epoch 20/250\n",
      "1093/1093 - 3s - loss: 0.5046 - accuracy: 0.7503\n",
      "Epoch 21/250\n",
      "1093/1093 - 3s - loss: 0.4889 - accuracy: 0.7572\n",
      "Epoch 22/250\n",
      "1093/1093 - 3s - loss: 0.4743 - accuracy: 0.7665\n",
      "Epoch 23/250\n",
      "1093/1093 - 3s - loss: 0.4589 - accuracy: 0.7771\n",
      "Epoch 24/250\n",
      "1093/1093 - 3s - loss: 0.4452 - accuracy: 0.7842\n",
      "Epoch 25/250\n",
      "1093/1093 - 3s - loss: 0.4289 - accuracy: 0.7939\n",
      "Epoch 26/250\n",
      "1093/1093 - 3s - loss: 0.4213 - accuracy: 0.7989\n",
      "Epoch 27/250\n",
      "1093/1093 - 3s - loss: 0.4023 - accuracy: 0.8088\n",
      "Epoch 28/250\n",
      "1093/1093 - 3s - loss: 0.3928 - accuracy: 0.8148\n",
      "Epoch 29/250\n",
      "1093/1093 - 3s - loss: 0.3856 - accuracy: 0.8188\n",
      "Epoch 30/250\n",
      "1093/1093 - 3s - loss: 0.3713 - accuracy: 0.8238\n",
      "Epoch 31/250\n",
      "1093/1093 - 3s - loss: 0.3630 - accuracy: 0.8273\n",
      "Epoch 32/250\n",
      "1093/1093 - 3s - loss: 0.3504 - accuracy: 0.8353\n",
      "Epoch 33/250\n",
      "1093/1093 - 3s - loss: 0.3457 - accuracy: 0.8372\n",
      "Epoch 34/250\n",
      "1093/1093 - 3s - loss: 0.3398 - accuracy: 0.8423\n",
      "Epoch 35/250\n",
      "1093/1093 - 3s - loss: 0.3262 - accuracy: 0.8475\n",
      "Epoch 36/250\n",
      "1093/1093 - 3s - loss: 0.3205 - accuracy: 0.8501\n",
      "Epoch 37/250\n",
      "1093/1093 - 3s - loss: 0.3164 - accuracy: 0.8535\n",
      "Epoch 38/250\n",
      "1093/1093 - 3s - loss: 0.3124 - accuracy: 0.8567\n",
      "Epoch 39/250\n",
      "1093/1093 - 3s - loss: 0.2965 - accuracy: 0.8627\n",
      "Epoch 40/250\n",
      "1093/1093 - 3s - loss: 0.2963 - accuracy: 0.8647\n",
      "Epoch 41/250\n",
      "1093/1093 - 3s - loss: 0.2862 - accuracy: 0.8686\n",
      "Epoch 42/250\n",
      "1093/1093 - 3s - loss: 0.2865 - accuracy: 0.8669\n",
      "Epoch 43/250\n",
      "1093/1093 - 3s - loss: 0.2815 - accuracy: 0.8710\n",
      "Epoch 44/250\n",
      "1093/1093 - 3s - loss: 0.2760 - accuracy: 0.8747\n",
      "Epoch 45/250\n",
      "1093/1093 - 3s - loss: 0.2685 - accuracy: 0.8787\n",
      "Epoch 46/250\n",
      "1093/1093 - 3s - loss: 0.2646 - accuracy: 0.8795\n",
      "Epoch 47/250\n",
      "1093/1093 - 3s - loss: 0.2626 - accuracy: 0.8816\n",
      "Epoch 48/250\n",
      "1093/1093 - 3s - loss: 0.2576 - accuracy: 0.8835\n",
      "Epoch 49/250\n",
      "1093/1093 - 3s - loss: 0.2545 - accuracy: 0.8857\n",
      "Epoch 50/250\n",
      "1093/1093 - 3s - loss: 0.2467 - accuracy: 0.8881\n",
      "Epoch 51/250\n",
      "1093/1093 - 3s - loss: 0.2476 - accuracy: 0.8887\n",
      "Epoch 52/250\n",
      "1093/1093 - 3s - loss: 0.2381 - accuracy: 0.8928\n",
      "Epoch 53/250\n",
      "1093/1093 - 3s - loss: 0.2441 - accuracy: 0.8890\n",
      "Epoch 54/250\n",
      "1093/1093 - 3s - loss: 0.2338 - accuracy: 0.8939\n",
      "Epoch 55/250\n",
      "1093/1093 - 3s - loss: 0.2374 - accuracy: 0.8933\n",
      "Epoch 56/250\n",
      "1093/1093 - 3s - loss: 0.2294 - accuracy: 0.8971\n",
      "Epoch 57/250\n",
      "1093/1093 - 3s - loss: 0.2244 - accuracy: 0.8993\n",
      "Epoch 58/250\n",
      "1093/1093 - 4s - loss: 0.2195 - accuracy: 0.9004\n",
      "Epoch 59/250\n",
      "1093/1093 - 4s - loss: 0.2226 - accuracy: 0.8993\n",
      "Epoch 60/250\n",
      "1093/1093 - 3s - loss: 0.2221 - accuracy: 0.8998\n",
      "Epoch 61/250\n",
      "1093/1093 - 3s - loss: 0.2163 - accuracy: 0.9027\n",
      "Epoch 62/250\n",
      "1093/1093 - 4s - loss: 0.2110 - accuracy: 0.9054\n",
      "Epoch 63/250\n",
      "1093/1093 - 3s - loss: 0.2167 - accuracy: 0.9044\n",
      "Epoch 64/250\n",
      "1093/1093 - 3s - loss: 0.2095 - accuracy: 0.9060\n",
      "Epoch 65/250\n",
      "1093/1093 - 3s - loss: 0.2057 - accuracy: 0.9075\n",
      "Epoch 66/250\n",
      "1093/1093 - 3s - loss: 0.2046 - accuracy: 0.9074\n",
      "Epoch 67/250\n",
      "1093/1093 - 3s - loss: 0.2029 - accuracy: 0.9099\n",
      "Epoch 68/250\n",
      "1093/1093 - 3s - loss: 0.1998 - accuracy: 0.9119\n",
      "Epoch 69/250\n",
      "1093/1093 - 3s - loss: 0.1980 - accuracy: 0.9132\n",
      "Epoch 70/250\n",
      "1093/1093 - 3s - loss: 0.1976 - accuracy: 0.9118\n",
      "Epoch 71/250\n",
      "1093/1093 - 3s - loss: 0.1967 - accuracy: 0.9126\n",
      "Epoch 72/250\n",
      "1093/1093 - 3s - loss: 0.1910 - accuracy: 0.9151\n",
      "Epoch 73/250\n",
      "1093/1093 - 3s - loss: 0.1850 - accuracy: 0.9180\n",
      "Epoch 74/250\n",
      "1093/1093 - 3s - loss: 0.1926 - accuracy: 0.9157\n",
      "Epoch 75/250\n",
      "1093/1093 - 3s - loss: 0.1890 - accuracy: 0.9173\n",
      "Epoch 76/250\n",
      "1093/1093 - 3s - loss: 0.1834 - accuracy: 0.9187\n",
      "Epoch 77/250\n",
      "1093/1093 - 3s - loss: 0.1830 - accuracy: 0.9198\n",
      "Epoch 78/250\n",
      "1093/1093 - 3s - loss: 0.1821 - accuracy: 0.9193\n",
      "Epoch 79/250\n",
      "1093/1093 - 3s - loss: 0.1851 - accuracy: 0.9192\n",
      "Epoch 80/250\n",
      "1093/1093 - 3s - loss: 0.1779 - accuracy: 0.9200\n",
      "Epoch 81/250\n",
      "1093/1093 - 3s - loss: 0.1777 - accuracy: 0.9218\n",
      "Epoch 82/250\n",
      "1093/1093 - 3s - loss: 0.1726 - accuracy: 0.9245\n",
      "Epoch 83/250\n",
      "1093/1093 - 3s - loss: 0.1755 - accuracy: 0.9218\n",
      "Epoch 84/250\n",
      "1093/1093 - 3s - loss: 0.1727 - accuracy: 0.9243\n",
      "Epoch 85/250\n",
      "1093/1093 - 3s - loss: 0.1712 - accuracy: 0.9264\n",
      "Epoch 86/250\n",
      "1093/1093 - 3s - loss: 0.1718 - accuracy: 0.9252\n",
      "Epoch 87/250\n",
      "1093/1093 - 3s - loss: 0.1686 - accuracy: 0.9263\n",
      "Epoch 88/250\n",
      "1093/1093 - 3s - loss: 0.1680 - accuracy: 0.9267\n",
      "Epoch 89/250\n",
      "1093/1093 - 3s - loss: 0.1654 - accuracy: 0.9280\n",
      "Epoch 90/250\n",
      "1093/1093 - 2s - loss: 0.1637 - accuracy: 0.9282\n",
      "Epoch 91/250\n",
      "1093/1093 - 2s - loss: 0.1615 - accuracy: 0.9297\n",
      "Epoch 92/250\n",
      "1093/1093 - 2s - loss: 0.1650 - accuracy: 0.9278\n",
      "Epoch 93/250\n",
      "1093/1093 - 2s - loss: 0.1639 - accuracy: 0.9286\n",
      "Epoch 94/250\n",
      "1093/1093 - 3s - loss: 0.1605 - accuracy: 0.9289\n",
      "Epoch 95/250\n",
      "1093/1093 - 2s - loss: 0.1575 - accuracy: 0.9321\n",
      "Epoch 96/250\n",
      "1093/1093 - 2s - loss: 0.1588 - accuracy: 0.9310\n",
      "Epoch 97/250\n",
      "1093/1093 - 2s - loss: 0.1544 - accuracy: 0.9316\n",
      "Epoch 98/250\n",
      "1093/1093 - 2s - loss: 0.1644 - accuracy: 0.9303\n",
      "Epoch 99/250\n",
      "1093/1093 - 2s - loss: 0.1526 - accuracy: 0.9343\n",
      "Epoch 100/250\n",
      "1093/1093 - 2s - loss: 0.1522 - accuracy: 0.9337\n",
      "Epoch 101/250\n",
      "1093/1093 - 2s - loss: 0.1561 - accuracy: 0.9317\n",
      "Epoch 102/250\n",
      "1093/1093 - 2s - loss: 0.1517 - accuracy: 0.9352\n",
      "Epoch 103/250\n",
      "1093/1093 - 3s - loss: 0.1485 - accuracy: 0.9347\n",
      "Epoch 104/250\n",
      "1093/1093 - 2s - loss: 0.1523 - accuracy: 0.9340\n",
      "Epoch 105/250\n",
      "1093/1093 - 3s - loss: 0.1474 - accuracy: 0.9362\n",
      "Epoch 106/250\n",
      "1093/1093 - 3s - loss: 0.1478 - accuracy: 0.9359\n",
      "Epoch 107/250\n",
      "1093/1093 - 4s - loss: 0.1458 - accuracy: 0.9381\n",
      "Epoch 108/250\n",
      "1093/1093 - 3s - loss: 0.1478 - accuracy: 0.9369\n",
      "Epoch 109/250\n",
      "1093/1093 - 4s - loss: 0.1426 - accuracy: 0.9384\n",
      "Epoch 110/250\n",
      "1093/1093 - 4s - loss: 0.1441 - accuracy: 0.9384\n",
      "Epoch 111/250\n",
      "1093/1093 - 4s - loss: 0.1489 - accuracy: 0.9364\n",
      "Epoch 112/250\n",
      "1093/1093 - 4s - loss: 0.1405 - accuracy: 0.9397\n",
      "Epoch 113/250\n",
      "1093/1093 - 4s - loss: 0.1394 - accuracy: 0.9413\n",
      "Epoch 114/250\n",
      "1093/1093 - 3s - loss: 0.1417 - accuracy: 0.9382\n",
      "Epoch 115/250\n",
      "1093/1093 - 3s - loss: 0.1383 - accuracy: 0.9410\n",
      "Epoch 116/250\n",
      "1093/1093 - 3s - loss: 0.1366 - accuracy: 0.9418\n",
      "Epoch 117/250\n",
      "1093/1093 - 3s - loss: 0.1368 - accuracy: 0.9418\n",
      "Epoch 118/250\n",
      "1093/1093 - 2s - loss: 0.1409 - accuracy: 0.9407\n",
      "Epoch 119/250\n",
      "1093/1093 - 2s - loss: 0.1373 - accuracy: 0.9410\n",
      "Epoch 120/250\n",
      "1093/1093 - 2s - loss: 0.1309 - accuracy: 0.9439\n",
      "Epoch 121/250\n",
      "1093/1093 - 2s - loss: 0.1346 - accuracy: 0.9429\n",
      "Epoch 122/250\n",
      "1093/1093 - 2s - loss: 0.1340 - accuracy: 0.9416\n",
      "Epoch 123/250\n",
      "1093/1093 - 2s - loss: 0.1368 - accuracy: 0.9416\n",
      "Epoch 124/250\n",
      "1093/1093 - 3s - loss: 0.1327 - accuracy: 0.9439\n",
      "Epoch 125/250\n",
      "1093/1093 - 3s - loss: 0.1336 - accuracy: 0.9444\n",
      "Epoch 126/250\n",
      "1093/1093 - 3s - loss: 0.1287 - accuracy: 0.9443\n",
      "Epoch 127/250\n",
      "1093/1093 - 2s - loss: 0.1287 - accuracy: 0.9444\n",
      "Epoch 128/250\n",
      "1093/1093 - 2s - loss: 0.1298 - accuracy: 0.9448\n",
      "Epoch 129/250\n",
      "1093/1093 - 2s - loss: 0.1329 - accuracy: 0.9437\n",
      "Epoch 130/250\n",
      "1093/1093 - 3s - loss: 0.1277 - accuracy: 0.9461\n",
      "Epoch 131/250\n",
      "1093/1093 - 2s - loss: 0.1283 - accuracy: 0.9448\n",
      "Epoch 132/250\n",
      "1093/1093 - 2s - loss: 0.1264 - accuracy: 0.9456\n",
      "Epoch 133/250\n",
      "1093/1093 - 2s - loss: 0.1285 - accuracy: 0.9464\n",
      "Epoch 134/250\n",
      "1093/1093 - 2s - loss: 0.1245 - accuracy: 0.9470\n",
      "Epoch 135/250\n",
      "1093/1093 - 2s - loss: 0.1272 - accuracy: 0.9460\n",
      "Epoch 136/250\n",
      "1093/1093 - 2s - loss: 0.1225 - accuracy: 0.9479\n",
      "Epoch 137/250\n",
      "1093/1093 - 2s - loss: 0.1269 - accuracy: 0.9460\n",
      "Epoch 138/250\n",
      "1093/1093 - 2s - loss: 0.1181 - accuracy: 0.9500\n",
      "Epoch 139/250\n",
      "1093/1093 - 3s - loss: 0.1227 - accuracy: 0.9476\n",
      "Epoch 140/250\n",
      "1093/1093 - 3s - loss: 0.1235 - accuracy: 0.9482\n",
      "Epoch 141/250\n",
      "1093/1093 - 3s - loss: 0.1262 - accuracy: 0.9468\n",
      "Epoch 142/250\n",
      "1093/1093 - 2s - loss: 0.1185 - accuracy: 0.9488\n",
      "Epoch 143/250\n",
      "1093/1093 - 3s - loss: 0.1210 - accuracy: 0.9497\n",
      "Epoch 144/250\n",
      "1093/1093 - 3s - loss: 0.1192 - accuracy: 0.9507\n",
      "Epoch 145/250\n",
      "1093/1093 - 2s - loss: 0.1189 - accuracy: 0.9487\n",
      "Epoch 146/250\n",
      "1093/1093 - 3s - loss: 0.1215 - accuracy: 0.9473\n",
      "Epoch 147/250\n",
      "1093/1093 - 3s - loss: 0.1166 - accuracy: 0.9499\n",
      "Epoch 148/250\n",
      "1093/1093 - 2s - loss: 0.1158 - accuracy: 0.9506\n",
      "Epoch 149/250\n",
      "1093/1093 - 2s - loss: 0.1143 - accuracy: 0.9507\n",
      "Epoch 150/250\n",
      "1093/1093 - 2s - loss: 0.1234 - accuracy: 0.9469\n",
      "Epoch 151/250\n",
      "1093/1093 - 2s - loss: 0.1177 - accuracy: 0.9508\n",
      "Epoch 152/250\n",
      "1093/1093 - 2s - loss: 0.1208 - accuracy: 0.9514\n",
      "Epoch 153/250\n",
      "1093/1093 - 2s - loss: 0.1152 - accuracy: 0.9513\n",
      "Epoch 154/250\n",
      "1093/1093 - 2s - loss: 0.1142 - accuracy: 0.9508\n",
      "Epoch 155/250\n",
      "1093/1093 - 2s - loss: 0.1189 - accuracy: 0.9497\n",
      "Epoch 156/250\n",
      "1093/1093 - 2s - loss: 0.1140 - accuracy: 0.9522\n",
      "Epoch 157/250\n",
      "1093/1093 - 3s - loss: 0.1145 - accuracy: 0.9531\n",
      "Epoch 158/250\n",
      "1093/1093 - 3s - loss: 0.1064 - accuracy: 0.9556\n",
      "Epoch 159/250\n",
      "1093/1093 - 3s - loss: 0.1165 - accuracy: 0.9503\n",
      "Epoch 160/250\n",
      "1093/1093 - 3s - loss: 0.1086 - accuracy: 0.9536\n",
      "Epoch 161/250\n",
      "1093/1093 - 3s - loss: 0.1184 - accuracy: 0.9521\n",
      "Epoch 162/250\n",
      "1093/1093 - 2s - loss: 0.1127 - accuracy: 0.9523\n",
      "Epoch 163/250\n",
      "1093/1093 - 2s - loss: 0.1055 - accuracy: 0.9539\n",
      "Epoch 164/250\n",
      "1093/1093 - 2s - loss: 0.1075 - accuracy: 0.9555\n",
      "Epoch 165/250\n",
      "1093/1093 - 2s - loss: 0.1144 - accuracy: 0.9516\n",
      "Epoch 166/250\n",
      "1093/1093 - 2s - loss: 0.1070 - accuracy: 0.9544\n",
      "Epoch 167/250\n",
      "1093/1093 - 3s - loss: 0.1071 - accuracy: 0.9549\n",
      "Epoch 168/250\n",
      "1093/1093 - 2s - loss: 0.1077 - accuracy: 0.9545\n",
      "Epoch 169/250\n",
      "1093/1093 - 2s - loss: 0.1058 - accuracy: 0.9557\n",
      "Epoch 170/250\n",
      "1093/1093 - 2s - loss: 0.1077 - accuracy: 0.9547\n",
      "Epoch 171/250\n",
      "1093/1093 - 2s - loss: 0.1027 - accuracy: 0.9563\n",
      "Epoch 172/250\n",
      "1093/1093 - 2s - loss: 0.1062 - accuracy: 0.9552\n",
      "Epoch 173/250\n",
      "1093/1093 - 3s - loss: 0.1061 - accuracy: 0.9550\n",
      "Epoch 174/250\n",
      "1093/1093 - 2s - loss: 0.1073 - accuracy: 0.9542\n",
      "Epoch 175/250\n",
      "1093/1093 - 2s - loss: 0.1083 - accuracy: 0.9558\n",
      "Epoch 176/250\n",
      "1093/1093 - 2s - loss: 0.1039 - accuracy: 0.9570\n",
      "Epoch 177/250\n",
      "1093/1093 - 2s - loss: 0.1061 - accuracy: 0.9546\n",
      "Epoch 178/250\n",
      "1093/1093 - 2s - loss: 0.1081 - accuracy: 0.9541\n",
      "Epoch 179/250\n",
      "1093/1093 - 2s - loss: 0.1090 - accuracy: 0.9549\n",
      "Epoch 180/250\n",
      "1093/1093 - 3s - loss: 0.1003 - accuracy: 0.9565\n",
      "Epoch 181/250\n",
      "1093/1093 - 2s - loss: 0.1005 - accuracy: 0.9562\n",
      "Epoch 182/250\n",
      "1093/1093 - 2s - loss: 0.1043 - accuracy: 0.9557\n",
      "Epoch 183/250\n",
      "1093/1093 - 3s - loss: 0.1027 - accuracy: 0.9564\n",
      "Epoch 184/250\n",
      "1093/1093 - 2s - loss: 0.1012 - accuracy: 0.9573\n",
      "Epoch 185/250\n",
      "1093/1093 - 2s - loss: 0.1047 - accuracy: 0.9558\n",
      "Epoch 186/250\n",
      "1093/1093 - 2s - loss: 0.1056 - accuracy: 0.9566\n",
      "Epoch 187/250\n",
      "1093/1093 - 2s - loss: 0.0981 - accuracy: 0.9582\n",
      "Epoch 188/250\n",
      "1093/1093 - 2s - loss: 0.0998 - accuracy: 0.9583\n",
      "Epoch 189/250\n",
      "1093/1093 - 2s - loss: 0.1034 - accuracy: 0.9572\n",
      "Epoch 190/250\n",
      "1093/1093 - 2s - loss: 0.0990 - accuracy: 0.9584\n",
      "Epoch 191/250\n",
      "1093/1093 - 3s - loss: 0.0989 - accuracy: 0.9585\n",
      "Epoch 192/250\n",
      "1093/1093 - 2s - loss: 0.1021 - accuracy: 0.9574\n",
      "Epoch 193/250\n",
      "1093/1093 - 2s - loss: 0.0998 - accuracy: 0.9595\n",
      "Epoch 194/250\n",
      "1093/1093 - 2s - loss: 0.0957 - accuracy: 0.9592\n",
      "Epoch 195/250\n",
      "1093/1093 - 2s - loss: 0.1020 - accuracy: 0.9579\n",
      "Epoch 196/250\n",
      "1093/1093 - 2s - loss: 0.0980 - accuracy: 0.9584\n",
      "Epoch 197/250\n",
      "1093/1093 - 2s - loss: 0.0985 - accuracy: 0.9583\n",
      "Epoch 198/250\n",
      "1093/1093 - 2s - loss: 0.0933 - accuracy: 0.9606\n",
      "Epoch 199/250\n",
      "1093/1093 - 2s - loss: 0.0992 - accuracy: 0.9603\n",
      "Epoch 200/250\n",
      "1093/1093 - 2s - loss: 0.1017 - accuracy: 0.9581\n",
      "Epoch 201/250\n",
      "1093/1093 - 2s - loss: 0.0972 - accuracy: 0.9603\n",
      "Epoch 202/250\n",
      "1093/1093 - 2s - loss: 0.0955 - accuracy: 0.9598\n",
      "Epoch 203/250\n",
      "1093/1093 - 2s - loss: 0.0973 - accuracy: 0.9597\n",
      "Epoch 204/250\n",
      "1093/1093 - 2s - loss: 0.0919 - accuracy: 0.9611\n",
      "Epoch 205/250\n",
      "1093/1093 - 2s - loss: 0.0929 - accuracy: 0.9606\n",
      "Epoch 206/250\n",
      "1093/1093 - 2s - loss: 0.0957 - accuracy: 0.9602\n",
      "Epoch 207/250\n",
      "1093/1093 - 2s - loss: 0.0956 - accuracy: 0.9608\n",
      "Epoch 208/250\n",
      "1093/1093 - 3s - loss: 0.0969 - accuracy: 0.9599\n",
      "Epoch 209/250\n",
      "1093/1093 - 2s - loss: 0.0919 - accuracy: 0.9611\n",
      "Epoch 210/250\n",
      "1093/1093 - 2s - loss: 0.0936 - accuracy: 0.9613\n",
      "Epoch 211/250\n",
      "1093/1093 - 2s - loss: 0.0958 - accuracy: 0.9604\n",
      "Epoch 212/250\n",
      "1093/1093 - 2s - loss: 0.0937 - accuracy: 0.9605\n",
      "Epoch 213/250\n",
      "1093/1093 - 3s - loss: 0.0908 - accuracy: 0.9618\n",
      "Epoch 214/250\n",
      "1093/1093 - 2s - loss: 0.0976 - accuracy: 0.9601\n",
      "Epoch 215/250\n",
      "1093/1093 - 2s - loss: 0.0946 - accuracy: 0.9613\n",
      "Epoch 216/250\n",
      "1093/1093 - 2s - loss: 0.0866 - accuracy: 0.9631\n",
      "Epoch 217/250\n",
      "1093/1093 - 2s - loss: 0.0927 - accuracy: 0.9624\n",
      "Epoch 218/250\n",
      "1093/1093 - 2s - loss: 0.0905 - accuracy: 0.9615\n",
      "Epoch 219/250\n",
      "1093/1093 - 2s - loss: 0.0958 - accuracy: 0.9602\n",
      "Epoch 220/250\n",
      "1093/1093 - 2s - loss: 0.0881 - accuracy: 0.9629\n",
      "Epoch 221/250\n",
      "1093/1093 - 2s - loss: 0.0916 - accuracy: 0.9621\n",
      "Epoch 222/250\n",
      "1093/1093 - 2s - loss: 0.0944 - accuracy: 0.9598\n",
      "Epoch 223/250\n",
      "1093/1093 - 2s - loss: 0.0939 - accuracy: 0.9622\n",
      "Epoch 224/250\n",
      "1093/1093 - 2s - loss: 0.0917 - accuracy: 0.9629\n",
      "Epoch 225/250\n",
      "1093/1093 - 2s - loss: 0.0856 - accuracy: 0.9638\n",
      "Epoch 226/250\n",
      "1093/1093 - 2s - loss: 0.0916 - accuracy: 0.9615\n",
      "Epoch 227/250\n",
      "1093/1093 - 2s - loss: 0.0915 - accuracy: 0.9620\n",
      "Epoch 228/250\n",
      "1093/1093 - 2s - loss: 0.0878 - accuracy: 0.9637\n",
      "Epoch 229/250\n",
      "1093/1093 - 2s - loss: 0.0926 - accuracy: 0.9621\n",
      "Epoch 230/250\n",
      "1093/1093 - 2s - loss: 0.0896 - accuracy: 0.9615\n",
      "Epoch 231/250\n",
      "1093/1093 - 2s - loss: 0.0888 - accuracy: 0.9637\n",
      "Epoch 232/250\n",
      "1093/1093 - 3s - loss: 0.0866 - accuracy: 0.9641\n",
      "Epoch 233/250\n",
      "1093/1093 - 2s - loss: 0.0876 - accuracy: 0.9639\n",
      "Epoch 234/250\n",
      "1093/1093 - 2s - loss: 0.0901 - accuracy: 0.9627\n",
      "Epoch 235/250\n",
      "1093/1093 - 2s - loss: 0.0843 - accuracy: 0.9640\n",
      "Epoch 236/250\n",
      "1093/1093 - 2s - loss: 0.0866 - accuracy: 0.9640\n",
      "Epoch 237/250\n",
      "1093/1093 - 2s - loss: 0.0901 - accuracy: 0.9633\n",
      "Epoch 238/250\n",
      "1093/1093 - 2s - loss: 0.0876 - accuracy: 0.9649\n",
      "Epoch 239/250\n",
      "1093/1093 - 3s - loss: 0.0861 - accuracy: 0.9645\n",
      "Epoch 240/250\n",
      "1093/1093 - 2s - loss: 0.0886 - accuracy: 0.9621\n",
      "Epoch 241/250\n",
      "1093/1093 - 2s - loss: 0.0865 - accuracy: 0.9645\n",
      "Epoch 242/250\n",
      "1093/1093 - 2s - loss: 0.0871 - accuracy: 0.9646\n",
      "Epoch 243/250\n",
      "1093/1093 - 2s - loss: 0.0851 - accuracy: 0.9640\n",
      "Epoch 244/250\n",
      "1093/1093 - 3s - loss: 0.0861 - accuracy: 0.9638\n",
      "Epoch 245/250\n",
      "1093/1093 - 2s - loss: 0.0871 - accuracy: 0.9652\n",
      "Epoch 246/250\n",
      "1093/1093 - 2s - loss: 0.0873 - accuracy: 0.9635\n",
      "Epoch 247/250\n",
      "1093/1093 - 3s - loss: 0.0854 - accuracy: 0.9635\n",
      "Epoch 248/250\n",
      "1093/1093 - 3s - loss: 0.0848 - accuracy: 0.9651\n",
      "Epoch 249/250\n",
      "1093/1093 - 2s - loss: 0.0852 - accuracy: 0.9649\n",
      "Epoch 250/250\n",
      "1093/1093 - 2s - loss: 0.0840 - accuracy: 0.9658\n"
     ]
    },
    {
     "output_type": "execute_result",
     "data": {
      "text/plain": [
       "<tensorflow.python.keras.callbacks.History at 0x232a0244548>"
      ]
     },
     "metadata": {},
     "execution_count": 147
    }
   ],
   "source": [
    "model.fit(\n",
    "    X_train_scaled,\n",
    "    y_train,\n",
    "    epochs=250,\n",
    "    shuffle=True,\n",
    "    verbose=2\n",
    ")"
   ]
  },
  {
   "cell_type": "code",
   "execution_count": 148,
   "metadata": {},
   "outputs": [
    {
     "output_type": "stream",
     "name": "stdout",
     "text": [
      "365/365 - 1s - loss: 4.3643 - accuracy: 0.5546\n",
      "Normal Neural Network - Loss: 4.36428165435791, Accuracy: 0.5546405911445618\n"
     ]
    }
   ],
   "source": [
    "model_loss, model_accuracy = model.evaluate(\n",
    "    X_test_scaled, y_test, verbose=2)\n",
    "print(\n",
    "    f\"Normal Neural Network - Loss: {model_loss}, Accuracy: {model_accuracy}\")"
   ]
  },
  {
   "cell_type": "code",
   "execution_count": null,
   "metadata": {},
   "outputs": [],
   "source": []
  },
  {
   "cell_type": "code",
   "execution_count": null,
   "metadata": {},
   "outputs": [],
   "source": []
  },
  {
   "cell_type": "code",
   "execution_count": null,
   "metadata": {},
   "outputs": [],
   "source": []
  },
  {
   "cell_type": "code",
   "execution_count": null,
   "metadata": {},
   "outputs": [],
   "source": []
  },
  {
   "cell_type": "code",
   "execution_count": 77,
   "metadata": {},
   "outputs": [
    {
     "output_type": "execute_result",
     "data": {
      "text/plain": [
       "[(0.08715343730577128, 'age'),\n",
       " (0.08313208123668815, 'frailty_risk_score'),\n",
       " (0.07875507887491015, 'los'),\n",
       " (0.04211552671004307, 'payer'),\n",
       " (0.03568417100888176, 'cc_index'),\n",
       " (0.0318912480807652, 'zipinc_qrtl'),\n",
       " (0.022206205406409673, 'h_contrl'),\n",
       " (0.022175388225544608, 'new_cc_index'),\n",
       " (0.022070312977018003, 'hosp_urcat4'),\n",
       " (0.022002347491474474, 'hosp_bedsize'),\n",
       " (0.020244411339044664, 'hosp_ur_teach'),\n",
       " (0.019634468279485184, 'orproc'),\n",
       " (0.017881861529509848, 'cm_anemdef'),\n",
       " (0.01764952977108259, 'ibd_procedures'),\n",
       " (0.016624402063061632, 'ibd_specific_adm'),\n",
       " (0.01587583973228855, 'female'),\n",
       " (0.01522278901254563, 'severe_IBD_hospitalization'),\n",
       " (0.014507572868280971, 'cm_smoking'),\n",
       " (0.014236329190146292, 'cm_htn_c'),\n",
       " (0.012995073300385188, 'cm_lytes'),\n",
       " (0.012992978090385993, 'cm_depress'),\n",
       " (0.012495493977394174, 'aweekend'),\n",
       " (0.012146713100124029, 'cm_wghtloss'),\n",
       " (0.012006884094847561, 'frailty_risk_category_index'),\n",
       " (0.011801621582815629, 'thromboses'),\n",
       " (0.011451851234982113, 'blood_transfusion'),\n",
       " (0.011022217732019035, 'elective'),\n",
       " (0.01078818830696241, 'cm_hypothy'),\n",
       " (0.010703011894719491, 'unplanned_adm'),\n",
       " (0.010336100670969347, 'gi_adm'),\n",
       " (0.010174329553682315, 'cm_obese'),\n",
       " (0.009932880566125539, 'cm_chrnlung'),\n",
       " (0.009302022485498905, 'copd'),\n",
       " (0.00926402256480485, 'cm_neuro'),\n",
       " (0.009081577137703035, 'infxn_adm'),\n",
       " (0.009037861398791838, 'chronic_pain'),\n",
       " (0.008984396107257625, 'cm_drug'),\n",
       " (0.008761099794825228, 'cm_psych'),\n",
       " (0.008646389366371446, 'diabetes'),\n",
       " (0.00846214238966818, 'cm_dm'),\n",
       " (0.008080133675562064, 'cm_coag'),\n",
       " (0.007744557758689918, 'cm_renlfail'),\n",
       " (0.0076483188142612854, 'new_arrhythmia_adm'),\n",
       " (0.007562960665979088, 'new_septicemia_adm'),\n",
       " (0.007285743947284579, 'cm_liver'),\n",
       " (0.007110938897065819, 'cm_arth'),\n",
       " (0.006916406668104496, 'cm_perivasc'),\n",
       " (0.006564426072329642, 'hosp_urban_rural_location'),\n",
       " (0.006354944018056138, 'cm_chf'),\n",
       " (0.006162197968828261, 'prevent_readm'),\n",
       " (0.0058014546920418875, 'cm_valve'),\n",
       " (0.0057591736802551615, 'resp_adm'),\n",
       " (0.005653653150024137, 'new_cdiff_adm'),\n",
       " (0.005606326243792676, 'cm_bldloss'),\n",
       " (0.005602572467583202, 'cardiac_adm'),\n",
       " (0.005288801587474631, 'cm_alcohol'),\n",
       " (0.005269151838758024, 'cm_dmcx'),\n",
       " (0.004765645215201915, 'new_chf_adm'),\n",
       " (0.004262270289564672, 'cm_pulmcirc'),\n",
       " (0.004156471722228539, 'gu_adm'),\n",
       " (0.0038820034824004804, 'fractures'),\n",
       " (0.003691885623080442, 'others_adm'),\n",
       " (0.0035236133864953115, 'endo_adm'),\n",
       " (0.003442007782781573, 'cm_tumor'),\n",
       " (0.0031762260680379887, 'malignancies_adm'),\n",
       " (0.003134194614873766, 'pq11_bacterialpna'),\n",
       " (0.0031120999665624097, 'cm_para'),\n",
       " (0.002827640420408893, 'cm_mets'),\n",
       " (0.0027729793078002285, 'pq5_copd_asthma'),\n",
       " (0.00256413208047515, 'fracture_adm'),\n",
       " (0.0023883435499502162, 'neuro_adm'),\n",
       " (0.002345275830791661, 'pq10_dehydrate'),\n",
       " (0.0021962360051787744, 'new_mi_adm'),\n",
       " (0.0019045480485558354, 'pq8_chf'),\n",
       " (0.0018497233004907087, 'pq12_uti'),\n",
       " (0.0018206615570859578, 'cm_lymph'),\n",
       " (0.0018066749615214, 'thrombosis_adm'),\n",
       " (0.0014651456251941503, 'new_osteo_adm'),\n",
       " (0.0011598959241516285, 'pq15_asthma'),\n",
       " (0.0011020925340174423, 'new_pneumonia_adm'),\n",
       " (0.0008773326843070178, 'new_unstableangina_adm'),\n",
       " (0.0008282908014021573, 'pq3_dm_long'),\n",
       " (0.0008183612006477577, 'new_pyelonephritis_adm'),\n",
       " (0.0007175334133159542, 'pq1_dm_short'),\n",
       " (0.0005658439494552806, 'pq7_htn'),\n",
       " (0.0005397391792914563, 'pq2_perf_appendix'),\n",
       " (0.0005026421325943712, 'cm_aids'),\n",
       " (0.00035481205206098733, 'new_cardiacarrest_adm'),\n",
       " (0.0003052296794450441, 'cm_ulcer'),\n",
       " (0.0002472878578430509, 'new_endocarditis_adm'),\n",
       " (0.0002264503475530819, 'pq14_diabeteswocomp'),\n",
       " (0.00016559912109662134, 'new_fungal_adm'),\n",
       " (0.0001583706550935784, 'new_atypicalmyco_adm'),\n",
       " (0.000143241196966298, 'pq16_dm_amputate'),\n",
       " (0.00013830126638877634, 'pq13_angina'),\n",
       " (0.00010040010575032602, 'new_encephalitis_adm'),\n",
       " (3.5073432136142084e-05, 'new_tb_adm'),\n",
       " (2.8988441394172925e-05, 'new_meningitis_adm'),\n",
       " (2.239409696694142e-05, 'new_pcp_adm'),\n",
       " (1.272249006532335e-05, 'new_listeriosis_adm'),\n",
       " (0.0, 'new_leishmaniasis_adm'),\n",
       " (0.0, 'ibd_surgery_adm'),\n",
       " (0.0, 'cvd_adm')]"
      ]
     },
     "metadata": {},
     "execution_count": 77
    }
   ],
   "source": [
    "sorted(zip(rf.feature_importances_, X_train), reverse=True)"
   ]
  },
  {
   "cell_type": "code",
   "execution_count": null,
   "metadata": {},
   "outputs": [],
   "source": [
    "# 'age', 'frailty_risk_score', 'los', 'payer', 'cc_index', 'zipinc_qrtl', 'h_contrl'"
   ]
  },
  {
   "cell_type": "code",
   "execution_count": null,
   "metadata": {},
   "outputs": [],
   "source": []
  },
  {
   "cell_type": "code",
   "execution_count": null,
   "metadata": {},
   "outputs": [],
   "source": []
  },
  {
   "cell_type": "code",
   "execution_count": 41,
   "metadata": {},
   "outputs": [
    {
     "output_type": "stream",
     "name": "stdout",
     "text": [
      "[0.61492281 0.61320755 0.59605489 0.60377358 0.62349914 0.63121784\n 0.61406518 0.60720412 0.60085837 0.61716738]\n"
     ]
    }
   ],
   "source": [
    "import sklearn\n",
    "from sklearn.model_selection import cross_val_score\n",
    "from sklearn import metrics\n",
    "scores = cross_val_score(rf, X_test, y_test, cv=10, scoring='accuracy')\n",
    "print(scores)"
   ]
  },
  {
   "cell_type": "code",
   "execution_count": 25,
   "metadata": {},
   "outputs": [],
   "source": [
    "# # Build the random forrest classifier\n",
    "\n",
    "# clf = tree.DecisionTreeClassifier()\n",
    "# clf = clf.fit(X_train, y_train)\n",
    "# clf.score(X_test, y_test)"
   ]
  },
  {
   "cell_type": "markdown",
   "metadata": {},
   "source": [
    "### Using k-fold cross-validation"
   ]
  },
  {
   "cell_type": "code",
   "execution_count": 23,
   "metadata": {},
   "outputs": [
    {
     "output_type": "stream",
     "name": "stdout",
     "text": [
      "[0.59991424 0.60527444 0.60669097 0.60626206 0.5953249  0.6079777\n 0.60068625 0.61698477 0.60304525 0.60154407]\n"
     ]
    }
   ],
   "source": [
    "# K-fold validation\n",
    "# Build the decision tree first\n",
    "\n",
    "# clf = tree.DecisionTreeClassifier(splitter = \"best\", max_features = \"auto\", max_depth = 6)\n",
    "# clf = tree.DecisionTreeClassifier(splitter = \"best\", criterion = \"entropy\", max_depth = 6)\n",
    "clf = tree.DecisionTreeClassifier(splitter = \"best\", max_depth = 5)\n",
    "\n",
    "import sklearn\n",
    "from sklearn.model_selection import cross_val_score\n",
    "from sklearn import metrics\n",
    "scores = cross_val_score(clf, cleaned_data_wo_outcome, target, cv=10, scoring='accuracy')\n",
    "print(scores)"
   ]
  },
  {
   "cell_type": "code",
   "execution_count": null,
   "metadata": {},
   "outputs": [],
   "source": [
    "# # Fit the model on the test dataset and evaluate the output\n",
    "\n",
    "# from sklearn.ensemble import RandomForestClassifier\n",
    "# rf = RandomForestClassifier(n_estimators=200)\n",
    "# rf = rf.fit(X_train, y_train)\n",
    "# rf.score(X_test, y_test)"
   ]
  },
  {
   "cell_type": "code",
   "execution_count": null,
   "metadata": {},
   "outputs": [],
   "source": [
    "# # Evaluate the features of the model\n",
    "\n",
    "# sorted(zip(rf.feature_importances_, featured_names), reverse=True)"
   ]
  },
  {
   "cell_type": "markdown",
   "metadata": {},
   "source": [
    "### Using logistic regression"
   ]
  },
  {
   "cell_type": "code",
   "execution_count": 56,
   "metadata": {},
   "outputs": [
    {
     "name": "stdout",
     "output_type": "stream",
     "text": [
      "[0.59819897 0.58769297 0.58867682 0.59918507 0.59039245 0.60776324\n",
      " 0.59318036 0.60433198 0.60004289 0.59403817]\n"
     ]
    }
   ],
   "source": [
    "# Using logistic regression and k-fold validation\n",
    "from sklearn.linear_model import LogisticRegression\n",
    "classifier = LogisticRegression()\n",
    "classifier\n",
    "\n",
    "scores = cross_val_score(classifier, cleaned_data_wo_outcome, target, cv=10,scoring='accuracy')\n",
    "print(scores)"
   ]
  },
  {
   "cell_type": "markdown",
   "metadata": {},
   "source": [
    "### Using support vector machine "
   ]
  },
  {
   "cell_type": "code",
   "execution_count": null,
   "metadata": {},
   "outputs": [],
   "source": [
    "# # Support vector machine linear classifier\n",
    "# from sklearn.svm import SVC \n",
    "# model = SVC(kernel='linear')\n",
    "# model.fit(X_train, y_train)"
   ]
  },
  {
   "cell_type": "code",
   "execution_count": null,
   "metadata": {},
   "outputs": [],
   "source": [
    "# # Model Accuracy\n",
    "# print('Test Acc: %.3f' % model.score(X_test, y_test))"
   ]
  },
  {
   "cell_type": "code",
   "execution_count": null,
   "metadata": {},
   "outputs": [],
   "source": [
    "# # Calculate classification report\n",
    "# from sklearn.metrics import classification_report\n",
    "# predictions = model.predict(X_test)\n",
    "# print(classification_report(y_test, predictions,\n",
    "#                             target_names=target_names))"
   ]
  },
  {
   "cell_type": "code",
   "execution_count": null,
   "metadata": {},
   "outputs": [],
   "source": [
    "# from sklearn import tree\n",
    "# import graphviz \n",
    "# dot_data = tree.export_graphviz(clf, out_file=None, \n",
    "#                   feature_names=new_feature_names,  \n",
    "#                       class_names=target_names,  \n",
    "#                       filled=True, rounded=True)  \n",
    "# #                      special_characters=False)\n",
    "\n",
    "# graph = graphviz.Source(dot_data)  \n",
    "# graph "
   ]
  }
 ],
 "metadata": {
  "kernelspec": {
   "name": "python3",
   "display_name": "Python 3"
  },
  "language_info": {
   "codemirror_mode": {
    "name": "ipython",
    "version": 3
   },
   "file_extension": ".py",
   "mimetype": "text/x-python",
   "name": "python",
   "nbconvert_exporter": "python",
   "pygments_lexer": "ipython3",
   "version": "3.7.6-final"
  }
 },
 "nbformat": 4,
 "nbformat_minor": 4
}