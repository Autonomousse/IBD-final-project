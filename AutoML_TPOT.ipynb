{
 "metadata": {
  "language_info": {
   "codemirror_mode": {
    "name": "ipython",
    "version": 3
   },
   "file_extension": ".py",
   "mimetype": "text/x-python",
   "name": "python",
   "nbconvert_exporter": "python",
   "pygments_lexer": "ipython3",
   "version": "3.7.6-final"
  },
  "orig_nbformat": 2,
  "kernelspec": {
   "name": "python3",
   "display_name": "Python 3.7.6 64-bit (conda)",
   "metadata": {
    "interpreter": {
     "hash": "e2914f6819a82eb95cae645e9e39da296ff851cbbfd10e9ee5e2c2401edfc979"
    }
   }
  }
 },
 "nbformat": 4,
 "nbformat_minor": 2,
 "cells": [
  {
   "source": [
    "# Importing and cleaning data"
   ],
   "cell_type": "markdown",
   "metadata": {}
  },
  {
   "cell_type": "code",
   "execution_count": 1,
   "metadata": {},
   "outputs": [],
   "source": [
    "# Import dependencies\n",
    "from sklearn import tree\n",
    "import pandas as pd\n",
    "import numpy as np\n",
    "import os\n",
    "import warnings\n",
    "warnings.filterwarnings(\"ignore\")"
   ]
  },
  {
   "cell_type": "code",
   "execution_count": 2,
   "metadata": {},
   "outputs": [
    {
     "output_type": "execute_result",
     "data": {
      "text/plain": [
       "   index  age  aweekend  died    discwt  dispuniform  dmonth  dqtr  drg  \\\n",
       "0      0   89         1   0.0  1.071937          5.0       3     1  372   \n",
       "1      1   89         1   0.0  1.071937          1.0       6     2  853   \n",
       "2      2   89         0   0.0  1.071937          5.0       9     3  853   \n",
       "3      3   48         0   0.0  3.063669          1.0       6     2  330   \n",
       "4      4   65         0   0.0  1.919980          1.0       5     2  387   \n",
       "\n",
       "   drgver  ...  _Iage_group_1 _Iage_group_2 _Inew_cc_in_1 _Inew_cc_in_2  \\\n",
       "0      30  ...              0             1             0             1   \n",
       "1      30  ...              0             1             0             1   \n",
       "2      30  ...              0             1             1             0   \n",
       "3      30  ...              1             0             0             0   \n",
       "4      30  ...              0             1             0             0   \n",
       "\n",
       "  _Ipayer_2 _Ipayer_3 _Ipayer_4 _Izipinc_qr_2 _Izipinc_qr_3 _Izipinc_qr_4  \n",
       "0       0.0       0.0       0.0           0.0           0.0           1.0  \n",
       "1       0.0       0.0       0.0           0.0           0.0           1.0  \n",
       "2       0.0       0.0       0.0           0.0           0.0           1.0  \n",
       "3       1.0       0.0       0.0           0.0           1.0           0.0  \n",
       "4       0.0       0.0       0.0           1.0           0.0           0.0  \n",
       "\n",
       "[5 rows x 362 columns]"
      ],
      "text/html": "<div>\n<style scoped>\n    .dataframe tbody tr th:only-of-type {\n        vertical-align: middle;\n    }\n\n    .dataframe tbody tr th {\n        vertical-align: top;\n    }\n\n    .dataframe thead th {\n        text-align: right;\n    }\n</style>\n<table border=\"1\" class=\"dataframe\">\n  <thead>\n    <tr style=\"text-align: right;\">\n      <th></th>\n      <th>index</th>\n      <th>age</th>\n      <th>aweekend</th>\n      <th>died</th>\n      <th>discwt</th>\n      <th>dispuniform</th>\n      <th>dmonth</th>\n      <th>dqtr</th>\n      <th>drg</th>\n      <th>drgver</th>\n      <th>...</th>\n      <th>_Iage_group_1</th>\n      <th>_Iage_group_2</th>\n      <th>_Inew_cc_in_1</th>\n      <th>_Inew_cc_in_2</th>\n      <th>_Ipayer_2</th>\n      <th>_Ipayer_3</th>\n      <th>_Ipayer_4</th>\n      <th>_Izipinc_qr_2</th>\n      <th>_Izipinc_qr_3</th>\n      <th>_Izipinc_qr_4</th>\n    </tr>\n  </thead>\n  <tbody>\n    <tr>\n      <th>0</th>\n      <td>0</td>\n      <td>89</td>\n      <td>1</td>\n      <td>0.0</td>\n      <td>1.071937</td>\n      <td>5.0</td>\n      <td>3</td>\n      <td>1</td>\n      <td>372</td>\n      <td>30</td>\n      <td>...</td>\n      <td>0</td>\n      <td>1</td>\n      <td>0</td>\n      <td>1</td>\n      <td>0.0</td>\n      <td>0.0</td>\n      <td>0.0</td>\n      <td>0.0</td>\n      <td>0.0</td>\n      <td>1.0</td>\n    </tr>\n    <tr>\n      <th>1</th>\n      <td>1</td>\n      <td>89</td>\n      <td>1</td>\n      <td>0.0</td>\n      <td>1.071937</td>\n      <td>1.0</td>\n      <td>6</td>\n      <td>2</td>\n      <td>853</td>\n      <td>30</td>\n      <td>...</td>\n      <td>0</td>\n      <td>1</td>\n      <td>0</td>\n      <td>1</td>\n      <td>0.0</td>\n      <td>0.0</td>\n      <td>0.0</td>\n      <td>0.0</td>\n      <td>0.0</td>\n      <td>1.0</td>\n    </tr>\n    <tr>\n      <th>2</th>\n      <td>2</td>\n      <td>89</td>\n      <td>0</td>\n      <td>0.0</td>\n      <td>1.071937</td>\n      <td>5.0</td>\n      <td>9</td>\n      <td>3</td>\n      <td>853</td>\n      <td>30</td>\n      <td>...</td>\n      <td>0</td>\n      <td>1</td>\n      <td>1</td>\n      <td>0</td>\n      <td>0.0</td>\n      <td>0.0</td>\n      <td>0.0</td>\n      <td>0.0</td>\n      <td>0.0</td>\n      <td>1.0</td>\n    </tr>\n    <tr>\n      <th>3</th>\n      <td>3</td>\n      <td>48</td>\n      <td>0</td>\n      <td>0.0</td>\n      <td>3.063669</td>\n      <td>1.0</td>\n      <td>6</td>\n      <td>2</td>\n      <td>330</td>\n      <td>30</td>\n      <td>...</td>\n      <td>1</td>\n      <td>0</td>\n      <td>0</td>\n      <td>0</td>\n      <td>1.0</td>\n      <td>0.0</td>\n      <td>0.0</td>\n      <td>0.0</td>\n      <td>1.0</td>\n      <td>0.0</td>\n    </tr>\n    <tr>\n      <th>4</th>\n      <td>4</td>\n      <td>65</td>\n      <td>0</td>\n      <td>0.0</td>\n      <td>1.919980</td>\n      <td>1.0</td>\n      <td>5</td>\n      <td>2</td>\n      <td>387</td>\n      <td>30</td>\n      <td>...</td>\n      <td>0</td>\n      <td>1</td>\n      <td>0</td>\n      <td>0</td>\n      <td>0.0</td>\n      <td>0.0</td>\n      <td>0.0</td>\n      <td>1.0</td>\n      <td>0.0</td>\n      <td>0.0</td>\n    </tr>\n  </tbody>\n</table>\n<p>5 rows × 362 columns</p>\n</div>"
     },
     "metadata": {},
     "execution_count": 2
    }
   ],
   "source": [
    "# path = '/Users/aqian/Downloads/'\n",
    "# #path = 'M:/Edmund'\n",
    "# os.chdir(path)\n",
    "df = pd.read_csv(\"../../NRD 2013 (machine learning).csv\")\n",
    "df.head()"
   ]
  },
  {
   "cell_type": "code",
   "execution_count": 3,
   "metadata": {},
   "outputs": [
    {
     "output_type": "stream",
     "name": "stdout",
     "text": [
      "['index' 'age' 'aweekend' 'died' 'discwt' 'dispuniform' 'dmonth' 'dqtr'\n 'drg' 'drgver' 'drg_nopoa' 'dx1' 'dx2' 'dx3' 'dx4' 'dx5' 'dx6' 'dx7'\n 'dx8' 'dx9' 'dx10' 'dx11' 'dx12' 'dx13' 'dx14' 'dx15' 'dx16' 'dx17'\n 'dx18' 'dx19' 'dx20' 'dx21' 'dx22' 'dx23' 'dx24' 'dx25' 'dxccs1' 'dxccs2'\n 'dxccs3' 'dxccs4' 'dxccs5' 'dxccs6' 'dxccs7' 'dxccs8' 'dxccs9' 'dxccs10'\n 'dxccs11' 'dxccs12' 'dxccs13' 'dxccs14' 'dxccs15' 'dxccs16' 'dxccs17'\n 'dxccs18' 'dxccs19' 'dxccs20' 'dxccs21' 'dxccs22' 'dxccs23' 'dxccs24'\n 'dxccs25' 'elective' 'female' 'hcup_ed' 'hosp_nrd' 'key_nrd' 'los' 'mdc'\n 'mdc_nopoa' 'nchronic' 'ndx' 'necode' 'npr' 'nrd_daystoevent'\n 'nrd_stratum' 'nrd_visitlink' 'orproc' 'pay1' 'pl_nchs' 'pr1' 'pr2' 'pr3'\n 'pr4' 'pr5' 'pr6' 'pr7' 'pr8' 'pr9' 'pr10' 'pr11' 'pr12' 'pr13' 'pr14'\n 'pr15' 'prccs1' 'prccs2' 'prccs3' 'prccs4' 'prccs5' 'prccs6' 'prccs7'\n 'prccs8' 'prccs9' 'prccs10' 'prccs11' 'prccs12' 'prccs13' 'prccs14'\n 'prccs15' 'rehabtransfer' 'resident' 'samedayevent' 'totchg' 'year'\n 'zipinc_qrtl' 'aprdrg' 'aprdrg_risk_mortality' 'aprdrg_severity'\n 'cm_aids' 'cm_alcohol' 'cm_anemdef' 'cm_arth' 'cm_bldloss' 'cm_chf'\n 'cm_chrnlung' 'cm_coag' 'cm_depress' 'cm_dm' 'cm_dmcx' 'cm_drug'\n 'cm_htn_c' 'cm_hypothy' 'cm_liver' 'cm_lymph' 'cm_lytes' 'cm_mets'\n 'cm_neuro' 'cm_obese' 'cm_para' 'cm_perivasc' 'cm_psych' 'cm_pulmcirc'\n 'cm_renlfail' 'cm_tumor' 'cm_ulcer' 'cm_valve' 'cm_wghtloss' 'diabetes'\n 'copd' 'cm_smoking' 'ibd_dx_index' 'crohn_index' 'hosp_bedsize'\n 'h_contrl' 'hosp_urcat4' 'hosp_ur_teach' 'n_disc_u' 'n_hosp_u' 's_disc_u'\n 's_hosp_u' 'total_disc' 'hosp_urban_rural_location' 'payer' 'ccr_nrd'\n 'wageindex' '_merge' 'inpt_charges' 'ibd' 'ibd_flag' 'total_adm_num'\n 'ibd_adm_num' 'ibd_adm_total' 'ibd_index_hosp' 'ibd_index_six_months'\n 'ibd_index_death' 'ibd_index_after_june' 'ibd_index_flag_exclude'\n 'ibd_min_dmonth' 'ibd_total_los' 'dmonth_dead' 'dmonth_dead_fu'\n 'ibd_fu_v1' 'ibd_fu_v2' 'ibd_alive_fu' 'before_ibd_index_adm'\n 'total_before_ibd_index' 'before_ibd_index' 'ibdtotaladm_from_index'\n 'ibdtotlos_alive_fu' 'ibdtotadm_alive_fu' 'ibd_total_charges'\n 'ibdtotcharges_alive_fu' 'age_group' 'young_quintile'\n 'young_quintile_flag' 'sum_young' 'middle_quintile'\n 'middle_quintile_flag' 'sum_middle' 'old_quintile' 'old_quintile_flag'\n 'sum_old' 'ibd_young_quartile' 'ibd_middle_quartile' 'ibd_old_quartile'\n 'tot_ibd_death' 'gi_or_hepatic_proc_index' 'blood_transfusion'\n 'parenteral_or_enteral_index' 'ibd_procedures' 'tot_gi_or_hepatic_proc'\n 'max_nrd_daystoevent' 'ibd_max_daystoevent' 'ibd_readm' 'ibd_tot_readm'\n 'ibd_net_readm' 'ibd_colostomy_adm' 'tot_colostomy_adm'\n 'ibd_ileostomy_adm' 'tot_ileoostomy_adm' 'ibd_smallbowelresect_adm'\n 'tot_smallbowelresect_adm' 'ibd_colonresect_adm' 'tot_colonresect_adm'\n 'ibd_localexcise_adm' 'tot_localexcise_adm' 'ibd_exlap_adm'\n 'tot_exlap_adm' 'ibd_lysis_adm' 'tot_lysis_adm' 'tot_blood_transfusion'\n 'tot_parenteral_or_enteral' 'tot_ibd_procedures' 'cc_mi' 'cc_chf'\n 'cc_pervasc' 'cc_cvd' 'cc_dementia' 'cc_pulm' 'cc_rheumatic' 'cc_pud'\n 'cc_mild_liver' 'cc_dm_wocomp' 'cc_dm_w_comp' 'cc_hemi_or_para'\n 'cc_renal' 'cc_malignancy' 'cc_mod_severe_liver' 'cc_met_solidtumor'\n 'cc_aids_hiv' 'cc_index' 'new_cc_index' 'fractures' 'thromboses'\n 'tot_thromboses' 'unplanned_adm' 'tot_unplanned' 'pq1_dm_short'\n 'pq2_perf_appendix' 'pq3_dm_long' 'pq5_copd_asthma' 'pq7_htn' 'cardiac'\n 'pq8_chf' 'pq10_dehydrate' 'pq11_bacterialpna' 'pq12_uti' 'pq13_angina'\n 'pq14_diabeteswocomp' 'pq15_asthma' 'pq16_dm_amputate' 'dm'\n 'top_quintile_flag' 'ibd_young_quintile' 'ibd_middle_quintile'\n 'ibd_old_quintile' 'dibd_young_quintile' 'dibd_middle_quintile'\n 'dibd_old_quintile' 'top_ibd' 'top_decile_ibd' 'new_mi_adm' 'new_chf_adm'\n 'new_unstableangina_adm' 'new_arrhythmia_adm' 'new_cardiacarrest_adm'\n 'new_meningitis_adm' 'new_encephalitis_adm' 'new_endocarditis_adm'\n 'new_pneumonia_adm' 'new_pyelonephritis_adm' 'new_osteo_adm'\n 'new_septicemia_adm' 'new_cdiff_adm' 'new_tb_adm' 'new_atypicalmyco_adm'\n 'new_fungal_adm' 'new_listeriosis_adm' 'new_leishmaniasis_adm'\n 'new_pcp_adm' 'chronic_pain' 'ibd_surgery_adm' 'tot_surgery_adm'\n 'tot_pq1' 'tot_pq2' 'tot_pq3' 'frailty_risk_score'\n 'frailty_risk_category' 'frailty_risk_category_index' 'prevent_readm'\n 'tot_prevent_readm' 'cardiac_adm' 'cvd_adm' 'resp_adm' 'infxn_adm'\n 'gu_adm' 'gi_adm' 'endo_adm' 'neuro_adm' 'malignancies_adm'\n 'fracture_adm' 'thrombosis_adm' 'ibd_specific_adm' 'others_adm'\n 'ibd_index_discharge_date' 'readmission_time' 'was_readmitted'\n 'died_in_sixmo' 'did_die_in_sixmo' 'unplanned_in_sixmo'\n 'did_unplanned_in_sixmo' 'prevent_in_sixmo' 'did_prevent_in_sixmo'\n 'proc_in_sixmo' 'did_proc_in_sixmo' 'surgery_in_sixmo'\n 'did_surgery_in_sixmo' 'survtime' 'censor_readm' 'death_time'\n 'censor_death' 'surgtime' 'censor_surg' 'severe_IBD_hospitalization'\n 'severetime' 'censor_severe' 'severe_in_sixmo' 'did_severe_in_sixmo'\n '_st' '_d' '_t' '_t0' '_Iage_group_1' '_Iage_group_2' '_Inew_cc_in_1'\n '_Inew_cc_in_2' '_Ipayer_2' '_Ipayer_3' '_Ipayer_4' '_Izipinc_qr_2'\n '_Izipinc_qr_3' '_Izipinc_qr_4']\n"
     ]
    }
   ],
   "source": [
    "# List all of the column names\n",
    "print(df.columns.values)"
   ]
  },
  {
   "cell_type": "code",
   "execution_count": 4,
   "metadata": {},
   "outputs": [
    {
     "output_type": "execute_result",
     "data": {
      "text/plain": [
       "0        0\n",
       "1        0\n",
       "2        0\n",
       "3        1\n",
       "4        1\n",
       "        ..\n",
       "94493    1\n",
       "94494    0\n",
       "94495    0\n",
       "94496    0\n",
       "94497    1\n",
       "Name: ibd_specific_adm, Length: 94498, dtype: int64"
      ]
     },
     "metadata": {},
     "execution_count": 4
    }
   ],
   "source": [
    "df['ibd_specific_adm']"
   ]
  },
  {
   "cell_type": "code",
   "execution_count": 5,
   "metadata": {},
   "outputs": [
    {
     "output_type": "execute_result",
     "data": {
      "text/plain": [
       "   index  age  aweekend  died    discwt  dispuniform  dmonth  dqtr  drg  \\\n",
       "0      0   89         1   0.0  1.071937          5.0       3     1  372   \n",
       "1      1   89         1   0.0  1.071937          1.0       6     2  853   \n",
       "2      2   89         0   0.0  1.071937          5.0       9     3  853   \n",
       "3      3   48         0   0.0  3.063669          1.0       6     2  330   \n",
       "4      4   65         0   0.0  1.919980          1.0       5     2  387   \n",
       "\n",
       "   drgver  ...  _Iage_group_1 _Iage_group_2 _Inew_cc_in_1 _Inew_cc_in_2  \\\n",
       "0      30  ...              0             1             0             1   \n",
       "1      30  ...              0             1             0             1   \n",
       "2      30  ...              0             1             1             0   \n",
       "3      30  ...              1             0             0             0   \n",
       "4      30  ...              0             1             0             0   \n",
       "\n",
       "  _Ipayer_2 _Ipayer_3 _Ipayer_4 _Izipinc_qr_2 _Izipinc_qr_3 _Izipinc_qr_4  \n",
       "0       0.0       0.0       0.0           0.0           0.0           1.0  \n",
       "1       0.0       0.0       0.0           0.0           0.0           1.0  \n",
       "2       0.0       0.0       0.0           0.0           0.0           1.0  \n",
       "3       1.0       0.0       0.0           0.0           1.0           0.0  \n",
       "4       0.0       0.0       0.0           1.0           0.0           0.0  \n",
       "\n",
       "[5 rows x 362 columns]"
      ],
      "text/html": "<div>\n<style scoped>\n    .dataframe tbody tr th:only-of-type {\n        vertical-align: middle;\n    }\n\n    .dataframe tbody tr th {\n        vertical-align: top;\n    }\n\n    .dataframe thead th {\n        text-align: right;\n    }\n</style>\n<table border=\"1\" class=\"dataframe\">\n  <thead>\n    <tr style=\"text-align: right;\">\n      <th></th>\n      <th>index</th>\n      <th>age</th>\n      <th>aweekend</th>\n      <th>died</th>\n      <th>discwt</th>\n      <th>dispuniform</th>\n      <th>dmonth</th>\n      <th>dqtr</th>\n      <th>drg</th>\n      <th>drgver</th>\n      <th>...</th>\n      <th>_Iage_group_1</th>\n      <th>_Iage_group_2</th>\n      <th>_Inew_cc_in_1</th>\n      <th>_Inew_cc_in_2</th>\n      <th>_Ipayer_2</th>\n      <th>_Ipayer_3</th>\n      <th>_Ipayer_4</th>\n      <th>_Izipinc_qr_2</th>\n      <th>_Izipinc_qr_3</th>\n      <th>_Izipinc_qr_4</th>\n    </tr>\n  </thead>\n  <tbody>\n    <tr>\n      <th>0</th>\n      <td>0</td>\n      <td>89</td>\n      <td>1</td>\n      <td>0.0</td>\n      <td>1.071937</td>\n      <td>5.0</td>\n      <td>3</td>\n      <td>1</td>\n      <td>372</td>\n      <td>30</td>\n      <td>...</td>\n      <td>0</td>\n      <td>1</td>\n      <td>0</td>\n      <td>1</td>\n      <td>0.0</td>\n      <td>0.0</td>\n      <td>0.0</td>\n      <td>0.0</td>\n      <td>0.0</td>\n      <td>1.0</td>\n    </tr>\n    <tr>\n      <th>1</th>\n      <td>1</td>\n      <td>89</td>\n      <td>1</td>\n      <td>0.0</td>\n      <td>1.071937</td>\n      <td>1.0</td>\n      <td>6</td>\n      <td>2</td>\n      <td>853</td>\n      <td>30</td>\n      <td>...</td>\n      <td>0</td>\n      <td>1</td>\n      <td>0</td>\n      <td>1</td>\n      <td>0.0</td>\n      <td>0.0</td>\n      <td>0.0</td>\n      <td>0.0</td>\n      <td>0.0</td>\n      <td>1.0</td>\n    </tr>\n    <tr>\n      <th>2</th>\n      <td>2</td>\n      <td>89</td>\n      <td>0</td>\n      <td>0.0</td>\n      <td>1.071937</td>\n      <td>5.0</td>\n      <td>9</td>\n      <td>3</td>\n      <td>853</td>\n      <td>30</td>\n      <td>...</td>\n      <td>0</td>\n      <td>1</td>\n      <td>1</td>\n      <td>0</td>\n      <td>0.0</td>\n      <td>0.0</td>\n      <td>0.0</td>\n      <td>0.0</td>\n      <td>0.0</td>\n      <td>1.0</td>\n    </tr>\n    <tr>\n      <th>3</th>\n      <td>3</td>\n      <td>48</td>\n      <td>0</td>\n      <td>0.0</td>\n      <td>3.063669</td>\n      <td>1.0</td>\n      <td>6</td>\n      <td>2</td>\n      <td>330</td>\n      <td>30</td>\n      <td>...</td>\n      <td>1</td>\n      <td>0</td>\n      <td>0</td>\n      <td>0</td>\n      <td>1.0</td>\n      <td>0.0</td>\n      <td>0.0</td>\n      <td>0.0</td>\n      <td>1.0</td>\n      <td>0.0</td>\n    </tr>\n    <tr>\n      <th>4</th>\n      <td>4</td>\n      <td>65</td>\n      <td>0</td>\n      <td>0.0</td>\n      <td>1.919980</td>\n      <td>1.0</td>\n      <td>5</td>\n      <td>2</td>\n      <td>387</td>\n      <td>30</td>\n      <td>...</td>\n      <td>0</td>\n      <td>1</td>\n      <td>0</td>\n      <td>0</td>\n      <td>0.0</td>\n      <td>0.0</td>\n      <td>0.0</td>\n      <td>1.0</td>\n      <td>0.0</td>\n      <td>0.0</td>\n    </tr>\n  </tbody>\n</table>\n<p>5 rows × 362 columns</p>\n</div>"
     },
     "metadata": {},
     "execution_count": 5
    }
   ],
   "source": [
    "# Check the top 5 rows\n",
    "df.head() "
   ]
  },
  {
   "cell_type": "code",
   "execution_count": 6,
   "metadata": {},
   "outputs": [
    {
     "output_type": "execute_result",
     "data": {
      "text/plain": [
       "   index  age  aweekend  died    discwt  dispuniform  dmonth  dqtr  drg  \\\n",
       "0      0   89         1   0.0  1.071937          5.0       3     1  372   \n",
       "1      1   89         1   0.0  1.071937          1.0       6     2  853   \n",
       "2      2   89         0   0.0  1.071937          5.0       9     3  853   \n",
       "3      3   48         0   0.0  3.063669          1.0       6     2  330   \n",
       "4      4   65         0   0.0  1.919980          1.0       5     2  387   \n",
       "\n",
       "   drgver  ...  _Iage_group_1 _Iage_group_2 _Inew_cc_in_1 _Inew_cc_in_2  \\\n",
       "0      30  ...              0             1             0             1   \n",
       "1      30  ...              0             1             0             1   \n",
       "2      30  ...              0             1             1             0   \n",
       "3      30  ...              1             0             0             0   \n",
       "4      30  ...              0             1             0             0   \n",
       "\n",
       "  _Ipayer_2 _Ipayer_3 _Ipayer_4 _Izipinc_qr_2 _Izipinc_qr_3 _Izipinc_qr_4  \n",
       "0       0.0       0.0       0.0           0.0           0.0           1.0  \n",
       "1       0.0       0.0       0.0           0.0           0.0           1.0  \n",
       "2       0.0       0.0       0.0           0.0           0.0           1.0  \n",
       "3       1.0       0.0       0.0           0.0           1.0           0.0  \n",
       "4       0.0       0.0       0.0           1.0           0.0           0.0  \n",
       "\n",
       "[5 rows x 362 columns]"
      ],
      "text/html": "<div>\n<style scoped>\n    .dataframe tbody tr th:only-of-type {\n        vertical-align: middle;\n    }\n\n    .dataframe tbody tr th {\n        vertical-align: top;\n    }\n\n    .dataframe thead th {\n        text-align: right;\n    }\n</style>\n<table border=\"1\" class=\"dataframe\">\n  <thead>\n    <tr style=\"text-align: right;\">\n      <th></th>\n      <th>index</th>\n      <th>age</th>\n      <th>aweekend</th>\n      <th>died</th>\n      <th>discwt</th>\n      <th>dispuniform</th>\n      <th>dmonth</th>\n      <th>dqtr</th>\n      <th>drg</th>\n      <th>drgver</th>\n      <th>...</th>\n      <th>_Iage_group_1</th>\n      <th>_Iage_group_2</th>\n      <th>_Inew_cc_in_1</th>\n      <th>_Inew_cc_in_2</th>\n      <th>_Ipayer_2</th>\n      <th>_Ipayer_3</th>\n      <th>_Ipayer_4</th>\n      <th>_Izipinc_qr_2</th>\n      <th>_Izipinc_qr_3</th>\n      <th>_Izipinc_qr_4</th>\n    </tr>\n  </thead>\n  <tbody>\n    <tr>\n      <th>0</th>\n      <td>0</td>\n      <td>89</td>\n      <td>1</td>\n      <td>0.0</td>\n      <td>1.071937</td>\n      <td>5.0</td>\n      <td>3</td>\n      <td>1</td>\n      <td>372</td>\n      <td>30</td>\n      <td>...</td>\n      <td>0</td>\n      <td>1</td>\n      <td>0</td>\n      <td>1</td>\n      <td>0.0</td>\n      <td>0.0</td>\n      <td>0.0</td>\n      <td>0.0</td>\n      <td>0.0</td>\n      <td>1.0</td>\n    </tr>\n    <tr>\n      <th>1</th>\n      <td>1</td>\n      <td>89</td>\n      <td>1</td>\n      <td>0.0</td>\n      <td>1.071937</td>\n      <td>1.0</td>\n      <td>6</td>\n      <td>2</td>\n      <td>853</td>\n      <td>30</td>\n      <td>...</td>\n      <td>0</td>\n      <td>1</td>\n      <td>0</td>\n      <td>1</td>\n      <td>0.0</td>\n      <td>0.0</td>\n      <td>0.0</td>\n      <td>0.0</td>\n      <td>0.0</td>\n      <td>1.0</td>\n    </tr>\n    <tr>\n      <th>2</th>\n      <td>2</td>\n      <td>89</td>\n      <td>0</td>\n      <td>0.0</td>\n      <td>1.071937</td>\n      <td>5.0</td>\n      <td>9</td>\n      <td>3</td>\n      <td>853</td>\n      <td>30</td>\n      <td>...</td>\n      <td>0</td>\n      <td>1</td>\n      <td>1</td>\n      <td>0</td>\n      <td>0.0</td>\n      <td>0.0</td>\n      <td>0.0</td>\n      <td>0.0</td>\n      <td>0.0</td>\n      <td>1.0</td>\n    </tr>\n    <tr>\n      <th>3</th>\n      <td>3</td>\n      <td>48</td>\n      <td>0</td>\n      <td>0.0</td>\n      <td>3.063669</td>\n      <td>1.0</td>\n      <td>6</td>\n      <td>2</td>\n      <td>330</td>\n      <td>30</td>\n      <td>...</td>\n      <td>1</td>\n      <td>0</td>\n      <td>0</td>\n      <td>0</td>\n      <td>1.0</td>\n      <td>0.0</td>\n      <td>0.0</td>\n      <td>0.0</td>\n      <td>1.0</td>\n      <td>0.0</td>\n    </tr>\n    <tr>\n      <th>4</th>\n      <td>4</td>\n      <td>65</td>\n      <td>0</td>\n      <td>0.0</td>\n      <td>1.919980</td>\n      <td>1.0</td>\n      <td>5</td>\n      <td>2</td>\n      <td>387</td>\n      <td>30</td>\n      <td>...</td>\n      <td>0</td>\n      <td>1</td>\n      <td>0</td>\n      <td>0</td>\n      <td>0.0</td>\n      <td>0.0</td>\n      <td>0.0</td>\n      <td>1.0</td>\n      <td>0.0</td>\n      <td>0.0</td>\n    </tr>\n  </tbody>\n</table>\n<p>5 rows × 362 columns</p>\n</div>"
     },
     "metadata": {},
     "execution_count": 6
    }
   ],
   "source": [
    "# Make a copy of the dataframe\n",
    "df_copy = df.copy()\n",
    "df_copy.head()"
   ]
  },
  {
   "cell_type": "code",
   "execution_count": 7,
   "metadata": {},
   "outputs": [
    {
     "output_type": "execute_result",
     "data": {
      "text/plain": [
       "       index  age  aweekend  died    discwt  dispuniform  dmonth  dqtr  drg  \\\n",
       "94493  94493   44         0   0.0  1.669010          6.0       6     2  331   \n",
       "94494  94494   44         0   0.0  1.669010          1.0       8     3  346   \n",
       "94495  94495   44         0   0.0  1.669010          1.0       8     3  393   \n",
       "94496  94496   52         0   0.0  1.863343          1.0       2     1  472   \n",
       "94497  94497   72         1   0.0  1.771707          1.0       2     1  385   \n",
       "\n",
       "       drgver  ...  _Iage_group_1 _Iage_group_2 _Inew_cc_in_1 _Inew_cc_in_2  \\\n",
       "94493      30  ...              1             0             0             0   \n",
       "94494      30  ...              1             0             0             0   \n",
       "94495      30  ...              1             0             0             0   \n",
       "94496      30  ...              1             0             0             1   \n",
       "94497      30  ...              0             1             1             0   \n",
       "\n",
       "      _Ipayer_2 _Ipayer_3 _Ipayer_4 _Izipinc_qr_2 _Izipinc_qr_3 _Izipinc_qr_4  \n",
       "94493       1.0       0.0       0.0           0.0           0.0           1.0  \n",
       "94494       1.0       0.0       0.0           0.0           0.0           1.0  \n",
       "94495       1.0       0.0       0.0           0.0           0.0           1.0  \n",
       "94496       0.0       0.0       0.0           0.0           0.0           0.0  \n",
       "94497       0.0       0.0       0.0           1.0           0.0           0.0  \n",
       "\n",
       "[5 rows x 362 columns]"
      ],
      "text/html": "<div>\n<style scoped>\n    .dataframe tbody tr th:only-of-type {\n        vertical-align: middle;\n    }\n\n    .dataframe tbody tr th {\n        vertical-align: top;\n    }\n\n    .dataframe thead th {\n        text-align: right;\n    }\n</style>\n<table border=\"1\" class=\"dataframe\">\n  <thead>\n    <tr style=\"text-align: right;\">\n      <th></th>\n      <th>index</th>\n      <th>age</th>\n      <th>aweekend</th>\n      <th>died</th>\n      <th>discwt</th>\n      <th>dispuniform</th>\n      <th>dmonth</th>\n      <th>dqtr</th>\n      <th>drg</th>\n      <th>drgver</th>\n      <th>...</th>\n      <th>_Iage_group_1</th>\n      <th>_Iage_group_2</th>\n      <th>_Inew_cc_in_1</th>\n      <th>_Inew_cc_in_2</th>\n      <th>_Ipayer_2</th>\n      <th>_Ipayer_3</th>\n      <th>_Ipayer_4</th>\n      <th>_Izipinc_qr_2</th>\n      <th>_Izipinc_qr_3</th>\n      <th>_Izipinc_qr_4</th>\n    </tr>\n  </thead>\n  <tbody>\n    <tr>\n      <th>94493</th>\n      <td>94493</td>\n      <td>44</td>\n      <td>0</td>\n      <td>0.0</td>\n      <td>1.669010</td>\n      <td>6.0</td>\n      <td>6</td>\n      <td>2</td>\n      <td>331</td>\n      <td>30</td>\n      <td>...</td>\n      <td>1</td>\n      <td>0</td>\n      <td>0</td>\n      <td>0</td>\n      <td>1.0</td>\n      <td>0.0</td>\n      <td>0.0</td>\n      <td>0.0</td>\n      <td>0.0</td>\n      <td>1.0</td>\n    </tr>\n    <tr>\n      <th>94494</th>\n      <td>94494</td>\n      <td>44</td>\n      <td>0</td>\n      <td>0.0</td>\n      <td>1.669010</td>\n      <td>1.0</td>\n      <td>8</td>\n      <td>3</td>\n      <td>346</td>\n      <td>30</td>\n      <td>...</td>\n      <td>1</td>\n      <td>0</td>\n      <td>0</td>\n      <td>0</td>\n      <td>1.0</td>\n      <td>0.0</td>\n      <td>0.0</td>\n      <td>0.0</td>\n      <td>0.0</td>\n      <td>1.0</td>\n    </tr>\n    <tr>\n      <th>94495</th>\n      <td>94495</td>\n      <td>44</td>\n      <td>0</td>\n      <td>0.0</td>\n      <td>1.669010</td>\n      <td>1.0</td>\n      <td>8</td>\n      <td>3</td>\n      <td>393</td>\n      <td>30</td>\n      <td>...</td>\n      <td>1</td>\n      <td>0</td>\n      <td>0</td>\n      <td>0</td>\n      <td>1.0</td>\n      <td>0.0</td>\n      <td>0.0</td>\n      <td>0.0</td>\n      <td>0.0</td>\n      <td>1.0</td>\n    </tr>\n    <tr>\n      <th>94496</th>\n      <td>94496</td>\n      <td>52</td>\n      <td>0</td>\n      <td>0.0</td>\n      <td>1.863343</td>\n      <td>1.0</td>\n      <td>2</td>\n      <td>1</td>\n      <td>472</td>\n      <td>30</td>\n      <td>...</td>\n      <td>1</td>\n      <td>0</td>\n      <td>0</td>\n      <td>1</td>\n      <td>0.0</td>\n      <td>0.0</td>\n      <td>0.0</td>\n      <td>0.0</td>\n      <td>0.0</td>\n      <td>0.0</td>\n    </tr>\n    <tr>\n      <th>94497</th>\n      <td>94497</td>\n      <td>72</td>\n      <td>1</td>\n      <td>0.0</td>\n      <td>1.771707</td>\n      <td>1.0</td>\n      <td>2</td>\n      <td>1</td>\n      <td>385</td>\n      <td>30</td>\n      <td>...</td>\n      <td>0</td>\n      <td>1</td>\n      <td>1</td>\n      <td>0</td>\n      <td>0.0</td>\n      <td>0.0</td>\n      <td>0.0</td>\n      <td>1.0</td>\n      <td>0.0</td>\n      <td>0.0</td>\n    </tr>\n  </tbody>\n</table>\n<p>5 rows × 362 columns</p>\n</div>"
     },
     "metadata": {},
     "execution_count": 7
    }
   ],
   "source": [
    "# Check the back end of the data\n",
    "df_copy.tail()"
   ]
  },
  {
   "cell_type": "code",
   "execution_count": 8,
   "metadata": {},
   "outputs": [
    {
     "output_type": "execute_result",
     "data": {
      "text/plain": [
       "  nrd_visitlink  ibd_index_hosp    dx1  new_mi_adm  ibd_readm\n",
       "0        00017u               1  00845           0          0\n",
       "1        00017u               0   0389           0          1\n",
       "2        00017u               0  03842           0          1\n",
       "3        0004o5               1   5559           0          0\n",
       "4        000dbz               1   5559           0          0"
      ],
      "text/html": "<div>\n<style scoped>\n    .dataframe tbody tr th:only-of-type {\n        vertical-align: middle;\n    }\n\n    .dataframe tbody tr th {\n        vertical-align: top;\n    }\n\n    .dataframe thead th {\n        text-align: right;\n    }\n</style>\n<table border=\"1\" class=\"dataframe\">\n  <thead>\n    <tr style=\"text-align: right;\">\n      <th></th>\n      <th>nrd_visitlink</th>\n      <th>ibd_index_hosp</th>\n      <th>dx1</th>\n      <th>new_mi_adm</th>\n      <th>ibd_readm</th>\n    </tr>\n  </thead>\n  <tbody>\n    <tr>\n      <th>0</th>\n      <td>00017u</td>\n      <td>1</td>\n      <td>00845</td>\n      <td>0</td>\n      <td>0</td>\n    </tr>\n    <tr>\n      <th>1</th>\n      <td>00017u</td>\n      <td>0</td>\n      <td>0389</td>\n      <td>0</td>\n      <td>1</td>\n    </tr>\n    <tr>\n      <th>2</th>\n      <td>00017u</td>\n      <td>0</td>\n      <td>03842</td>\n      <td>0</td>\n      <td>1</td>\n    </tr>\n    <tr>\n      <th>3</th>\n      <td>0004o5</td>\n      <td>1</td>\n      <td>5559</td>\n      <td>0</td>\n      <td>0</td>\n    </tr>\n    <tr>\n      <th>4</th>\n      <td>000dbz</td>\n      <td>1</td>\n      <td>5559</td>\n      <td>0</td>\n      <td>0</td>\n    </tr>\n  </tbody>\n</table>\n</div>"
     },
     "metadata": {},
     "execution_count": 8
    }
   ],
   "source": [
    "# Check the data \n",
    "# Looks like the ibd_readm variables contains \"NA\" values\n",
    "\n",
    "df_copy[['nrd_visitlink','ibd_index_hosp', 'dx1', 'new_mi_adm', 'ibd_readm']].head()"
   ]
  },
  {
   "cell_type": "code",
   "execution_count": 9,
   "metadata": {},
   "outputs": [
    {
     "output_type": "execute_result",
     "data": {
      "text/plain": [
       "   nrd_visitlink  ibd_index_hosp ibd_readm\n",
       "0         00017u               1         1\n",
       "1         00017u               0         1\n",
       "2         00017u               0         1\n",
       "3         0004o5               1         0\n",
       "4         000dbz               1         1\n",
       "5         000dbz               0         1\n",
       "6         000dbz               0         1\n",
       "7         000dbz               0         1\n",
       "8         000dbz               0         1\n",
       "9         000mgu               1         0\n",
       "10        0018do               1         0\n",
       "11        001nun               1         1\n",
       "12        001nun               0         1\n",
       "13        001nun               0         1\n",
       "14        001nun               0         1"
      ],
      "text/html": "<div>\n<style scoped>\n    .dataframe tbody tr th:only-of-type {\n        vertical-align: middle;\n    }\n\n    .dataframe tbody tr th {\n        vertical-align: top;\n    }\n\n    .dataframe thead th {\n        text-align: right;\n    }\n</style>\n<table border=\"1\" class=\"dataframe\">\n  <thead>\n    <tr style=\"text-align: right;\">\n      <th></th>\n      <th>nrd_visitlink</th>\n      <th>ibd_index_hosp</th>\n      <th>ibd_readm</th>\n    </tr>\n  </thead>\n  <tbody>\n    <tr>\n      <th>0</th>\n      <td>00017u</td>\n      <td>1</td>\n      <td>1</td>\n    </tr>\n    <tr>\n      <th>1</th>\n      <td>00017u</td>\n      <td>0</td>\n      <td>1</td>\n    </tr>\n    <tr>\n      <th>2</th>\n      <td>00017u</td>\n      <td>0</td>\n      <td>1</td>\n    </tr>\n    <tr>\n      <th>3</th>\n      <td>0004o5</td>\n      <td>1</td>\n      <td>0</td>\n    </tr>\n    <tr>\n      <th>4</th>\n      <td>000dbz</td>\n      <td>1</td>\n      <td>1</td>\n    </tr>\n    <tr>\n      <th>5</th>\n      <td>000dbz</td>\n      <td>0</td>\n      <td>1</td>\n    </tr>\n    <tr>\n      <th>6</th>\n      <td>000dbz</td>\n      <td>0</td>\n      <td>1</td>\n    </tr>\n    <tr>\n      <th>7</th>\n      <td>000dbz</td>\n      <td>0</td>\n      <td>1</td>\n    </tr>\n    <tr>\n      <th>8</th>\n      <td>000dbz</td>\n      <td>0</td>\n      <td>1</td>\n    </tr>\n    <tr>\n      <th>9</th>\n      <td>000mgu</td>\n      <td>1</td>\n      <td>0</td>\n    </tr>\n    <tr>\n      <th>10</th>\n      <td>0018do</td>\n      <td>1</td>\n      <td>0</td>\n    </tr>\n    <tr>\n      <th>11</th>\n      <td>001nun</td>\n      <td>1</td>\n      <td>1</td>\n    </tr>\n    <tr>\n      <th>12</th>\n      <td>001nun</td>\n      <td>0</td>\n      <td>1</td>\n    </tr>\n    <tr>\n      <th>13</th>\n      <td>001nun</td>\n      <td>0</td>\n      <td>1</td>\n    </tr>\n    <tr>\n      <th>14</th>\n      <td>001nun</td>\n      <td>0</td>\n      <td>1</td>\n    </tr>\n  </tbody>\n</table>\n</div>"
     },
     "metadata": {},
     "execution_count": 9
    }
   ],
   "source": [
    "# Recoding the ibd_readm outcome variable\n",
    "readm_set = set()\n",
    "for index, row in df_copy[['nrd_visitlink','ibd_readm']].iterrows():\n",
    "    if row[1] == 1:\n",
    "        readm_set.add(row[0])\n",
    "        \n",
    "readm_list = list(readm_set)\n",
    "\n",
    "df_copy.loc[df_copy.nrd_visitlink.isin(readm_list), 'ibd_readm'] = '1'\n",
    "df_copy[['nrd_visitlink','ibd_index_hosp', 'ibd_readm']].head(15)"
   ]
  },
  {
   "cell_type": "code",
   "execution_count": 10,
   "metadata": {},
   "outputs": [
    {
     "output_type": "execute_result",
     "data": {
      "text/plain": [
       "   nrd_visitlink  pay1  ibd_index_hosp ibd_readm\n",
       "0         00017u   1.0               1         1\n",
       "1         00017u   1.0               0         1\n",
       "2         00017u   1.0               0         1\n",
       "3         0004o5   3.0               1         0\n",
       "4         000dbz   1.0               1         1\n",
       "5         000dbz   1.0               0         1\n",
       "6         000dbz   1.0               0         1\n",
       "7         000dbz   1.0               0         1\n",
       "8         000dbz   1.0               0         1\n",
       "9         000mgu   3.0               1         0\n",
       "10        0018do   2.0               1         0\n",
       "11        001nun   2.0               1         1\n",
       "12        001nun   2.0               0         1\n",
       "13        001nun   2.0               0         1\n",
       "14        001nun   2.0               0         1"
      ],
      "text/html": "<div>\n<style scoped>\n    .dataframe tbody tr th:only-of-type {\n        vertical-align: middle;\n    }\n\n    .dataframe tbody tr th {\n        vertical-align: top;\n    }\n\n    .dataframe thead th {\n        text-align: right;\n    }\n</style>\n<table border=\"1\" class=\"dataframe\">\n  <thead>\n    <tr style=\"text-align: right;\">\n      <th></th>\n      <th>nrd_visitlink</th>\n      <th>pay1</th>\n      <th>ibd_index_hosp</th>\n      <th>ibd_readm</th>\n    </tr>\n  </thead>\n  <tbody>\n    <tr>\n      <th>0</th>\n      <td>00017u</td>\n      <td>1.0</td>\n      <td>1</td>\n      <td>1</td>\n    </tr>\n    <tr>\n      <th>1</th>\n      <td>00017u</td>\n      <td>1.0</td>\n      <td>0</td>\n      <td>1</td>\n    </tr>\n    <tr>\n      <th>2</th>\n      <td>00017u</td>\n      <td>1.0</td>\n      <td>0</td>\n      <td>1</td>\n    </tr>\n    <tr>\n      <th>3</th>\n      <td>0004o5</td>\n      <td>3.0</td>\n      <td>1</td>\n      <td>0</td>\n    </tr>\n    <tr>\n      <th>4</th>\n      <td>000dbz</td>\n      <td>1.0</td>\n      <td>1</td>\n      <td>1</td>\n    </tr>\n    <tr>\n      <th>5</th>\n      <td>000dbz</td>\n      <td>1.0</td>\n      <td>0</td>\n      <td>1</td>\n    </tr>\n    <tr>\n      <th>6</th>\n      <td>000dbz</td>\n      <td>1.0</td>\n      <td>0</td>\n      <td>1</td>\n    </tr>\n    <tr>\n      <th>7</th>\n      <td>000dbz</td>\n      <td>1.0</td>\n      <td>0</td>\n      <td>1</td>\n    </tr>\n    <tr>\n      <th>8</th>\n      <td>000dbz</td>\n      <td>1.0</td>\n      <td>0</td>\n      <td>1</td>\n    </tr>\n    <tr>\n      <th>9</th>\n      <td>000mgu</td>\n      <td>3.0</td>\n      <td>1</td>\n      <td>0</td>\n    </tr>\n    <tr>\n      <th>10</th>\n      <td>0018do</td>\n      <td>2.0</td>\n      <td>1</td>\n      <td>0</td>\n    </tr>\n    <tr>\n      <th>11</th>\n      <td>001nun</td>\n      <td>2.0</td>\n      <td>1</td>\n      <td>1</td>\n    </tr>\n    <tr>\n      <th>12</th>\n      <td>001nun</td>\n      <td>2.0</td>\n      <td>0</td>\n      <td>1</td>\n    </tr>\n    <tr>\n      <th>13</th>\n      <td>001nun</td>\n      <td>2.0</td>\n      <td>0</td>\n      <td>1</td>\n    </tr>\n    <tr>\n      <th>14</th>\n      <td>001nun</td>\n      <td>2.0</td>\n      <td>0</td>\n      <td>1</td>\n    </tr>\n  </tbody>\n</table>\n</div>"
     },
     "metadata": {},
     "execution_count": 10
    }
   ],
   "source": [
    "df_copy[['nrd_visitlink', 'pay1', 'ibd_index_hosp', 'ibd_readm']].head(15)"
   ]
  },
  {
   "cell_type": "code",
   "execution_count": 11,
   "metadata": {},
   "outputs": [
    {
     "output_type": "execute_result",
     "data": {
      "text/plain": [
       "1    47402\n",
       "0    47096\n",
       "Name: ibd_index_hosp, dtype: int64"
      ]
     },
     "metadata": {},
     "execution_count": 11
    }
   ],
   "source": [
    "# Number of index hospitalizations\n",
    "index_hosp_counts = df_copy['ibd_index_hosp'].value_counts()\n",
    "index_hosp_counts"
   ]
  },
  {
   "cell_type": "code",
   "execution_count": 12,
   "metadata": {},
   "outputs": [
    {
     "output_type": "execute_result",
     "data": {
      "text/plain": [
       "1    64373\n",
       "0    30125\n",
       "Name: ibd_readm, dtype: int64"
      ]
     },
     "metadata": {},
     "execution_count": 12
    }
   ],
   "source": [
    "# Number of readmissions within six months\n",
    "readm_counts = df_copy['ibd_readm'].value_counts()\n",
    "readm_counts"
   ]
  },
  {
   "cell_type": "code",
   "execution_count": 13,
   "metadata": {},
   "outputs": [
    {
     "output_type": "execute_result",
     "data": {
      "text/plain": [
       "47402"
      ]
     },
     "metadata": {},
     "execution_count": 13
    }
   ],
   "source": [
    "# Filter the data so that only patients with an index hospitalizations are in a DataFrame\n",
    "readm_data_df = df_copy.loc[df_copy[\"ibd_index_hosp\"] == 1, :]\n",
    "\n",
    "# Check to ensure the filter worked correctly\n",
    "readm_data_df[\"ibd_index_hosp\"].count()"
   ]
  },
  {
   "cell_type": "code",
   "execution_count": 14,
   "metadata": {},
   "outputs": [
    {
     "output_type": "execute_result",
     "data": {
      "text/plain": [
       "    index  age  aweekend  died    discwt  dispuniform  dmonth  dqtr  drg  \\\n",
       "0       0   89         1   0.0  1.071937          5.0       3     1  372   \n",
       "3       3   48         0   0.0  3.063669          1.0       6     2  330   \n",
       "4       4   65         0   0.0  1.919980          1.0       5     2  387   \n",
       "9       9   51         0   0.0  2.958993          1.0       3     1  354   \n",
       "10     10   22         0   0.0  3.109660          1.0       1     1  330   \n",
       "11     11   33         1   0.0  1.061258          1.0       1     1  313   \n",
       "19     19   84         0   0.0  2.155742          6.0       5     2  690   \n",
       "22     22   62         0   0.0  1.863343          5.0       2     1  853   \n",
       "23     23   40         0   0.0  1.509554          1.0       3     1  389   \n",
       "30     30   68         1   0.0  2.148695          6.0       5     2  854   \n",
       "31     31   25         1   0.0  2.079331          1.0       2     1  385   \n",
       "32     32   82         0   0.0  1.814426          6.0       5     2  247   \n",
       "33     33   68         1   0.0  1.954297          5.0       2     1  557   \n",
       "38     38   60         0   0.0  3.040344          1.0       1     1  385   \n",
       "39     39   40         0   0.0  1.682603          1.0       3     1  385   \n",
       "\n",
       "    drgver  ...  _Iage_group_2 _Inew_cc_in_1 _Inew_cc_in_2 _Ipayer_2  \\\n",
       "0       30  ...              1             0             1       0.0   \n",
       "3       30  ...              0             0             0       1.0   \n",
       "4       30  ...              1             0             0       0.0   \n",
       "9       30  ...              0             0             0       1.0   \n",
       "10      30  ...              0             0             0       0.0   \n",
       "11      30  ...              0             0             0       0.0   \n",
       "19      30  ...              1             0             0       0.0   \n",
       "22      30  ...              0             0             0       0.0   \n",
       "23      30  ...              0             0             0       1.0   \n",
       "30      30  ...              1             0             1       0.0   \n",
       "31      30  ...              0             0             0       0.0   \n",
       "32      30  ...              1             0             1       0.0   \n",
       "33      30  ...              1             0             1       0.0   \n",
       "38      30  ...              0             0             0       1.0   \n",
       "39      30  ...              0             0             0       0.0   \n",
       "\n",
       "   _Ipayer_3 _Ipayer_4 _Izipinc_qr_2 _Izipinc_qr_3 _Izipinc_qr_4 ibd_deciles  \n",
       "0        0.0       0.0           0.0           0.0           1.0           2  \n",
       "3        0.0       0.0           0.0           1.0           0.0           6  \n",
       "4        0.0       0.0           1.0           0.0           0.0           1  \n",
       "9        0.0       0.0           0.0           0.0           1.0           8  \n",
       "10       0.0       0.0           1.0           0.0           0.0           6  \n",
       "11       0.0       0.0           0.0           0.0           0.0           3  \n",
       "19       0.0       0.0           0.0           0.0           1.0           3  \n",
       "22       0.0       0.0           0.0           0.0           0.0           3  \n",
       "23       0.0       0.0           0.0           0.0           1.0           1  \n",
       "30       0.0       0.0           0.0           0.0           1.0           5  \n",
       "31       0.0       1.0           0.0           0.0           0.0           6  \n",
       "32       0.0       0.0           1.0           0.0           0.0           3  \n",
       "33       0.0       0.0           0.0           1.0           0.0           1  \n",
       "38       0.0       0.0           0.0           0.0           1.0           5  \n",
       "39       1.0       0.0           0.0           0.0           1.0           8  \n",
       "\n",
       "[15 rows x 363 columns]"
      ],
      "text/html": "<div>\n<style scoped>\n    .dataframe tbody tr th:only-of-type {\n        vertical-align: middle;\n    }\n\n    .dataframe tbody tr th {\n        vertical-align: top;\n    }\n\n    .dataframe thead th {\n        text-align: right;\n    }\n</style>\n<table border=\"1\" class=\"dataframe\">\n  <thead>\n    <tr style=\"text-align: right;\">\n      <th></th>\n      <th>index</th>\n      <th>age</th>\n      <th>aweekend</th>\n      <th>died</th>\n      <th>discwt</th>\n      <th>dispuniform</th>\n      <th>dmonth</th>\n      <th>dqtr</th>\n      <th>drg</th>\n      <th>drgver</th>\n      <th>...</th>\n      <th>_Iage_group_2</th>\n      <th>_Inew_cc_in_1</th>\n      <th>_Inew_cc_in_2</th>\n      <th>_Ipayer_2</th>\n      <th>_Ipayer_3</th>\n      <th>_Ipayer_4</th>\n      <th>_Izipinc_qr_2</th>\n      <th>_Izipinc_qr_3</th>\n      <th>_Izipinc_qr_4</th>\n      <th>ibd_deciles</th>\n    </tr>\n  </thead>\n  <tbody>\n    <tr>\n      <th>0</th>\n      <td>0</td>\n      <td>89</td>\n      <td>1</td>\n      <td>0.0</td>\n      <td>1.071937</td>\n      <td>5.0</td>\n      <td>3</td>\n      <td>1</td>\n      <td>372</td>\n      <td>30</td>\n      <td>...</td>\n      <td>1</td>\n      <td>0</td>\n      <td>1</td>\n      <td>0.0</td>\n      <td>0.0</td>\n      <td>0.0</td>\n      <td>0.0</td>\n      <td>0.0</td>\n      <td>1.0</td>\n      <td>2</td>\n    </tr>\n    <tr>\n      <th>3</th>\n      <td>3</td>\n      <td>48</td>\n      <td>0</td>\n      <td>0.0</td>\n      <td>3.063669</td>\n      <td>1.0</td>\n      <td>6</td>\n      <td>2</td>\n      <td>330</td>\n      <td>30</td>\n      <td>...</td>\n      <td>0</td>\n      <td>0</td>\n      <td>0</td>\n      <td>1.0</td>\n      <td>0.0</td>\n      <td>0.0</td>\n      <td>0.0</td>\n      <td>1.0</td>\n      <td>0.0</td>\n      <td>6</td>\n    </tr>\n    <tr>\n      <th>4</th>\n      <td>4</td>\n      <td>65</td>\n      <td>0</td>\n      <td>0.0</td>\n      <td>1.919980</td>\n      <td>1.0</td>\n      <td>5</td>\n      <td>2</td>\n      <td>387</td>\n      <td>30</td>\n      <td>...</td>\n      <td>1</td>\n      <td>0</td>\n      <td>0</td>\n      <td>0.0</td>\n      <td>0.0</td>\n      <td>0.0</td>\n      <td>1.0</td>\n      <td>0.0</td>\n      <td>0.0</td>\n      <td>1</td>\n    </tr>\n    <tr>\n      <th>9</th>\n      <td>9</td>\n      <td>51</td>\n      <td>0</td>\n      <td>0.0</td>\n      <td>2.958993</td>\n      <td>1.0</td>\n      <td>3</td>\n      <td>1</td>\n      <td>354</td>\n      <td>30</td>\n      <td>...</td>\n      <td>0</td>\n      <td>0</td>\n      <td>0</td>\n      <td>1.0</td>\n      <td>0.0</td>\n      <td>0.0</td>\n      <td>0.0</td>\n      <td>0.0</td>\n      <td>1.0</td>\n      <td>8</td>\n    </tr>\n    <tr>\n      <th>10</th>\n      <td>10</td>\n      <td>22</td>\n      <td>0</td>\n      <td>0.0</td>\n      <td>3.109660</td>\n      <td>1.0</td>\n      <td>1</td>\n      <td>1</td>\n      <td>330</td>\n      <td>30</td>\n      <td>...</td>\n      <td>0</td>\n      <td>0</td>\n      <td>0</td>\n      <td>0.0</td>\n      <td>0.0</td>\n      <td>0.0</td>\n      <td>1.0</td>\n      <td>0.0</td>\n      <td>0.0</td>\n      <td>6</td>\n    </tr>\n    <tr>\n      <th>11</th>\n      <td>11</td>\n      <td>33</td>\n      <td>1</td>\n      <td>0.0</td>\n      <td>1.061258</td>\n      <td>1.0</td>\n      <td>1</td>\n      <td>1</td>\n      <td>313</td>\n      <td>30</td>\n      <td>...</td>\n      <td>0</td>\n      <td>0</td>\n      <td>0</td>\n      <td>0.0</td>\n      <td>0.0</td>\n      <td>0.0</td>\n      <td>0.0</td>\n      <td>0.0</td>\n      <td>0.0</td>\n      <td>3</td>\n    </tr>\n    <tr>\n      <th>19</th>\n      <td>19</td>\n      <td>84</td>\n      <td>0</td>\n      <td>0.0</td>\n      <td>2.155742</td>\n      <td>6.0</td>\n      <td>5</td>\n      <td>2</td>\n      <td>690</td>\n      <td>30</td>\n      <td>...</td>\n      <td>1</td>\n      <td>0</td>\n      <td>0</td>\n      <td>0.0</td>\n      <td>0.0</td>\n      <td>0.0</td>\n      <td>0.0</td>\n      <td>0.0</td>\n      <td>1.0</td>\n      <td>3</td>\n    </tr>\n    <tr>\n      <th>22</th>\n      <td>22</td>\n      <td>62</td>\n      <td>0</td>\n      <td>0.0</td>\n      <td>1.863343</td>\n      <td>5.0</td>\n      <td>2</td>\n      <td>1</td>\n      <td>853</td>\n      <td>30</td>\n      <td>...</td>\n      <td>0</td>\n      <td>0</td>\n      <td>0</td>\n      <td>0.0</td>\n      <td>0.0</td>\n      <td>0.0</td>\n      <td>0.0</td>\n      <td>0.0</td>\n      <td>0.0</td>\n      <td>3</td>\n    </tr>\n    <tr>\n      <th>23</th>\n      <td>23</td>\n      <td>40</td>\n      <td>0</td>\n      <td>0.0</td>\n      <td>1.509554</td>\n      <td>1.0</td>\n      <td>3</td>\n      <td>1</td>\n      <td>389</td>\n      <td>30</td>\n      <td>...</td>\n      <td>0</td>\n      <td>0</td>\n      <td>0</td>\n      <td>1.0</td>\n      <td>0.0</td>\n      <td>0.0</td>\n      <td>0.0</td>\n      <td>0.0</td>\n      <td>1.0</td>\n      <td>1</td>\n    </tr>\n    <tr>\n      <th>30</th>\n      <td>30</td>\n      <td>68</td>\n      <td>1</td>\n      <td>0.0</td>\n      <td>2.148695</td>\n      <td>6.0</td>\n      <td>5</td>\n      <td>2</td>\n      <td>854</td>\n      <td>30</td>\n      <td>...</td>\n      <td>1</td>\n      <td>0</td>\n      <td>1</td>\n      <td>0.0</td>\n      <td>0.0</td>\n      <td>0.0</td>\n      <td>0.0</td>\n      <td>0.0</td>\n      <td>1.0</td>\n      <td>5</td>\n    </tr>\n    <tr>\n      <th>31</th>\n      <td>31</td>\n      <td>25</td>\n      <td>1</td>\n      <td>0.0</td>\n      <td>2.079331</td>\n      <td>1.0</td>\n      <td>2</td>\n      <td>1</td>\n      <td>385</td>\n      <td>30</td>\n      <td>...</td>\n      <td>0</td>\n      <td>0</td>\n      <td>0</td>\n      <td>0.0</td>\n      <td>0.0</td>\n      <td>1.0</td>\n      <td>0.0</td>\n      <td>0.0</td>\n      <td>0.0</td>\n      <td>6</td>\n    </tr>\n    <tr>\n      <th>32</th>\n      <td>32</td>\n      <td>82</td>\n      <td>0</td>\n      <td>0.0</td>\n      <td>1.814426</td>\n      <td>6.0</td>\n      <td>5</td>\n      <td>2</td>\n      <td>247</td>\n      <td>30</td>\n      <td>...</td>\n      <td>1</td>\n      <td>0</td>\n      <td>1</td>\n      <td>0.0</td>\n      <td>0.0</td>\n      <td>0.0</td>\n      <td>1.0</td>\n      <td>0.0</td>\n      <td>0.0</td>\n      <td>3</td>\n    </tr>\n    <tr>\n      <th>33</th>\n      <td>33</td>\n      <td>68</td>\n      <td>1</td>\n      <td>0.0</td>\n      <td>1.954297</td>\n      <td>5.0</td>\n      <td>2</td>\n      <td>1</td>\n      <td>557</td>\n      <td>30</td>\n      <td>...</td>\n      <td>1</td>\n      <td>0</td>\n      <td>1</td>\n      <td>0.0</td>\n      <td>0.0</td>\n      <td>0.0</td>\n      <td>0.0</td>\n      <td>1.0</td>\n      <td>0.0</td>\n      <td>1</td>\n    </tr>\n    <tr>\n      <th>38</th>\n      <td>38</td>\n      <td>60</td>\n      <td>0</td>\n      <td>0.0</td>\n      <td>3.040344</td>\n      <td>1.0</td>\n      <td>1</td>\n      <td>1</td>\n      <td>385</td>\n      <td>30</td>\n      <td>...</td>\n      <td>0</td>\n      <td>0</td>\n      <td>0</td>\n      <td>1.0</td>\n      <td>0.0</td>\n      <td>0.0</td>\n      <td>0.0</td>\n      <td>0.0</td>\n      <td>1.0</td>\n      <td>5</td>\n    </tr>\n    <tr>\n      <th>39</th>\n      <td>39</td>\n      <td>40</td>\n      <td>0</td>\n      <td>0.0</td>\n      <td>1.682603</td>\n      <td>1.0</td>\n      <td>3</td>\n      <td>1</td>\n      <td>385</td>\n      <td>30</td>\n      <td>...</td>\n      <td>0</td>\n      <td>0</td>\n      <td>0</td>\n      <td>0.0</td>\n      <td>1.0</td>\n      <td>0.0</td>\n      <td>0.0</td>\n      <td>0.0</td>\n      <td>1.0</td>\n      <td>8</td>\n    </tr>\n  </tbody>\n</table>\n<p>15 rows × 363 columns</p>\n</div>"
     },
     "metadata": {},
     "execution_count": 14
    }
   ],
   "source": [
    "# Creating deciles by length of follow-up normalized by number of hospitalizations \n",
    "readm_data_df['ibd_deciles'] = pd.qcut(readm_data_df['ibdtotlos_alive_fu'], 10, labels=np.arange(10, 0, -1))\n",
    "\n",
    "readm_data_df.head(15)"
   ]
  },
  {
   "cell_type": "code",
   "execution_count": 15,
   "metadata": {},
   "outputs": [
    {
     "output_type": "execute_result",
     "data": {
      "text/plain": [
       "index               0\n",
       "age                 0\n",
       "aweekend            0\n",
       "died               24\n",
       "discwt              0\n",
       "                 ... \n",
       "_Ipayer_3         102\n",
       "_Ipayer_4         102\n",
       "_Izipinc_qr_2    1414\n",
       "_Izipinc_qr_3    1414\n",
       "_Izipinc_qr_4    1414\n",
       "Length: 362, dtype: int64"
      ]
     },
     "metadata": {},
     "execution_count": 15
    }
   ],
   "source": [
    "df_copy.isnull().sum()"
   ]
  },
  {
   "cell_type": "code",
   "execution_count": 16,
   "metadata": {},
   "outputs": [
    {
     "output_type": "execute_result",
     "data": {
      "text/plain": [
       "       index  age  aweekend  died    discwt  dispuniform  dmonth  dqtr  drg  \\\n",
       "94449  94449   80         1   0.0  2.148695          1.0       2     1  386   \n",
       "94451  94451   38         0   0.0  1.700426          1.0       2     1  775   \n",
       "94452  94452   56         1   0.0  4.491267          5.0       3     1  439   \n",
       "94455  94455   41         0   0.0  3.371811          1.0       1     1  392   \n",
       "94456  94456   35         0   0.0  1.551591          1.0       2     1  237   \n",
       "94457  94457   59         0   0.0  1.995433          1.0       1     1  683   \n",
       "94459  94459   20         0   0.0  2.243069          1.0       1     1  386   \n",
       "94461  94461   90         0   0.0  3.387816          1.0       4     2  309   \n",
       "94462  94462   19         0   0.0  2.275446          1.0       2     1  386   \n",
       "94465  94465   76         0   0.0  3.871441          5.0       5     2  470   \n",
       "94466  94466   72         1   0.0  1.980316          6.0       1     1  835   \n",
       "94467  94467   69         0   0.0  1.980316          1.0       5     2  389   \n",
       "94468  94468   35         1   0.0  2.867247          1.0       2     1  493   \n",
       "94469  94469   29         1   0.0  1.700426          1.0       6     2  775   \n",
       "94470  94470   78         0   0.0  5.913584          5.0       4     2  388   \n",
       "94471  94471   27         0   0.0  1.864849          1.0       2     1  176   \n",
       "94472  94472   34         1   0.0  2.428082          6.0       2     1  809   \n",
       "94480  94480   50         0   0.0  1.666871          6.0       3     1  856   \n",
       "94482  94482   20         0   0.0  2.393527          1.0       3     1  386   \n",
       "94484  94484   66         1   0.0  1.814426          1.0       5     2  543   \n",
       "94491  94491   32         1   0.0  1.625102          1.0       4     2  775   \n",
       "94492  94492   54         0   0.0  1.995433          1.0       3     1  345   \n",
       "94493  94493   44         0   0.0  1.669010          6.0       6     2  331   \n",
       "94496  94496   52         0   0.0  1.863343          1.0       2     1  472   \n",
       "94497  94497   72         1   0.0  1.771707          1.0       2     1  385   \n",
       "\n",
       "       drgver  ...  _Inew_cc_in_1 _Inew_cc_in_2 _Ipayer_2 _Ipayer_3 _Ipayer_4  \\\n",
       "94449      30  ...              0             0       0.0       0.0       0.0   \n",
       "94451      30  ...              0             0       1.0       0.0       0.0   \n",
       "94452      30  ...              0             0       0.0       0.0       0.0   \n",
       "94455      30  ...              0             0       1.0       0.0       0.0   \n",
       "94456      30  ...              0             1       1.0       0.0       0.0   \n",
       "94457      30  ...              0             1       1.0       0.0       0.0   \n",
       "94459      30  ...              0             0       1.0       0.0       0.0   \n",
       "94461      30  ...              0             1       0.0       0.0       0.0   \n",
       "94462      30  ...              1             0       1.0       0.0       0.0   \n",
       "94465      30  ...              0             0       0.0       0.0       0.0   \n",
       "94466      30  ...              0             1       0.0       0.0       0.0   \n",
       "94467      30  ...              0             0       0.0       0.0       0.0   \n",
       "94468      30  ...              1             0       0.0       0.0       1.0   \n",
       "94469      30  ...              0             0       1.0       0.0       0.0   \n",
       "94470      30  ...              0             1       0.0       0.0       0.0   \n",
       "94471      30  ...              0             0       0.0       0.0       0.0   \n",
       "94472      30  ...              0             1       0.0       0.0       0.0   \n",
       "94480      30  ...              0             0       1.0       0.0       0.0   \n",
       "94482      30  ...              0             0       1.0       0.0       0.0   \n",
       "94484      30  ...              0             1       1.0       0.0       0.0   \n",
       "94491      30  ...              0             0       1.0       0.0       0.0   \n",
       "94492      30  ...              0             0       1.0       0.0       0.0   \n",
       "94493      30  ...              0             0       1.0       0.0       0.0   \n",
       "94496      30  ...              0             1       0.0       0.0       0.0   \n",
       "94497      30  ...              1             0       0.0       0.0       0.0   \n",
       "\n",
       "      _Izipinc_qr_2 _Izipinc_qr_3 _Izipinc_qr_4 ibd_deciles hnhc_patients  \n",
       "94449           1.0           0.0           0.0           5             0  \n",
       "94451           0.0           0.0           1.0           8             0  \n",
       "94452           0.0           0.0           1.0           2             0  \n",
       "94455           0.0           1.0           0.0          10             1  \n",
       "94456           0.0           0.0           0.0           2             0  \n",
       "94457           0.0           1.0           0.0           1             0  \n",
       "94459           1.0           0.0           0.0           7             0  \n",
       "94461           1.0           0.0           0.0           8             0  \n",
       "94462           0.0           0.0           0.0           1             0  \n",
       "94465           0.0           0.0           0.0           7             0  \n",
       "94466           0.0           1.0           0.0           6             0  \n",
       "94467           0.0           0.0           0.0           7             0  \n",
       "94468           1.0           0.0           0.0          10             1  \n",
       "94469           0.0           1.0           0.0           8             0  \n",
       "94470           1.0           0.0           0.0           5             0  \n",
       "94471           0.0           1.0           0.0           8             0  \n",
       "94472           0.0           0.0           0.0           1             0  \n",
       "94480           0.0           1.0           0.0           5             0  \n",
       "94482           0.0           0.0           1.0           6             0  \n",
       "94484           0.0           0.0           1.0           1             0  \n",
       "94491           0.0           0.0           1.0           8             0  \n",
       "94492           0.0           0.0           1.0           7             0  \n",
       "94493           0.0           0.0           1.0           1             0  \n",
       "94496           0.0           0.0           0.0          10             1  \n",
       "94497           1.0           0.0           0.0           8             0  \n",
       "\n",
       "[25 rows x 364 columns]"
      ],
      "text/html": "<div>\n<style scoped>\n    .dataframe tbody tr th:only-of-type {\n        vertical-align: middle;\n    }\n\n    .dataframe tbody tr th {\n        vertical-align: top;\n    }\n\n    .dataframe thead th {\n        text-align: right;\n    }\n</style>\n<table border=\"1\" class=\"dataframe\">\n  <thead>\n    <tr style=\"text-align: right;\">\n      <th></th>\n      <th>index</th>\n      <th>age</th>\n      <th>aweekend</th>\n      <th>died</th>\n      <th>discwt</th>\n      <th>dispuniform</th>\n      <th>dmonth</th>\n      <th>dqtr</th>\n      <th>drg</th>\n      <th>drgver</th>\n      <th>...</th>\n      <th>_Inew_cc_in_1</th>\n      <th>_Inew_cc_in_2</th>\n      <th>_Ipayer_2</th>\n      <th>_Ipayer_3</th>\n      <th>_Ipayer_4</th>\n      <th>_Izipinc_qr_2</th>\n      <th>_Izipinc_qr_3</th>\n      <th>_Izipinc_qr_4</th>\n      <th>ibd_deciles</th>\n      <th>hnhc_patients</th>\n    </tr>\n  </thead>\n  <tbody>\n    <tr>\n      <th>94449</th>\n      <td>94449</td>\n      <td>80</td>\n      <td>1</td>\n      <td>0.0</td>\n      <td>2.148695</td>\n      <td>1.0</td>\n      <td>2</td>\n      <td>1</td>\n      <td>386</td>\n      <td>30</td>\n      <td>...</td>\n      <td>0</td>\n      <td>0</td>\n      <td>0.0</td>\n      <td>0.0</td>\n      <td>0.0</td>\n      <td>1.0</td>\n      <td>0.0</td>\n      <td>0.0</td>\n      <td>5</td>\n      <td>0</td>\n    </tr>\n    <tr>\n      <th>94451</th>\n      <td>94451</td>\n      <td>38</td>\n      <td>0</td>\n      <td>0.0</td>\n      <td>1.700426</td>\n      <td>1.0</td>\n      <td>2</td>\n      <td>1</td>\n      <td>775</td>\n      <td>30</td>\n      <td>...</td>\n      <td>0</td>\n      <td>0</td>\n      <td>1.0</td>\n      <td>0.0</td>\n      <td>0.0</td>\n      <td>0.0</td>\n      <td>0.0</td>\n      <td>1.0</td>\n      <td>8</td>\n      <td>0</td>\n    </tr>\n    <tr>\n      <th>94452</th>\n      <td>94452</td>\n      <td>56</td>\n      <td>1</td>\n      <td>0.0</td>\n      <td>4.491267</td>\n      <td>5.0</td>\n      <td>3</td>\n      <td>1</td>\n      <td>439</td>\n      <td>30</td>\n      <td>...</td>\n      <td>0</td>\n      <td>0</td>\n      <td>0.0</td>\n      <td>0.0</td>\n      <td>0.0</td>\n      <td>0.0</td>\n      <td>0.0</td>\n      <td>1.0</td>\n      <td>2</td>\n      <td>0</td>\n    </tr>\n    <tr>\n      <th>94455</th>\n      <td>94455</td>\n      <td>41</td>\n      <td>0</td>\n      <td>0.0</td>\n      <td>3.371811</td>\n      <td>1.0</td>\n      <td>1</td>\n      <td>1</td>\n      <td>392</td>\n      <td>30</td>\n      <td>...</td>\n      <td>0</td>\n      <td>0</td>\n      <td>1.0</td>\n      <td>0.0</td>\n      <td>0.0</td>\n      <td>0.0</td>\n      <td>1.0</td>\n      <td>0.0</td>\n      <td>10</td>\n      <td>1</td>\n    </tr>\n    <tr>\n      <th>94456</th>\n      <td>94456</td>\n      <td>35</td>\n      <td>0</td>\n      <td>0.0</td>\n      <td>1.551591</td>\n      <td>1.0</td>\n      <td>2</td>\n      <td>1</td>\n      <td>237</td>\n      <td>30</td>\n      <td>...</td>\n      <td>0</td>\n      <td>1</td>\n      <td>1.0</td>\n      <td>0.0</td>\n      <td>0.0</td>\n      <td>0.0</td>\n      <td>0.0</td>\n      <td>0.0</td>\n      <td>2</td>\n      <td>0</td>\n    </tr>\n    <tr>\n      <th>94457</th>\n      <td>94457</td>\n      <td>59</td>\n      <td>0</td>\n      <td>0.0</td>\n      <td>1.995433</td>\n      <td>1.0</td>\n      <td>1</td>\n      <td>1</td>\n      <td>683</td>\n      <td>30</td>\n      <td>...</td>\n      <td>0</td>\n      <td>1</td>\n      <td>1.0</td>\n      <td>0.0</td>\n      <td>0.0</td>\n      <td>0.0</td>\n      <td>1.0</td>\n      <td>0.0</td>\n      <td>1</td>\n      <td>0</td>\n    </tr>\n    <tr>\n      <th>94459</th>\n      <td>94459</td>\n      <td>20</td>\n      <td>0</td>\n      <td>0.0</td>\n      <td>2.243069</td>\n      <td>1.0</td>\n      <td>1</td>\n      <td>1</td>\n      <td>386</td>\n      <td>30</td>\n      <td>...</td>\n      <td>0</td>\n      <td>0</td>\n      <td>1.0</td>\n      <td>0.0</td>\n      <td>0.0</td>\n      <td>1.0</td>\n      <td>0.0</td>\n      <td>0.0</td>\n      <td>7</td>\n      <td>0</td>\n    </tr>\n    <tr>\n      <th>94461</th>\n      <td>94461</td>\n      <td>90</td>\n      <td>0</td>\n      <td>0.0</td>\n      <td>3.387816</td>\n      <td>1.0</td>\n      <td>4</td>\n      <td>2</td>\n      <td>309</td>\n      <td>30</td>\n      <td>...</td>\n      <td>0</td>\n      <td>1</td>\n      <td>0.0</td>\n      <td>0.0</td>\n      <td>0.0</td>\n      <td>1.0</td>\n      <td>0.0</td>\n      <td>0.0</td>\n      <td>8</td>\n      <td>0</td>\n    </tr>\n    <tr>\n      <th>94462</th>\n      <td>94462</td>\n      <td>19</td>\n      <td>0</td>\n      <td>0.0</td>\n      <td>2.275446</td>\n      <td>1.0</td>\n      <td>2</td>\n      <td>1</td>\n      <td>386</td>\n      <td>30</td>\n      <td>...</td>\n      <td>1</td>\n      <td>0</td>\n      <td>1.0</td>\n      <td>0.0</td>\n      <td>0.0</td>\n      <td>0.0</td>\n      <td>0.0</td>\n      <td>0.0</td>\n      <td>1</td>\n      <td>0</td>\n    </tr>\n    <tr>\n      <th>94465</th>\n      <td>94465</td>\n      <td>76</td>\n      <td>0</td>\n      <td>0.0</td>\n      <td>3.871441</td>\n      <td>5.0</td>\n      <td>5</td>\n      <td>2</td>\n      <td>470</td>\n      <td>30</td>\n      <td>...</td>\n      <td>0</td>\n      <td>0</td>\n      <td>0.0</td>\n      <td>0.0</td>\n      <td>0.0</td>\n      <td>0.0</td>\n      <td>0.0</td>\n      <td>0.0</td>\n      <td>7</td>\n      <td>0</td>\n    </tr>\n    <tr>\n      <th>94466</th>\n      <td>94466</td>\n      <td>72</td>\n      <td>1</td>\n      <td>0.0</td>\n      <td>1.980316</td>\n      <td>6.0</td>\n      <td>1</td>\n      <td>1</td>\n      <td>835</td>\n      <td>30</td>\n      <td>...</td>\n      <td>0</td>\n      <td>1</td>\n      <td>0.0</td>\n      <td>0.0</td>\n      <td>0.0</td>\n      <td>0.0</td>\n      <td>1.0</td>\n      <td>0.0</td>\n      <td>6</td>\n      <td>0</td>\n    </tr>\n    <tr>\n      <th>94467</th>\n      <td>94467</td>\n      <td>69</td>\n      <td>0</td>\n      <td>0.0</td>\n      <td>1.980316</td>\n      <td>1.0</td>\n      <td>5</td>\n      <td>2</td>\n      <td>389</td>\n      <td>30</td>\n      <td>...</td>\n      <td>0</td>\n      <td>0</td>\n      <td>0.0</td>\n      <td>0.0</td>\n      <td>0.0</td>\n      <td>0.0</td>\n      <td>0.0</td>\n      <td>0.0</td>\n      <td>7</td>\n      <td>0</td>\n    </tr>\n    <tr>\n      <th>94468</th>\n      <td>94468</td>\n      <td>35</td>\n      <td>1</td>\n      <td>0.0</td>\n      <td>2.867247</td>\n      <td>1.0</td>\n      <td>2</td>\n      <td>1</td>\n      <td>493</td>\n      <td>30</td>\n      <td>...</td>\n      <td>1</td>\n      <td>0</td>\n      <td>0.0</td>\n      <td>0.0</td>\n      <td>1.0</td>\n      <td>1.0</td>\n      <td>0.0</td>\n      <td>0.0</td>\n      <td>10</td>\n      <td>1</td>\n    </tr>\n    <tr>\n      <th>94469</th>\n      <td>94469</td>\n      <td>29</td>\n      <td>1</td>\n      <td>0.0</td>\n      <td>1.700426</td>\n      <td>1.0</td>\n      <td>6</td>\n      <td>2</td>\n      <td>775</td>\n      <td>30</td>\n      <td>...</td>\n      <td>0</td>\n      <td>0</td>\n      <td>1.0</td>\n      <td>0.0</td>\n      <td>0.0</td>\n      <td>0.0</td>\n      <td>1.0</td>\n      <td>0.0</td>\n      <td>8</td>\n      <td>0</td>\n    </tr>\n    <tr>\n      <th>94470</th>\n      <td>94470</td>\n      <td>78</td>\n      <td>0</td>\n      <td>0.0</td>\n      <td>5.913584</td>\n      <td>5.0</td>\n      <td>4</td>\n      <td>2</td>\n      <td>388</td>\n      <td>30</td>\n      <td>...</td>\n      <td>0</td>\n      <td>1</td>\n      <td>0.0</td>\n      <td>0.0</td>\n      <td>0.0</td>\n      <td>1.0</td>\n      <td>0.0</td>\n      <td>0.0</td>\n      <td>5</td>\n      <td>0</td>\n    </tr>\n    <tr>\n      <th>94471</th>\n      <td>94471</td>\n      <td>27</td>\n      <td>0</td>\n      <td>0.0</td>\n      <td>1.864849</td>\n      <td>1.0</td>\n      <td>2</td>\n      <td>1</td>\n      <td>176</td>\n      <td>30</td>\n      <td>...</td>\n      <td>0</td>\n      <td>0</td>\n      <td>0.0</td>\n      <td>0.0</td>\n      <td>0.0</td>\n      <td>0.0</td>\n      <td>1.0</td>\n      <td>0.0</td>\n      <td>8</td>\n      <td>0</td>\n    </tr>\n    <tr>\n      <th>94472</th>\n      <td>94472</td>\n      <td>34</td>\n      <td>1</td>\n      <td>0.0</td>\n      <td>2.428082</td>\n      <td>6.0</td>\n      <td>2</td>\n      <td>1</td>\n      <td>809</td>\n      <td>30</td>\n      <td>...</td>\n      <td>0</td>\n      <td>1</td>\n      <td>0.0</td>\n      <td>0.0</td>\n      <td>0.0</td>\n      <td>0.0</td>\n      <td>0.0</td>\n      <td>0.0</td>\n      <td>1</td>\n      <td>0</td>\n    </tr>\n    <tr>\n      <th>94480</th>\n      <td>94480</td>\n      <td>50</td>\n      <td>0</td>\n      <td>0.0</td>\n      <td>1.666871</td>\n      <td>6.0</td>\n      <td>3</td>\n      <td>1</td>\n      <td>856</td>\n      <td>30</td>\n      <td>...</td>\n      <td>0</td>\n      <td>0</td>\n      <td>1.0</td>\n      <td>0.0</td>\n      <td>0.0</td>\n      <td>0.0</td>\n      <td>1.0</td>\n      <td>0.0</td>\n      <td>5</td>\n      <td>0</td>\n    </tr>\n    <tr>\n      <th>94482</th>\n      <td>94482</td>\n      <td>20</td>\n      <td>0</td>\n      <td>0.0</td>\n      <td>2.393527</td>\n      <td>1.0</td>\n      <td>3</td>\n      <td>1</td>\n      <td>386</td>\n      <td>30</td>\n      <td>...</td>\n      <td>0</td>\n      <td>0</td>\n      <td>1.0</td>\n      <td>0.0</td>\n      <td>0.0</td>\n      <td>0.0</td>\n      <td>0.0</td>\n      <td>1.0</td>\n      <td>6</td>\n      <td>0</td>\n    </tr>\n    <tr>\n      <th>94484</th>\n      <td>94484</td>\n      <td>66</td>\n      <td>1</td>\n      <td>0.0</td>\n      <td>1.814426</td>\n      <td>1.0</td>\n      <td>5</td>\n      <td>2</td>\n      <td>543</td>\n      <td>30</td>\n      <td>...</td>\n      <td>0</td>\n      <td>1</td>\n      <td>1.0</td>\n      <td>0.0</td>\n      <td>0.0</td>\n      <td>0.0</td>\n      <td>0.0</td>\n      <td>1.0</td>\n      <td>1</td>\n      <td>0</td>\n    </tr>\n    <tr>\n      <th>94491</th>\n      <td>94491</td>\n      <td>32</td>\n      <td>1</td>\n      <td>0.0</td>\n      <td>1.625102</td>\n      <td>1.0</td>\n      <td>4</td>\n      <td>2</td>\n      <td>775</td>\n      <td>30</td>\n      <td>...</td>\n      <td>0</td>\n      <td>0</td>\n      <td>1.0</td>\n      <td>0.0</td>\n      <td>0.0</td>\n      <td>0.0</td>\n      <td>0.0</td>\n      <td>1.0</td>\n      <td>8</td>\n      <td>0</td>\n    </tr>\n    <tr>\n      <th>94492</th>\n      <td>94492</td>\n      <td>54</td>\n      <td>0</td>\n      <td>0.0</td>\n      <td>1.995433</td>\n      <td>1.0</td>\n      <td>3</td>\n      <td>1</td>\n      <td>345</td>\n      <td>30</td>\n      <td>...</td>\n      <td>0</td>\n      <td>0</td>\n      <td>1.0</td>\n      <td>0.0</td>\n      <td>0.0</td>\n      <td>0.0</td>\n      <td>0.0</td>\n      <td>1.0</td>\n      <td>7</td>\n      <td>0</td>\n    </tr>\n    <tr>\n      <th>94493</th>\n      <td>94493</td>\n      <td>44</td>\n      <td>0</td>\n      <td>0.0</td>\n      <td>1.669010</td>\n      <td>6.0</td>\n      <td>6</td>\n      <td>2</td>\n      <td>331</td>\n      <td>30</td>\n      <td>...</td>\n      <td>0</td>\n      <td>0</td>\n      <td>1.0</td>\n      <td>0.0</td>\n      <td>0.0</td>\n      <td>0.0</td>\n      <td>0.0</td>\n      <td>1.0</td>\n      <td>1</td>\n      <td>0</td>\n    </tr>\n    <tr>\n      <th>94496</th>\n      <td>94496</td>\n      <td>52</td>\n      <td>0</td>\n      <td>0.0</td>\n      <td>1.863343</td>\n      <td>1.0</td>\n      <td>2</td>\n      <td>1</td>\n      <td>472</td>\n      <td>30</td>\n      <td>...</td>\n      <td>0</td>\n      <td>1</td>\n      <td>0.0</td>\n      <td>0.0</td>\n      <td>0.0</td>\n      <td>0.0</td>\n      <td>0.0</td>\n      <td>0.0</td>\n      <td>10</td>\n      <td>1</td>\n    </tr>\n    <tr>\n      <th>94497</th>\n      <td>94497</td>\n      <td>72</td>\n      <td>1</td>\n      <td>0.0</td>\n      <td>1.771707</td>\n      <td>1.0</td>\n      <td>2</td>\n      <td>1</td>\n      <td>385</td>\n      <td>30</td>\n      <td>...</td>\n      <td>1</td>\n      <td>0</td>\n      <td>0.0</td>\n      <td>0.0</td>\n      <td>0.0</td>\n      <td>1.0</td>\n      <td>0.0</td>\n      <td>0.0</td>\n      <td>8</td>\n      <td>0</td>\n    </tr>\n  </tbody>\n</table>\n<p>25 rows × 364 columns</p>\n</div>"
     },
     "metadata": {},
     "execution_count": 16
    }
   ],
   "source": [
    "# Generate a new variable to identify high-need, high-cost patients\n",
    "\n",
    "def topDecile(series):\n",
    "    if series == 10:\n",
    "        return 1\n",
    "    else:\n",
    "        return 0\n",
    "        \n",
    "readm_data_df['hnhc_patients'] = readm_data_df['ibd_deciles'].apply(topDecile)\n",
    "\n",
    "readm_data_df.tail(25)"
   ]
  },
  {
   "cell_type": "code",
   "execution_count": 17,
   "metadata": {},
   "outputs": [
    {
     "output_type": "execute_result",
     "data": {
      "text/plain": [
       "    index  age  aweekend  died    discwt  dispuniform  dmonth  dqtr  drg  \\\n",
       "0       0   89         1   0.0  1.071937          5.0       3     1  372   \n",
       "3       3   48         0   0.0  3.063669          1.0       6     2  330   \n",
       "4       4   65         0   0.0  1.919980          1.0       5     2  387   \n",
       "9       9   51         0   0.0  2.958993          1.0       3     1  354   \n",
       "10     10   22         0   0.0  3.109660          1.0       1     1  330   \n",
       "11     11   33         1   0.0  1.061258          1.0       1     1  313   \n",
       "19     19   84         0   0.0  2.155742          6.0       5     2  690   \n",
       "22     22   62         0   0.0  1.863343          5.0       2     1  853   \n",
       "23     23   40         0   0.0  1.509554          1.0       3     1  389   \n",
       "30     30   68         1   0.0  2.148695          6.0       5     2  854   \n",
       "31     31   25         1   0.0  2.079331          1.0       2     1  385   \n",
       "32     32   82         0   0.0  1.814426          6.0       5     2  247   \n",
       "33     33   68         1   0.0  1.954297          5.0       2     1  557   \n",
       "38     38   60         0   0.0  3.040344          1.0       1     1  385   \n",
       "39     39   40         0   0.0  1.682603          1.0       3     1  385   \n",
       "40     40   35         0   0.0  2.178508          1.0       6     2  392   \n",
       "41     41   59         0   0.0  2.844541          6.0       1     1  329   \n",
       "42     42   85         0   0.0  1.583688          7.0       5     2  280   \n",
       "43     43   86         0   0.0  1.460299          5.0       4     2  551   \n",
       "46     46   57         0   0.0  1.915529          1.0       4     2  191   \n",
       "47     47   70         0   0.0  2.630627          1.0       6     2  644   \n",
       "51     51   26         0   0.0  3.199971          6.0       1     1  758   \n",
       "55     55   57         0   0.0  1.442527          1.0       3     1  872   \n",
       "56     56   26         0   0.0  3.202553          1.0       1     1  386   \n",
       "58     58   69         1   0.0  5.725444          1.0       3     1  871   \n",
       "\n",
       "    drgver  ...  _Ipayer_4 _Izipinc_qr_2 _Izipinc_qr_3 _Izipinc_qr_4  \\\n",
       "0       30  ...        0.0           0.0           0.0           1.0   \n",
       "3       30  ...        0.0           0.0           1.0           0.0   \n",
       "4       30  ...        0.0           1.0           0.0           0.0   \n",
       "9       30  ...        0.0           0.0           0.0           1.0   \n",
       "10      30  ...        0.0           1.0           0.0           0.0   \n",
       "11      30  ...        0.0           0.0           0.0           0.0   \n",
       "19      30  ...        0.0           0.0           0.0           1.0   \n",
       "22      30  ...        0.0           0.0           0.0           0.0   \n",
       "23      30  ...        0.0           0.0           0.0           1.0   \n",
       "30      30  ...        0.0           0.0           0.0           1.0   \n",
       "31      30  ...        1.0           0.0           0.0           0.0   \n",
       "32      30  ...        0.0           1.0           0.0           0.0   \n",
       "33      30  ...        0.0           0.0           1.0           0.0   \n",
       "38      30  ...        0.0           0.0           0.0           1.0   \n",
       "39      30  ...        0.0           0.0           0.0           1.0   \n",
       "40      30  ...        0.0           0.0           0.0           0.0   \n",
       "41      30  ...        0.0           0.0           1.0           0.0   \n",
       "42      30  ...        0.0           1.0           0.0           0.0   \n",
       "43      30  ...        0.0           0.0           0.0           1.0   \n",
       "46      30  ...        0.0           0.0           0.0           1.0   \n",
       "47      30  ...        0.0           0.0           0.0           1.0   \n",
       "51      30  ...        0.0           1.0           0.0           0.0   \n",
       "55      30  ...        0.0           0.0           1.0           0.0   \n",
       "56      30  ...        0.0           0.0           0.0           1.0   \n",
       "58      30  ...        0.0           0.0           1.0           0.0   \n",
       "\n",
       "   ibd_deciles hnhc_patients steroid_use abd_pain_adm aki_adm gi_bleed_adm  \n",
       "0            2             0           0            0       0            0  \n",
       "3            6             0           0            0       0            0  \n",
       "4            1             0           0            0       0            0  \n",
       "9            8             0           0            0       0            0  \n",
       "10           6             0           0            0       0            0  \n",
       "11           3             0           0            0       0            0  \n",
       "19           3             0           0            0       0            0  \n",
       "22           3             0           0            0       1            0  \n",
       "23           1             0           1            1       0            0  \n",
       "30           5             0           0            0       1            0  \n",
       "31           6             0           0            0       0            0  \n",
       "32           3             0           0            0       1            0  \n",
       "33           1             0           0            0       0            0  \n",
       "38           5             0           1            0       0            0  \n",
       "39           8             0           0            1       0            0  \n",
       "40           4             0           0            0       0            0  \n",
       "41           8             0           0            0       0            0  \n",
       "42           9             0           0            0       1            0  \n",
       "43           3             0           0            0       0            0  \n",
       "46           5             0           0            0       0            0  \n",
       "47           1             0           0            0       0            0  \n",
       "51           2             0           1            0       0            0  \n",
       "55          10             1           0            0       0            0  \n",
       "56           6             0           0            0       0            0  \n",
       "58           1             0           1            0       1            0  \n",
       "\n",
       "[25 rows x 368 columns]"
      ],
      "text/html": "<div>\n<style scoped>\n    .dataframe tbody tr th:only-of-type {\n        vertical-align: middle;\n    }\n\n    .dataframe tbody tr th {\n        vertical-align: top;\n    }\n\n    .dataframe thead th {\n        text-align: right;\n    }\n</style>\n<table border=\"1\" class=\"dataframe\">\n  <thead>\n    <tr style=\"text-align: right;\">\n      <th></th>\n      <th>index</th>\n      <th>age</th>\n      <th>aweekend</th>\n      <th>died</th>\n      <th>discwt</th>\n      <th>dispuniform</th>\n      <th>dmonth</th>\n      <th>dqtr</th>\n      <th>drg</th>\n      <th>drgver</th>\n      <th>...</th>\n      <th>_Ipayer_4</th>\n      <th>_Izipinc_qr_2</th>\n      <th>_Izipinc_qr_3</th>\n      <th>_Izipinc_qr_4</th>\n      <th>ibd_deciles</th>\n      <th>hnhc_patients</th>\n      <th>steroid_use</th>\n      <th>abd_pain_adm</th>\n      <th>aki_adm</th>\n      <th>gi_bleed_adm</th>\n    </tr>\n  </thead>\n  <tbody>\n    <tr>\n      <th>0</th>\n      <td>0</td>\n      <td>89</td>\n      <td>1</td>\n      <td>0.0</td>\n      <td>1.071937</td>\n      <td>5.0</td>\n      <td>3</td>\n      <td>1</td>\n      <td>372</td>\n      <td>30</td>\n      <td>...</td>\n      <td>0.0</td>\n      <td>0.0</td>\n      <td>0.0</td>\n      <td>1.0</td>\n      <td>2</td>\n      <td>0</td>\n      <td>0</td>\n      <td>0</td>\n      <td>0</td>\n      <td>0</td>\n    </tr>\n    <tr>\n      <th>3</th>\n      <td>3</td>\n      <td>48</td>\n      <td>0</td>\n      <td>0.0</td>\n      <td>3.063669</td>\n      <td>1.0</td>\n      <td>6</td>\n      <td>2</td>\n      <td>330</td>\n      <td>30</td>\n      <td>...</td>\n      <td>0.0</td>\n      <td>0.0</td>\n      <td>1.0</td>\n      <td>0.0</td>\n      <td>6</td>\n      <td>0</td>\n      <td>0</td>\n      <td>0</td>\n      <td>0</td>\n      <td>0</td>\n    </tr>\n    <tr>\n      <th>4</th>\n      <td>4</td>\n      <td>65</td>\n      <td>0</td>\n      <td>0.0</td>\n      <td>1.919980</td>\n      <td>1.0</td>\n      <td>5</td>\n      <td>2</td>\n      <td>387</td>\n      <td>30</td>\n      <td>...</td>\n      <td>0.0</td>\n      <td>1.0</td>\n      <td>0.0</td>\n      <td>0.0</td>\n      <td>1</td>\n      <td>0</td>\n      <td>0</td>\n      <td>0</td>\n      <td>0</td>\n      <td>0</td>\n    </tr>\n    <tr>\n      <th>9</th>\n      <td>9</td>\n      <td>51</td>\n      <td>0</td>\n      <td>0.0</td>\n      <td>2.958993</td>\n      <td>1.0</td>\n      <td>3</td>\n      <td>1</td>\n      <td>354</td>\n      <td>30</td>\n      <td>...</td>\n      <td>0.0</td>\n      <td>0.0</td>\n      <td>0.0</td>\n      <td>1.0</td>\n      <td>8</td>\n      <td>0</td>\n      <td>0</td>\n      <td>0</td>\n      <td>0</td>\n      <td>0</td>\n    </tr>\n    <tr>\n      <th>10</th>\n      <td>10</td>\n      <td>22</td>\n      <td>0</td>\n      <td>0.0</td>\n      <td>3.109660</td>\n      <td>1.0</td>\n      <td>1</td>\n      <td>1</td>\n      <td>330</td>\n      <td>30</td>\n      <td>...</td>\n      <td>0.0</td>\n      <td>1.0</td>\n      <td>0.0</td>\n      <td>0.0</td>\n      <td>6</td>\n      <td>0</td>\n      <td>0</td>\n      <td>0</td>\n      <td>0</td>\n      <td>0</td>\n    </tr>\n    <tr>\n      <th>11</th>\n      <td>11</td>\n      <td>33</td>\n      <td>1</td>\n      <td>0.0</td>\n      <td>1.061258</td>\n      <td>1.0</td>\n      <td>1</td>\n      <td>1</td>\n      <td>313</td>\n      <td>30</td>\n      <td>...</td>\n      <td>0.0</td>\n      <td>0.0</td>\n      <td>0.0</td>\n      <td>0.0</td>\n      <td>3</td>\n      <td>0</td>\n      <td>0</td>\n      <td>0</td>\n      <td>0</td>\n      <td>0</td>\n    </tr>\n    <tr>\n      <th>19</th>\n      <td>19</td>\n      <td>84</td>\n      <td>0</td>\n      <td>0.0</td>\n      <td>2.155742</td>\n      <td>6.0</td>\n      <td>5</td>\n      <td>2</td>\n      <td>690</td>\n      <td>30</td>\n      <td>...</td>\n      <td>0.0</td>\n      <td>0.0</td>\n      <td>0.0</td>\n      <td>1.0</td>\n      <td>3</td>\n      <td>0</td>\n      <td>0</td>\n      <td>0</td>\n      <td>0</td>\n      <td>0</td>\n    </tr>\n    <tr>\n      <th>22</th>\n      <td>22</td>\n      <td>62</td>\n      <td>0</td>\n      <td>0.0</td>\n      <td>1.863343</td>\n      <td>5.0</td>\n      <td>2</td>\n      <td>1</td>\n      <td>853</td>\n      <td>30</td>\n      <td>...</td>\n      <td>0.0</td>\n      <td>0.0</td>\n      <td>0.0</td>\n      <td>0.0</td>\n      <td>3</td>\n      <td>0</td>\n      <td>0</td>\n      <td>0</td>\n      <td>1</td>\n      <td>0</td>\n    </tr>\n    <tr>\n      <th>23</th>\n      <td>23</td>\n      <td>40</td>\n      <td>0</td>\n      <td>0.0</td>\n      <td>1.509554</td>\n      <td>1.0</td>\n      <td>3</td>\n      <td>1</td>\n      <td>389</td>\n      <td>30</td>\n      <td>...</td>\n      <td>0.0</td>\n      <td>0.0</td>\n      <td>0.0</td>\n      <td>1.0</td>\n      <td>1</td>\n      <td>0</td>\n      <td>1</td>\n      <td>1</td>\n      <td>0</td>\n      <td>0</td>\n    </tr>\n    <tr>\n      <th>30</th>\n      <td>30</td>\n      <td>68</td>\n      <td>1</td>\n      <td>0.0</td>\n      <td>2.148695</td>\n      <td>6.0</td>\n      <td>5</td>\n      <td>2</td>\n      <td>854</td>\n      <td>30</td>\n      <td>...</td>\n      <td>0.0</td>\n      <td>0.0</td>\n      <td>0.0</td>\n      <td>1.0</td>\n      <td>5</td>\n      <td>0</td>\n      <td>0</td>\n      <td>0</td>\n      <td>1</td>\n      <td>0</td>\n    </tr>\n    <tr>\n      <th>31</th>\n      <td>31</td>\n      <td>25</td>\n      <td>1</td>\n      <td>0.0</td>\n      <td>2.079331</td>\n      <td>1.0</td>\n      <td>2</td>\n      <td>1</td>\n      <td>385</td>\n      <td>30</td>\n      <td>...</td>\n      <td>1.0</td>\n      <td>0.0</td>\n      <td>0.0</td>\n      <td>0.0</td>\n      <td>6</td>\n      <td>0</td>\n      <td>0</td>\n      <td>0</td>\n      <td>0</td>\n      <td>0</td>\n    </tr>\n    <tr>\n      <th>32</th>\n      <td>32</td>\n      <td>82</td>\n      <td>0</td>\n      <td>0.0</td>\n      <td>1.814426</td>\n      <td>6.0</td>\n      <td>5</td>\n      <td>2</td>\n      <td>247</td>\n      <td>30</td>\n      <td>...</td>\n      <td>0.0</td>\n      <td>1.0</td>\n      <td>0.0</td>\n      <td>0.0</td>\n      <td>3</td>\n      <td>0</td>\n      <td>0</td>\n      <td>0</td>\n      <td>1</td>\n      <td>0</td>\n    </tr>\n    <tr>\n      <th>33</th>\n      <td>33</td>\n      <td>68</td>\n      <td>1</td>\n      <td>0.0</td>\n      <td>1.954297</td>\n      <td>5.0</td>\n      <td>2</td>\n      <td>1</td>\n      <td>557</td>\n      <td>30</td>\n      <td>...</td>\n      <td>0.0</td>\n      <td>0.0</td>\n      <td>1.0</td>\n      <td>0.0</td>\n      <td>1</td>\n      <td>0</td>\n      <td>0</td>\n      <td>0</td>\n      <td>0</td>\n      <td>0</td>\n    </tr>\n    <tr>\n      <th>38</th>\n      <td>38</td>\n      <td>60</td>\n      <td>0</td>\n      <td>0.0</td>\n      <td>3.040344</td>\n      <td>1.0</td>\n      <td>1</td>\n      <td>1</td>\n      <td>385</td>\n      <td>30</td>\n      <td>...</td>\n      <td>0.0</td>\n      <td>0.0</td>\n      <td>0.0</td>\n      <td>1.0</td>\n      <td>5</td>\n      <td>0</td>\n      <td>1</td>\n      <td>0</td>\n      <td>0</td>\n      <td>0</td>\n    </tr>\n    <tr>\n      <th>39</th>\n      <td>39</td>\n      <td>40</td>\n      <td>0</td>\n      <td>0.0</td>\n      <td>1.682603</td>\n      <td>1.0</td>\n      <td>3</td>\n      <td>1</td>\n      <td>385</td>\n      <td>30</td>\n      <td>...</td>\n      <td>0.0</td>\n      <td>0.0</td>\n      <td>0.0</td>\n      <td>1.0</td>\n      <td>8</td>\n      <td>0</td>\n      <td>0</td>\n      <td>1</td>\n      <td>0</td>\n      <td>0</td>\n    </tr>\n    <tr>\n      <th>40</th>\n      <td>40</td>\n      <td>35</td>\n      <td>0</td>\n      <td>0.0</td>\n      <td>2.178508</td>\n      <td>1.0</td>\n      <td>6</td>\n      <td>2</td>\n      <td>392</td>\n      <td>30</td>\n      <td>...</td>\n      <td>0.0</td>\n      <td>0.0</td>\n      <td>0.0</td>\n      <td>0.0</td>\n      <td>4</td>\n      <td>0</td>\n      <td>0</td>\n      <td>0</td>\n      <td>0</td>\n      <td>0</td>\n    </tr>\n    <tr>\n      <th>41</th>\n      <td>41</td>\n      <td>59</td>\n      <td>0</td>\n      <td>0.0</td>\n      <td>2.844541</td>\n      <td>6.0</td>\n      <td>1</td>\n      <td>1</td>\n      <td>329</td>\n      <td>30</td>\n      <td>...</td>\n      <td>0.0</td>\n      <td>0.0</td>\n      <td>1.0</td>\n      <td>0.0</td>\n      <td>8</td>\n      <td>0</td>\n      <td>0</td>\n      <td>0</td>\n      <td>0</td>\n      <td>0</td>\n    </tr>\n    <tr>\n      <th>42</th>\n      <td>42</td>\n      <td>85</td>\n      <td>0</td>\n      <td>0.0</td>\n      <td>1.583688</td>\n      <td>7.0</td>\n      <td>5</td>\n      <td>2</td>\n      <td>280</td>\n      <td>30</td>\n      <td>...</td>\n      <td>0.0</td>\n      <td>1.0</td>\n      <td>0.0</td>\n      <td>0.0</td>\n      <td>9</td>\n      <td>0</td>\n      <td>0</td>\n      <td>0</td>\n      <td>1</td>\n      <td>0</td>\n    </tr>\n    <tr>\n      <th>43</th>\n      <td>43</td>\n      <td>86</td>\n      <td>0</td>\n      <td>0.0</td>\n      <td>1.460299</td>\n      <td>5.0</td>\n      <td>4</td>\n      <td>2</td>\n      <td>551</td>\n      <td>30</td>\n      <td>...</td>\n      <td>0.0</td>\n      <td>0.0</td>\n      <td>0.0</td>\n      <td>1.0</td>\n      <td>3</td>\n      <td>0</td>\n      <td>0</td>\n      <td>0</td>\n      <td>0</td>\n      <td>0</td>\n    </tr>\n    <tr>\n      <th>46</th>\n      <td>46</td>\n      <td>57</td>\n      <td>0</td>\n      <td>0.0</td>\n      <td>1.915529</td>\n      <td>1.0</td>\n      <td>4</td>\n      <td>2</td>\n      <td>191</td>\n      <td>30</td>\n      <td>...</td>\n      <td>0.0</td>\n      <td>0.0</td>\n      <td>0.0</td>\n      <td>1.0</td>\n      <td>5</td>\n      <td>0</td>\n      <td>0</td>\n      <td>0</td>\n      <td>0</td>\n      <td>0</td>\n    </tr>\n    <tr>\n      <th>47</th>\n      <td>47</td>\n      <td>70</td>\n      <td>0</td>\n      <td>0.0</td>\n      <td>2.630627</td>\n      <td>1.0</td>\n      <td>6</td>\n      <td>2</td>\n      <td>644</td>\n      <td>30</td>\n      <td>...</td>\n      <td>0.0</td>\n      <td>0.0</td>\n      <td>0.0</td>\n      <td>1.0</td>\n      <td>1</td>\n      <td>0</td>\n      <td>0</td>\n      <td>0</td>\n      <td>0</td>\n      <td>0</td>\n    </tr>\n    <tr>\n      <th>51</th>\n      <td>51</td>\n      <td>26</td>\n      <td>0</td>\n      <td>0.0</td>\n      <td>3.199971</td>\n      <td>6.0</td>\n      <td>1</td>\n      <td>1</td>\n      <td>758</td>\n      <td>30</td>\n      <td>...</td>\n      <td>0.0</td>\n      <td>1.0</td>\n      <td>0.0</td>\n      <td>0.0</td>\n      <td>2</td>\n      <td>0</td>\n      <td>1</td>\n      <td>0</td>\n      <td>0</td>\n      <td>0</td>\n    </tr>\n    <tr>\n      <th>55</th>\n      <td>55</td>\n      <td>57</td>\n      <td>0</td>\n      <td>0.0</td>\n      <td>1.442527</td>\n      <td>1.0</td>\n      <td>3</td>\n      <td>1</td>\n      <td>872</td>\n      <td>30</td>\n      <td>...</td>\n      <td>0.0</td>\n      <td>0.0</td>\n      <td>1.0</td>\n      <td>0.0</td>\n      <td>10</td>\n      <td>1</td>\n      <td>0</td>\n      <td>0</td>\n      <td>0</td>\n      <td>0</td>\n    </tr>\n    <tr>\n      <th>56</th>\n      <td>56</td>\n      <td>26</td>\n      <td>0</td>\n      <td>0.0</td>\n      <td>3.202553</td>\n      <td>1.0</td>\n      <td>1</td>\n      <td>1</td>\n      <td>386</td>\n      <td>30</td>\n      <td>...</td>\n      <td>0.0</td>\n      <td>0.0</td>\n      <td>0.0</td>\n      <td>1.0</td>\n      <td>6</td>\n      <td>0</td>\n      <td>0</td>\n      <td>0</td>\n      <td>0</td>\n      <td>0</td>\n    </tr>\n    <tr>\n      <th>58</th>\n      <td>58</td>\n      <td>69</td>\n      <td>1</td>\n      <td>0.0</td>\n      <td>5.725444</td>\n      <td>1.0</td>\n      <td>3</td>\n      <td>1</td>\n      <td>871</td>\n      <td>30</td>\n      <td>...</td>\n      <td>0.0</td>\n      <td>0.0</td>\n      <td>1.0</td>\n      <td>0.0</td>\n      <td>1</td>\n      <td>0</td>\n      <td>1</td>\n      <td>0</td>\n      <td>1</td>\n      <td>0</td>\n    </tr>\n  </tbody>\n</table>\n<p>25 rows × 368 columns</p>\n</div>"
     },
     "metadata": {},
     "execution_count": 17
    }
   ],
   "source": [
    "# Create new features using isin function\n",
    "\n",
    "# steroid use - V5865\n",
    "readm_data_df['steroid_use'] = readm_data_df[['dx1', 'dx2', 'dx3', 'dx4', 'dx5', 'dx6', 'dx7', 'dx8', 'dx9', 'dx10',\n",
    "               'dx11', 'dx12', 'dx13', 'dx14', 'dx15', 'dx16', 'dx17', 'dx18', 'dx19',\n",
    "               'dx20', 'dx21', 'dx22', 'dx23', 'dx24', 'dx25']].isin(['V5865']).any(axis=1).astype(int)\n",
    "\n",
    "# abdominal pain - 78900\n",
    "readm_data_df['abd_pain_adm'] = readm_data_df[['dx1', 'dx2', 'dx3', 'dx4', 'dx5', 'dx6', 'dx7', 'dx8', 'dx9', 'dx10',\n",
    "               'dx11', 'dx12', 'dx13', 'dx14', 'dx15', 'dx16', 'dx17', 'dx18', 'dx19',\n",
    "               'dx20', 'dx21', 'dx22', 'dx23', 'dx24', 'dx25']].isin(['78900']).any(axis=1).astype(int)\n",
    "\n",
    "# acute kidney injury - 5849\n",
    "readm_data_df['aki_adm'] = readm_data_df[['dx1', 'dx2', 'dx3', 'dx4', 'dx5', 'dx6', 'dx7', 'dx8', 'dx9', 'dx10',\n",
    "               'dx11', 'dx12', 'dx13', 'dx14', 'dx15', 'dx16', 'dx17', 'dx18', 'dx19',\n",
    "               'dx20', 'dx21', 'dx22', 'dx23', 'dx24', 'dx25']].isin(['5849']).any(axis=1).astype(int)\n",
    "\n",
    "# gi bleed - 5789\n",
    "readm_data_df['gi_bleed_adm'] = readm_data_df[['dx1', 'dx2', 'dx3', 'dx4', 'dx5', 'dx6', 'dx7', 'dx8', 'dx9', 'dx10',\n",
    "               'dx11', 'dx12', 'dx13', 'dx14', 'dx15', 'dx16', 'dx17', 'dx18', 'dx19',\n",
    "               'dx20', 'dx21', 'dx22', 'dx23', 'dx24', 'dx25']].isin(['5789']).any(axis=1).astype(int)\n",
    "\n",
    "readm_data_df.head(25)\n"
   ]
  },
  {
   "cell_type": "code",
   "execution_count": 18,
   "metadata": {},
   "outputs": [],
   "source": [
    "# export to CSV\n",
    "\n",
    "readm_data_df.to_csv(\"IBD_readm_data_for_Tableau.csv\")"
   ]
  },
  {
   "cell_type": "code",
   "execution_count": 19,
   "metadata": {},
   "outputs": [
    {
     "output_type": "execute_result",
     "data": {
      "text/plain": [
       "       hnhc_patients  steroid_use  abd_pain_adm  aki_adm  gi_bleed_adm  age  \\\n",
       "0                  0            0             0        0             0   89   \n",
       "3                  0            0             0        0             0   48   \n",
       "4                  0            0             0        0             0   65   \n",
       "9                  0            0             0        0             0   51   \n",
       "10                 0            0             0        0             0   22   \n",
       "...              ...          ...           ...      ...           ...  ...   \n",
       "94491              0            0             0        0             0   32   \n",
       "94492              0            0             0        0             0   54   \n",
       "94493              0            0             0        0             0   44   \n",
       "94496              1            0             0        0             0   52   \n",
       "94497              0            0             0        1             0   72   \n",
       "\n",
       "       female  los  aweekend  elective  ...  infxn_adm  gu_adm  gi_adm  \\\n",
       "0           0    4         1       0.0  ...          1       0       0   \n",
       "3           1    4         0       1.0  ...          0       0       0   \n",
       "4           0    5         0       0.0  ...          0       0       0   \n",
       "9           0    3         0       0.0  ...          0       0       1   \n",
       "10          0    6         0       1.0  ...          0       0       1   \n",
       "...       ...  ...       ...       ...  ...        ...     ...     ...   \n",
       "94491       1    3         1       0.0  ...          0       0       0   \n",
       "94492       0    4         0       1.0  ...          0       0       1   \n",
       "94493       0    9         0       1.0  ...          0       0       0   \n",
       "94496       1    2         0       1.0  ...          0       0       0   \n",
       "94497       0    4         1       0.0  ...          0       0       0   \n",
       "\n",
       "       endo_adm  neuro_adm  malignancies_adm  fracture_adm  thrombosis_adm  \\\n",
       "0             0          0                 0             0               0   \n",
       "3             0          0                 0             0               0   \n",
       "4             0          0                 0             0               0   \n",
       "9             0          0                 0             0               0   \n",
       "10            0          0                 0             0               0   \n",
       "...         ...        ...               ...           ...             ...   \n",
       "94491         0          0                 0             0               0   \n",
       "94492         0          0                 0             0               0   \n",
       "94493         0          0                 0             0               0   \n",
       "94496         0          0                 0             0               0   \n",
       "94497         0          0                 0             0               0   \n",
       "\n",
       "       ibd_specific_adm  others_adm  \n",
       "0                     0           0  \n",
       "3                     1           0  \n",
       "4                     1           0  \n",
       "9                     0           0  \n",
       "10                    0           0  \n",
       "...                 ...         ...  \n",
       "94491                 0           0  \n",
       "94492                 0           0  \n",
       "94493                 1           0  \n",
       "94496                 0           0  \n",
       "94497                 1           0  \n",
       "\n",
       "[46586 rows x 108 columns]"
      ],
      "text/html": "<div>\n<style scoped>\n    .dataframe tbody tr th:only-of-type {\n        vertical-align: middle;\n    }\n\n    .dataframe tbody tr th {\n        vertical-align: top;\n    }\n\n    .dataframe thead th {\n        text-align: right;\n    }\n</style>\n<table border=\"1\" class=\"dataframe\">\n  <thead>\n    <tr style=\"text-align: right;\">\n      <th></th>\n      <th>hnhc_patients</th>\n      <th>steroid_use</th>\n      <th>abd_pain_adm</th>\n      <th>aki_adm</th>\n      <th>gi_bleed_adm</th>\n      <th>age</th>\n      <th>female</th>\n      <th>los</th>\n      <th>aweekend</th>\n      <th>elective</th>\n      <th>...</th>\n      <th>infxn_adm</th>\n      <th>gu_adm</th>\n      <th>gi_adm</th>\n      <th>endo_adm</th>\n      <th>neuro_adm</th>\n      <th>malignancies_adm</th>\n      <th>fracture_adm</th>\n      <th>thrombosis_adm</th>\n      <th>ibd_specific_adm</th>\n      <th>others_adm</th>\n    </tr>\n  </thead>\n  <tbody>\n    <tr>\n      <th>0</th>\n      <td>0</td>\n      <td>0</td>\n      <td>0</td>\n      <td>0</td>\n      <td>0</td>\n      <td>89</td>\n      <td>0</td>\n      <td>4</td>\n      <td>1</td>\n      <td>0.0</td>\n      <td>...</td>\n      <td>1</td>\n      <td>0</td>\n      <td>0</td>\n      <td>0</td>\n      <td>0</td>\n      <td>0</td>\n      <td>0</td>\n      <td>0</td>\n      <td>0</td>\n      <td>0</td>\n    </tr>\n    <tr>\n      <th>3</th>\n      <td>0</td>\n      <td>0</td>\n      <td>0</td>\n      <td>0</td>\n      <td>0</td>\n      <td>48</td>\n      <td>1</td>\n      <td>4</td>\n      <td>0</td>\n      <td>1.0</td>\n      <td>...</td>\n      <td>0</td>\n      <td>0</td>\n      <td>0</td>\n      <td>0</td>\n      <td>0</td>\n      <td>0</td>\n      <td>0</td>\n      <td>0</td>\n      <td>1</td>\n      <td>0</td>\n    </tr>\n    <tr>\n      <th>4</th>\n      <td>0</td>\n      <td>0</td>\n      <td>0</td>\n      <td>0</td>\n      <td>0</td>\n      <td>65</td>\n      <td>0</td>\n      <td>5</td>\n      <td>0</td>\n      <td>0.0</td>\n      <td>...</td>\n      <td>0</td>\n      <td>0</td>\n      <td>0</td>\n      <td>0</td>\n      <td>0</td>\n      <td>0</td>\n      <td>0</td>\n      <td>0</td>\n      <td>1</td>\n      <td>0</td>\n    </tr>\n    <tr>\n      <th>9</th>\n      <td>0</td>\n      <td>0</td>\n      <td>0</td>\n      <td>0</td>\n      <td>0</td>\n      <td>51</td>\n      <td>0</td>\n      <td>3</td>\n      <td>0</td>\n      <td>0.0</td>\n      <td>...</td>\n      <td>0</td>\n      <td>0</td>\n      <td>1</td>\n      <td>0</td>\n      <td>0</td>\n      <td>0</td>\n      <td>0</td>\n      <td>0</td>\n      <td>0</td>\n      <td>0</td>\n    </tr>\n    <tr>\n      <th>10</th>\n      <td>0</td>\n      <td>0</td>\n      <td>0</td>\n      <td>0</td>\n      <td>0</td>\n      <td>22</td>\n      <td>0</td>\n      <td>6</td>\n      <td>0</td>\n      <td>1.0</td>\n      <td>...</td>\n      <td>0</td>\n      <td>0</td>\n      <td>1</td>\n      <td>0</td>\n      <td>0</td>\n      <td>0</td>\n      <td>0</td>\n      <td>0</td>\n      <td>0</td>\n      <td>0</td>\n    </tr>\n    <tr>\n      <th>...</th>\n      <td>...</td>\n      <td>...</td>\n      <td>...</td>\n      <td>...</td>\n      <td>...</td>\n      <td>...</td>\n      <td>...</td>\n      <td>...</td>\n      <td>...</td>\n      <td>...</td>\n      <td>...</td>\n      <td>...</td>\n      <td>...</td>\n      <td>...</td>\n      <td>...</td>\n      <td>...</td>\n      <td>...</td>\n      <td>...</td>\n      <td>...</td>\n      <td>...</td>\n      <td>...</td>\n    </tr>\n    <tr>\n      <th>94491</th>\n      <td>0</td>\n      <td>0</td>\n      <td>0</td>\n      <td>0</td>\n      <td>0</td>\n      <td>32</td>\n      <td>1</td>\n      <td>3</td>\n      <td>1</td>\n      <td>0.0</td>\n      <td>...</td>\n      <td>0</td>\n      <td>0</td>\n      <td>0</td>\n      <td>0</td>\n      <td>0</td>\n      <td>0</td>\n      <td>0</td>\n      <td>0</td>\n      <td>0</td>\n      <td>0</td>\n    </tr>\n    <tr>\n      <th>94492</th>\n      <td>0</td>\n      <td>0</td>\n      <td>0</td>\n      <td>0</td>\n      <td>0</td>\n      <td>54</td>\n      <td>0</td>\n      <td>4</td>\n      <td>0</td>\n      <td>1.0</td>\n      <td>...</td>\n      <td>0</td>\n      <td>0</td>\n      <td>1</td>\n      <td>0</td>\n      <td>0</td>\n      <td>0</td>\n      <td>0</td>\n      <td>0</td>\n      <td>0</td>\n      <td>0</td>\n    </tr>\n    <tr>\n      <th>94493</th>\n      <td>0</td>\n      <td>0</td>\n      <td>0</td>\n      <td>0</td>\n      <td>0</td>\n      <td>44</td>\n      <td>0</td>\n      <td>9</td>\n      <td>0</td>\n      <td>1.0</td>\n      <td>...</td>\n      <td>0</td>\n      <td>0</td>\n      <td>0</td>\n      <td>0</td>\n      <td>0</td>\n      <td>0</td>\n      <td>0</td>\n      <td>0</td>\n      <td>1</td>\n      <td>0</td>\n    </tr>\n    <tr>\n      <th>94496</th>\n      <td>1</td>\n      <td>0</td>\n      <td>0</td>\n      <td>0</td>\n      <td>0</td>\n      <td>52</td>\n      <td>1</td>\n      <td>2</td>\n      <td>0</td>\n      <td>1.0</td>\n      <td>...</td>\n      <td>0</td>\n      <td>0</td>\n      <td>0</td>\n      <td>0</td>\n      <td>0</td>\n      <td>0</td>\n      <td>0</td>\n      <td>0</td>\n      <td>0</td>\n      <td>0</td>\n    </tr>\n    <tr>\n      <th>94497</th>\n      <td>0</td>\n      <td>0</td>\n      <td>0</td>\n      <td>1</td>\n      <td>0</td>\n      <td>72</td>\n      <td>0</td>\n      <td>4</td>\n      <td>1</td>\n      <td>0.0</td>\n      <td>...</td>\n      <td>0</td>\n      <td>0</td>\n      <td>0</td>\n      <td>0</td>\n      <td>0</td>\n      <td>0</td>\n      <td>0</td>\n      <td>0</td>\n      <td>1</td>\n      <td>0</td>\n    </tr>\n  </tbody>\n</table>\n<p>46586 rows × 108 columns</p>\n</div>"
     },
     "metadata": {},
     "execution_count": 19
    }
   ],
   "source": [
    "# Intially run with entire feature list so RFECV can use backwards selection to pick top features\n",
    "data = readm_data_df[['hnhc_patients', 'steroid_use', 'abd_pain_adm', 'aki_adm', 'gi_bleed_adm',\n",
    " 'age',\n",
    " 'female',\n",
    " 'los',\n",
    " 'aweekend',\n",
    " 'elective',\n",
    " 'orproc',\n",
    " 'hosp_urban_rural_location',\n",
    " 'payer',\n",
    " 'zipinc_qrtl',\n",
    " 'severe_IBD_hospitalization',\n",
    " 'cm_aids',\n",
    " 'cm_alcohol',\n",
    " 'cm_anemdef',\n",
    " 'cm_arth',\n",
    " 'cm_bldloss',\n",
    " 'cm_chf',\n",
    " 'cm_chrnlung',\n",
    " 'cm_depress',\n",
    " 'cm_coag',\n",
    " 'cm_dm',\n",
    " 'cm_dmcx',\n",
    " 'cm_drug',\n",
    " 'cm_htn_c',\n",
    " 'cm_hypothy',\n",
    " 'cm_liver',\n",
    " 'cm_lymph',\n",
    " 'cm_lytes',\n",
    " 'cm_mets',\n",
    " 'cm_neuro',\n",
    " 'cm_obese',\n",
    " 'cm_para',\n",
    " 'cm_perivasc',\n",
    " 'cm_psych',\n",
    " 'cm_pulmcirc',\n",
    " 'cm_renlfail',\n",
    " 'cm_tumor',\n",
    " 'cm_ulcer',\n",
    " 'cm_valve',\n",
    " 'cm_wghtloss',\n",
    " 'diabetes',\n",
    " 'copd',\n",
    " 'cm_smoking',\n",
    " 'blood_transfusion',\n",
    " 'ibd_procedures',\n",
    " 'cc_index',\n",
    " 'new_cc_index',\n",
    " 'fractures',\n",
    " 'thromboses',\n",
    " 'unplanned_adm',\n",
    " 'pq1_dm_short',\n",
    " 'pq2_perf_appendix',\n",
    " 'pq3_dm_long',\n",
    " 'pq5_copd_asthma',\n",
    " 'pq7_htn',\n",
    " 'pq8_chf',\n",
    " 'pq10_dehydrate',\n",
    " 'pq11_bacterialpna',\n",
    " 'pq12_uti',\n",
    " 'pq13_angina',\n",
    " 'pq14_diabeteswocomp',\n",
    " 'pq15_asthma',\n",
    " 'pq16_dm_amputate',\n",
    " 'new_mi_adm',\n",
    " 'new_chf_adm',\n",
    " 'new_unstableangina_adm',\n",
    " 'new_arrhythmia_adm',\n",
    " 'new_cardiacarrest_adm',\n",
    " 'new_meningitis_adm',\n",
    " 'new_encephalitis_adm',\n",
    " 'new_endocarditis_adm',\n",
    " 'new_pneumonia_adm',\n",
    " 'new_pyelonephritis_adm',\n",
    " 'new_osteo_adm',\n",
    " 'new_septicemia_adm',\n",
    " 'new_cdiff_adm',\n",
    " 'new_tb_adm',\n",
    " 'new_atypicalmyco_adm',\n",
    " 'new_fungal_adm',\n",
    " 'new_listeriosis_adm',\n",
    " 'new_leishmaniasis_adm',\n",
    " 'new_pcp_adm',\n",
    " 'chronic_pain',\n",
    " 'ibd_surgery_adm',\n",
    " 'frailty_risk_score',\n",
    " 'frailty_risk_category_index',\n",
    " 'h_contrl',\n",
    " 'hosp_bedsize',\n",
    " 'hosp_ur_teach',\n",
    " 'hosp_urcat4',\n",
    " 'prevent_readm',\n",
    " 'cardiac_adm',\n",
    " 'cvd_adm',\n",
    " 'resp_adm',\n",
    " 'infxn_adm',\n",
    " 'gu_adm',\n",
    " 'gi_adm',\n",
    " 'endo_adm',\n",
    " 'neuro_adm',\n",
    " 'malignancies_adm',\n",
    " 'fracture_adm',\n",
    " 'thrombosis_adm',\n",
    " 'ibd_specific_adm',\n",
    " 'others_adm']]\n",
    "\n",
    "cleaned_data = data.dropna(axis='rows')\n",
    "cleaned_data"
   ]
  },
  {
   "cell_type": "code",
   "execution_count": 20,
   "metadata": {},
   "outputs": [
    {
     "output_type": "execute_result",
     "data": {
      "text/plain": [
       "0        0\n",
       "3        0\n",
       "4        0\n",
       "9        0\n",
       "10       0\n",
       "        ..\n",
       "94491    0\n",
       "94492    0\n",
       "94493    0\n",
       "94496    1\n",
       "94497    0\n",
       "Name: hnhc_patients, Length: 46586, dtype: int64"
      ]
     },
     "metadata": {},
     "execution_count": 20
    }
   ],
   "source": [
    "# Grab outcome/label names after dropping na's/rows with na's\n",
    "target = cleaned_data[\"hnhc_patients\"]\n",
    "target_names = [\"none\", \"hnhc\"]\n",
    "target = target.astype('int64')\n",
    "target"
   ]
  },
  {
   "cell_type": "code",
   "execution_count": 21,
   "metadata": {},
   "outputs": [
    {
     "output_type": "execute_result",
     "data": {
      "text/plain": [
       "Index(['steroid_use', 'abd_pain_adm', 'aki_adm', 'gi_bleed_adm', 'age',\n",
       "       'female', 'los', 'aweekend', 'elective', 'orproc',\n",
       "       ...\n",
       "       'infxn_adm', 'gu_adm', 'gi_adm', 'endo_adm', 'neuro_adm',\n",
       "       'malignancies_adm', 'fracture_adm', 'thrombosis_adm',\n",
       "       'ibd_specific_adm', 'others_adm'],\n",
       "      dtype='object', length=107)"
      ]
     },
     "metadata": {},
     "execution_count": 21
    }
   ],
   "source": [
    "# Grab feature names after dropping na's/rows with na\n",
    "cleaned_data_wo_outcome = cleaned_data.drop('hnhc_patients', axis=1)\n",
    "featured_names = cleaned_data_wo_outcome.columns\n",
    "featured_names"
   ]
  },
  {
   "cell_type": "code",
   "execution_count": 22,
   "metadata": {},
   "outputs": [
    {
     "output_type": "execute_result",
     "data": {
      "text/plain": [
       "steroid_use         0\n",
       "abd_pain_adm        0\n",
       "aki_adm             0\n",
       "gi_bleed_adm        0\n",
       "age                 0\n",
       "                   ..\n",
       "malignancies_adm    0\n",
       "fracture_adm        0\n",
       "thrombosis_adm      0\n",
       "ibd_specific_adm    0\n",
       "others_adm          0\n",
       "Length: 107, dtype: int64"
      ]
     },
     "metadata": {},
     "execution_count": 22
    }
   ],
   "source": [
    "# Check for na values\n",
    "cleaned_data_wo_outcome.isnull().sum()"
   ]
  },
  {
   "source": [
    "# Utilizing RFECV to do feature selection"
   ],
   "cell_type": "markdown",
   "metadata": {}
  },
  {
   "cell_type": "code",
   "execution_count": 23,
   "metadata": {},
   "outputs": [],
   "source": [
    "# # 20 features\n",
    "# from sklearn.ensemble import RandomForestClassifier\n",
    "# from sklearn.tree import DecisionTreeClassifier\n",
    "# from sklearn.model_selection import StratifiedKFold\n",
    "# from sklearn.feature_selection import RFE\n",
    "\n",
    "# clf = DecisionTreeClassifier()\n",
    "# trans = RFE(clf, n_features_to_select=20)\n",
    "# data_trans = trans.fit_transform(cleaned_data_wo_outcome, target)\n",
    "# columns_retained_RFECV_20 = cleaned_data.iloc[:, 1:].columns[trans.get_support()].values\n",
    "# columns_retained_RFECV_20\n",
    "\n",
    "# Values in case this gets run on accident when it's commented out:\n",
    "\n",
    "# array(['age', 'female', 'los', 'aweekend', 'payer', 'zipinc_qrtl',\n",
    "#        'cm_depress', 'cm_dm', 'cm_htn_c', 'cm_hypothy', 'cm_lytes',\n",
    "#        'cm_smoking', 'ibd_procedures', 'cc_index', 'frailty_risk_score',\n",
    "#        'h_contrl', 'hosp_bedsize', 'hosp_ur_teach', 'hosp_urcat4',\n",
    "#        'gi_adm'], dtype=object)"
   ]
  },
  {
   "cell_type": "code",
   "execution_count": 38,
   "metadata": {},
   "outputs": [
    {
     "output_type": "execute_result",
     "data": {
      "text/plain": [
       "array(['age', 'los', 'zipinc_qrtl', 'frailty_risk_score', 'hosp_bedsize'],\n",
       "      dtype=object)"
      ]
     },
     "metadata": {},
     "execution_count": 38
    }
   ],
   "source": [
    "# 10 features\n",
    "from sklearn.ensemble import RandomForestClassifier\n",
    "from sklearn.tree import DecisionTreeClassifier\n",
    "from sklearn.model_selection import StratifiedKFold\n",
    "from sklearn.feature_selection import RFE\n",
    "\n",
    "clf = DecisionTreeClassifier()\n",
    "trans = RFE(clf, n_features_to_select=5)\n",
    "data_trans = trans.fit_transform(cleaned_data_wo_outcome, target)\n",
    "columns_retained_RFECV_5 = cleaned_data.iloc[:, 1:].columns[trans.get_support()].values\n",
    "columns_retained_RFECV_5"
   ]
  },
  {
   "cell_type": "code",
   "execution_count": 56,
   "metadata": {},
   "outputs": [
    {
     "output_type": "execute_result",
     "data": {
      "text/plain": [
       "       hnhc_patients  age  los  zipinc_qrtl  frailty_risk_score  hosp_bedsize\n",
       "0                  0   89    4          4.0                 4.7             3\n",
       "3                  0   48    4          3.0                 0.5             3\n",
       "4                  0   65    5          2.0                 5.7             2\n",
       "9                  0   51    3          4.0                 2.8             2\n",
       "10                 0   22    6          2.0                 3.8             3\n",
       "...              ...  ...  ...          ...                 ...           ...\n",
       "94491              0   32    3          4.0                 0.0             2\n",
       "94492              0   54    4          4.0                 0.0             3\n",
       "94493              0   44    9          4.0                 0.0             3\n",
       "94496              1   52    2          1.0                 1.5             3\n",
       "94497              0   72    4          2.0                 4.7             3\n",
       "\n",
       "[46685 rows x 6 columns]"
      ],
      "text/html": "<div>\n<style scoped>\n    .dataframe tbody tr th:only-of-type {\n        vertical-align: middle;\n    }\n\n    .dataframe tbody tr th {\n        vertical-align: top;\n    }\n\n    .dataframe thead th {\n        text-align: right;\n    }\n</style>\n<table border=\"1\" class=\"dataframe\">\n  <thead>\n    <tr style=\"text-align: right;\">\n      <th></th>\n      <th>hnhc_patients</th>\n      <th>age</th>\n      <th>los</th>\n      <th>zipinc_qrtl</th>\n      <th>frailty_risk_score</th>\n      <th>hosp_bedsize</th>\n    </tr>\n  </thead>\n  <tbody>\n    <tr>\n      <th>0</th>\n      <td>0</td>\n      <td>89</td>\n      <td>4</td>\n      <td>4.0</td>\n      <td>4.7</td>\n      <td>3</td>\n    </tr>\n    <tr>\n      <th>3</th>\n      <td>0</td>\n      <td>48</td>\n      <td>4</td>\n      <td>3.0</td>\n      <td>0.5</td>\n      <td>3</td>\n    </tr>\n    <tr>\n      <th>4</th>\n      <td>0</td>\n      <td>65</td>\n      <td>5</td>\n      <td>2.0</td>\n      <td>5.7</td>\n      <td>2</td>\n    </tr>\n    <tr>\n      <th>9</th>\n      <td>0</td>\n      <td>51</td>\n      <td>3</td>\n      <td>4.0</td>\n      <td>2.8</td>\n      <td>2</td>\n    </tr>\n    <tr>\n      <th>10</th>\n      <td>0</td>\n      <td>22</td>\n      <td>6</td>\n      <td>2.0</td>\n      <td>3.8</td>\n      <td>3</td>\n    </tr>\n    <tr>\n      <th>...</th>\n      <td>...</td>\n      <td>...</td>\n      <td>...</td>\n      <td>...</td>\n      <td>...</td>\n      <td>...</td>\n    </tr>\n    <tr>\n      <th>94491</th>\n      <td>0</td>\n      <td>32</td>\n      <td>3</td>\n      <td>4.0</td>\n      <td>0.0</td>\n      <td>2</td>\n    </tr>\n    <tr>\n      <th>94492</th>\n      <td>0</td>\n      <td>54</td>\n      <td>4</td>\n      <td>4.0</td>\n      <td>0.0</td>\n      <td>3</td>\n    </tr>\n    <tr>\n      <th>94493</th>\n      <td>0</td>\n      <td>44</td>\n      <td>9</td>\n      <td>4.0</td>\n      <td>0.0</td>\n      <td>3</td>\n    </tr>\n    <tr>\n      <th>94496</th>\n      <td>1</td>\n      <td>52</td>\n      <td>2</td>\n      <td>1.0</td>\n      <td>1.5</td>\n      <td>3</td>\n    </tr>\n    <tr>\n      <th>94497</th>\n      <td>0</td>\n      <td>72</td>\n      <td>4</td>\n      <td>2.0</td>\n      <td>4.7</td>\n      <td>3</td>\n    </tr>\n  </tbody>\n</table>\n<p>46685 rows × 6 columns</p>\n</div>"
     },
     "metadata": {},
     "execution_count": 56
    }
   ],
   "source": [
    "# Feature list from RFECV results\n",
    "# data_selected = readm_data_df[['hnhc_patients','age', 'female', 'los', 'aweekend', 'payer', 'zipinc_qrtl', #TOP 20 FEATURES WITH CM_HYPOTHY AND CM_LYTES REMOVED\n",
    "#        'cm_depress', 'cm_dm', 'cm_htn_c', #'cm_hypothy', 'cm_lytes',\n",
    "#        'cm_smoking', 'ibd_procedures', 'cc_index', 'frailty_risk_score',\n",
    "#        'h_contrl', 'hosp_bedsize', 'hosp_ur_teach', 'hosp_urcat4',\n",
    "#        'gi_adm']]\n",
    "\n",
    "data_selected = readm_data_df[['hnhc_patients', 'age', 'los', 'zipinc_qrtl', 'frailty_risk_score', 'hosp_bedsize']]\n",
    "\n",
    "cleaned_data_selected = data_selected.dropna(axis='rows')\n",
    "cleaned_data_selected"
   ]
  },
  {
   "cell_type": "code",
   "execution_count": 57,
   "metadata": {},
   "outputs": [
    {
     "output_type": "execute_result",
     "data": {
      "text/plain": [
       "0        0\n",
       "3        0\n",
       "4        0\n",
       "9        0\n",
       "10       0\n",
       "        ..\n",
       "94491    0\n",
       "94492    0\n",
       "94493    0\n",
       "94496    1\n",
       "94497    0\n",
       "Name: hnhc_patients, Length: 46685, dtype: int64"
      ]
     },
     "metadata": {},
     "execution_count": 57
    }
   ],
   "source": [
    "# Grab outcome/label names after dropping na's/rows with na's\n",
    "target_selected = cleaned_data_selected[\"hnhc_patients\"]\n",
    "target_names_selected = [\"none\", \"hnhc\"]\n",
    "target_selected = target_selected.astype('int64')\n",
    "target_selected"
   ]
  },
  {
   "cell_type": "code",
   "execution_count": 58,
   "metadata": {},
   "outputs": [
    {
     "output_type": "execute_result",
     "data": {
      "text/plain": [
       "Index(['age', 'los', 'zipinc_qrtl', 'frailty_risk_score', 'hosp_bedsize'], dtype='object')"
      ]
     },
     "metadata": {},
     "execution_count": 58
    }
   ],
   "source": [
    "# Grab feature names after dropping na's/rows with na\n",
    "cleaned_data_wo_outcome_selected = cleaned_data_selected.drop('hnhc_patients', axis=1)\n",
    "featured_names_selected = cleaned_data_wo_outcome_selected.columns\n",
    "featured_names_selected"
   ]
  },
  {
   "cell_type": "code",
   "execution_count": 59,
   "metadata": {},
   "outputs": [
    {
     "output_type": "stream",
     "name": "stdout",
     "text": [
      "Training Score: 0.9817210750292749\n",
      "Testing Score: 0.9085846470185058\n"
     ]
    }
   ],
   "source": [
    "# Hypertuning parameers with Random Forest Classifier\n",
    "from sklearn.ensemble import RandomForestClassifier\n",
    "\n",
    "from sklearn.model_selection import train_test_split\n",
    "X_train, X_test, y_train, y_test = train_test_split(cleaned_data_wo_outcome_selected, target_selected, random_state=42)\n",
    "\n",
    "rf = RandomForestClassifier(n_estimators=200)\n",
    "\n",
    "rf.fit(X_train, y_train)\n",
    "\n",
    "print(f'Training Score: {rf.score(X_train, y_train)}')\n",
    "print(f'Testing Score: {rf.score(X_test, y_test)}')\n",
    "\n",
    "# Hypertuning parameters\n",
    "from sklearn.model_selection import GridSearchCV\n",
    "param_grid = {'n_estimators': [50, 100, 150, 200],\n",
    "              'max_depth': [5, 10, 15]}\n",
    "\n",
    "grid = GridSearchCV(rf,param_grid, verbose=3)"
   ]
  },
  {
   "cell_type": "code",
   "execution_count": 60,
   "metadata": {},
   "outputs": [
    {
     "output_type": "stream",
     "name": "stdout",
     "text": [
      "Fitting 5 folds for each of 12 candidates, totalling 60 fits\n",
      "[CV] max_depth=5, n_estimators=50 ....................................\n",
      "[Parallel(n_jobs=1)]: Using backend SequentialBackend with 1 concurrent workers.\n",
      "[CV] ........ max_depth=5, n_estimators=50, score=0.928, total=   0.7s\n",
      "[CV] max_depth=5, n_estimators=50 ....................................\n",
      "[Parallel(n_jobs=1)]: Done   1 out of   1 | elapsed:    0.6s remaining:    0.0s\n",
      "[CV] ........ max_depth=5, n_estimators=50, score=0.931, total=   0.7s\n",
      "[CV] max_depth=5, n_estimators=50 ....................................\n",
      "[Parallel(n_jobs=1)]: Done   2 out of   2 | elapsed:    1.3s remaining:    0.0s\n",
      "[CV] ........ max_depth=5, n_estimators=50, score=0.925, total=   0.7s\n",
      "[CV] max_depth=5, n_estimators=50 ....................................\n",
      "[CV] ........ max_depth=5, n_estimators=50, score=0.924, total=   0.6s\n",
      "[CV] max_depth=5, n_estimators=50 ....................................\n",
      "[CV] ........ max_depth=5, n_estimators=50, score=0.923, total=   0.6s\n",
      "[CV] max_depth=5, n_estimators=100 ...................................\n",
      "[CV] ....... max_depth=5, n_estimators=100, score=0.928, total=   1.1s\n",
      "[CV] max_depth=5, n_estimators=100 ...................................\n",
      "[CV] ....... max_depth=5, n_estimators=100, score=0.931, total=   1.2s\n",
      "[CV] max_depth=5, n_estimators=100 ...................................\n",
      "[CV] ....... max_depth=5, n_estimators=100, score=0.925, total=   1.2s\n",
      "[CV] max_depth=5, n_estimators=100 ...................................\n",
      "[CV] ....... max_depth=5, n_estimators=100, score=0.924, total=   1.2s\n",
      "[CV] max_depth=5, n_estimators=100 ...................................\n",
      "[CV] ....... max_depth=5, n_estimators=100, score=0.923, total=   1.1s\n",
      "[CV] max_depth=5, n_estimators=150 ...................................\n",
      "[CV] ....... max_depth=5, n_estimators=150, score=0.928, total=   1.7s\n",
      "[CV] max_depth=5, n_estimators=150 ...................................\n",
      "[CV] ....... max_depth=5, n_estimators=150, score=0.931, total=   1.7s\n",
      "[CV] max_depth=5, n_estimators=150 ...................................\n",
      "[CV] ....... max_depth=5, n_estimators=150, score=0.925, total=   2.1s\n",
      "[CV] max_depth=5, n_estimators=150 ...................................\n",
      "[CV] ....... max_depth=5, n_estimators=150, score=0.924, total=   1.6s\n",
      "[CV] max_depth=5, n_estimators=150 ...................................\n",
      "[CV] ....... max_depth=5, n_estimators=150, score=0.923, total=   1.7s\n",
      "[CV] max_depth=5, n_estimators=200 ...................................\n",
      "[CV] ....... max_depth=5, n_estimators=200, score=0.928, total=   2.2s\n",
      "[CV] max_depth=5, n_estimators=200 ...................................\n",
      "[CV] ....... max_depth=5, n_estimators=200, score=0.931, total=   2.4s\n",
      "[CV] max_depth=5, n_estimators=200 ...................................\n",
      "[CV] ....... max_depth=5, n_estimators=200, score=0.925, total=   2.2s\n",
      "[CV] max_depth=5, n_estimators=200 ...................................\n",
      "[CV] ....... max_depth=5, n_estimators=200, score=0.924, total=   2.2s\n",
      "[CV] max_depth=5, n_estimators=200 ...................................\n",
      "[CV] ....... max_depth=5, n_estimators=200, score=0.923, total=   2.2s\n",
      "[CV] max_depth=10, n_estimators=50 ...................................\n",
      "[CV] ....... max_depth=10, n_estimators=50, score=0.926, total=   0.8s\n",
      "[CV] max_depth=10, n_estimators=50 ...................................\n",
      "[CV] ....... max_depth=10, n_estimators=50, score=0.931, total=   0.8s\n",
      "[CV] max_depth=10, n_estimators=50 ...................................\n",
      "[CV] ....... max_depth=10, n_estimators=50, score=0.925, total=   0.7s\n",
      "[CV] max_depth=10, n_estimators=50 ...................................\n",
      "[CV] ....... max_depth=10, n_estimators=50, score=0.922, total=   0.7s\n",
      "[CV] max_depth=10, n_estimators=50 ...................................\n",
      "[CV] ....... max_depth=10, n_estimators=50, score=0.922, total=   0.7s\n",
      "[CV] max_depth=10, n_estimators=100 ..................................\n",
      "[CV] ...... max_depth=10, n_estimators=100, score=0.926, total=   1.4s\n",
      "[CV] max_depth=10, n_estimators=100 ..................................\n",
      "[CV] ...... max_depth=10, n_estimators=100, score=0.930, total=   1.4s\n",
      "[CV] max_depth=10, n_estimators=100 ..................................\n",
      "[CV] ...... max_depth=10, n_estimators=100, score=0.924, total=   1.5s\n",
      "[CV] max_depth=10, n_estimators=100 ..................................\n",
      "[CV] ...... max_depth=10, n_estimators=100, score=0.921, total=   1.4s\n",
      "[CV] max_depth=10, n_estimators=100 ..................................\n",
      "[CV] ...... max_depth=10, n_estimators=100, score=0.922, total=   1.4s\n",
      "[CV] max_depth=10, n_estimators=150 ..................................\n",
      "[CV] ...... max_depth=10, n_estimators=150, score=0.926, total=   2.2s\n",
      "[CV] max_depth=10, n_estimators=150 ..................................\n",
      "[CV] ...... max_depth=10, n_estimators=150, score=0.930, total=   2.1s\n",
      "[CV] max_depth=10, n_estimators=150 ..................................\n",
      "[CV] ...... max_depth=10, n_estimators=150, score=0.925, total=   2.4s\n",
      "[CV] max_depth=10, n_estimators=150 ..................................\n",
      "[CV] ...... max_depth=10, n_estimators=150, score=0.921, total=   2.2s\n",
      "[CV] max_depth=10, n_estimators=150 ..................................\n",
      "[CV] ...... max_depth=10, n_estimators=150, score=0.922, total=   2.3s\n",
      "[CV] max_depth=10, n_estimators=200 ..................................\n",
      "[CV] ...... max_depth=10, n_estimators=200, score=0.926, total=   3.0s\n",
      "[CV] max_depth=10, n_estimators=200 ..................................\n",
      "[CV] ...... max_depth=10, n_estimators=200, score=0.930, total=   3.1s\n",
      "[CV] max_depth=10, n_estimators=200 ..................................\n",
      "[CV] ...... max_depth=10, n_estimators=200, score=0.925, total=   2.9s\n",
      "[CV] max_depth=10, n_estimators=200 ..................................\n",
      "[CV] ...... max_depth=10, n_estimators=200, score=0.921, total=   3.0s\n",
      "[CV] max_depth=10, n_estimators=200 ..................................\n",
      "[CV] ...... max_depth=10, n_estimators=200, score=0.922, total=   3.0s\n",
      "[CV] max_depth=15, n_estimators=50 ...................................\n",
      "[CV] ....... max_depth=15, n_estimators=50, score=0.916, total=   0.9s\n",
      "[CV] max_depth=15, n_estimators=50 ...................................\n",
      "[CV] ....... max_depth=15, n_estimators=50, score=0.920, total=   0.9s\n",
      "[CV] max_depth=15, n_estimators=50 ...................................\n",
      "[CV] ....... max_depth=15, n_estimators=50, score=0.917, total=   0.8s\n",
      "[CV] max_depth=15, n_estimators=50 ...................................\n",
      "[CV] ....... max_depth=15, n_estimators=50, score=0.913, total=   0.8s\n",
      "[CV] max_depth=15, n_estimators=50 ...................................\n",
      "[CV] ....... max_depth=15, n_estimators=50, score=0.914, total=   1.0s\n",
      "[CV] max_depth=15, n_estimators=100 ..................................\n",
      "[CV] ...... max_depth=15, n_estimators=100, score=0.915, total=   1.8s\n",
      "[CV] max_depth=15, n_estimators=100 ..................................\n",
      "[CV] ...... max_depth=15, n_estimators=100, score=0.918, total=   1.7s\n",
      "[CV] max_depth=15, n_estimators=100 ..................................\n",
      "[CV] ...... max_depth=15, n_estimators=100, score=0.916, total=   1.7s\n",
      "[CV] max_depth=15, n_estimators=100 ..................................\n",
      "[CV] ...... max_depth=15, n_estimators=100, score=0.913, total=   1.7s\n",
      "[CV] max_depth=15, n_estimators=100 ..................................\n",
      "[CV] ...... max_depth=15, n_estimators=100, score=0.913, total=   1.8s\n",
      "[CV] max_depth=15, n_estimators=150 ..................................\n",
      "[CV] ...... max_depth=15, n_estimators=150, score=0.917, total=   2.5s\n",
      "[CV] max_depth=15, n_estimators=150 ..................................\n",
      "[CV] ...... max_depth=15, n_estimators=150, score=0.918, total=   2.5s\n",
      "[CV] max_depth=15, n_estimators=150 ..................................\n",
      "[CV] ...... max_depth=15, n_estimators=150, score=0.917, total=   2.6s\n",
      "[CV] max_depth=15, n_estimators=150 ..................................\n",
      "[CV] ...... max_depth=15, n_estimators=150, score=0.912, total=   2.5s\n",
      "[CV] max_depth=15, n_estimators=150 ..................................\n",
      "[CV] ...... max_depth=15, n_estimators=150, score=0.914, total=   2.5s\n",
      "[CV] max_depth=15, n_estimators=200 ..................................\n",
      "[CV] ...... max_depth=15, n_estimators=200, score=0.916, total=   3.3s\n",
      "[CV] max_depth=15, n_estimators=200 ..................................\n",
      "[CV] ...... max_depth=15, n_estimators=200, score=0.917, total=   3.6s\n",
      "[CV] max_depth=15, n_estimators=200 ..................................\n",
      "[CV] ...... max_depth=15, n_estimators=200, score=0.918, total=   3.4s\n",
      "[CV] max_depth=15, n_estimators=200 ..................................\n",
      "[CV] ...... max_depth=15, n_estimators=200, score=0.913, total=   4.0s\n",
      "[CV] max_depth=15, n_estimators=200 ..................................\n",
      "[CV] ...... max_depth=15, n_estimators=200, score=0.914, total=   3.6s\n",
      "[Parallel(n_jobs=1)]: Done  60 out of  60 | elapsed:  1.8min finished\n"
     ]
    },
    {
     "output_type": "execute_result",
     "data": {
      "text/plain": [
       "GridSearchCV(cv=None, error_score=nan,\n",
       "             estimator=RandomForestClassifier(bootstrap=True, ccp_alpha=0.0,\n",
       "                                              class_weight=None,\n",
       "                                              criterion='gini', max_depth=None,\n",
       "                                              max_features='auto',\n",
       "                                              max_leaf_nodes=None,\n",
       "                                              max_samples=None,\n",
       "                                              min_impurity_decrease=0.0,\n",
       "                                              min_impurity_split=None,\n",
       "                                              min_samples_leaf=1,\n",
       "                                              min_samples_split=2,\n",
       "                                              min_weight_fraction_leaf=0.0,\n",
       "                                              n_estimators=200, n_jobs=None,\n",
       "                                              oob_score=False,\n",
       "                                              random_state=None, verbose=0,\n",
       "                                              warm_start=False),\n",
       "             iid='deprecated', n_jobs=None,\n",
       "             param_grid={'max_depth': [5, 10, 15],\n",
       "                         'n_estimators': [50, 100, 150, 200]},\n",
       "             pre_dispatch='2*n_jobs', refit=True, return_train_score=False,\n",
       "             scoring=None, verbose=3)"
      ]
     },
     "metadata": {},
     "execution_count": 60
    }
   ],
   "source": [
    "# Printing out the grid for hypertuning\n",
    "grid.fit(X_train, y_train)"
   ]
  },
  {
   "cell_type": "code",
   "execution_count": 61,
   "metadata": {},
   "outputs": [
    {
     "output_type": "stream",
     "name": "stdout",
     "text": [
      "{'max_depth': 5, 'n_estimators': 100}\n0.9261130018012029\n"
     ]
    }
   ],
   "source": [
    "# Print the best depth and estimator\n",
    "print(grid.best_params_)\n",
    "print(grid.best_score_)"
   ]
  },
  {
   "cell_type": "code",
   "execution_count": 62,
   "metadata": {},
   "outputs": [
    {
     "output_type": "stream",
     "name": "stdout",
     "text": [
      "Training Score: 0.9261131579698969\n",
      "Testing Score: 0.9252912954078135\n"
     ]
    }
   ],
   "source": [
    "# Check the training and testing scores\n",
    "print(f'Training Score: {grid.score(X_train, y_train)}')\n",
    "grid.predict(X_test)\n",
    "print(f'Testing Score: {grid.score(X_test, y_test)}')"
   ]
  },
  {
   "cell_type": "code",
   "execution_count": 63,
   "metadata": {},
   "outputs": [
    {
     "output_type": "stream",
     "name": "stdout",
     "text": [
      "Training Score: 0.9261131579698969\nTesting Score: 0.9252912954078135\n"
     ]
    }
   ],
   "source": [
    "# Using logistic regression and k-fold validation\n",
    "from sklearn.linear_model import LogisticRegression\n",
    "classifier = LogisticRegression()\n",
    "classifier\n",
    "\n",
    "classifier.fit(X_train, y_train)\n",
    "\n",
    "print(f'Training Score: {classifier.score(X_train, y_train)}')\n",
    "print(f'Testing Score: {classifier.score(X_test, y_test)}')\n",
    "# scores = cross_val_score(classifier, cleaned_data_wo_outcome, target, cv=10,scoring='accuracy')\n",
    "# print(scores)"
   ]
  },
  {
   "cell_type": "code",
   "execution_count": 64,
   "metadata": {},
   "outputs": [],
   "source": [
    "# Creating ROC/AUC chart\n",
    "from sklearn.metrics import roc_auc_score\n",
    "from sklearn.metrics import roc_curve\n",
    "rf_roc_auc = roc_auc_score(y_test.values, grid.predict(X_test))\n",
    "fpr, tpr, thresholds = roc_curve(y_test.values, grid.predict_proba(X_test)[:,1])"
   ]
  },
  {
   "cell_type": "code",
   "execution_count": 65,
   "metadata": {},
   "outputs": [
    {
     "output_type": "display_data",
     "data": {
      "text/plain": "<Figure size 432x288 with 1 Axes>",
      "image/svg+xml": "<?xml version=\"1.0\" encoding=\"utf-8\" standalone=\"no\"?>\r\n<!DOCTYPE svg PUBLIC \"-//W3C//DTD SVG 1.1//EN\"\r\n  \"http://www.w3.org/Graphics/SVG/1.1/DTD/svg11.dtd\">\r\n<!-- Created with matplotlib (https://matplotlib.org/) -->\r\n<svg height=\"277.314375pt\" version=\"1.1\" viewBox=\"0 0 393.732813 277.314375\" width=\"393.732813pt\" xmlns=\"http://www.w3.org/2000/svg\" xmlns:xlink=\"http://www.w3.org/1999/xlink\">\r\n <defs>\r\n  <style type=\"text/css\">\r\n*{stroke-linecap:butt;stroke-linejoin:round;}\r\n  </style>\r\n </defs>\r\n <g id=\"figure_1\">\r\n  <g id=\"patch_1\">\r\n   <path d=\"M 0 277.314375 \r\nL 393.732813 277.314375 \r\nL 393.732813 0 \r\nL 0 0 \r\nz\r\n\" style=\"fill:none;\"/>\r\n  </g>\r\n  <g id=\"axes_1\">\r\n   <g id=\"patch_2\">\r\n    <path d=\"M 43.78125 239.758125 \r\nL 378.58125 239.758125 \r\nL 378.58125 22.318125 \r\nL 43.78125 22.318125 \r\nz\r\n\" style=\"fill:#ffffff;\"/>\r\n   </g>\r\n   <g id=\"matplotlib.axis_1\">\r\n    <g id=\"xtick_1\">\r\n     <g id=\"line2d_1\">\r\n      <defs>\r\n       <path d=\"M 0 0 \r\nL 0 3.5 \r\n\" id=\"m78a3afb95a\" style=\"stroke:#000000;stroke-width:0.8;\"/>\r\n      </defs>\r\n      <g>\r\n       <use style=\"stroke:#000000;stroke-width:0.8;\" x=\"43.78125\" xlink:href=\"#m78a3afb95a\" y=\"239.758125\"/>\r\n      </g>\r\n     </g>\r\n     <g id=\"text_1\">\r\n      <!-- 0.0 -->\r\n      <defs>\r\n       <path d=\"M 31.78125 66.40625 \r\nQ 24.171875 66.40625 20.328125 58.90625 \r\nQ 16.5 51.421875 16.5 36.375 \r\nQ 16.5 21.390625 20.328125 13.890625 \r\nQ 24.171875 6.390625 31.78125 6.390625 \r\nQ 39.453125 6.390625 43.28125 13.890625 \r\nQ 47.125 21.390625 47.125 36.375 \r\nQ 47.125 51.421875 43.28125 58.90625 \r\nQ 39.453125 66.40625 31.78125 66.40625 \r\nz\r\nM 31.78125 74.21875 \r\nQ 44.046875 74.21875 50.515625 64.515625 \r\nQ 56.984375 54.828125 56.984375 36.375 \r\nQ 56.984375 17.96875 50.515625 8.265625 \r\nQ 44.046875 -1.421875 31.78125 -1.421875 \r\nQ 19.53125 -1.421875 13.0625 8.265625 \r\nQ 6.59375 17.96875 6.59375 36.375 \r\nQ 6.59375 54.828125 13.0625 64.515625 \r\nQ 19.53125 74.21875 31.78125 74.21875 \r\nz\r\n\" id=\"DejaVuSans-48\"/>\r\n       <path d=\"M 10.6875 12.40625 \r\nL 21 12.40625 \r\nL 21 0 \r\nL 10.6875 0 \r\nz\r\n\" id=\"DejaVuSans-46\"/>\r\n      </defs>\r\n      <g transform=\"translate(35.829688 254.356562)scale(0.1 -0.1)\">\r\n       <use xlink:href=\"#DejaVuSans-48\"/>\r\n       <use x=\"63.623047\" xlink:href=\"#DejaVuSans-46\"/>\r\n       <use x=\"95.410156\" xlink:href=\"#DejaVuSans-48\"/>\r\n      </g>\r\n     </g>\r\n    </g>\r\n    <g id=\"xtick_2\">\r\n     <g id=\"line2d_2\">\r\n      <g>\r\n       <use style=\"stroke:#000000;stroke-width:0.8;\" x=\"110.74125\" xlink:href=\"#m78a3afb95a\" y=\"239.758125\"/>\r\n      </g>\r\n     </g>\r\n     <g id=\"text_2\">\r\n      <!-- 0.2 -->\r\n      <defs>\r\n       <path d=\"M 19.1875 8.296875 \r\nL 53.609375 8.296875 \r\nL 53.609375 0 \r\nL 7.328125 0 \r\nL 7.328125 8.296875 \r\nQ 12.9375 14.109375 22.625 23.890625 \r\nQ 32.328125 33.6875 34.8125 36.53125 \r\nQ 39.546875 41.84375 41.421875 45.53125 \r\nQ 43.3125 49.21875 43.3125 52.78125 \r\nQ 43.3125 58.59375 39.234375 62.25 \r\nQ 35.15625 65.921875 28.609375 65.921875 \r\nQ 23.96875 65.921875 18.8125 64.3125 \r\nQ 13.671875 62.703125 7.8125 59.421875 \r\nL 7.8125 69.390625 \r\nQ 13.765625 71.78125 18.9375 73 \r\nQ 24.125 74.21875 28.421875 74.21875 \r\nQ 39.75 74.21875 46.484375 68.546875 \r\nQ 53.21875 62.890625 53.21875 53.421875 \r\nQ 53.21875 48.921875 51.53125 44.890625 \r\nQ 49.859375 40.875 45.40625 35.40625 \r\nQ 44.1875 33.984375 37.640625 27.21875 \r\nQ 31.109375 20.453125 19.1875 8.296875 \r\nz\r\n\" id=\"DejaVuSans-50\"/>\r\n      </defs>\r\n      <g transform=\"translate(102.789688 254.356562)scale(0.1 -0.1)\">\r\n       <use xlink:href=\"#DejaVuSans-48\"/>\r\n       <use x=\"63.623047\" xlink:href=\"#DejaVuSans-46\"/>\r\n       <use x=\"95.410156\" xlink:href=\"#DejaVuSans-50\"/>\r\n      </g>\r\n     </g>\r\n    </g>\r\n    <g id=\"xtick_3\">\r\n     <g id=\"line2d_3\">\r\n      <g>\r\n       <use style=\"stroke:#000000;stroke-width:0.8;\" x=\"177.70125\" xlink:href=\"#m78a3afb95a\" y=\"239.758125\"/>\r\n      </g>\r\n     </g>\r\n     <g id=\"text_3\">\r\n      <!-- 0.4 -->\r\n      <defs>\r\n       <path d=\"M 37.796875 64.3125 \r\nL 12.890625 25.390625 \r\nL 37.796875 25.390625 \r\nz\r\nM 35.203125 72.90625 \r\nL 47.609375 72.90625 \r\nL 47.609375 25.390625 \r\nL 58.015625 25.390625 \r\nL 58.015625 17.1875 \r\nL 47.609375 17.1875 \r\nL 47.609375 0 \r\nL 37.796875 0 \r\nL 37.796875 17.1875 \r\nL 4.890625 17.1875 \r\nL 4.890625 26.703125 \r\nz\r\n\" id=\"DejaVuSans-52\"/>\r\n      </defs>\r\n      <g transform=\"translate(169.749688 254.356562)scale(0.1 -0.1)\">\r\n       <use xlink:href=\"#DejaVuSans-48\"/>\r\n       <use x=\"63.623047\" xlink:href=\"#DejaVuSans-46\"/>\r\n       <use x=\"95.410156\" xlink:href=\"#DejaVuSans-52\"/>\r\n      </g>\r\n     </g>\r\n    </g>\r\n    <g id=\"xtick_4\">\r\n     <g id=\"line2d_4\">\r\n      <g>\r\n       <use style=\"stroke:#000000;stroke-width:0.8;\" x=\"244.66125\" xlink:href=\"#m78a3afb95a\" y=\"239.758125\"/>\r\n      </g>\r\n     </g>\r\n     <g id=\"text_4\">\r\n      <!-- 0.6 -->\r\n      <defs>\r\n       <path d=\"M 33.015625 40.375 \r\nQ 26.375 40.375 22.484375 35.828125 \r\nQ 18.609375 31.296875 18.609375 23.390625 \r\nQ 18.609375 15.53125 22.484375 10.953125 \r\nQ 26.375 6.390625 33.015625 6.390625 \r\nQ 39.65625 6.390625 43.53125 10.953125 \r\nQ 47.40625 15.53125 47.40625 23.390625 \r\nQ 47.40625 31.296875 43.53125 35.828125 \r\nQ 39.65625 40.375 33.015625 40.375 \r\nz\r\nM 52.59375 71.296875 \r\nL 52.59375 62.3125 \r\nQ 48.875 64.0625 45.09375 64.984375 \r\nQ 41.3125 65.921875 37.59375 65.921875 \r\nQ 27.828125 65.921875 22.671875 59.328125 \r\nQ 17.53125 52.734375 16.796875 39.40625 \r\nQ 19.671875 43.65625 24.015625 45.921875 \r\nQ 28.375 48.1875 33.59375 48.1875 \r\nQ 44.578125 48.1875 50.953125 41.515625 \r\nQ 57.328125 34.859375 57.328125 23.390625 \r\nQ 57.328125 12.15625 50.6875 5.359375 \r\nQ 44.046875 -1.421875 33.015625 -1.421875 \r\nQ 20.359375 -1.421875 13.671875 8.265625 \r\nQ 6.984375 17.96875 6.984375 36.375 \r\nQ 6.984375 53.65625 15.1875 63.9375 \r\nQ 23.390625 74.21875 37.203125 74.21875 \r\nQ 40.921875 74.21875 44.703125 73.484375 \r\nQ 48.484375 72.75 52.59375 71.296875 \r\nz\r\n\" id=\"DejaVuSans-54\"/>\r\n      </defs>\r\n      <g transform=\"translate(236.709688 254.356562)scale(0.1 -0.1)\">\r\n       <use xlink:href=\"#DejaVuSans-48\"/>\r\n       <use x=\"63.623047\" xlink:href=\"#DejaVuSans-46\"/>\r\n       <use x=\"95.410156\" xlink:href=\"#DejaVuSans-54\"/>\r\n      </g>\r\n     </g>\r\n    </g>\r\n    <g id=\"xtick_5\">\r\n     <g id=\"line2d_5\">\r\n      <g>\r\n       <use style=\"stroke:#000000;stroke-width:0.8;\" x=\"311.62125\" xlink:href=\"#m78a3afb95a\" y=\"239.758125\"/>\r\n      </g>\r\n     </g>\r\n     <g id=\"text_5\">\r\n      <!-- 0.8 -->\r\n      <defs>\r\n       <path d=\"M 31.78125 34.625 \r\nQ 24.75 34.625 20.71875 30.859375 \r\nQ 16.703125 27.09375 16.703125 20.515625 \r\nQ 16.703125 13.921875 20.71875 10.15625 \r\nQ 24.75 6.390625 31.78125 6.390625 \r\nQ 38.8125 6.390625 42.859375 10.171875 \r\nQ 46.921875 13.96875 46.921875 20.515625 \r\nQ 46.921875 27.09375 42.890625 30.859375 \r\nQ 38.875 34.625 31.78125 34.625 \r\nz\r\nM 21.921875 38.8125 \r\nQ 15.578125 40.375 12.03125 44.71875 \r\nQ 8.5 49.078125 8.5 55.328125 \r\nQ 8.5 64.0625 14.71875 69.140625 \r\nQ 20.953125 74.21875 31.78125 74.21875 \r\nQ 42.671875 74.21875 48.875 69.140625 \r\nQ 55.078125 64.0625 55.078125 55.328125 \r\nQ 55.078125 49.078125 51.53125 44.71875 \r\nQ 48 40.375 41.703125 38.8125 \r\nQ 48.828125 37.15625 52.796875 32.3125 \r\nQ 56.78125 27.484375 56.78125 20.515625 \r\nQ 56.78125 9.90625 50.3125 4.234375 \r\nQ 43.84375 -1.421875 31.78125 -1.421875 \r\nQ 19.734375 -1.421875 13.25 4.234375 \r\nQ 6.78125 9.90625 6.78125 20.515625 \r\nQ 6.78125 27.484375 10.78125 32.3125 \r\nQ 14.796875 37.15625 21.921875 38.8125 \r\nz\r\nM 18.3125 54.390625 \r\nQ 18.3125 48.734375 21.84375 45.5625 \r\nQ 25.390625 42.390625 31.78125 42.390625 \r\nQ 38.140625 42.390625 41.71875 45.5625 \r\nQ 45.3125 48.734375 45.3125 54.390625 \r\nQ 45.3125 60.0625 41.71875 63.234375 \r\nQ 38.140625 66.40625 31.78125 66.40625 \r\nQ 25.390625 66.40625 21.84375 63.234375 \r\nQ 18.3125 60.0625 18.3125 54.390625 \r\nz\r\n\" id=\"DejaVuSans-56\"/>\r\n      </defs>\r\n      <g transform=\"translate(303.669688 254.356562)scale(0.1 -0.1)\">\r\n       <use xlink:href=\"#DejaVuSans-48\"/>\r\n       <use x=\"63.623047\" xlink:href=\"#DejaVuSans-46\"/>\r\n       <use x=\"95.410156\" xlink:href=\"#DejaVuSans-56\"/>\r\n      </g>\r\n     </g>\r\n    </g>\r\n    <g id=\"xtick_6\">\r\n     <g id=\"line2d_6\">\r\n      <g>\r\n       <use style=\"stroke:#000000;stroke-width:0.8;\" x=\"378.58125\" xlink:href=\"#m78a3afb95a\" y=\"239.758125\"/>\r\n      </g>\r\n     </g>\r\n     <g id=\"text_6\">\r\n      <!-- 1.0 -->\r\n      <defs>\r\n       <path d=\"M 12.40625 8.296875 \r\nL 28.515625 8.296875 \r\nL 28.515625 63.921875 \r\nL 10.984375 60.40625 \r\nL 10.984375 69.390625 \r\nL 28.421875 72.90625 \r\nL 38.28125 72.90625 \r\nL 38.28125 8.296875 \r\nL 54.390625 8.296875 \r\nL 54.390625 0 \r\nL 12.40625 0 \r\nz\r\n\" id=\"DejaVuSans-49\"/>\r\n      </defs>\r\n      <g transform=\"translate(370.629687 254.356562)scale(0.1 -0.1)\">\r\n       <use xlink:href=\"#DejaVuSans-49\"/>\r\n       <use x=\"63.623047\" xlink:href=\"#DejaVuSans-46\"/>\r\n       <use x=\"95.410156\" xlink:href=\"#DejaVuSans-48\"/>\r\n      </g>\r\n     </g>\r\n    </g>\r\n    <g id=\"text_7\">\r\n     <!-- False Positive Rate -->\r\n     <defs>\r\n      <path d=\"M 9.8125 72.90625 \r\nL 51.703125 72.90625 \r\nL 51.703125 64.59375 \r\nL 19.671875 64.59375 \r\nL 19.671875 43.109375 \r\nL 48.578125 43.109375 \r\nL 48.578125 34.8125 \r\nL 19.671875 34.8125 \r\nL 19.671875 0 \r\nL 9.8125 0 \r\nz\r\n\" id=\"DejaVuSans-70\"/>\r\n      <path d=\"M 34.28125 27.484375 \r\nQ 23.390625 27.484375 19.1875 25 \r\nQ 14.984375 22.515625 14.984375 16.5 \r\nQ 14.984375 11.71875 18.140625 8.90625 \r\nQ 21.296875 6.109375 26.703125 6.109375 \r\nQ 34.1875 6.109375 38.703125 11.40625 \r\nQ 43.21875 16.703125 43.21875 25.484375 \r\nL 43.21875 27.484375 \r\nz\r\nM 52.203125 31.203125 \r\nL 52.203125 0 \r\nL 43.21875 0 \r\nL 43.21875 8.296875 \r\nQ 40.140625 3.328125 35.546875 0.953125 \r\nQ 30.953125 -1.421875 24.3125 -1.421875 \r\nQ 15.921875 -1.421875 10.953125 3.296875 \r\nQ 6 8.015625 6 15.921875 \r\nQ 6 25.140625 12.171875 29.828125 \r\nQ 18.359375 34.515625 30.609375 34.515625 \r\nL 43.21875 34.515625 \r\nL 43.21875 35.40625 \r\nQ 43.21875 41.609375 39.140625 45 \r\nQ 35.0625 48.390625 27.6875 48.390625 \r\nQ 23 48.390625 18.546875 47.265625 \r\nQ 14.109375 46.140625 10.015625 43.890625 \r\nL 10.015625 52.203125 \r\nQ 14.9375 54.109375 19.578125 55.046875 \r\nQ 24.21875 56 28.609375 56 \r\nQ 40.484375 56 46.34375 49.84375 \r\nQ 52.203125 43.703125 52.203125 31.203125 \r\nz\r\n\" id=\"DejaVuSans-97\"/>\r\n      <path d=\"M 9.421875 75.984375 \r\nL 18.40625 75.984375 \r\nL 18.40625 0 \r\nL 9.421875 0 \r\nz\r\n\" id=\"DejaVuSans-108\"/>\r\n      <path d=\"M 44.28125 53.078125 \r\nL 44.28125 44.578125 \r\nQ 40.484375 46.53125 36.375 47.5 \r\nQ 32.28125 48.484375 27.875 48.484375 \r\nQ 21.1875 48.484375 17.84375 46.4375 \r\nQ 14.5 44.390625 14.5 40.28125 \r\nQ 14.5 37.15625 16.890625 35.375 \r\nQ 19.28125 33.59375 26.515625 31.984375 \r\nL 29.59375 31.296875 \r\nQ 39.15625 29.25 43.1875 25.515625 \r\nQ 47.21875 21.78125 47.21875 15.09375 \r\nQ 47.21875 7.46875 41.1875 3.015625 \r\nQ 35.15625 -1.421875 24.609375 -1.421875 \r\nQ 20.21875 -1.421875 15.453125 -0.5625 \r\nQ 10.6875 0.296875 5.421875 2 \r\nL 5.421875 11.28125 \r\nQ 10.40625 8.6875 15.234375 7.390625 \r\nQ 20.0625 6.109375 24.8125 6.109375 \r\nQ 31.15625 6.109375 34.5625 8.28125 \r\nQ 37.984375 10.453125 37.984375 14.40625 \r\nQ 37.984375 18.0625 35.515625 20.015625 \r\nQ 33.0625 21.96875 24.703125 23.78125 \r\nL 21.578125 24.515625 \r\nQ 13.234375 26.265625 9.515625 29.90625 \r\nQ 5.8125 33.546875 5.8125 39.890625 \r\nQ 5.8125 47.609375 11.28125 51.796875 \r\nQ 16.75 56 26.8125 56 \r\nQ 31.78125 56 36.171875 55.265625 \r\nQ 40.578125 54.546875 44.28125 53.078125 \r\nz\r\n\" id=\"DejaVuSans-115\"/>\r\n      <path d=\"M 56.203125 29.59375 \r\nL 56.203125 25.203125 \r\nL 14.890625 25.203125 \r\nQ 15.484375 15.921875 20.484375 11.0625 \r\nQ 25.484375 6.203125 34.421875 6.203125 \r\nQ 39.59375 6.203125 44.453125 7.46875 \r\nQ 49.3125 8.734375 54.109375 11.28125 \r\nL 54.109375 2.78125 \r\nQ 49.265625 0.734375 44.1875 -0.34375 \r\nQ 39.109375 -1.421875 33.890625 -1.421875 \r\nQ 20.796875 -1.421875 13.15625 6.1875 \r\nQ 5.515625 13.8125 5.515625 26.8125 \r\nQ 5.515625 40.234375 12.765625 48.109375 \r\nQ 20.015625 56 32.328125 56 \r\nQ 43.359375 56 49.78125 48.890625 \r\nQ 56.203125 41.796875 56.203125 29.59375 \r\nz\r\nM 47.21875 32.234375 \r\nQ 47.125 39.59375 43.09375 43.984375 \r\nQ 39.0625 48.390625 32.421875 48.390625 \r\nQ 24.90625 48.390625 20.390625 44.140625 \r\nQ 15.875 39.890625 15.1875 32.171875 \r\nz\r\n\" id=\"DejaVuSans-101\"/>\r\n      <path id=\"DejaVuSans-32\"/>\r\n      <path d=\"M 19.671875 64.796875 \r\nL 19.671875 37.40625 \r\nL 32.078125 37.40625 \r\nQ 38.96875 37.40625 42.71875 40.96875 \r\nQ 46.484375 44.53125 46.484375 51.125 \r\nQ 46.484375 57.671875 42.71875 61.234375 \r\nQ 38.96875 64.796875 32.078125 64.796875 \r\nz\r\nM 9.8125 72.90625 \r\nL 32.078125 72.90625 \r\nQ 44.34375 72.90625 50.609375 67.359375 \r\nQ 56.890625 61.8125 56.890625 51.125 \r\nQ 56.890625 40.328125 50.609375 34.8125 \r\nQ 44.34375 29.296875 32.078125 29.296875 \r\nL 19.671875 29.296875 \r\nL 19.671875 0 \r\nL 9.8125 0 \r\nz\r\n\" id=\"DejaVuSans-80\"/>\r\n      <path d=\"M 30.609375 48.390625 \r\nQ 23.390625 48.390625 19.1875 42.75 \r\nQ 14.984375 37.109375 14.984375 27.296875 \r\nQ 14.984375 17.484375 19.15625 11.84375 \r\nQ 23.34375 6.203125 30.609375 6.203125 \r\nQ 37.796875 6.203125 41.984375 11.859375 \r\nQ 46.1875 17.53125 46.1875 27.296875 \r\nQ 46.1875 37.015625 41.984375 42.703125 \r\nQ 37.796875 48.390625 30.609375 48.390625 \r\nz\r\nM 30.609375 56 \r\nQ 42.328125 56 49.015625 48.375 \r\nQ 55.71875 40.765625 55.71875 27.296875 \r\nQ 55.71875 13.875 49.015625 6.21875 \r\nQ 42.328125 -1.421875 30.609375 -1.421875 \r\nQ 18.84375 -1.421875 12.171875 6.21875 \r\nQ 5.515625 13.875 5.515625 27.296875 \r\nQ 5.515625 40.765625 12.171875 48.375 \r\nQ 18.84375 56 30.609375 56 \r\nz\r\n\" id=\"DejaVuSans-111\"/>\r\n      <path d=\"M 9.421875 54.6875 \r\nL 18.40625 54.6875 \r\nL 18.40625 0 \r\nL 9.421875 0 \r\nz\r\nM 9.421875 75.984375 \r\nL 18.40625 75.984375 \r\nL 18.40625 64.59375 \r\nL 9.421875 64.59375 \r\nz\r\n\" id=\"DejaVuSans-105\"/>\r\n      <path d=\"M 18.3125 70.21875 \r\nL 18.3125 54.6875 \r\nL 36.8125 54.6875 \r\nL 36.8125 47.703125 \r\nL 18.3125 47.703125 \r\nL 18.3125 18.015625 \r\nQ 18.3125 11.328125 20.140625 9.421875 \r\nQ 21.96875 7.515625 27.59375 7.515625 \r\nL 36.8125 7.515625 \r\nL 36.8125 0 \r\nL 27.59375 0 \r\nQ 17.1875 0 13.234375 3.875 \r\nQ 9.28125 7.765625 9.28125 18.015625 \r\nL 9.28125 47.703125 \r\nL 2.6875 47.703125 \r\nL 2.6875 54.6875 \r\nL 9.28125 54.6875 \r\nL 9.28125 70.21875 \r\nz\r\n\" id=\"DejaVuSans-116\"/>\r\n      <path d=\"M 2.984375 54.6875 \r\nL 12.5 54.6875 \r\nL 29.59375 8.796875 \r\nL 46.6875 54.6875 \r\nL 56.203125 54.6875 \r\nL 35.6875 0 \r\nL 23.484375 0 \r\nz\r\n\" id=\"DejaVuSans-118\"/>\r\n      <path d=\"M 44.390625 34.1875 \r\nQ 47.5625 33.109375 50.5625 29.59375 \r\nQ 53.5625 26.078125 56.59375 19.921875 \r\nL 66.609375 0 \r\nL 56 0 \r\nL 46.6875 18.703125 \r\nQ 43.0625 26.03125 39.671875 28.421875 \r\nQ 36.28125 30.8125 30.421875 30.8125 \r\nL 19.671875 30.8125 \r\nL 19.671875 0 \r\nL 9.8125 0 \r\nL 9.8125 72.90625 \r\nL 32.078125 72.90625 \r\nQ 44.578125 72.90625 50.734375 67.671875 \r\nQ 56.890625 62.453125 56.890625 51.90625 \r\nQ 56.890625 45.015625 53.6875 40.46875 \r\nQ 50.484375 35.9375 44.390625 34.1875 \r\nz\r\nM 19.671875 64.796875 \r\nL 19.671875 38.921875 \r\nL 32.078125 38.921875 \r\nQ 39.203125 38.921875 42.84375 42.21875 \r\nQ 46.484375 45.515625 46.484375 51.90625 \r\nQ 46.484375 58.296875 42.84375 61.546875 \r\nQ 39.203125 64.796875 32.078125 64.796875 \r\nz\r\n\" id=\"DejaVuSans-82\"/>\r\n     </defs>\r\n     <g transform=\"translate(163.975781 268.034687)scale(0.1 -0.1)\">\r\n      <use xlink:href=\"#DejaVuSans-70\"/>\r\n      <use x=\"57.378906\" xlink:href=\"#DejaVuSans-97\"/>\r\n      <use x=\"118.658203\" xlink:href=\"#DejaVuSans-108\"/>\r\n      <use x=\"146.441406\" xlink:href=\"#DejaVuSans-115\"/>\r\n      <use x=\"198.541016\" xlink:href=\"#DejaVuSans-101\"/>\r\n      <use x=\"260.064453\" xlink:href=\"#DejaVuSans-32\"/>\r\n      <use x=\"291.851562\" xlink:href=\"#DejaVuSans-80\"/>\r\n      <use x=\"352.107422\" xlink:href=\"#DejaVuSans-111\"/>\r\n      <use x=\"413.289062\" xlink:href=\"#DejaVuSans-115\"/>\r\n      <use x=\"465.388672\" xlink:href=\"#DejaVuSans-105\"/>\r\n      <use x=\"493.171875\" xlink:href=\"#DejaVuSans-116\"/>\r\n      <use x=\"532.380859\" xlink:href=\"#DejaVuSans-105\"/>\r\n      <use x=\"560.164062\" xlink:href=\"#DejaVuSans-118\"/>\r\n      <use x=\"619.34375\" xlink:href=\"#DejaVuSans-101\"/>\r\n      <use x=\"680.867188\" xlink:href=\"#DejaVuSans-32\"/>\r\n      <use x=\"712.654297\" xlink:href=\"#DejaVuSans-82\"/>\r\n      <use x=\"782.105469\" xlink:href=\"#DejaVuSans-97\"/>\r\n      <use x=\"843.384766\" xlink:href=\"#DejaVuSans-116\"/>\r\n      <use x=\"882.59375\" xlink:href=\"#DejaVuSans-101\"/>\r\n     </g>\r\n    </g>\r\n   </g>\r\n   <g id=\"matplotlib.axis_2\">\r\n    <g id=\"ytick_1\">\r\n     <g id=\"line2d_7\">\r\n      <defs>\r\n       <path d=\"M 0 0 \r\nL -3.5 0 \r\n\" id=\"meb86d04caf\" style=\"stroke:#000000;stroke-width:0.8;\"/>\r\n      </defs>\r\n      <g>\r\n       <use style=\"stroke:#000000;stroke-width:0.8;\" x=\"43.78125\" xlink:href=\"#meb86d04caf\" y=\"239.758125\"/>\r\n      </g>\r\n     </g>\r\n     <g id=\"text_8\">\r\n      <!-- 0.0 -->\r\n      <g transform=\"translate(20.878125 243.557344)scale(0.1 -0.1)\">\r\n       <use xlink:href=\"#DejaVuSans-48\"/>\r\n       <use x=\"63.623047\" xlink:href=\"#DejaVuSans-46\"/>\r\n       <use x=\"95.410156\" xlink:href=\"#DejaVuSans-48\"/>\r\n      </g>\r\n     </g>\r\n    </g>\r\n    <g id=\"ytick_2\">\r\n     <g id=\"line2d_8\">\r\n      <g>\r\n       <use style=\"stroke:#000000;stroke-width:0.8;\" x=\"43.78125\" xlink:href=\"#meb86d04caf\" y=\"198.340982\"/>\r\n      </g>\r\n     </g>\r\n     <g id=\"text_9\">\r\n      <!-- 0.2 -->\r\n      <g transform=\"translate(20.878125 202.140201)scale(0.1 -0.1)\">\r\n       <use xlink:href=\"#DejaVuSans-48\"/>\r\n       <use x=\"63.623047\" xlink:href=\"#DejaVuSans-46\"/>\r\n       <use x=\"95.410156\" xlink:href=\"#DejaVuSans-50\"/>\r\n      </g>\r\n     </g>\r\n    </g>\r\n    <g id=\"ytick_3\">\r\n     <g id=\"line2d_9\">\r\n      <g>\r\n       <use style=\"stroke:#000000;stroke-width:0.8;\" x=\"43.78125\" xlink:href=\"#meb86d04caf\" y=\"156.923839\"/>\r\n      </g>\r\n     </g>\r\n     <g id=\"text_10\">\r\n      <!-- 0.4 -->\r\n      <g transform=\"translate(20.878125 160.723058)scale(0.1 -0.1)\">\r\n       <use xlink:href=\"#DejaVuSans-48\"/>\r\n       <use x=\"63.623047\" xlink:href=\"#DejaVuSans-46\"/>\r\n       <use x=\"95.410156\" xlink:href=\"#DejaVuSans-52\"/>\r\n      </g>\r\n     </g>\r\n    </g>\r\n    <g id=\"ytick_4\">\r\n     <g id=\"line2d_10\">\r\n      <g>\r\n       <use style=\"stroke:#000000;stroke-width:0.8;\" x=\"43.78125\" xlink:href=\"#meb86d04caf\" y=\"115.506696\"/>\r\n      </g>\r\n     </g>\r\n     <g id=\"text_11\">\r\n      <!-- 0.6 -->\r\n      <g transform=\"translate(20.878125 119.305915)scale(0.1 -0.1)\">\r\n       <use xlink:href=\"#DejaVuSans-48\"/>\r\n       <use x=\"63.623047\" xlink:href=\"#DejaVuSans-46\"/>\r\n       <use x=\"95.410156\" xlink:href=\"#DejaVuSans-54\"/>\r\n      </g>\r\n     </g>\r\n    </g>\r\n    <g id=\"ytick_5\">\r\n     <g id=\"line2d_11\">\r\n      <g>\r\n       <use style=\"stroke:#000000;stroke-width:0.8;\" x=\"43.78125\" xlink:href=\"#meb86d04caf\" y=\"74.089554\"/>\r\n      </g>\r\n     </g>\r\n     <g id=\"text_12\">\r\n      <!-- 0.8 -->\r\n      <g transform=\"translate(20.878125 77.888772)scale(0.1 -0.1)\">\r\n       <use xlink:href=\"#DejaVuSans-48\"/>\r\n       <use x=\"63.623047\" xlink:href=\"#DejaVuSans-46\"/>\r\n       <use x=\"95.410156\" xlink:href=\"#DejaVuSans-56\"/>\r\n      </g>\r\n     </g>\r\n    </g>\r\n    <g id=\"ytick_6\">\r\n     <g id=\"line2d_12\">\r\n      <g>\r\n       <use style=\"stroke:#000000;stroke-width:0.8;\" x=\"43.78125\" xlink:href=\"#meb86d04caf\" y=\"32.672411\"/>\r\n      </g>\r\n     </g>\r\n     <g id=\"text_13\">\r\n      <!-- 1.0 -->\r\n      <g transform=\"translate(20.878125 36.471629)scale(0.1 -0.1)\">\r\n       <use xlink:href=\"#DejaVuSans-49\"/>\r\n       <use x=\"63.623047\" xlink:href=\"#DejaVuSans-46\"/>\r\n       <use x=\"95.410156\" xlink:href=\"#DejaVuSans-48\"/>\r\n      </g>\r\n     </g>\r\n    </g>\r\n    <g id=\"text_14\">\r\n     <!-- True Positive Rate -->\r\n     <defs>\r\n      <path d=\"M -0.296875 72.90625 \r\nL 61.375 72.90625 \r\nL 61.375 64.59375 \r\nL 35.5 64.59375 \r\nL 35.5 0 \r\nL 25.59375 0 \r\nL 25.59375 64.59375 \r\nL -0.296875 64.59375 \r\nz\r\n\" id=\"DejaVuSans-84\"/>\r\n      <path d=\"M 41.109375 46.296875 \r\nQ 39.59375 47.171875 37.8125 47.578125 \r\nQ 36.03125 48 33.890625 48 \r\nQ 26.265625 48 22.1875 43.046875 \r\nQ 18.109375 38.09375 18.109375 28.8125 \r\nL 18.109375 0 \r\nL 9.078125 0 \r\nL 9.078125 54.6875 \r\nL 18.109375 54.6875 \r\nL 18.109375 46.1875 \r\nQ 20.953125 51.171875 25.484375 53.578125 \r\nQ 30.03125 56 36.53125 56 \r\nQ 37.453125 56 38.578125 55.875 \r\nQ 39.703125 55.765625 41.0625 55.515625 \r\nz\r\n\" id=\"DejaVuSans-114\"/>\r\n      <path d=\"M 8.5 21.578125 \r\nL 8.5 54.6875 \r\nL 17.484375 54.6875 \r\nL 17.484375 21.921875 \r\nQ 17.484375 14.15625 20.5 10.265625 \r\nQ 23.53125 6.390625 29.59375 6.390625 \r\nQ 36.859375 6.390625 41.078125 11.03125 \r\nQ 45.3125 15.671875 45.3125 23.6875 \r\nL 45.3125 54.6875 \r\nL 54.296875 54.6875 \r\nL 54.296875 0 \r\nL 45.3125 0 \r\nL 45.3125 8.40625 \r\nQ 42.046875 3.421875 37.71875 1 \r\nQ 33.40625 -1.421875 27.6875 -1.421875 \r\nQ 18.265625 -1.421875 13.375 4.4375 \r\nQ 8.5 10.296875 8.5 21.578125 \r\nz\r\nM 31.109375 56 \r\nz\r\n\" id=\"DejaVuSans-117\"/>\r\n     </defs>\r\n     <g transform=\"translate(14.798438 176.584219)rotate(-90)scale(0.1 -0.1)\">\r\n      <use xlink:href=\"#DejaVuSans-84\"/>\r\n      <use x=\"60.865234\" xlink:href=\"#DejaVuSans-114\"/>\r\n      <use x=\"101.978516\" xlink:href=\"#DejaVuSans-117\"/>\r\n      <use x=\"165.357422\" xlink:href=\"#DejaVuSans-101\"/>\r\n      <use x=\"226.880859\" xlink:href=\"#DejaVuSans-32\"/>\r\n      <use x=\"258.667969\" xlink:href=\"#DejaVuSans-80\"/>\r\n      <use x=\"318.923828\" xlink:href=\"#DejaVuSans-111\"/>\r\n      <use x=\"380.105469\" xlink:href=\"#DejaVuSans-115\"/>\r\n      <use x=\"432.205078\" xlink:href=\"#DejaVuSans-105\"/>\r\n      <use x=\"459.988281\" xlink:href=\"#DejaVuSans-116\"/>\r\n      <use x=\"499.197266\" xlink:href=\"#DejaVuSans-105\"/>\r\n      <use x=\"526.980469\" xlink:href=\"#DejaVuSans-118\"/>\r\n      <use x=\"586.160156\" xlink:href=\"#DejaVuSans-101\"/>\r\n      <use x=\"647.683594\" xlink:href=\"#DejaVuSans-32\"/>\r\n      <use x=\"679.470703\" xlink:href=\"#DejaVuSans-82\"/>\r\n      <use x=\"748.921875\" xlink:href=\"#DejaVuSans-97\"/>\r\n      <use x=\"810.201172\" xlink:href=\"#DejaVuSans-116\"/>\r\n      <use x=\"849.410156\" xlink:href=\"#DejaVuSans-101\"/>\r\n     </g>\r\n    </g>\r\n   </g>\r\n   <g id=\"line2d_13\">\r\n    <path clip-path=\"url(#paeff022608)\" d=\"M 43.78125 239.758125 \r\nL 43.845752 238.956089 \r\nL 43.878004 238.956089 \r\nL 44.200516 237.672831 \r\nL 44.29727 237.672831 \r\nL 44.394023 235.42713 \r\nL 44.426275 235.42713 \r\nL 44.490777 232.379393 \r\nL 44.555279 232.379393 \r\nL 44.652033 230.614914 \r\nL 44.684284 230.614914 \r\nL 44.781038 229.65247 \r\nL 44.813289 229.65247 \r\nL 44.910043 226.765141 \r\nL 44.974545 226.765141 \r\nL 45.071299 225.321476 \r\nL 45.36156 223.396589 \r\nL 45.458314 220.990481 \r\nL 45.522816 220.990481 \r\nL 45.61957 217.140708 \r\nL 45.748575 216.659486 \r\nL 45.780826 216.659486 \r\nL 45.909831 216.338672 \r\nL 46.006585 214.413785 \r\nL 46.361348 210.243197 \r\nL 46.458102 207.676682 \r\nL 46.490353 207.676682 \r\nL 46.587107 206.07261 \r\nL 46.619358 206.07261 \r\nL 46.683861 204.789352 \r\nL 46.780614 204.789352 \r\nL 46.877368 203.024873 \r\nL 47.006373 203.024873 \r\nL 47.103127 199.495914 \r\nL 47.135378 199.495914 \r\nL 47.19988 196.768991 \r\nL 47.264383 196.768991 \r\nL 47.361136 194.202476 \r\nL 47.393388 194.202476 \r\nL 47.393388 193.240033 \r\nL 47.586895 193.240033 \r\nL 47.683649 191.475553 \r\nL 47.7159 191.475553 \r\nL 47.97391 190.673517 \r\nL 48.038412 187.144559 \r\nL 48.070663 187.144559 \r\nL 48.167417 186.182115 \r\nL 48.167417 186.021708 \r\nL 48.296422 186.021708 \r\nL 48.360924 185.700894 \r\nL 48.425427 185.700894 \r\nL 48.522181 182.492749 \r\nL 48.554432 182.492749 \r\nL 48.651185 180.407456 \r\nL 48.683437 180.407456 \r\nL 48.715688 179.284605 \r\nL 48.812442 179.284605 \r\nL 48.909195 177.84094 \r\nL 49.521969 171.264244 \r\nL 49.618722 168.537322 \r\nL 49.650974 168.537322 \r\nL 49.715476 165.649992 \r\nL 49.779978 165.649992 \r\nL 49.876732 164.527141 \r\nL 49.908983 164.527141 \r\nL 50.005737 163.083476 \r\nL 50.037988 163.083476 \r\nL 50.102491 160.035739 \r\nL 50.199244 160.035739 \r\nL 50.295998 158.431667 \r\nL 50.328249 158.431667 \r\nL 50.425003 156.346373 \r\nL 50.489505 155.704744 \r\nL 50.554008 153.619451 \r\nL 50.586259 153.619451 \r\nL 50.650762 153.619451 \r\nL 50.747515 151.694564 \r\nL 50.779767 151.694564 \r\nL 50.87652 151.37375 \r\nL 50.973274 151.37375 \r\nL 51.037776 150.090492 \r\nL 51.070028 150.090492 \r\nL 51.263535 148.967641 \r\nL 51.360289 146.561533 \r\nL 51.39254 146.561533 \r\nL 51.489294 146.080312 \r\nL 51.521545 146.080312 \r\nL 51.586047 144.155425 \r\nL 51.65055 144.155425 \r\nL 51.747303 143.192982 \r\nL 51.779555 143.192982 \r\nL 51.876308 141.909724 \r\nL 51.90856 141.909724 \r\nL 51.973062 141.268095 \r\nL 52.037564 141.268095 \r\nL 52.102067 140.626466 \r\nL 52.166569 140.626466 \r\nL 52.198821 140.145245 \r\nL 52.295574 140.145245 \r\nL 52.360077 139.022394 \r\nL 52.424579 139.022394 \r\nL 52.489082 137.097508 \r\nL 52.585835 137.097508 \r\nL 52.682589 135.493435 \r\nL 52.71484 135.493435 \r\nL 52.779343 133.889363 \r\nL 52.876096 133.889363 \r\nL 53.166357 132.124884 \r\nL 53.263111 131.002033 \r\nL 53.359865 131.002033 \r\nL 53.456618 130.03959 \r\nL 53.48887 130.03959 \r\nL 53.553372 129.397961 \r\nL 53.617875 129.397961 \r\nL 53.682377 127.633482 \r\nL 53.74688 127.633482 \r\nL 53.74688 127.312667 \r\nL 53.875884 127.312667 \r\nL 53.908136 126.189817 \r\nL 54.004889 126.189817 \r\nL 54.069392 125.708595 \r\nL 54.133894 125.708595 \r\nL 54.198397 122.821265 \r\nL 54.262899 122.821265 \r\nL 54.359653 121.858822 \r\nL 54.391904 121.858822 \r\nL 54.456407 120.896379 \r\nL 54.520909 120.896379 \r\nL 54.617663 119.131899 \r\nL 54.714416 119.131899 \r\nL 54.81117 118.490271 \r\nL 54.843421 118.490271 \r\nL 54.940175 117.848642 \r\nL 54.972426 117.848642 \r\nL 54.972426 117.36742 \r\nL 55.101431 117.36742 \r\nL 55.101431 116.886198 \r\nL 55.230436 116.886198 \r\nL 55.32719 115.282126 \r\nL 55.391692 115.282126 \r\nL 55.488446 113.35724 \r\nL 55.552948 113.35724 \r\nL 55.552948 113.196833 \r\nL 55.746456 113.196833 \r\nL 55.810958 112.876018 \r\nL 55.907712 112.876018 \r\nL 56.004465 112.394796 \r\nL 56.036717 112.394796 \r\nL 56.13347 110.951132 \r\nL 56.197973 110.951132 \r\nL 56.197973 110.630317 \r\nL 56.359229 110.630317 \r\nL 56.455983 109.828281 \r\nL 56.875249 107.422173 \r\nL 56.972002 106.45973 \r\nL 57.004254 106.45973 \r\nL 57.101007 105.657693 \r\nL 57.16551 105.657693 \r\nL 57.262263 105.176472 \r\nL 57.326766 105.176472 \r\nL 57.391268 104.214029 \r\nL 57.455771 104.214029 \r\nL 57.520273 103.893214 \r\nL 57.649278 103.893214 \r\nL 57.649278 103.251585 \r\nL 57.746032 103.251585 \r\nL 57.810534 103.251585 \r\nL 57.810534 102.930771 \r\nL 58.004042 102.930771 \r\nL 58.004042 102.770364 \r\nL 58.068544 102.770364 \r\nL 58.133047 102.770364 \r\nL 58.197549 102.289142 \r\nL 58.520061 102.289142 \r\nL 58.520061 101.80792 \r\nL 58.552313 101.80792 \r\nL 58.939327 101.80792 \r\nL 58.939327 101.647513 \r\nL 59.068332 101.647513 \r\nL 59.068332 101.326699 \r\nL 59.165086 101.326699 \r\nL 59.294091 101.326699 \r\nL 59.390844 101.005884 \r\nL 59.519849 100.68507 \r\nL 59.648854 100.68507 \r\nL 59.713357 99.722626 \r\nL 59.81011 99.722626 \r\nL 59.874613 99.401812 \r\nL 60.06812 99.241405 \r\nL 60.519637 99.080998 \r\nL 60.519637 98.760183 \r\nL 60.58414 98.760183 \r\nL 60.809898 97.958147 \r\nL 61.067908 97.958147 \r\nL 61.229164 97.79774 \r\nL 61.519426 97.316518 \r\nL 61.519426 96.995704 \r\nL 61.64843 96.995704 \r\nL 61.745184 96.514482 \r\nL 61.777435 96.514482 \r\nL 61.841938 96.193668 \r\nL 62.099948 96.193668 \r\nL 62.099948 96.033261 \r\nL 62.16445 96.033261 \r\nL 62.228953 96.033261 \r\nL 62.228953 95.872853 \r\nL 62.293455 95.872853 \r\nL 62.551465 95.872853 \r\nL 62.841726 95.391632 \r\nL 62.841726 94.91041 \r\nL 63.099736 94.91041 \r\nL 63.099736 94.589596 \r\nL 63.454499 94.589596 \r\nL 63.454499 94.429188 \r\nL 63.777011 94.429188 \r\nL 63.841514 93.78756 \r\nL 64.035021 93.78756 \r\nL 64.099524 93.466745 \r\nL 64.293031 93.466745 \r\nL 64.389785 92.985523 \r\nL 64.51879 92.985523 \r\nL 64.647795 92.664709 \r\nL 64.841302 92.664709 \r\nL 64.873553 92.504302 \r\nL 65.034809 92.504302 \r\nL 65.163814 92.02308 \r\nL 65.292819 92.02308 \r\nL 65.292819 91.862673 \r\nL 65.421824 91.862673 \r\nL 65.421824 91.541859 \r\nL 65.454075 91.541859 \r\nL 65.712085 91.541859 \r\nL 65.712085 91.381451 \r\nL 66.0991 90.419008 \r\nL 66.163602 90.419008 \r\nL 66.163602 90.258601 \r\nL 66.195854 90.258601 \r\nL 66.292607 90.258601 \r\nL 66.647371 89.777379 \r\nL 66.647371 89.616972 \r\nL 66.808627 89.616972 \r\nL 66.808627 89.456565 \r\nL 66.873129 89.456565 \r\nL 67.356898 88.975343 \r\nL 67.4214 88.975343 \r\nL 67.614908 88.333714 \r\nL 67.67941 88.333714 \r\nL 67.840666 88.0129 \r\nL 67.905169 88.0129 \r\nL 68.001922 87.852493 \r\nL 68.227681 87.852493 \r\nL 68.356686 87.692085 \r\nL 68.421188 87.692085 \r\nL 68.45344 87.531678 \r\nL 68.614696 87.531678 \r\nL 68.743701 87.210864 \r\nL 69.227469 87.210864 \r\nL 69.324223 86.890049 \r\nL 69.646735 86.890049 \r\nL 69.904745 86.569235 \r\nL 70.001499 86.569235 \r\nL 70.098252 85.767199 \r\nL 70.130503 85.767199 \r\nL 70.485267 85.12557 \r\nL 70.549769 85.12557 \r\nL 70.678774 84.965163 \r\nL 70.775528 84.965163 \r\nL 70.775528 84.804756 \r\nL 70.969035 84.804756 \r\nL 71.065789 84.323534 \r\nL 71.09804 84.323534 \r\nL 71.09804 84.163127 \r\nL 71.162543 84.163127 \r\nL 71.35605 84.163127 \r\nL 71.35605 83.842312 \r\nL 71.581809 83.842312 \r\nL 71.678562 83.361091 \r\nL 71.807567 83.361091 \r\nL 71.839819 83.040276 \r\nL 71.968823 83.040276 \r\nL 72.001075 82.719462 \r\nL 72.259085 82.719462 \r\nL 72.355838 82.23824 \r\nL 72.452592 82.23824 \r\nL 72.67835 81.917426 \r\nL 72.807355 81.917426 \r\nL 73.033114 81.757018 \r\nL 73.097616 81.275797 \r\nL 73.226621 81.275797 \r\nL 73.291124 80.794575 \r\nL 73.420129 80.794575 \r\nL 73.420129 80.634168 \r\nL 73.45238 80.634168 \r\nL 73.936148 79.030096 \r\nL 74.452168 78.548874 \r\nL 74.613424 78.548874 \r\nL 74.677927 77.907245 \r\nL 74.710178 77.907245 \r\nL 75.03269 77.907245 \r\nL 75.03269 77.746838 \r\nL 75.129444 77.746838 \r\nL 75.161695 77.586431 \r\nL 75.355202 77.586431 \r\nL 75.451956 77.265616 \r\nL 75.54871 77.265616 \r\nL 75.54871 77.105209 \r\nL 75.80672 77.105209 \r\nL 75.80672 76.944802 \r\nL 75.967976 76.944802 \r\nL 76.000227 76.623988 \r\nL 76.258237 76.623988 \r\nL 76.258237 76.46358 \r\nL 76.322739 76.46358 \r\nL 76.451744 76.46358 \r\nL 76.451744 76.142766 \r\nL 76.548498 76.142766 \r\nL 77.193522 76.142766 \r\nL 77.354779 75.821951 \r\nL 77.38703 75.821951 \r\nL 77.580537 75.34073 \r\nL 77.64504 75.019915 \r\nL 77.903049 74.859508 \r\nL 77.967552 74.859508 \r\nL 77.967552 74.699101 \r\nL 78.128808 74.699101 \r\nL 78.257813 74.378287 \r\nL 78.45132 74.378287 \r\nL 78.548074 74.057472 \r\nL 78.838335 74.057472 \r\nL 78.935089 73.897065 \r\nL 79.128596 73.897065 \r\nL 79.128596 73.415843 \r\nL 79.515611 73.415843 \r\nL 79.676867 72.934622 \r\nL 79.838123 72.934622 \r\nL 79.838123 72.774214 \r\nL 80.063882 72.774214 \r\nL 80.160635 72.292993 \r\nL 80.192887 72.292993 \r\nL 80.192887 72.132586 \r\nL 80.612153 72.132586 \r\nL 80.612153 71.972178 \r\nL 81.224926 71.972178 \r\nL 81.32168 71.490957 \r\nL 81.450685 71.490957 \r\nL 81.482936 71.009735 \r\nL 81.579689 71.009735 \r\nL 81.708694 70.528513 \r\nL 81.934453 70.528513 \r\nL 81.966704 70.207699 \r\nL 82.031207 70.207699 \r\nL 82.095709 70.207699 \r\nL 82.160212 69.886885 \r\nL 82.450473 69.886885 \r\nL 82.514975 69.56607 \r\nL 82.579478 69.56607 \r\nL 82.579478 69.405663 \r\nL 82.64398 69.405663 \r\nL 82.708482 69.405663 \r\nL 82.740734 68.603627 \r\nL 82.805236 68.603627 \r\nL 82.934241 68.603627 \r\nL 82.966492 68.282812 \r\nL 83.063246 68.282812 \r\nL 83.127748 67.961998 \r\nL 83.289005 67.961998 \r\nL 83.385758 67.641184 \r\nL 83.611517 67.641184 \r\nL 83.676019 67.159962 \r\nL 83.96628 67.159962 \r\nL 84.063034 66.518333 \r\nL 84.095285 66.518333 \r\nL 84.095285 66.357926 \r\nL 84.256541 66.357926 \r\nL 84.321044 65.876704 \r\nL 84.417798 65.876704 \r\nL 84.514551 65.235075 \r\nL 84.611305 65.235075 \r\nL 84.708059 64.753854 \r\nL 85.030571 64.753854 \r\nL 85.095073 64.433039 \r\nL 85.288581 64.433039 \r\nL 85.385334 63.951818 \r\nL 85.675595 63.951818 \r\nL 85.675595 63.79141 \r\nL 85.740098 63.79141 \r\nL 85.869103 63.79141 \r\nL 85.869103 63.631003 \r\nL 86.256118 63.631003 \r\nL 86.352871 63.149782 \r\nL 86.481876 62.828967 \r\nL 87.546167 62.828967 \r\nL 87.578418 62.508153 \r\nL 88.287945 62.508153 \r\nL 88.287945 62.187338 \r\nL 88.384699 62.187338 \r\nL 88.481452 62.187338 \r\nL 88.67496 61.545709 \r\nL 88.868467 61.545709 \r\nL 88.868467 61.385302 \r\nL 88.997472 61.385302 \r\nL 88.997472 61.224895 \r\nL 89.190979 61.224895 \r\nL 89.190979 60.904081 \r\nL 89.319984 60.904081 \r\nL 89.448989 60.743673 \r\nL 89.513492 60.743673 \r\nL 89.545743 60.262452 \r\nL 89.674748 60.262452 \r\nL 89.674748 59.941637 \r\nL 89.771501 59.941637 \r\nL 90.190767 59.941637 \r\nL 90.190767 59.78123 \r\nL 90.319772 59.78123 \r\nL 90.319772 59.620823 \r\nL 90.448777 59.620823 \r\nL 90.545531 59.139601 \r\nL 90.771289 59.139601 \r\nL 90.803541 58.818787 \r\nL 90.997048 58.818787 \r\nL 90.997048 58.65838 \r\nL 91.093802 58.65838 \r\nL 91.126053 58.65838 \r\nL 91.126053 58.497972 \r\nL 91.190555 58.497972 \r\nL 91.31956 58.497972 \r\nL 91.31956 58.177158 \r\nL 91.416314 58.177158 \r\nL 91.480817 58.016751 \r\nL 91.480817 57.375122 \r\nL 91.738826 57.375122 \r\nL 91.771078 57.054307 \r\nL 91.83558 57.054307 \r\nL 91.867831 57.054307 \r\nL 91.964585 56.412679 \r\nL 92.061339 56.412679 \r\nL 92.158092 56.091864 \r\nL 92.222595 56.091864 \r\nL 92.222595 55.931457 \r\nL 92.545107 55.931457 \r\nL 92.545107 55.610642 \r\nL 92.674112 55.610642 \r\nL 92.738614 55.129421 \r\nL 92.770866 55.129421 \r\nL 92.835368 55.129421 \r\nL 92.835368 54.969014 \r\nL 92.932122 54.969014 \r\nL 93.061127 54.969014 \r\nL 93.15788 54.487792 \r\nL 93.383639 54.487792 \r\nL 93.577146 54.00657 \r\nL 93.706151 54.00657 \r\nL 93.770654 53.685756 \r\nL 94.060915 53.685756 \r\nL 94.157668 53.364941 \r\nL 94.351176 53.364941 \r\nL 94.351176 53.204534 \r\nL 94.609186 53.204534 \r\nL 94.609186 53.044127 \r\nL 94.705939 53.044127 \r\nL 95.028452 53.044127 \r\nL 95.060703 52.723313 \r\nL 95.125205 52.723313 \r\nL 95.350964 52.081684 \r\nL 95.544471 52.081684 \r\nL 95.576722 51.440055 \r\nL 95.705727 51.440055 \r\nL 95.802481 50.958833 \r\nL 95.963737 50.958833 \r\nL 95.963737 50.798426 \r\nL 96.124993 50.798426 \r\nL 96.221747 50.477612 \r\nL 96.253998 50.477612 \r\nL 96.350752 49.99639 \r\nL 96.544259 49.99639 \r\nL 96.641013 49.675575 \r\nL 97.028028 49.675575 \r\nL 97.253786 48.552725 \r\nL 97.673052 48.552725 \r\nL 97.673052 48.392318 \r\nL 97.898811 48.392318 \r\nL 97.898811 48.231911 \r\nL 97.963313 48.231911 \r\nL 98.060067 48.231911 \r\nL 98.060067 48.071503 \r\nL 98.156821 48.071503 \r\nL 98.543835 48.071503 \r\nL 98.67284 47.590282 \r\nL 99.092106 47.590282 \r\nL 99.221111 47.429874 \r\nL 99.479121 47.429874 \r\nL 99.479121 47.269467 \r\nL 99.608126 47.269467 \r\nL 99.672628 46.948653 \r\nL 99.930638 46.948653 \r\nL 99.930638 46.788246 \r\nL 100.188648 46.788246 \r\nL 100.188648 46.627838 \r\nL 100.285402 46.627838 \r\nL 100.317653 46.627838 \r\nL 100.414407 45.825802 \r\nL 100.640165 45.825802 \r\nL 100.736919 45.023766 \r\nL 101.156185 45.023766 \r\nL 101.220687 44.702952 \r\nL 101.28519 44.702952 \r\nL 101.349692 44.382137 \r\nL 101.414195 44.382137 \r\nL 101.478697 43.740509 \r\nL 101.736707 43.740509 \r\nL 101.865712 43.419694 \r\nL 101.994717 43.419694 \r\nL 102.026968 43.09888 \r\nL 102.252727 43.09888 \r\nL 102.34948 42.778065 \r\nL 102.478485 42.778065 \r\nL 102.510737 42.457251 \r\nL 102.671993 42.457251 \r\nL 102.671993 42.296844 \r\nL 102.833249 42.296844 \r\nL 102.833249 42.136436 \r\nL 102.994505 42.136436 \r\nL 103.155761 41.3344 \r\nL 103.413771 41.3344 \r\nL 103.575027 40.21155 \r\nL 104.1878 40.21155 \r\nL 104.220052 40.051143 \r\nL 104.800574 40.051143 \r\nL 104.800574 39.730328 \r\nL 104.897327 39.730328 \r\nL 105.026332 39.569921 \r\nL 105.348845 39.569921 \r\nL 105.445598 39.249107 \r\nL 105.800362 39.249107 \r\nL 105.800362 39.088699 \r\nL 106.02612 39.088699 \r\nL 106.02612 38.928292 \r\nL 106.28413 38.928292 \r\nL 106.28413 38.767885 \r\nL 106.413135 38.767885 \r\nL 106.445386 38.286663 \r\nL 106.509889 38.286663 \r\nL 106.832401 38.286663 \r\nL 106.993657 37.484627 \r\nL 107.31617 37.484627 \r\nL 107.412923 37.32422 \r\nL 107.574179 37.32422 \r\nL 107.574179 37.163813 \r\nL 107.670933 37.163813 \r\nL 107.86444 37.163813 \r\nL 107.86444 37.003406 \r\nL 107.928943 37.003406 \r\nL 108.025697 37.003406 \r\nL 108.025697 36.522184 \r\nL 108.541716 36.522184 \r\nL 108.606219 36.201369 \r\nL 108.670721 36.201369 \r\nL 108.767475 35.880555 \r\nL 108.799726 35.880555 \r\nL 108.864229 35.399333 \r\nL 109.089987 35.399333 \r\nL 109.186741 35.078519 \r\nL 109.670509 35.078519 \r\nL 109.735012 34.597297 \r\nL 109.831765 34.597297 \r\nL 109.831765 34.43689 \r\nL 110.154278 34.43689 \r\nL 110.154278 34.276483 \r\nL 110.21878 34.276483 \r\nL 110.412287 34.276483 \r\nL 110.573544 33.634854 \r\nL 110.960558 33.634854 \r\nL 110.960558 33.474447 \r\nL 111.476578 33.474447 \r\nL 111.476578 33.153632 \r\nL 111.79909 33.153632 \r\nL 111.831342 32.832818 \r\nL 112.218356 32.832818 \r\nL 112.218356 32.672411 \r\nL 378.58125 32.672411 \r\nL 378.58125 32.672411 \r\n\" style=\"fill:none;stroke:#1f77b4;stroke-linecap:square;stroke-width:1.5;\"/>\r\n   </g>\r\n   <g id=\"line2d_14\">\r\n    <path clip-path=\"url(#paeff022608)\" d=\"M 43.78125 239.758125 \r\nL 378.58125 32.672411 \r\n\" style=\"fill:none;stroke:#ff0000;stroke-dasharray:5.55,2.4;stroke-dashoffset:0;stroke-width:1.5;\"/>\r\n   </g>\r\n   <g id=\"patch_3\">\r\n    <path d=\"M 43.78125 239.758125 \r\nL 43.78125 22.318125 \r\n\" style=\"fill:none;stroke:#000000;stroke-linecap:square;stroke-linejoin:miter;stroke-width:0.8;\"/>\r\n   </g>\r\n   <g id=\"patch_4\">\r\n    <path d=\"M 378.58125 239.758125 \r\nL 378.58125 22.318125 \r\n\" style=\"fill:none;stroke:#000000;stroke-linecap:square;stroke-linejoin:miter;stroke-width:0.8;\"/>\r\n   </g>\r\n   <g id=\"patch_5\">\r\n    <path d=\"M 43.78125 239.758125 \r\nL 378.58125 239.758125 \r\n\" style=\"fill:none;stroke:#000000;stroke-linecap:square;stroke-linejoin:miter;stroke-width:0.8;\"/>\r\n   </g>\r\n   <g id=\"patch_6\">\r\n    <path d=\"M 43.78125 22.318125 \r\nL 378.58125 22.318125 \r\n\" style=\"fill:none;stroke:#000000;stroke-linecap:square;stroke-linejoin:miter;stroke-width:0.8;\"/>\r\n   </g>\r\n   <g id=\"text_15\">\r\n    <!-- Receiver operating characteristic -->\r\n    <defs>\r\n     <path d=\"M 48.78125 52.59375 \r\nL 48.78125 44.1875 \r\nQ 44.96875 46.296875 41.140625 47.34375 \r\nQ 37.3125 48.390625 33.40625 48.390625 \r\nQ 24.65625 48.390625 19.8125 42.84375 \r\nQ 14.984375 37.3125 14.984375 27.296875 \r\nQ 14.984375 17.28125 19.8125 11.734375 \r\nQ 24.65625 6.203125 33.40625 6.203125 \r\nQ 37.3125 6.203125 41.140625 7.25 \r\nQ 44.96875 8.296875 48.78125 10.40625 \r\nL 48.78125 2.09375 \r\nQ 45.015625 0.34375 40.984375 -0.53125 \r\nQ 36.96875 -1.421875 32.421875 -1.421875 \r\nQ 20.0625 -1.421875 12.78125 6.34375 \r\nQ 5.515625 14.109375 5.515625 27.296875 \r\nQ 5.515625 40.671875 12.859375 48.328125 \r\nQ 20.21875 56 33.015625 56 \r\nQ 37.15625 56 41.109375 55.140625 \r\nQ 45.0625 54.296875 48.78125 52.59375 \r\nz\r\n\" id=\"DejaVuSans-99\"/>\r\n     <path d=\"M 18.109375 8.203125 \r\nL 18.109375 -20.796875 \r\nL 9.078125 -20.796875 \r\nL 9.078125 54.6875 \r\nL 18.109375 54.6875 \r\nL 18.109375 46.390625 \r\nQ 20.953125 51.265625 25.265625 53.625 \r\nQ 29.59375 56 35.59375 56 \r\nQ 45.5625 56 51.78125 48.09375 \r\nQ 58.015625 40.1875 58.015625 27.296875 \r\nQ 58.015625 14.40625 51.78125 6.484375 \r\nQ 45.5625 -1.421875 35.59375 -1.421875 \r\nQ 29.59375 -1.421875 25.265625 0.953125 \r\nQ 20.953125 3.328125 18.109375 8.203125 \r\nz\r\nM 48.6875 27.296875 \r\nQ 48.6875 37.203125 44.609375 42.84375 \r\nQ 40.53125 48.484375 33.40625 48.484375 \r\nQ 26.265625 48.484375 22.1875 42.84375 \r\nQ 18.109375 37.203125 18.109375 27.296875 \r\nQ 18.109375 17.390625 22.1875 11.75 \r\nQ 26.265625 6.109375 33.40625 6.109375 \r\nQ 40.53125 6.109375 44.609375 11.75 \r\nQ 48.6875 17.390625 48.6875 27.296875 \r\nz\r\n\" id=\"DejaVuSans-112\"/>\r\n     <path d=\"M 54.890625 33.015625 \r\nL 54.890625 0 \r\nL 45.90625 0 \r\nL 45.90625 32.71875 \r\nQ 45.90625 40.484375 42.875 44.328125 \r\nQ 39.84375 48.1875 33.796875 48.1875 \r\nQ 26.515625 48.1875 22.3125 43.546875 \r\nQ 18.109375 38.921875 18.109375 30.90625 \r\nL 18.109375 0 \r\nL 9.078125 0 \r\nL 9.078125 54.6875 \r\nL 18.109375 54.6875 \r\nL 18.109375 46.1875 \r\nQ 21.34375 51.125 25.703125 53.5625 \r\nQ 30.078125 56 35.796875 56 \r\nQ 45.21875 56 50.046875 50.171875 \r\nQ 54.890625 44.34375 54.890625 33.015625 \r\nz\r\n\" id=\"DejaVuSans-110\"/>\r\n     <path d=\"M 45.40625 27.984375 \r\nQ 45.40625 37.75 41.375 43.109375 \r\nQ 37.359375 48.484375 30.078125 48.484375 \r\nQ 22.859375 48.484375 18.828125 43.109375 \r\nQ 14.796875 37.75 14.796875 27.984375 \r\nQ 14.796875 18.265625 18.828125 12.890625 \r\nQ 22.859375 7.515625 30.078125 7.515625 \r\nQ 37.359375 7.515625 41.375 12.890625 \r\nQ 45.40625 18.265625 45.40625 27.984375 \r\nz\r\nM 54.390625 6.78125 \r\nQ 54.390625 -7.171875 48.1875 -13.984375 \r\nQ 42 -20.796875 29.203125 -20.796875 \r\nQ 24.46875 -20.796875 20.265625 -20.09375 \r\nQ 16.0625 -19.390625 12.109375 -17.921875 \r\nL 12.109375 -9.1875 \r\nQ 16.0625 -11.328125 19.921875 -12.34375 \r\nQ 23.78125 -13.375 27.78125 -13.375 \r\nQ 36.625 -13.375 41.015625 -8.765625 \r\nQ 45.40625 -4.15625 45.40625 5.171875 \r\nL 45.40625 9.625 \r\nQ 42.625 4.78125 38.28125 2.390625 \r\nQ 33.9375 0 27.875 0 \r\nQ 17.828125 0 11.671875 7.65625 \r\nQ 5.515625 15.328125 5.515625 27.984375 \r\nQ 5.515625 40.671875 11.671875 48.328125 \r\nQ 17.828125 56 27.875 56 \r\nQ 33.9375 56 38.28125 53.609375 \r\nQ 42.625 51.21875 45.40625 46.390625 \r\nL 45.40625 54.6875 \r\nL 54.390625 54.6875 \r\nz\r\n\" id=\"DejaVuSans-103\"/>\r\n     <path d=\"M 54.890625 33.015625 \r\nL 54.890625 0 \r\nL 45.90625 0 \r\nL 45.90625 32.71875 \r\nQ 45.90625 40.484375 42.875 44.328125 \r\nQ 39.84375 48.1875 33.796875 48.1875 \r\nQ 26.515625 48.1875 22.3125 43.546875 \r\nQ 18.109375 38.921875 18.109375 30.90625 \r\nL 18.109375 0 \r\nL 9.078125 0 \r\nL 9.078125 75.984375 \r\nL 18.109375 75.984375 \r\nL 18.109375 46.1875 \r\nQ 21.34375 51.125 25.703125 53.5625 \r\nQ 30.078125 56 35.796875 56 \r\nQ 45.21875 56 50.046875 50.171875 \r\nQ 54.890625 44.34375 54.890625 33.015625 \r\nz\r\n\" id=\"DejaVuSans-104\"/>\r\n    </defs>\r\n    <g transform=\"translate(111.354375 16.318125)scale(0.12 -0.12)\">\r\n     <use xlink:href=\"#DejaVuSans-82\"/>\r\n     <use x=\"69.419922\" xlink:href=\"#DejaVuSans-101\"/>\r\n     <use x=\"130.943359\" xlink:href=\"#DejaVuSans-99\"/>\r\n     <use x=\"185.923828\" xlink:href=\"#DejaVuSans-101\"/>\r\n     <use x=\"247.447266\" xlink:href=\"#DejaVuSans-105\"/>\r\n     <use x=\"275.230469\" xlink:href=\"#DejaVuSans-118\"/>\r\n     <use x=\"334.410156\" xlink:href=\"#DejaVuSans-101\"/>\r\n     <use x=\"395.933594\" xlink:href=\"#DejaVuSans-114\"/>\r\n     <use x=\"437.046875\" xlink:href=\"#DejaVuSans-32\"/>\r\n     <use x=\"468.833984\" xlink:href=\"#DejaVuSans-111\"/>\r\n     <use x=\"530.015625\" xlink:href=\"#DejaVuSans-112\"/>\r\n     <use x=\"593.492188\" xlink:href=\"#DejaVuSans-101\"/>\r\n     <use x=\"655.015625\" xlink:href=\"#DejaVuSans-114\"/>\r\n     <use x=\"696.128906\" xlink:href=\"#DejaVuSans-97\"/>\r\n     <use x=\"757.408203\" xlink:href=\"#DejaVuSans-116\"/>\r\n     <use x=\"796.617188\" xlink:href=\"#DejaVuSans-105\"/>\r\n     <use x=\"824.400391\" xlink:href=\"#DejaVuSans-110\"/>\r\n     <use x=\"887.779297\" xlink:href=\"#DejaVuSans-103\"/>\r\n     <use x=\"951.255859\" xlink:href=\"#DejaVuSans-32\"/>\r\n     <use x=\"983.042969\" xlink:href=\"#DejaVuSans-99\"/>\r\n     <use x=\"1038.023438\" xlink:href=\"#DejaVuSans-104\"/>\r\n     <use x=\"1101.402344\" xlink:href=\"#DejaVuSans-97\"/>\r\n     <use x=\"1162.681641\" xlink:href=\"#DejaVuSans-114\"/>\r\n     <use x=\"1203.794922\" xlink:href=\"#DejaVuSans-97\"/>\r\n     <use x=\"1265.074219\" xlink:href=\"#DejaVuSans-99\"/>\r\n     <use x=\"1320.054688\" xlink:href=\"#DejaVuSans-116\"/>\r\n     <use x=\"1359.263672\" xlink:href=\"#DejaVuSans-101\"/>\r\n     <use x=\"1420.787109\" xlink:href=\"#DejaVuSans-114\"/>\r\n     <use x=\"1461.900391\" xlink:href=\"#DejaVuSans-105\"/>\r\n     <use x=\"1489.683594\" xlink:href=\"#DejaVuSans-115\"/>\r\n     <use x=\"1541.783203\" xlink:href=\"#DejaVuSans-116\"/>\r\n     <use x=\"1580.992188\" xlink:href=\"#DejaVuSans-105\"/>\r\n     <use x=\"1608.775391\" xlink:href=\"#DejaVuSans-99\"/>\r\n    </g>\r\n   </g>\r\n   <g id=\"legend_1\">\r\n    <g id=\"patch_7\">\r\n     <path d=\"M 131.485938 234.758125 \r\nL 371.58125 234.758125 \r\nQ 373.58125 234.758125 373.58125 232.758125 \r\nL 373.58125 219.08 \r\nQ 373.58125 217.08 371.58125 217.08 \r\nL 131.485938 217.08 \r\nQ 129.485938 217.08 129.485938 219.08 \r\nL 129.485938 232.758125 \r\nQ 129.485938 234.758125 131.485938 234.758125 \r\nz\r\n\" style=\"fill:#ffffff;opacity:0.8;stroke:#cccccc;stroke-linejoin:miter;\"/>\r\n    </g>\r\n    <g id=\"line2d_15\">\r\n     <path d=\"M 133.485938 225.178437 \r\nL 153.485938 225.178437 \r\n\" style=\"fill:none;stroke:#1f77b4;stroke-linecap:square;stroke-width:1.5;\"/>\r\n    </g>\r\n    <g id=\"line2d_16\"/>\r\n    <g id=\"text_16\">\r\n     <!-- Classification Decision Tree (area = 0.81) -->\r\n     <defs>\r\n      <path d=\"M 64.40625 67.28125 \r\nL 64.40625 56.890625 \r\nQ 59.421875 61.53125 53.78125 63.8125 \r\nQ 48.140625 66.109375 41.796875 66.109375 \r\nQ 29.296875 66.109375 22.65625 58.46875 \r\nQ 16.015625 50.828125 16.015625 36.375 \r\nQ 16.015625 21.96875 22.65625 14.328125 \r\nQ 29.296875 6.6875 41.796875 6.6875 \r\nQ 48.140625 6.6875 53.78125 8.984375 \r\nQ 59.421875 11.28125 64.40625 15.921875 \r\nL 64.40625 5.609375 \r\nQ 59.234375 2.09375 53.4375 0.328125 \r\nQ 47.65625 -1.421875 41.21875 -1.421875 \r\nQ 24.65625 -1.421875 15.125 8.703125 \r\nQ 5.609375 18.84375 5.609375 36.375 \r\nQ 5.609375 53.953125 15.125 64.078125 \r\nQ 24.65625 74.21875 41.21875 74.21875 \r\nQ 47.75 74.21875 53.53125 72.484375 \r\nQ 59.328125 70.75 64.40625 67.28125 \r\nz\r\n\" id=\"DejaVuSans-67\"/>\r\n      <path d=\"M 37.109375 75.984375 \r\nL 37.109375 68.5 \r\nL 28.515625 68.5 \r\nQ 23.6875 68.5 21.796875 66.546875 \r\nQ 19.921875 64.59375 19.921875 59.515625 \r\nL 19.921875 54.6875 \r\nL 34.71875 54.6875 \r\nL 34.71875 47.703125 \r\nL 19.921875 47.703125 \r\nL 19.921875 0 \r\nL 10.890625 0 \r\nL 10.890625 47.703125 \r\nL 2.296875 47.703125 \r\nL 2.296875 54.6875 \r\nL 10.890625 54.6875 \r\nL 10.890625 58.5 \r\nQ 10.890625 67.625 15.140625 71.796875 \r\nQ 19.390625 75.984375 28.609375 75.984375 \r\nz\r\n\" id=\"DejaVuSans-102\"/>\r\n      <path d=\"M 19.671875 64.796875 \r\nL 19.671875 8.109375 \r\nL 31.59375 8.109375 \r\nQ 46.6875 8.109375 53.6875 14.9375 \r\nQ 60.6875 21.78125 60.6875 36.53125 \r\nQ 60.6875 51.171875 53.6875 57.984375 \r\nQ 46.6875 64.796875 31.59375 64.796875 \r\nz\r\nM 9.8125 72.90625 \r\nL 30.078125 72.90625 \r\nQ 51.265625 72.90625 61.171875 64.09375 \r\nQ 71.09375 55.28125 71.09375 36.53125 \r\nQ 71.09375 17.671875 61.125 8.828125 \r\nQ 51.171875 0 30.078125 0 \r\nL 9.8125 0 \r\nz\r\n\" id=\"DejaVuSans-68\"/>\r\n      <path d=\"M 31 75.875 \r\nQ 24.46875 64.65625 21.28125 53.65625 \r\nQ 18.109375 42.671875 18.109375 31.390625 \r\nQ 18.109375 20.125 21.3125 9.0625 \r\nQ 24.515625 -2 31 -13.1875 \r\nL 23.1875 -13.1875 \r\nQ 15.875 -1.703125 12.234375 9.375 \r\nQ 8.59375 20.453125 8.59375 31.390625 \r\nQ 8.59375 42.28125 12.203125 53.3125 \r\nQ 15.828125 64.359375 23.1875 75.875 \r\nz\r\n\" id=\"DejaVuSans-40\"/>\r\n      <path d=\"M 10.59375 45.40625 \r\nL 73.1875 45.40625 \r\nL 73.1875 37.203125 \r\nL 10.59375 37.203125 \r\nz\r\nM 10.59375 25.484375 \r\nL 73.1875 25.484375 \r\nL 73.1875 17.1875 \r\nL 10.59375 17.1875 \r\nz\r\n\" id=\"DejaVuSans-61\"/>\r\n      <path d=\"M 8.015625 75.875 \r\nL 15.828125 75.875 \r\nQ 23.140625 64.359375 26.78125 53.3125 \r\nQ 30.421875 42.28125 30.421875 31.390625 \r\nQ 30.421875 20.453125 26.78125 9.375 \r\nQ 23.140625 -1.703125 15.828125 -13.1875 \r\nL 8.015625 -13.1875 \r\nQ 14.5 -2 17.703125 9.0625 \r\nQ 20.90625 20.125 20.90625 31.390625 \r\nQ 20.90625 42.671875 17.703125 53.65625 \r\nQ 14.5 64.65625 8.015625 75.875 \r\nz\r\n\" id=\"DejaVuSans-41\"/>\r\n     </defs>\r\n     <g transform=\"translate(161.485938 228.678437)scale(0.1 -0.1)\">\r\n      <use xlink:href=\"#DejaVuSans-67\"/>\r\n      <use x=\"69.824219\" xlink:href=\"#DejaVuSans-108\"/>\r\n      <use x=\"97.607422\" xlink:href=\"#DejaVuSans-97\"/>\r\n      <use x=\"158.886719\" xlink:href=\"#DejaVuSans-115\"/>\r\n      <use x=\"210.986328\" xlink:href=\"#DejaVuSans-115\"/>\r\n      <use x=\"263.085938\" xlink:href=\"#DejaVuSans-105\"/>\r\n      <use x=\"290.869141\" xlink:href=\"#DejaVuSans-102\"/>\r\n      <use x=\"326.074219\" xlink:href=\"#DejaVuSans-105\"/>\r\n      <use x=\"353.857422\" xlink:href=\"#DejaVuSans-99\"/>\r\n      <use x=\"408.837891\" xlink:href=\"#DejaVuSans-97\"/>\r\n      <use x=\"470.117188\" xlink:href=\"#DejaVuSans-116\"/>\r\n      <use x=\"509.326172\" xlink:href=\"#DejaVuSans-105\"/>\r\n      <use x=\"537.109375\" xlink:href=\"#DejaVuSans-111\"/>\r\n      <use x=\"598.291016\" xlink:href=\"#DejaVuSans-110\"/>\r\n      <use x=\"661.669922\" xlink:href=\"#DejaVuSans-32\"/>\r\n      <use x=\"693.457031\" xlink:href=\"#DejaVuSans-68\"/>\r\n      <use x=\"770.458984\" xlink:href=\"#DejaVuSans-101\"/>\r\n      <use x=\"831.982422\" xlink:href=\"#DejaVuSans-99\"/>\r\n      <use x=\"886.962891\" xlink:href=\"#DejaVuSans-105\"/>\r\n      <use x=\"914.746094\" xlink:href=\"#DejaVuSans-115\"/>\r\n      <use x=\"966.845703\" xlink:href=\"#DejaVuSans-105\"/>\r\n      <use x=\"994.628906\" xlink:href=\"#DejaVuSans-111\"/>\r\n      <use x=\"1055.810547\" xlink:href=\"#DejaVuSans-110\"/>\r\n      <use x=\"1119.189453\" xlink:href=\"#DejaVuSans-32\"/>\r\n      <use x=\"1150.976562\" xlink:href=\"#DejaVuSans-84\"/>\r\n      <use x=\"1211.841797\" xlink:href=\"#DejaVuSans-114\"/>\r\n      <use x=\"1252.923828\" xlink:href=\"#DejaVuSans-101\"/>\r\n      <use x=\"1314.447266\" xlink:href=\"#DejaVuSans-101\"/>\r\n      <use x=\"1375.970703\" xlink:href=\"#DejaVuSans-32\"/>\r\n      <use x=\"1407.757812\" xlink:href=\"#DejaVuSans-40\"/>\r\n      <use x=\"1446.771484\" xlink:href=\"#DejaVuSans-97\"/>\r\n      <use x=\"1508.050781\" xlink:href=\"#DejaVuSans-114\"/>\r\n      <use x=\"1549.132812\" xlink:href=\"#DejaVuSans-101\"/>\r\n      <use x=\"1610.65625\" xlink:href=\"#DejaVuSans-97\"/>\r\n      <use x=\"1671.935547\" xlink:href=\"#DejaVuSans-32\"/>\r\n      <use x=\"1703.722656\" xlink:href=\"#DejaVuSans-61\"/>\r\n      <use x=\"1787.511719\" xlink:href=\"#DejaVuSans-32\"/>\r\n      <use x=\"1819.298828\" xlink:href=\"#DejaVuSans-48\"/>\r\n      <use x=\"1882.921875\" xlink:href=\"#DejaVuSans-46\"/>\r\n      <use x=\"1914.708984\" xlink:href=\"#DejaVuSans-56\"/>\r\n      <use x=\"1978.332031\" xlink:href=\"#DejaVuSans-49\"/>\r\n      <use x=\"2041.955078\" xlink:href=\"#DejaVuSans-41\"/>\r\n     </g>\r\n    </g>\r\n   </g>\r\n  </g>\r\n </g>\r\n <defs>\r\n  <clipPath id=\"paeff022608\">\r\n   <rect height=\"217.44\" width=\"334.8\" x=\"43.78125\" y=\"22.318125\"/>\r\n  </clipPath>\r\n </defs>\r\n</svg>\r\n",
      "image/png": "[encoded data removed]"
     },
     "metadata": {
      "needs_background": "light"
     }
    }
   ],
   "source": [
    "import matplotlib.pyplot as plt\n",
    "plt.figure()\n",
    "plt.plot(fpr, tpr, label='Classification Decision Tree (area = %0.2f)' % rf_roc_auc)\n",
    "plt.plot([0, 1], [0, 1],'r--')\n",
    "plt.xlim([0.0, 1.0])\n",
    "plt.ylim([0.0, 1.05])\n",
    "plt.xlabel('False Positive Rate')\n",
    "plt.ylabel('True Positive Rate')\n",
    "plt.title('Receiver operating characteristic')\n",
    "plt.legend(loc=\"lower right\")\n",
    "plt.savefig('Classification_Logisitic_Regression_ROC')\n",
    "plt.show()"
   ]
  },
  {
   "cell_type": "code",
   "execution_count": 66,
   "metadata": {},
   "outputs": [
    {
     "output_type": "execute_result",
     "data": {
      "text/plain": [
       "[(0.5023054483498031, 'los'),\n",
       " (0.25085331347440454, 'age'),\n",
       " (0.19585264925221182, 'frailty_risk_score'),\n",
       " (0.03346975577496428, 'zipinc_qrtl'),\n",
       " (0.017518833148616308, 'hosp_bedsize')]"
      ]
     },
     "metadata": {},
     "execution_count": 66
    }
   ],
   "source": [
    "# Check the feature importance\n",
    "sorted(zip(rf.feature_importances_, X_train), reverse=True)"
   ]
  },
  {
   "cell_type": "code",
   "execution_count": 67,
   "metadata": {},
   "outputs": [
    {
     "output_type": "stream",
     "name": "stdout",
     "text": [
      "{'fit_time': array([0.03692913, 0.03388262, 0.03094363, 0.03091717, 0.03194356,\n       0.02889323, 0.02989078, 0.02895141, 0.02692556, 0.02892065]), 'score_time': array([0.0139606 , 0.01096845, 0.01097178, 0.00894666, 0.01196671,\n       0.00997496, 0.00900435, 0.01094103, 0.01097322, 0.00898194]), 'test_roc_auc': array([0.94886149, 0.94787546, 0.94351829, 0.94857803, 0.94572154,\n       0.94544246, 0.95479191, 0.94458042, 0.94544372, 0.95004082]), 'train_roc_auc': array([0.94962854, 0.95002681, 0.94995624, 0.94977737, 0.95007836,\n       0.95054198, 0.94941532, 0.9498186 , 0.94949917, 0.94916279]), 'test_precision': array([0.69322709, 0.68452381, 0.65363128, 0.71779141, 0.66351607,\n       0.66854991, 0.71179884, 0.6728281 , 0.66168224, 0.70363289]), 'train_precision': array([0.68735288, 0.68655766, 0.689891  , 0.68201986, 0.6894703 ,\n       0.68938907, 0.68434559, 0.68707483, 0.68973645, 0.68385317]), 'test_recall': array([0.64444444, 0.63888889, 0.65      , 0.65      , 0.65      ,\n       0.65862709, 0.68274583, 0.67532468, 0.65555556, 0.68148148]), 'train_recall': array([0.66131357, 0.66563722, 0.66460778, 0.66460778, 0.66193123,\n       0.66200082, 0.65870729, 0.66529436, 0.66275479, 0.66357834]), 'test_accuracy': array([0.9258942 , 0.92418077, 0.91968302, 0.92996359, 0.92139644,\n       0.92287918, 0.93144816, 0.92459297, 0.92137961, 0.92994859]), 'train_accuracy': array([0.92607578, 0.92621858, 0.92669459, 0.92540937, 0.92645659,\n       0.92643454, 0.92541114, 0.92626794, 0.92655354, 0.92564914])}\n"
     ]
    }
   ],
   "source": [
    "# K-Fold Validation\n",
    "clf = tree.DecisionTreeClassifier(splitter = \"best\", max_depth = 5)\n",
    "\n",
    "import sklearn\n",
    "from sklearn.model_selection import cross_val_score\n",
    "from sklearn.model_selection import cross_validate\n",
    "from sklearn import metrics\n",
    "\n",
    "scores = cross_validate(clf, cleaned_data_wo_outcome_selected, target_selected, cv=10,\n",
    "                        scoring=('roc_auc', 'precision','recall', 'accuracy'),\n",
    "                        return_train_score=True)\n",
    "print(scores)"
   ]
  },
  {
   "source": [
    "# XGBoost Classifier Model"
   ],
   "cell_type": "markdown",
   "metadata": {}
  },
  {
   "cell_type": "code",
   "execution_count": 75,
   "metadata": {},
   "outputs": [
    {
     "output_type": "stream",
     "name": "stdout",
     "text": [
      "[20:37:02] WARNING: C:\\Users\\Administrator\\workspace\\xgboost-win64_release_1.2.0\\src\\learner.cc:516: \n",
      "Parameters: { silent } might not be used.\n",
      "\n",
      "  This may not be accurate due to some parameters are only used in language bindings but\n",
      "  passed down to XGBoost core.  Or some parameters are not used but slip through this\n",
      "  verification. Please open an issue if you find above cases.\n",
      "\n",
      "\n",
      "Misclassified samples: 872\n",
      "Accuracy: 0.93\n"
     ]
    }
   ],
   "source": [
    "# XGBClassifier\n",
    "from sklearn import  metrics, model_selection\n",
    "from xgboost.sklearn import XGBClassifier\n",
    "params = {\n",
    "    'objective': 'binary:logistic',\n",
    "    'max_depth': 3,\n",
    "    'learning_rate': 0.2,\n",
    "    'silent': 1.0,\n",
    "    'n_estimators': 100,\n",
    "    'min_child_weight': 0.7,\n",
    "    'gamma': 1\n",
    "}\n",
    "model = XGBClassifier(**params).fit(X_train, y_train)\n",
    "\n",
    "# Use the model to make predictions with the test data\n",
    "y_pred = model.predict(X_test)\n",
    "# How did our model perform?\n",
    "count_misclassified = (y_test != y_pred).sum()\n",
    "print('Misclassified samples: {}'.format(count_misclassified))\n",
    "accuracy = metrics.accuracy_score(y_test, y_pred)\n",
    "print('Accuracy: {:.2f}'.format(accuracy))"
   ]
  },
  {
   "cell_type": "code",
   "execution_count": 76,
   "metadata": {},
   "outputs": [
    {
     "output_type": "execute_result",
     "data": {
      "text/plain": [
       "0.9252912954078135"
      ]
     },
     "metadata": {},
     "execution_count": 76
    }
   ],
   "source": [
    "# Score\n",
    "model.score(X_test,y_test)"
   ]
  },
  {
   "source": [
    "# Using AutoML to see if our scores are close to TPOT"
   ],
   "cell_type": "markdown",
   "metadata": {}
  },
  {
   "cell_type": "code",
   "execution_count": 70,
   "metadata": {},
   "outputs": [
    {
     "output_type": "stream",
     "name": "stdout",
     "text": [
      "tpot: 0.11.6.post1\n"
     ]
    }
   ],
   "source": [
    "# Check tpot version\n",
    "import tpot\n",
    "print('tpot: %s' % tpot.__version__)"
   ]
  },
  {
   "cell_type": "code",
   "execution_count": 71,
   "metadata": {},
   "outputs": [],
   "source": [
    "# TPOT Classification (AutoML)\n",
    "from sklearn.datasets import make_classification\n",
    "from sklearn.model_selection import RepeatedStratifiedKFold\n",
    "from tpot import TPOTClassifier"
   ]
  },
  {
   "cell_type": "code",
   "execution_count": 72,
   "metadata": {},
   "outputs": [
    {
     "output_type": "stream",
     "name": "stdout",
     "text": [
      "\n",
      "Generation 1 - Current best internal CV score: 0.926113229295179\n",
      "\n",
      "Generation 2 - Current best internal CV score: 0.926113229295179\n",
      "\n",
      "Generation 3 - Current best internal CV score: 0.926113229295179\n",
      "\n",
      "Generation 4 - Current best internal CV score: 0.926113229295179\n",
      "\n",
      "Generation 5 - Current best internal CV score: 0.926113229295179\n",
      "\n",
      "Best pipeline: XGBClassifier(input_matrix, learning_rate=0.001, max_depth=9, min_child_weight=7, n_estimators=100, nthread=1, subsample=0.45)\n"
     ]
    }
   ],
   "source": [
    "# Define model evaluation\n",
    "cv = RepeatedStratifiedKFold(n_splits=10, n_repeats=3, random_state=42)\n",
    "# Define search\n",
    "model = TPOTClassifier(generations=5, population_size=50, cv=cv, scoring='accuracy', verbosity=2, random_state=42, n_jobs=-1)\n",
    "# Perform the search\n",
    "model.fit(X_train, y_train)\n",
    "# Export the best model\n",
    "model.export('tpot_best_model_5_features.py')"
   ]
  },
  {
   "cell_type": "code",
   "execution_count": null,
   "metadata": {},
   "outputs": [],
   "source": []
  }
 ]
}