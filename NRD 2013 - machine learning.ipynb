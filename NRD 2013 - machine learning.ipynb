{
 "cells": [
  {
   "cell_type": "code",
   "execution_count": 1,
   "metadata": {},
   "outputs": [],
   "source": [
    "from sklearn import tree\n",
    "import pandas as pd\n",
    "import numpy as np\n",
    "import os"
   ]
  },
  {
   "cell_type": "code",
   "execution_count": 2,
   "metadata": {},
   "outputs": [
    {
     "output_type": "execute_result",
     "data": {
      "text/plain": [
       "   index  age  aweekend  died    discwt  dispuniform  dmonth  dqtr  drg  \\\n",
       "0      0   89         1   0.0  1.071937          5.0       3     1  372   \n",
       "1      1   89         1   0.0  1.071937          1.0       6     2  853   \n",
       "2      2   89         0   0.0  1.071937          5.0       9     3  853   \n",
       "3      3   48         0   0.0  3.063669          1.0       6     2  330   \n",
       "4      4   65         0   0.0  1.919980          1.0       5     2  387   \n",
       "\n",
       "   drgver  ...  _Iage_group_1 _Iage_group_2 _Inew_cc_in_1 _Inew_cc_in_2  \\\n",
       "0      30  ...              0             1             0             1   \n",
       "1      30  ...              0             1             0             1   \n",
       "2      30  ...              0             1             1             0   \n",
       "3      30  ...              1             0             0             0   \n",
       "4      30  ...              0             1             0             0   \n",
       "\n",
       "  _Ipayer_2 _Ipayer_3 _Ipayer_4 _Izipinc_qr_2 _Izipinc_qr_3 _Izipinc_qr_4  \n",
       "0       0.0       0.0       0.0           0.0           0.0           1.0  \n",
       "1       0.0       0.0       0.0           0.0           0.0           1.0  \n",
       "2       0.0       0.0       0.0           0.0           0.0           1.0  \n",
       "3       1.0       0.0       0.0           0.0           1.0           0.0  \n",
       "4       0.0       0.0       0.0           1.0           0.0           0.0  \n",
       "\n",
       "[5 rows x 362 columns]"
      ],
      "text/html": "<div>\n<style scoped>\n    .dataframe tbody tr th:only-of-type {\n        vertical-align: middle;\n    }\n\n    .dataframe tbody tr th {\n        vertical-align: top;\n    }\n\n    .dataframe thead th {\n        text-align: right;\n    }\n</style>\n<table border=\"1\" class=\"dataframe\">\n  <thead>\n    <tr style=\"text-align: right;\">\n      <th></th>\n      <th>index</th>\n      <th>age</th>\n      <th>aweekend</th>\n      <th>died</th>\n      <th>discwt</th>\n      <th>dispuniform</th>\n      <th>dmonth</th>\n      <th>dqtr</th>\n      <th>drg</th>\n      <th>drgver</th>\n      <th>...</th>\n      <th>_Iage_group_1</th>\n      <th>_Iage_group_2</th>\n      <th>_Inew_cc_in_1</th>\n      <th>_Inew_cc_in_2</th>\n      <th>_Ipayer_2</th>\n      <th>_Ipayer_3</th>\n      <th>_Ipayer_4</th>\n      <th>_Izipinc_qr_2</th>\n      <th>_Izipinc_qr_3</th>\n      <th>_Izipinc_qr_4</th>\n    </tr>\n  </thead>\n  <tbody>\n    <tr>\n      <th>0</th>\n      <td>0</td>\n      <td>89</td>\n      <td>1</td>\n      <td>0.0</td>\n      <td>1.071937</td>\n      <td>5.0</td>\n      <td>3</td>\n      <td>1</td>\n      <td>372</td>\n      <td>30</td>\n      <td>...</td>\n      <td>0</td>\n      <td>1</td>\n      <td>0</td>\n      <td>1</td>\n      <td>0.0</td>\n      <td>0.0</td>\n      <td>0.0</td>\n      <td>0.0</td>\n      <td>0.0</td>\n      <td>1.0</td>\n    </tr>\n    <tr>\n      <th>1</th>\n      <td>1</td>\n      <td>89</td>\n      <td>1</td>\n      <td>0.0</td>\n      <td>1.071937</td>\n      <td>1.0</td>\n      <td>6</td>\n      <td>2</td>\n      <td>853</td>\n      <td>30</td>\n      <td>...</td>\n      <td>0</td>\n      <td>1</td>\n      <td>0</td>\n      <td>1</td>\n      <td>0.0</td>\n      <td>0.0</td>\n      <td>0.0</td>\n      <td>0.0</td>\n      <td>0.0</td>\n      <td>1.0</td>\n    </tr>\n    <tr>\n      <th>2</th>\n      <td>2</td>\n      <td>89</td>\n      <td>0</td>\n      <td>0.0</td>\n      <td>1.071937</td>\n      <td>5.0</td>\n      <td>9</td>\n      <td>3</td>\n      <td>853</td>\n      <td>30</td>\n      <td>...</td>\n      <td>0</td>\n      <td>1</td>\n      <td>1</td>\n      <td>0</td>\n      <td>0.0</td>\n      <td>0.0</td>\n      <td>0.0</td>\n      <td>0.0</td>\n      <td>0.0</td>\n      <td>1.0</td>\n    </tr>\n    <tr>\n      <th>3</th>\n      <td>3</td>\n      <td>48</td>\n      <td>0</td>\n      <td>0.0</td>\n      <td>3.063669</td>\n      <td>1.0</td>\n      <td>6</td>\n      <td>2</td>\n      <td>330</td>\n      <td>30</td>\n      <td>...</td>\n      <td>1</td>\n      <td>0</td>\n      <td>0</td>\n      <td>0</td>\n      <td>1.0</td>\n      <td>0.0</td>\n      <td>0.0</td>\n      <td>0.0</td>\n      <td>1.0</td>\n      <td>0.0</td>\n    </tr>\n    <tr>\n      <th>4</th>\n      <td>4</td>\n      <td>65</td>\n      <td>0</td>\n      <td>0.0</td>\n      <td>1.919980</td>\n      <td>1.0</td>\n      <td>5</td>\n      <td>2</td>\n      <td>387</td>\n      <td>30</td>\n      <td>...</td>\n      <td>0</td>\n      <td>1</td>\n      <td>0</td>\n      <td>0</td>\n      <td>0.0</td>\n      <td>0.0</td>\n      <td>0.0</td>\n      <td>1.0</td>\n      <td>0.0</td>\n      <td>0.0</td>\n    </tr>\n  </tbody>\n</table>\n<p>5 rows × 362 columns</p>\n</div>"
     },
     "metadata": {},
     "execution_count": 2
    }
   ],
   "source": [
    "# path = '/Users/aqian/Downloads/'\n",
    "# #path = 'M:/Edmund'\n",
    "# os.chdir(path)\n",
    "df = pd.read_csv(\"../../NRD 2013 (machine learning).csv\")\n",
    "df.head()"
   ]
  },
  {
   "cell_type": "code",
   "execution_count": 3,
   "metadata": {},
   "outputs": [
    {
     "output_type": "stream",
     "name": "stdout",
     "text": [
      "['index' 'age' 'aweekend' 'died' 'discwt' 'dispuniform' 'dmonth' 'dqtr'\n 'drg' 'drgver' 'drg_nopoa' 'dx1' 'dx2' 'dx3' 'dx4' 'dx5' 'dx6' 'dx7'\n 'dx8' 'dx9' 'dx10' 'dx11' 'dx12' 'dx13' 'dx14' 'dx15' 'dx16' 'dx17'\n 'dx18' 'dx19' 'dx20' 'dx21' 'dx22' 'dx23' 'dx24' 'dx25' 'dxccs1' 'dxccs2'\n 'dxccs3' 'dxccs4' 'dxccs5' 'dxccs6' 'dxccs7' 'dxccs8' 'dxccs9' 'dxccs10'\n 'dxccs11' 'dxccs12' 'dxccs13' 'dxccs14' 'dxccs15' 'dxccs16' 'dxccs17'\n 'dxccs18' 'dxccs19' 'dxccs20' 'dxccs21' 'dxccs22' 'dxccs23' 'dxccs24'\n 'dxccs25' 'elective' 'female' 'hcup_ed' 'hosp_nrd' 'key_nrd' 'los' 'mdc'\n 'mdc_nopoa' 'nchronic' 'ndx' 'necode' 'npr' 'nrd_daystoevent'\n 'nrd_stratum' 'nrd_visitlink' 'orproc' 'pay1' 'pl_nchs' 'pr1' 'pr2' 'pr3'\n 'pr4' 'pr5' 'pr6' 'pr7' 'pr8' 'pr9' 'pr10' 'pr11' 'pr12' 'pr13' 'pr14'\n 'pr15' 'prccs1' 'prccs2' 'prccs3' 'prccs4' 'prccs5' 'prccs6' 'prccs7'\n 'prccs8' 'prccs9' 'prccs10' 'prccs11' 'prccs12' 'prccs13' 'prccs14'\n 'prccs15' 'rehabtransfer' 'resident' 'samedayevent' 'totchg' 'year'\n 'zipinc_qrtl' 'aprdrg' 'aprdrg_risk_mortality' 'aprdrg_severity'\n 'cm_aids' 'cm_alcohol' 'cm_anemdef' 'cm_arth' 'cm_bldloss' 'cm_chf'\n 'cm_chrnlung' 'cm_coag' 'cm_depress' 'cm_dm' 'cm_dmcx' 'cm_drug'\n 'cm_htn_c' 'cm_hypothy' 'cm_liver' 'cm_lymph' 'cm_lytes' 'cm_mets'\n 'cm_neuro' 'cm_obese' 'cm_para' 'cm_perivasc' 'cm_psych' 'cm_pulmcirc'\n 'cm_renlfail' 'cm_tumor' 'cm_ulcer' 'cm_valve' 'cm_wghtloss' 'diabetes'\n 'copd' 'cm_smoking' 'ibd_dx_index' 'crohn_index' 'hosp_bedsize'\n 'h_contrl' 'hosp_urcat4' 'hosp_ur_teach' 'n_disc_u' 'n_hosp_u' 's_disc_u'\n 's_hosp_u' 'total_disc' 'hosp_urban_rural_location' 'payer' 'ccr_nrd'\n 'wageindex' '_merge' 'inpt_charges' 'ibd' 'ibd_flag' 'total_adm_num'\n 'ibd_adm_num' 'ibd_adm_total' 'ibd_index_hosp' 'ibd_index_six_months'\n 'ibd_index_death' 'ibd_index_after_june' 'ibd_index_flag_exclude'\n 'ibd_min_dmonth' 'ibd_total_los' 'dmonth_dead' 'dmonth_dead_fu'\n 'ibd_fu_v1' 'ibd_fu_v2' 'ibd_alive_fu' 'before_ibd_index_adm'\n 'total_before_ibd_index' 'before_ibd_index' 'ibdtotaladm_from_index'\n 'ibdtotlos_alive_fu' 'ibdtotadm_alive_fu' 'ibd_total_charges'\n 'ibdtotcharges_alive_fu' 'age_group' 'young_quintile'\n 'young_quintile_flag' 'sum_young' 'middle_quintile'\n 'middle_quintile_flag' 'sum_middle' 'old_quintile' 'old_quintile_flag'\n 'sum_old' 'ibd_young_quartile' 'ibd_middle_quartile' 'ibd_old_quartile'\n 'tot_ibd_death' 'gi_or_hepatic_proc_index' 'blood_transfusion'\n 'parenteral_or_enteral_index' 'ibd_procedures' 'tot_gi_or_hepatic_proc'\n 'max_nrd_daystoevent' 'ibd_max_daystoevent' 'ibd_readm' 'ibd_tot_readm'\n 'ibd_net_readm' 'ibd_colostomy_adm' 'tot_colostomy_adm'\n 'ibd_ileostomy_adm' 'tot_ileoostomy_adm' 'ibd_smallbowelresect_adm'\n 'tot_smallbowelresect_adm' 'ibd_colonresect_adm' 'tot_colonresect_adm'\n 'ibd_localexcise_adm' 'tot_localexcise_adm' 'ibd_exlap_adm'\n 'tot_exlap_adm' 'ibd_lysis_adm' 'tot_lysis_adm' 'tot_blood_transfusion'\n 'tot_parenteral_or_enteral' 'tot_ibd_procedures' 'cc_mi' 'cc_chf'\n 'cc_pervasc' 'cc_cvd' 'cc_dementia' 'cc_pulm' 'cc_rheumatic' 'cc_pud'\n 'cc_mild_liver' 'cc_dm_wocomp' 'cc_dm_w_comp' 'cc_hemi_or_para'\n 'cc_renal' 'cc_malignancy' 'cc_mod_severe_liver' 'cc_met_solidtumor'\n 'cc_aids_hiv' 'cc_index' 'new_cc_index' 'fractures' 'thromboses'\n 'tot_thromboses' 'unplanned_adm' 'tot_unplanned' 'pq1_dm_short'\n 'pq2_perf_appendix' 'pq3_dm_long' 'pq5_copd_asthma' 'pq7_htn' 'cardiac'\n 'pq8_chf' 'pq10_dehydrate' 'pq11_bacterialpna' 'pq12_uti' 'pq13_angina'\n 'pq14_diabeteswocomp' 'pq15_asthma' 'pq16_dm_amputate' 'dm'\n 'top_quintile_flag' 'ibd_young_quintile' 'ibd_middle_quintile'\n 'ibd_old_quintile' 'dibd_young_quintile' 'dibd_middle_quintile'\n 'dibd_old_quintile' 'top_ibd' 'top_decile_ibd' 'new_mi_adm' 'new_chf_adm'\n 'new_unstableangina_adm' 'new_arrhythmia_adm' 'new_cardiacarrest_adm'\n 'new_meningitis_adm' 'new_encephalitis_adm' 'new_endocarditis_adm'\n 'new_pneumonia_adm' 'new_pyelonephritis_adm' 'new_osteo_adm'\n 'new_septicemia_adm' 'new_cdiff_adm' 'new_tb_adm' 'new_atypicalmyco_adm'\n 'new_fungal_adm' 'new_listeriosis_adm' 'new_leishmaniasis_adm'\n 'new_pcp_adm' 'chronic_pain' 'ibd_surgery_adm' 'tot_surgery_adm'\n 'tot_pq1' 'tot_pq2' 'tot_pq3' 'frailty_risk_score'\n 'frailty_risk_category' 'frailty_risk_category_index' 'prevent_readm'\n 'tot_prevent_readm' 'cardiac_adm' 'cvd_adm' 'resp_adm' 'infxn_adm'\n 'gu_adm' 'gi_adm' 'endo_adm' 'neuro_adm' 'malignancies_adm'\n 'fracture_adm' 'thrombosis_adm' 'ibd_specific_adm' 'others_adm'\n 'ibd_index_discharge_date' 'readmission_time' 'was_readmitted'\n 'died_in_sixmo' 'did_die_in_sixmo' 'unplanned_in_sixmo'\n 'did_unplanned_in_sixmo' 'prevent_in_sixmo' 'did_prevent_in_sixmo'\n 'proc_in_sixmo' 'did_proc_in_sixmo' 'surgery_in_sixmo'\n 'did_surgery_in_sixmo' 'survtime' 'censor_readm' 'death_time'\n 'censor_death' 'surgtime' 'censor_surg' 'severe_IBD_hospitalization'\n 'severetime' 'censor_severe' 'severe_in_sixmo' 'did_severe_in_sixmo'\n '_st' '_d' '_t' '_t0' '_Iage_group_1' '_Iage_group_2' '_Inew_cc_in_1'\n '_Inew_cc_in_2' '_Ipayer_2' '_Ipayer_3' '_Ipayer_4' '_Izipinc_qr_2'\n '_Izipinc_qr_3' '_Izipinc_qr_4']\n"
     ]
    }
   ],
   "source": [
    "# List all of the column names\n",
    "print(df.columns.values)"
   ]
  },
  {
   "cell_type": "code",
   "execution_count": 4,
   "metadata": {},
   "outputs": [
    {
     "output_type": "execute_result",
     "data": {
      "text/plain": [
       "   index  age  aweekend  died    discwt  dispuniform  dmonth  dqtr  drg  \\\n",
       "0      0   89         1   0.0  1.071937          5.0       3     1  372   \n",
       "1      1   89         1   0.0  1.071937          1.0       6     2  853   \n",
       "2      2   89         0   0.0  1.071937          5.0       9     3  853   \n",
       "3      3   48         0   0.0  3.063669          1.0       6     2  330   \n",
       "4      4   65         0   0.0  1.919980          1.0       5     2  387   \n",
       "\n",
       "   drgver  ...  _Iage_group_1 _Iage_group_2 _Inew_cc_in_1 _Inew_cc_in_2  \\\n",
       "0      30  ...              0             1             0             1   \n",
       "1      30  ...              0             1             0             1   \n",
       "2      30  ...              0             1             1             0   \n",
       "3      30  ...              1             0             0             0   \n",
       "4      30  ...              0             1             0             0   \n",
       "\n",
       "  _Ipayer_2 _Ipayer_3 _Ipayer_4 _Izipinc_qr_2 _Izipinc_qr_3 _Izipinc_qr_4  \n",
       "0       0.0       0.0       0.0           0.0           0.0           1.0  \n",
       "1       0.0       0.0       0.0           0.0           0.0           1.0  \n",
       "2       0.0       0.0       0.0           0.0           0.0           1.0  \n",
       "3       1.0       0.0       0.0           0.0           1.0           0.0  \n",
       "4       0.0       0.0       0.0           1.0           0.0           0.0  \n",
       "\n",
       "[5 rows x 362 columns]"
      ],
      "text/html": "<div>\n<style scoped>\n    .dataframe tbody tr th:only-of-type {\n        vertical-align: middle;\n    }\n\n    .dataframe tbody tr th {\n        vertical-align: top;\n    }\n\n    .dataframe thead th {\n        text-align: right;\n    }\n</style>\n<table border=\"1\" class=\"dataframe\">\n  <thead>\n    <tr style=\"text-align: right;\">\n      <th></th>\n      <th>index</th>\n      <th>age</th>\n      <th>aweekend</th>\n      <th>died</th>\n      <th>discwt</th>\n      <th>dispuniform</th>\n      <th>dmonth</th>\n      <th>dqtr</th>\n      <th>drg</th>\n      <th>drgver</th>\n      <th>...</th>\n      <th>_Iage_group_1</th>\n      <th>_Iage_group_2</th>\n      <th>_Inew_cc_in_1</th>\n      <th>_Inew_cc_in_2</th>\n      <th>_Ipayer_2</th>\n      <th>_Ipayer_3</th>\n      <th>_Ipayer_4</th>\n      <th>_Izipinc_qr_2</th>\n      <th>_Izipinc_qr_3</th>\n      <th>_Izipinc_qr_4</th>\n    </tr>\n  </thead>\n  <tbody>\n    <tr>\n      <th>0</th>\n      <td>0</td>\n      <td>89</td>\n      <td>1</td>\n      <td>0.0</td>\n      <td>1.071937</td>\n      <td>5.0</td>\n      <td>3</td>\n      <td>1</td>\n      <td>372</td>\n      <td>30</td>\n      <td>...</td>\n      <td>0</td>\n      <td>1</td>\n      <td>0</td>\n      <td>1</td>\n      <td>0.0</td>\n      <td>0.0</td>\n      <td>0.0</td>\n      <td>0.0</td>\n      <td>0.0</td>\n      <td>1.0</td>\n    </tr>\n    <tr>\n      <th>1</th>\n      <td>1</td>\n      <td>89</td>\n      <td>1</td>\n      <td>0.0</td>\n      <td>1.071937</td>\n      <td>1.0</td>\n      <td>6</td>\n      <td>2</td>\n      <td>853</td>\n      <td>30</td>\n      <td>...</td>\n      <td>0</td>\n      <td>1</td>\n      <td>0</td>\n      <td>1</td>\n      <td>0.0</td>\n      <td>0.0</td>\n      <td>0.0</td>\n      <td>0.0</td>\n      <td>0.0</td>\n      <td>1.0</td>\n    </tr>\n    <tr>\n      <th>2</th>\n      <td>2</td>\n      <td>89</td>\n      <td>0</td>\n      <td>0.0</td>\n      <td>1.071937</td>\n      <td>5.0</td>\n      <td>9</td>\n      <td>3</td>\n      <td>853</td>\n      <td>30</td>\n      <td>...</td>\n      <td>0</td>\n      <td>1</td>\n      <td>1</td>\n      <td>0</td>\n      <td>0.0</td>\n      <td>0.0</td>\n      <td>0.0</td>\n      <td>0.0</td>\n      <td>0.0</td>\n      <td>1.0</td>\n    </tr>\n    <tr>\n      <th>3</th>\n      <td>3</td>\n      <td>48</td>\n      <td>0</td>\n      <td>0.0</td>\n      <td>3.063669</td>\n      <td>1.0</td>\n      <td>6</td>\n      <td>2</td>\n      <td>330</td>\n      <td>30</td>\n      <td>...</td>\n      <td>1</td>\n      <td>0</td>\n      <td>0</td>\n      <td>0</td>\n      <td>1.0</td>\n      <td>0.0</td>\n      <td>0.0</td>\n      <td>0.0</td>\n      <td>1.0</td>\n      <td>0.0</td>\n    </tr>\n    <tr>\n      <th>4</th>\n      <td>4</td>\n      <td>65</td>\n      <td>0</td>\n      <td>0.0</td>\n      <td>1.919980</td>\n      <td>1.0</td>\n      <td>5</td>\n      <td>2</td>\n      <td>387</td>\n      <td>30</td>\n      <td>...</td>\n      <td>0</td>\n      <td>1</td>\n      <td>0</td>\n      <td>0</td>\n      <td>0.0</td>\n      <td>0.0</td>\n      <td>0.0</td>\n      <td>1.0</td>\n      <td>0.0</td>\n      <td>0.0</td>\n    </tr>\n  </tbody>\n</table>\n<p>5 rows × 362 columns</p>\n</div>"
     },
     "metadata": {},
     "execution_count": 4
    }
   ],
   "source": [
    "# Check the top 15 rows\n",
    "df.head()"
   ]
  },
  {
   "cell_type": "code",
   "execution_count": 5,
   "metadata": {},
   "outputs": [
    {
     "output_type": "execute_result",
     "data": {
      "text/plain": [
       "   index  age  aweekend  died    discwt  dispuniform  dmonth  dqtr  drg  \\\n",
       "0      0   89         1   0.0  1.071937          5.0       3     1  372   \n",
       "1      1   89         1   0.0  1.071937          1.0       6     2  853   \n",
       "2      2   89         0   0.0  1.071937          5.0       9     3  853   \n",
       "3      3   48         0   0.0  3.063669          1.0       6     2  330   \n",
       "4      4   65         0   0.0  1.919980          1.0       5     2  387   \n",
       "\n",
       "   drgver  ...  _Iage_group_1 _Iage_group_2 _Inew_cc_in_1 _Inew_cc_in_2  \\\n",
       "0      30  ...              0             1             0             1   \n",
       "1      30  ...              0             1             0             1   \n",
       "2      30  ...              0             1             1             0   \n",
       "3      30  ...              1             0             0             0   \n",
       "4      30  ...              0             1             0             0   \n",
       "\n",
       "  _Ipayer_2 _Ipayer_3 _Ipayer_4 _Izipinc_qr_2 _Izipinc_qr_3 _Izipinc_qr_4  \n",
       "0       0.0       0.0       0.0           0.0           0.0           1.0  \n",
       "1       0.0       0.0       0.0           0.0           0.0           1.0  \n",
       "2       0.0       0.0       0.0           0.0           0.0           1.0  \n",
       "3       1.0       0.0       0.0           0.0           1.0           0.0  \n",
       "4       0.0       0.0       0.0           1.0           0.0           0.0  \n",
       "\n",
       "[5 rows x 362 columns]"
      ],
      "text/html": "<div>\n<style scoped>\n    .dataframe tbody tr th:only-of-type {\n        vertical-align: middle;\n    }\n\n    .dataframe tbody tr th {\n        vertical-align: top;\n    }\n\n    .dataframe thead th {\n        text-align: right;\n    }\n</style>\n<table border=\"1\" class=\"dataframe\">\n  <thead>\n    <tr style=\"text-align: right;\">\n      <th></th>\n      <th>index</th>\n      <th>age</th>\n      <th>aweekend</th>\n      <th>died</th>\n      <th>discwt</th>\n      <th>dispuniform</th>\n      <th>dmonth</th>\n      <th>dqtr</th>\n      <th>drg</th>\n      <th>drgver</th>\n      <th>...</th>\n      <th>_Iage_group_1</th>\n      <th>_Iage_group_2</th>\n      <th>_Inew_cc_in_1</th>\n      <th>_Inew_cc_in_2</th>\n      <th>_Ipayer_2</th>\n      <th>_Ipayer_3</th>\n      <th>_Ipayer_4</th>\n      <th>_Izipinc_qr_2</th>\n      <th>_Izipinc_qr_3</th>\n      <th>_Izipinc_qr_4</th>\n    </tr>\n  </thead>\n  <tbody>\n    <tr>\n      <th>0</th>\n      <td>0</td>\n      <td>89</td>\n      <td>1</td>\n      <td>0.0</td>\n      <td>1.071937</td>\n      <td>5.0</td>\n      <td>3</td>\n      <td>1</td>\n      <td>372</td>\n      <td>30</td>\n      <td>...</td>\n      <td>0</td>\n      <td>1</td>\n      <td>0</td>\n      <td>1</td>\n      <td>0.0</td>\n      <td>0.0</td>\n      <td>0.0</td>\n      <td>0.0</td>\n      <td>0.0</td>\n      <td>1.0</td>\n    </tr>\n    <tr>\n      <th>1</th>\n      <td>1</td>\n      <td>89</td>\n      <td>1</td>\n      <td>0.0</td>\n      <td>1.071937</td>\n      <td>1.0</td>\n      <td>6</td>\n      <td>2</td>\n      <td>853</td>\n      <td>30</td>\n      <td>...</td>\n      <td>0</td>\n      <td>1</td>\n      <td>0</td>\n      <td>1</td>\n      <td>0.0</td>\n      <td>0.0</td>\n      <td>0.0</td>\n      <td>0.0</td>\n      <td>0.0</td>\n      <td>1.0</td>\n    </tr>\n    <tr>\n      <th>2</th>\n      <td>2</td>\n      <td>89</td>\n      <td>0</td>\n      <td>0.0</td>\n      <td>1.071937</td>\n      <td>5.0</td>\n      <td>9</td>\n      <td>3</td>\n      <td>853</td>\n      <td>30</td>\n      <td>...</td>\n      <td>0</td>\n      <td>1</td>\n      <td>1</td>\n      <td>0</td>\n      <td>0.0</td>\n      <td>0.0</td>\n      <td>0.0</td>\n      <td>0.0</td>\n      <td>0.0</td>\n      <td>1.0</td>\n    </tr>\n    <tr>\n      <th>3</th>\n      <td>3</td>\n      <td>48</td>\n      <td>0</td>\n      <td>0.0</td>\n      <td>3.063669</td>\n      <td>1.0</td>\n      <td>6</td>\n      <td>2</td>\n      <td>330</td>\n      <td>30</td>\n      <td>...</td>\n      <td>1</td>\n      <td>0</td>\n      <td>0</td>\n      <td>0</td>\n      <td>1.0</td>\n      <td>0.0</td>\n      <td>0.0</td>\n      <td>0.0</td>\n      <td>1.0</td>\n      <td>0.0</td>\n    </tr>\n    <tr>\n      <th>4</th>\n      <td>4</td>\n      <td>65</td>\n      <td>0</td>\n      <td>0.0</td>\n      <td>1.919980</td>\n      <td>1.0</td>\n      <td>5</td>\n      <td>2</td>\n      <td>387</td>\n      <td>30</td>\n      <td>...</td>\n      <td>0</td>\n      <td>1</td>\n      <td>0</td>\n      <td>0</td>\n      <td>0.0</td>\n      <td>0.0</td>\n      <td>0.0</td>\n      <td>1.0</td>\n      <td>0.0</td>\n      <td>0.0</td>\n    </tr>\n  </tbody>\n</table>\n<p>5 rows × 362 columns</p>\n</div>"
     },
     "metadata": {},
     "execution_count": 5
    }
   ],
   "source": [
    "# Make a copy of the dataframe\n",
    "df_copy = df.copy()\n",
    "df_copy.head()"
   ]
  },
  {
   "cell_type": "code",
   "execution_count": 6,
   "metadata": {},
   "outputs": [
    {
     "output_type": "execute_result",
     "data": {
      "text/plain": [
       "       index  age  aweekend  died    discwt  dispuniform  dmonth  dqtr  drg  \\\n",
       "94493  94493   44         0   0.0  1.669010          6.0       6     2  331   \n",
       "94494  94494   44         0   0.0  1.669010          1.0       8     3  346   \n",
       "94495  94495   44         0   0.0  1.669010          1.0       8     3  393   \n",
       "94496  94496   52         0   0.0  1.863343          1.0       2     1  472   \n",
       "94497  94497   72         1   0.0  1.771707          1.0       2     1  385   \n",
       "\n",
       "       drgver  ...  _Iage_group_1 _Iage_group_2 _Inew_cc_in_1 _Inew_cc_in_2  \\\n",
       "94493      30  ...              1             0             0             0   \n",
       "94494      30  ...              1             0             0             0   \n",
       "94495      30  ...              1             0             0             0   \n",
       "94496      30  ...              1             0             0             1   \n",
       "94497      30  ...              0             1             1             0   \n",
       "\n",
       "      _Ipayer_2 _Ipayer_3 _Ipayer_4 _Izipinc_qr_2 _Izipinc_qr_3 _Izipinc_qr_4  \n",
       "94493       1.0       0.0       0.0           0.0           0.0           1.0  \n",
       "94494       1.0       0.0       0.0           0.0           0.0           1.0  \n",
       "94495       1.0       0.0       0.0           0.0           0.0           1.0  \n",
       "94496       0.0       0.0       0.0           0.0           0.0           0.0  \n",
       "94497       0.0       0.0       0.0           1.0           0.0           0.0  \n",
       "\n",
       "[5 rows x 362 columns]"
      ],
      "text/html": "<div>\n<style scoped>\n    .dataframe tbody tr th:only-of-type {\n        vertical-align: middle;\n    }\n\n    .dataframe tbody tr th {\n        vertical-align: top;\n    }\n\n    .dataframe thead th {\n        text-align: right;\n    }\n</style>\n<table border=\"1\" class=\"dataframe\">\n  <thead>\n    <tr style=\"text-align: right;\">\n      <th></th>\n      <th>index</th>\n      <th>age</th>\n      <th>aweekend</th>\n      <th>died</th>\n      <th>discwt</th>\n      <th>dispuniform</th>\n      <th>dmonth</th>\n      <th>dqtr</th>\n      <th>drg</th>\n      <th>drgver</th>\n      <th>...</th>\n      <th>_Iage_group_1</th>\n      <th>_Iage_group_2</th>\n      <th>_Inew_cc_in_1</th>\n      <th>_Inew_cc_in_2</th>\n      <th>_Ipayer_2</th>\n      <th>_Ipayer_3</th>\n      <th>_Ipayer_4</th>\n      <th>_Izipinc_qr_2</th>\n      <th>_Izipinc_qr_3</th>\n      <th>_Izipinc_qr_4</th>\n    </tr>\n  </thead>\n  <tbody>\n    <tr>\n      <th>94493</th>\n      <td>94493</td>\n      <td>44</td>\n      <td>0</td>\n      <td>0.0</td>\n      <td>1.669010</td>\n      <td>6.0</td>\n      <td>6</td>\n      <td>2</td>\n      <td>331</td>\n      <td>30</td>\n      <td>...</td>\n      <td>1</td>\n      <td>0</td>\n      <td>0</td>\n      <td>0</td>\n      <td>1.0</td>\n      <td>0.0</td>\n      <td>0.0</td>\n      <td>0.0</td>\n      <td>0.0</td>\n      <td>1.0</td>\n    </tr>\n    <tr>\n      <th>94494</th>\n      <td>94494</td>\n      <td>44</td>\n      <td>0</td>\n      <td>0.0</td>\n      <td>1.669010</td>\n      <td>1.0</td>\n      <td>8</td>\n      <td>3</td>\n      <td>346</td>\n      <td>30</td>\n      <td>...</td>\n      <td>1</td>\n      <td>0</td>\n      <td>0</td>\n      <td>0</td>\n      <td>1.0</td>\n      <td>0.0</td>\n      <td>0.0</td>\n      <td>0.0</td>\n      <td>0.0</td>\n      <td>1.0</td>\n    </tr>\n    <tr>\n      <th>94495</th>\n      <td>94495</td>\n      <td>44</td>\n      <td>0</td>\n      <td>0.0</td>\n      <td>1.669010</td>\n      <td>1.0</td>\n      <td>8</td>\n      <td>3</td>\n      <td>393</td>\n      <td>30</td>\n      <td>...</td>\n      <td>1</td>\n      <td>0</td>\n      <td>0</td>\n      <td>0</td>\n      <td>1.0</td>\n      <td>0.0</td>\n      <td>0.0</td>\n      <td>0.0</td>\n      <td>0.0</td>\n      <td>1.0</td>\n    </tr>\n    <tr>\n      <th>94496</th>\n      <td>94496</td>\n      <td>52</td>\n      <td>0</td>\n      <td>0.0</td>\n      <td>1.863343</td>\n      <td>1.0</td>\n      <td>2</td>\n      <td>1</td>\n      <td>472</td>\n      <td>30</td>\n      <td>...</td>\n      <td>1</td>\n      <td>0</td>\n      <td>0</td>\n      <td>1</td>\n      <td>0.0</td>\n      <td>0.0</td>\n      <td>0.0</td>\n      <td>0.0</td>\n      <td>0.0</td>\n      <td>0.0</td>\n    </tr>\n    <tr>\n      <th>94497</th>\n      <td>94497</td>\n      <td>72</td>\n      <td>1</td>\n      <td>0.0</td>\n      <td>1.771707</td>\n      <td>1.0</td>\n      <td>2</td>\n      <td>1</td>\n      <td>385</td>\n      <td>30</td>\n      <td>...</td>\n      <td>0</td>\n      <td>1</td>\n      <td>1</td>\n      <td>0</td>\n      <td>0.0</td>\n      <td>0.0</td>\n      <td>0.0</td>\n      <td>1.0</td>\n      <td>0.0</td>\n      <td>0.0</td>\n    </tr>\n  </tbody>\n</table>\n<p>5 rows × 362 columns</p>\n</div>"
     },
     "metadata": {},
     "execution_count": 6
    }
   ],
   "source": [
    "# Check the back end of the data\n",
    "df_copy.tail()"
   ]
  },
  {
   "cell_type": "code",
   "execution_count": 7,
   "metadata": {},
   "outputs": [],
   "source": [
    "# Check the data \n",
    "# Looks like the ibd_readm variables contains \"NA\" values\n",
    "\n",
    "df_copy = df_copy[['nrd_visitlink',\n",
    " 'ibd_readm', \n",
    " 'age',\n",
    " 'female',\n",
    " 'los',\n",
    " 'aweekend',\n",
    " 'elective',\n",
    " 'orproc',\n",
    " 'hosp_urban_rural_location',\n",
    " 'payer',\n",
    " 'zipinc_qrtl',\n",
    " 'severe_IBD_hospitalization',\n",
    " 'cm_aids',\n",
    " 'cm_alcohol',\n",
    " 'cm_anemdef',\n",
    " 'cm_arth',\n",
    " 'cm_bldloss',\n",
    " 'cm_chf',\n",
    " 'cm_chrnlung',\n",
    " 'cm_depress',\n",
    " 'cm_coag',\n",
    " 'cm_dm',\n",
    " 'cm_dmcx',\n",
    " 'cm_drug',\n",
    " 'cm_htn_c',\n",
    " 'cm_hypothy',\n",
    " 'cm_liver',\n",
    " 'cm_lymph',\n",
    " 'cm_lytes',\n",
    " 'cm_mets',\n",
    " 'cm_neuro',\n",
    " 'cm_obese',\n",
    " 'cm_para',\n",
    " 'cm_perivasc',\n",
    " 'cm_psych',\n",
    " 'cm_pulmcirc',\n",
    " 'cm_renlfail',\n",
    " 'cm_tumor',\n",
    " 'cm_ulcer',\n",
    " 'cm_valve',\n",
    " 'cm_wghtloss',\n",
    " 'diabetes',\n",
    " 'copd',\n",
    " 'cm_smoking',\n",
    " 'blood_transfusion',\n",
    " 'ibd_procedures',\n",
    " 'cc_index',\n",
    " 'new_cc_index',\n",
    " 'fractures',\n",
    " 'thromboses',\n",
    " 'unplanned_adm',\n",
    " 'pq1_dm_short',\n",
    " 'pq2_perf_appendix',\n",
    " 'pq3_dm_long',\n",
    " 'pq5_copd_asthma',\n",
    " 'pq7_htn',\n",
    " 'pq8_chf',\n",
    " 'pq10_dehydrate',\n",
    " 'pq11_bacterialpna',\n",
    " 'pq12_uti',\n",
    " 'pq13_angina',\n",
    " 'pq14_diabeteswocomp',\n",
    " 'pq15_asthma',\n",
    " 'pq16_dm_amputate',\n",
    " 'new_mi_adm',\n",
    " 'new_chf_adm',\n",
    " 'new_unstableangina_adm',\n",
    " 'new_arrhythmia_adm',\n",
    " 'new_cardiacarrest_adm',\n",
    " 'new_meningitis_adm',\n",
    " 'new_encephalitis_adm',\n",
    " 'new_endocarditis_adm',\n",
    " 'new_pneumonia_adm',\n",
    " 'new_pyelonephritis_adm',\n",
    " 'new_osteo_adm',\n",
    " 'new_septicemia_adm',\n",
    " 'new_cdiff_adm',\n",
    " 'new_tb_adm',\n",
    " 'new_atypicalmyco_adm',\n",
    " 'new_fungal_adm',\n",
    " 'new_listeriosis_adm',\n",
    " 'new_leishmaniasis_adm',\n",
    " 'new_pcp_adm',\n",
    " 'chronic_pain',\n",
    " 'ibd_surgery_adm',\n",
    " 'frailty_risk_score',\n",
    " 'frailty_risk_category',\n",
    " 'frailty_risk_category_index',\n",
    " 'h_contrl',\n",
    " 'hosp_bedsize',\n",
    " 'hosp_ur_teach',\n",
    " 'hosp_urcat4',\n",
    " 'prevent_readm',\n",
    " 'cardiac_adm',\n",
    " 'cvd_adm',\n",
    " 'resp_adm',\n",
    " 'infxn_adm',\n",
    " 'gu_adm',\n",
    " 'gi_adm',\n",
    " 'endo_adm',\n",
    " 'neuro_adm',\n",
    " 'malignancies_adm',\n",
    " 'fracture_adm',\n",
    " 'thrombosis_adm',\n",
    " 'ibd_specific_adm',\n",
    " 'others_adm']]"
   ]
  },
  {
   "cell_type": "code",
   "execution_count": 8,
   "metadata": {},
   "outputs": [
    {
     "output_type": "execute_result",
     "data": {
      "text/plain": [
       "      nrd_visitlink  ibd_readm  age  female  los  aweekend  elective  orproc  \\\n",
       "0            00017u          0   89       0    4         1       0.0       0   \n",
       "1            00017u          1   89       0    3         1       0.0       1   \n",
       "2            00017u          1   89       0   14         0       0.0       1   \n",
       "3            0004o5          0   48       1    4         0       1.0       1   \n",
       "4            000dbz          0   65       0    5         0       0.0       0   \n",
       "...             ...        ...  ...     ...  ...       ...       ...     ...   \n",
       "94493        zzwwck          0   44       0    9         0       1.0       1   \n",
       "94494        zzwwck          1   44       0    4         0       1.0       1   \n",
       "94495        zzwwck          1   44       0    5         0       0.0       0   \n",
       "94496        zzxq92          0   52       1    2         0       1.0       1   \n",
       "94497        zzzhlf          0   72       0    4         1       0.0       0   \n",
       "\n",
       "       hosp_urban_rural_location  payer  ...  infxn_adm  gu_adm  gi_adm  \\\n",
       "0                              0    1.0  ...          1       0       0   \n",
       "1                              0    1.0  ...          1       0       0   \n",
       "2                              0    1.0  ...          1       0       0   \n",
       "3                              0    2.0  ...          0       0       0   \n",
       "4                              0    1.0  ...          0       0       0   \n",
       "...                          ...    ...  ...        ...     ...     ...   \n",
       "94493                          0    2.0  ...          0       0       0   \n",
       "94494                          0    2.0  ...          0       0       1   \n",
       "94495                          0    2.0  ...          0       0       0   \n",
       "94496                          0    1.0  ...          0       0       0   \n",
       "94497                          0    1.0  ...          0       0       0   \n",
       "\n",
       "       endo_adm  neuro_adm  malignancies_adm  fracture_adm  thrombosis_adm  \\\n",
       "0             0          0                 0             0               0   \n",
       "1             0          0                 0             0               0   \n",
       "2             0          0                 0             0               0   \n",
       "3             0          0                 0             0               0   \n",
       "4             0          0                 0             0               0   \n",
       "...         ...        ...               ...           ...             ...   \n",
       "94493         0          0                 0             0               0   \n",
       "94494         0          0                 0             0               0   \n",
       "94495         0          0                 0             0               0   \n",
       "94496         0          0                 0             0               0   \n",
       "94497         0          0                 0             0               0   \n",
       "\n",
       "       ibd_specific_adm  others_adm  \n",
       "0                     0           0  \n",
       "1                     0           0  \n",
       "2                     0           0  \n",
       "3                     1           0  \n",
       "4                     1           0  \n",
       "...                 ...         ...  \n",
       "94493                 1           0  \n",
       "94494                 0           0  \n",
       "94495                 0           0  \n",
       "94496                 0           0  \n",
       "94497                 1           0  \n",
       "\n",
       "[94498 rows x 106 columns]"
      ],
      "text/html": "<div>\n<style scoped>\n    .dataframe tbody tr th:only-of-type {\n        vertical-align: middle;\n    }\n\n    .dataframe tbody tr th {\n        vertical-align: top;\n    }\n\n    .dataframe thead th {\n        text-align: right;\n    }\n</style>\n<table border=\"1\" class=\"dataframe\">\n  <thead>\n    <tr style=\"text-align: right;\">\n      <th></th>\n      <th>nrd_visitlink</th>\n      <th>ibd_readm</th>\n      <th>age</th>\n      <th>female</th>\n      <th>los</th>\n      <th>aweekend</th>\n      <th>elective</th>\n      <th>orproc</th>\n      <th>hosp_urban_rural_location</th>\n      <th>payer</th>\n      <th>...</th>\n      <th>infxn_adm</th>\n      <th>gu_adm</th>\n      <th>gi_adm</th>\n      <th>endo_adm</th>\n      <th>neuro_adm</th>\n      <th>malignancies_adm</th>\n      <th>fracture_adm</th>\n      <th>thrombosis_adm</th>\n      <th>ibd_specific_adm</th>\n      <th>others_adm</th>\n    </tr>\n  </thead>\n  <tbody>\n    <tr>\n      <th>0</th>\n      <td>00017u</td>\n      <td>0</td>\n      <td>89</td>\n      <td>0</td>\n      <td>4</td>\n      <td>1</td>\n      <td>0.0</td>\n      <td>0</td>\n      <td>0</td>\n      <td>1.0</td>\n      <td>...</td>\n      <td>1</td>\n      <td>0</td>\n      <td>0</td>\n      <td>0</td>\n      <td>0</td>\n      <td>0</td>\n      <td>0</td>\n      <td>0</td>\n      <td>0</td>\n      <td>0</td>\n    </tr>\n    <tr>\n      <th>1</th>\n      <td>00017u</td>\n      <td>1</td>\n      <td>89</td>\n      <td>0</td>\n      <td>3</td>\n      <td>1</td>\n      <td>0.0</td>\n      <td>1</td>\n      <td>0</td>\n      <td>1.0</td>\n      <td>...</td>\n      <td>1</td>\n      <td>0</td>\n      <td>0</td>\n      <td>0</td>\n      <td>0</td>\n      <td>0</td>\n      <td>0</td>\n      <td>0</td>\n      <td>0</td>\n      <td>0</td>\n    </tr>\n    <tr>\n      <th>2</th>\n      <td>00017u</td>\n      <td>1</td>\n      <td>89</td>\n      <td>0</td>\n      <td>14</td>\n      <td>0</td>\n      <td>0.0</td>\n      <td>1</td>\n      <td>0</td>\n      <td>1.0</td>\n      <td>...</td>\n      <td>1</td>\n      <td>0</td>\n      <td>0</td>\n      <td>0</td>\n      <td>0</td>\n      <td>0</td>\n      <td>0</td>\n      <td>0</td>\n      <td>0</td>\n      <td>0</td>\n    </tr>\n    <tr>\n      <th>3</th>\n      <td>0004o5</td>\n      <td>0</td>\n      <td>48</td>\n      <td>1</td>\n      <td>4</td>\n      <td>0</td>\n      <td>1.0</td>\n      <td>1</td>\n      <td>0</td>\n      <td>2.0</td>\n      <td>...</td>\n      <td>0</td>\n      <td>0</td>\n      <td>0</td>\n      <td>0</td>\n      <td>0</td>\n      <td>0</td>\n      <td>0</td>\n      <td>0</td>\n      <td>1</td>\n      <td>0</td>\n    </tr>\n    <tr>\n      <th>4</th>\n      <td>000dbz</td>\n      <td>0</td>\n      <td>65</td>\n      <td>0</td>\n      <td>5</td>\n      <td>0</td>\n      <td>0.0</td>\n      <td>0</td>\n      <td>0</td>\n      <td>1.0</td>\n      <td>...</td>\n      <td>0</td>\n      <td>0</td>\n      <td>0</td>\n      <td>0</td>\n      <td>0</td>\n      <td>0</td>\n      <td>0</td>\n      <td>0</td>\n      <td>1</td>\n      <td>0</td>\n    </tr>\n    <tr>\n      <th>...</th>\n      <td>...</td>\n      <td>...</td>\n      <td>...</td>\n      <td>...</td>\n      <td>...</td>\n      <td>...</td>\n      <td>...</td>\n      <td>...</td>\n      <td>...</td>\n      <td>...</td>\n      <td>...</td>\n      <td>...</td>\n      <td>...</td>\n      <td>...</td>\n      <td>...</td>\n      <td>...</td>\n      <td>...</td>\n      <td>...</td>\n      <td>...</td>\n      <td>...</td>\n      <td>...</td>\n    </tr>\n    <tr>\n      <th>94493</th>\n      <td>zzwwck</td>\n      <td>0</td>\n      <td>44</td>\n      <td>0</td>\n      <td>9</td>\n      <td>0</td>\n      <td>1.0</td>\n      <td>1</td>\n      <td>0</td>\n      <td>2.0</td>\n      <td>...</td>\n      <td>0</td>\n      <td>0</td>\n      <td>0</td>\n      <td>0</td>\n      <td>0</td>\n      <td>0</td>\n      <td>0</td>\n      <td>0</td>\n      <td>1</td>\n      <td>0</td>\n    </tr>\n    <tr>\n      <th>94494</th>\n      <td>zzwwck</td>\n      <td>1</td>\n      <td>44</td>\n      <td>0</td>\n      <td>4</td>\n      <td>0</td>\n      <td>1.0</td>\n      <td>1</td>\n      <td>0</td>\n      <td>2.0</td>\n      <td>...</td>\n      <td>0</td>\n      <td>0</td>\n      <td>1</td>\n      <td>0</td>\n      <td>0</td>\n      <td>0</td>\n      <td>0</td>\n      <td>0</td>\n      <td>0</td>\n      <td>0</td>\n    </tr>\n    <tr>\n      <th>94495</th>\n      <td>zzwwck</td>\n      <td>1</td>\n      <td>44</td>\n      <td>0</td>\n      <td>5</td>\n      <td>0</td>\n      <td>0.0</td>\n      <td>0</td>\n      <td>0</td>\n      <td>2.0</td>\n      <td>...</td>\n      <td>0</td>\n      <td>0</td>\n      <td>0</td>\n      <td>0</td>\n      <td>0</td>\n      <td>0</td>\n      <td>0</td>\n      <td>0</td>\n      <td>0</td>\n      <td>0</td>\n    </tr>\n    <tr>\n      <th>94496</th>\n      <td>zzxq92</td>\n      <td>0</td>\n      <td>52</td>\n      <td>1</td>\n      <td>2</td>\n      <td>0</td>\n      <td>1.0</td>\n      <td>1</td>\n      <td>0</td>\n      <td>1.0</td>\n      <td>...</td>\n      <td>0</td>\n      <td>0</td>\n      <td>0</td>\n      <td>0</td>\n      <td>0</td>\n      <td>0</td>\n      <td>0</td>\n      <td>0</td>\n      <td>0</td>\n      <td>0</td>\n    </tr>\n    <tr>\n      <th>94497</th>\n      <td>zzzhlf</td>\n      <td>0</td>\n      <td>72</td>\n      <td>0</td>\n      <td>4</td>\n      <td>1</td>\n      <td>0.0</td>\n      <td>0</td>\n      <td>0</td>\n      <td>1.0</td>\n      <td>...</td>\n      <td>0</td>\n      <td>0</td>\n      <td>0</td>\n      <td>0</td>\n      <td>0</td>\n      <td>0</td>\n      <td>0</td>\n      <td>0</td>\n      <td>1</td>\n      <td>0</td>\n    </tr>\n  </tbody>\n</table>\n<p>94498 rows × 106 columns</p>\n</div>"
     },
     "metadata": {},
     "execution_count": 8
    }
   ],
   "source": [
    "df_copy"
   ]
  },
  {
   "cell_type": "code",
   "execution_count": 16,
   "metadata": {},
   "outputs": [
    {
     "output_type": "execute_result",
     "data": {
      "text/plain": [
       "1    64373\n",
       "0    30125\n",
       "Name: ibd_readm, dtype: int64"
      ]
     },
     "metadata": {},
     "execution_count": 16
    }
   ],
   "source": [
    "# Number of readmissions within six months\n",
    "readm_counts = df_copy['ibd_readm'].value_counts()\n",
    "readm_counts"
   ]
  },
  {
   "cell_type": "code",
   "execution_count": 24,
   "metadata": {},
   "outputs": [
    {
     "output_type": "execute_result",
     "data": {
      "text/plain": [
       "nrd_visitlink       0\n",
       "ibd_readm           0\n",
       "age                 0\n",
       "female              0\n",
       "los                 0\n",
       "                   ..\n",
       "malignancies_adm    0\n",
       "fracture_adm        0\n",
       "thrombosis_adm      0\n",
       "ibd_specific_adm    0\n",
       "others_adm          0\n",
       "Length: 106, dtype: int64"
      ]
     },
     "metadata": {},
     "execution_count": 24
    }
   ],
   "source": [
    "# Number of rows with null values\n",
    "df_copy.isna().sum()"
   ]
  },
  {
   "cell_type": "code",
   "execution_count": 57,
   "metadata": {},
   "outputs": [
    {
     "output_type": "execute_result",
     "data": {
      "text/plain": [
       "  nrd_visitlink ibd_readm  age  female  los  aweekend  elective  orproc  \\\n",
       "0        00017u         1   89       0    4         1       0.0       0   \n",
       "1        00017u         1   89       0    3         1       0.0       1   \n",
       "2        00017u         1   89       0   14         0       0.0       1   \n",
       "3        0004o5         0   48       1    4         0       1.0       1   \n",
       "4        000dbz         1   65       0    5         0       0.0       0   \n",
       "\n",
       "   hosp_urban_rural_location  payer  ...  infxn_adm  gu_adm  gi_adm  endo_adm  \\\n",
       "0                          0    1.0  ...          1       0       0         0   \n",
       "1                          0    1.0  ...          1       0       0         0   \n",
       "2                          0    1.0  ...          1       0       0         0   \n",
       "3                          0    2.0  ...          0       0       0         0   \n",
       "4                          0    1.0  ...          0       0       0         0   \n",
       "\n",
       "   neuro_adm  malignancies_adm  fracture_adm  thrombosis_adm  \\\n",
       "0          0                 0             0               0   \n",
       "1          0                 0             0               0   \n",
       "2          0                 0             0               0   \n",
       "3          0                 0             0               0   \n",
       "4          0                 0             0               0   \n",
       "\n",
       "   ibd_specific_adm  others_adm  \n",
       "0                 0           0  \n",
       "1                 0           0  \n",
       "2                 0           0  \n",
       "3                 1           0  \n",
       "4                 1           0  \n",
       "\n",
       "[5 rows x 105 columns]"
      ],
      "text/html": "<div>\n<style scoped>\n    .dataframe tbody tr th:only-of-type {\n        vertical-align: middle;\n    }\n\n    .dataframe tbody tr th {\n        vertical-align: top;\n    }\n\n    .dataframe thead th {\n        text-align: right;\n    }\n</style>\n<table border=\"1\" class=\"dataframe\">\n  <thead>\n    <tr style=\"text-align: right;\">\n      <th></th>\n      <th>nrd_visitlink</th>\n      <th>ibd_readm</th>\n      <th>age</th>\n      <th>female</th>\n      <th>los</th>\n      <th>aweekend</th>\n      <th>elective</th>\n      <th>orproc</th>\n      <th>hosp_urban_rural_location</th>\n      <th>payer</th>\n      <th>...</th>\n      <th>infxn_adm</th>\n      <th>gu_adm</th>\n      <th>gi_adm</th>\n      <th>endo_adm</th>\n      <th>neuro_adm</th>\n      <th>malignancies_adm</th>\n      <th>fracture_adm</th>\n      <th>thrombosis_adm</th>\n      <th>ibd_specific_adm</th>\n      <th>others_adm</th>\n    </tr>\n  </thead>\n  <tbody>\n    <tr>\n      <th>0</th>\n      <td>00017u</td>\n      <td>1</td>\n      <td>89</td>\n      <td>0</td>\n      <td>4</td>\n      <td>1</td>\n      <td>0.0</td>\n      <td>0</td>\n      <td>0</td>\n      <td>1.0</td>\n      <td>...</td>\n      <td>1</td>\n      <td>0</td>\n      <td>0</td>\n      <td>0</td>\n      <td>0</td>\n      <td>0</td>\n      <td>0</td>\n      <td>0</td>\n      <td>0</td>\n      <td>0</td>\n    </tr>\n    <tr>\n      <th>1</th>\n      <td>00017u</td>\n      <td>1</td>\n      <td>89</td>\n      <td>0</td>\n      <td>3</td>\n      <td>1</td>\n      <td>0.0</td>\n      <td>1</td>\n      <td>0</td>\n      <td>1.0</td>\n      <td>...</td>\n      <td>1</td>\n      <td>0</td>\n      <td>0</td>\n      <td>0</td>\n      <td>0</td>\n      <td>0</td>\n      <td>0</td>\n      <td>0</td>\n      <td>0</td>\n      <td>0</td>\n    </tr>\n    <tr>\n      <th>2</th>\n      <td>00017u</td>\n      <td>1</td>\n      <td>89</td>\n      <td>0</td>\n      <td>14</td>\n      <td>0</td>\n      <td>0.0</td>\n      <td>1</td>\n      <td>0</td>\n      <td>1.0</td>\n      <td>...</td>\n      <td>1</td>\n      <td>0</td>\n      <td>0</td>\n      <td>0</td>\n      <td>0</td>\n      <td>0</td>\n      <td>0</td>\n      <td>0</td>\n      <td>0</td>\n      <td>0</td>\n    </tr>\n    <tr>\n      <th>3</th>\n      <td>0004o5</td>\n      <td>0</td>\n      <td>48</td>\n      <td>1</td>\n      <td>4</td>\n      <td>0</td>\n      <td>1.0</td>\n      <td>1</td>\n      <td>0</td>\n      <td>2.0</td>\n      <td>...</td>\n      <td>0</td>\n      <td>0</td>\n      <td>0</td>\n      <td>0</td>\n      <td>0</td>\n      <td>0</td>\n      <td>0</td>\n      <td>0</td>\n      <td>1</td>\n      <td>0</td>\n    </tr>\n    <tr>\n      <th>4</th>\n      <td>000dbz</td>\n      <td>1</td>\n      <td>65</td>\n      <td>0</td>\n      <td>5</td>\n      <td>0</td>\n      <td>0.0</td>\n      <td>0</td>\n      <td>0</td>\n      <td>1.0</td>\n      <td>...</td>\n      <td>0</td>\n      <td>0</td>\n      <td>0</td>\n      <td>0</td>\n      <td>0</td>\n      <td>0</td>\n      <td>0</td>\n      <td>0</td>\n      <td>1</td>\n      <td>0</td>\n    </tr>\n  </tbody>\n</table>\n<p>5 rows × 105 columns</p>\n</div>"
     },
     "metadata": {},
     "execution_count": 57
    }
   ],
   "source": [
    "# Grab the features\n",
    "data = df_copydf_copy = df_copy[['nrd_visitlink',\n",
    " 'ibd_readm', \n",
    " 'age',\n",
    " 'female',\n",
    " 'los',\n",
    " 'aweekend',\n",
    " 'elective',\n",
    " 'orproc',\n",
    " 'hosp_urban_rural_location',\n",
    " 'payer',\n",
    " 'zipinc_qrtl',\n",
    " 'severe_IBD_hospitalization',\n",
    " 'cm_aids',\n",
    " 'cm_alcohol',\n",
    " 'cm_anemdef',\n",
    " 'cm_arth',\n",
    " 'cm_bldloss',\n",
    " 'cm_chf',\n",
    " 'cm_chrnlung',\n",
    " 'cm_depress',\n",
    " 'cm_coag',\n",
    " 'cm_dm',\n",
    " 'cm_dmcx',\n",
    " 'cm_drug',\n",
    " 'cm_htn_c',\n",
    " 'cm_hypothy',\n",
    " 'cm_liver',\n",
    " 'cm_lymph',\n",
    " 'cm_lytes',\n",
    " 'cm_mets',\n",
    " 'cm_neuro',\n",
    " 'cm_obese',\n",
    " 'cm_para',\n",
    " 'cm_perivasc',\n",
    " 'cm_psych',\n",
    " 'cm_pulmcirc',\n",
    " 'cm_renlfail',\n",
    " 'cm_tumor',\n",
    " 'cm_ulcer',\n",
    " 'cm_valve',\n",
    " 'cm_wghtloss',\n",
    " 'diabetes',\n",
    " 'copd',\n",
    " 'cm_smoking',\n",
    " 'blood_transfusion',\n",
    " 'ibd_procedures',\n",
    " 'cc_index',\n",
    " 'new_cc_index',\n",
    " 'fractures',\n",
    " 'thromboses',\n",
    " 'unplanned_adm',\n",
    " 'pq1_dm_short',\n",
    " 'pq2_perf_appendix',\n",
    " 'pq3_dm_long',\n",
    " 'pq5_copd_asthma',\n",
    " 'pq7_htn',\n",
    " 'pq8_chf',\n",
    " 'pq10_dehydrate',\n",
    " 'pq11_bacterialpna',\n",
    " 'pq12_uti',\n",
    " 'pq13_angina',\n",
    " 'pq14_diabeteswocomp',\n",
    " 'pq15_asthma',\n",
    " 'pq16_dm_amputate',\n",
    " 'new_mi_adm',\n",
    " 'new_chf_adm',\n",
    " 'new_unstableangina_adm',\n",
    " 'new_arrhythmia_adm',\n",
    " 'new_cardiacarrest_adm',\n",
    " 'new_meningitis_adm',\n",
    " 'new_encephalitis_adm',\n",
    " 'new_endocarditis_adm',\n",
    " 'new_pneumonia_adm',\n",
    " 'new_pyelonephritis_adm',\n",
    " 'new_osteo_adm',\n",
    " 'new_septicemia_adm',\n",
    " 'new_cdiff_adm',\n",
    " 'new_tb_adm',\n",
    " 'new_atypicalmyco_adm',\n",
    " 'new_fungal_adm',\n",
    " 'new_listeriosis_adm',\n",
    " 'new_leishmaniasis_adm',\n",
    " 'new_pcp_adm',\n",
    " 'chronic_pain',\n",
    " 'ibd_surgery_adm',\n",
    " 'frailty_risk_score',\n",
    " 'frailty_risk_category_index',\n",
    " 'h_contrl',\n",
    " 'hosp_bedsize',\n",
    " 'hosp_ur_teach',\n",
    " 'hosp_urcat4',\n",
    " 'prevent_readm',\n",
    " 'cardiac_adm',\n",
    " 'cvd_adm',\n",
    " 'resp_adm',\n",
    " 'infxn_adm',\n",
    " 'gu_adm',\n",
    " 'gi_adm',\n",
    " 'endo_adm',\n",
    " 'neuro_adm',\n",
    " 'malignancies_adm',\n",
    " 'fracture_adm',\n",
    " 'thrombosis_adm',\n",
    " 'ibd_specific_adm',\n",
    " 'others_adm']]\n",
    "# data = readm_data_df[['age', 'female', 'los', 'new_cc_index', 'frailty_risk_score']]\n",
    "feature_names = data.columns\n",
    "data.head(5)"
   ]
  },
  {
   "cell_type": "code",
   "execution_count": 28,
   "metadata": {},
   "outputs": [
    {
     "output_type": "execute_result",
     "data": {
      "text/plain": [
       "nrd_visitlink       object\n",
       "ibd_readm           object\n",
       "age                  int64\n",
       "female               int64\n",
       "los                  int64\n",
       "                     ...  \n",
       "malignancies_adm     int64\n",
       "fracture_adm         int64\n",
       "thrombosis_adm       int64\n",
       "ibd_specific_adm     int64\n",
       "others_adm           int64\n",
       "Length: 106, dtype: object"
      ]
     },
     "metadata": {},
     "execution_count": 28
    }
   ],
   "source": [
    "# Check the data types\n",
    "data.dtypes"
   ]
  },
  {
   "cell_type": "code",
   "execution_count": 29,
   "metadata": {},
   "outputs": [
    {
     "output_type": "execute_result",
     "data": {
      "text/plain": [
       "nrd_visitlink       0\n",
       "ibd_readm           0\n",
       "age                 0\n",
       "female              0\n",
       "los                 0\n",
       "                   ..\n",
       "malignancies_adm    0\n",
       "fracture_adm        0\n",
       "thrombosis_adm      0\n",
       "ibd_specific_adm    0\n",
       "others_adm          0\n",
       "Length: 106, dtype: int64"
      ]
     },
     "metadata": {},
     "execution_count": 29
    }
   ],
   "source": [
    "# Check for na values\n",
    "data.isnull().sum()"
   ]
  },
  {
   "cell_type": "code",
   "execution_count": 50,
   "metadata": {},
   "outputs": [
    {
     "output_type": "execute_result",
     "data": {
      "text/plain": [
       "      nrd_visitlink ibd_readm  age  female  los  aweekend  elective  orproc  \\\n",
       "147          0229f3         0   78       1    2         0       0.0       0   \n",
       "175          02auaa         1   47       1    5         1       0.0       0   \n",
       "176          02auaa         1   47       1    4         1       0.0       0   \n",
       "282          043h2p         0   75       1    5         0       0.0       0   \n",
       "318          04j1ef         1   52       1    9         0       1.0       0   \n",
       "...             ...       ...  ...     ...  ...       ...       ...     ...   \n",
       "94372        zxrcm4         1   68       0    3         0       0.0       0   \n",
       "94373        zxrcm4         1   68       0    3         0       0.0       0   \n",
       "94385        zxrynt         1   90       1    7         0       0.0       1   \n",
       "94386        zxrynt         1   90       1    5         0       0.0       0   \n",
       "94387        zxrynt         1   90       1    6         0       0.0       0   \n",
       "\n",
       "       hosp_urban_rural_location  payer  ...  infxn_adm  gu_adm  gi_adm  \\\n",
       "147                            0    1.0  ...          0       0       0   \n",
       "175                            0    1.0  ...          0       0       1   \n",
       "176                            0    1.0  ...          0       0       1   \n",
       "282                            0    1.0  ...          1       0       0   \n",
       "318                            0    1.0  ...          0       0       0   \n",
       "...                          ...    ...  ...        ...     ...     ...   \n",
       "94372                          0    2.0  ...          0       0       0   \n",
       "94373                          0    2.0  ...          0       0       0   \n",
       "94385                          0    1.0  ...          0       0       0   \n",
       "94386                          0    1.0  ...          1       0       0   \n",
       "94387                          0    1.0  ...          0       0       0   \n",
       "\n",
       "       endo_adm  neuro_adm  malignancies_adm  fracture_adm  thrombosis_adm  \\\n",
       "147           0          0                 0             0               0   \n",
       "175           0          0                 0             0               0   \n",
       "176           0          0                 0             0               0   \n",
       "282           0          0                 0             0               0   \n",
       "318           0          0                 0             0               0   \n",
       "...         ...        ...               ...           ...             ...   \n",
       "94372         0          0                 0             0               0   \n",
       "94373         0          0                 0             0               0   \n",
       "94385         1          0                 0             0               0   \n",
       "94386         0          0                 0             0               0   \n",
       "94387         0          0                 0             0               0   \n",
       "\n",
       "       ibd_specific_adm  others_adm  \n",
       "147                   1           0  \n",
       "175                   0           0  \n",
       "176                   0           0  \n",
       "282                   0           0  \n",
       "318                   0           0  \n",
       "...                 ...         ...  \n",
       "94372                 0           0  \n",
       "94373                 0           0  \n",
       "94385                 0           0  \n",
       "94386                 0           0  \n",
       "94387                 0           0  \n",
       "\n",
       "[3060 rows x 106 columns]"
      ],
      "text/html": "<div>\n<style scoped>\n    .dataframe tbody tr th:only-of-type {\n        vertical-align: middle;\n    }\n\n    .dataframe tbody tr th {\n        vertical-align: top;\n    }\n\n    .dataframe thead th {\n        text-align: right;\n    }\n</style>\n<table border=\"1\" class=\"dataframe\">\n  <thead>\n    <tr style=\"text-align: right;\">\n      <th></th>\n      <th>nrd_visitlink</th>\n      <th>ibd_readm</th>\n      <th>age</th>\n      <th>female</th>\n      <th>los</th>\n      <th>aweekend</th>\n      <th>elective</th>\n      <th>orproc</th>\n      <th>hosp_urban_rural_location</th>\n      <th>payer</th>\n      <th>...</th>\n      <th>infxn_adm</th>\n      <th>gu_adm</th>\n      <th>gi_adm</th>\n      <th>endo_adm</th>\n      <th>neuro_adm</th>\n      <th>malignancies_adm</th>\n      <th>fracture_adm</th>\n      <th>thrombosis_adm</th>\n      <th>ibd_specific_adm</th>\n      <th>others_adm</th>\n    </tr>\n  </thead>\n  <tbody>\n    <tr>\n      <th>147</th>\n      <td>0229f3</td>\n      <td>0</td>\n      <td>78</td>\n      <td>1</td>\n      <td>2</td>\n      <td>0</td>\n      <td>0.0</td>\n      <td>0</td>\n      <td>0</td>\n      <td>1.0</td>\n      <td>...</td>\n      <td>0</td>\n      <td>0</td>\n      <td>0</td>\n      <td>0</td>\n      <td>0</td>\n      <td>0</td>\n      <td>0</td>\n      <td>0</td>\n      <td>1</td>\n      <td>0</td>\n    </tr>\n    <tr>\n      <th>175</th>\n      <td>02auaa</td>\n      <td>1</td>\n      <td>47</td>\n      <td>1</td>\n      <td>5</td>\n      <td>1</td>\n      <td>0.0</td>\n      <td>0</td>\n      <td>0</td>\n      <td>1.0</td>\n      <td>...</td>\n      <td>0</td>\n      <td>0</td>\n      <td>1</td>\n      <td>0</td>\n      <td>0</td>\n      <td>0</td>\n      <td>0</td>\n      <td>0</td>\n      <td>0</td>\n      <td>0</td>\n    </tr>\n    <tr>\n      <th>176</th>\n      <td>02auaa</td>\n      <td>1</td>\n      <td>47</td>\n      <td>1</td>\n      <td>4</td>\n      <td>1</td>\n      <td>0.0</td>\n      <td>0</td>\n      <td>0</td>\n      <td>1.0</td>\n      <td>...</td>\n      <td>0</td>\n      <td>0</td>\n      <td>1</td>\n      <td>0</td>\n      <td>0</td>\n      <td>0</td>\n      <td>0</td>\n      <td>0</td>\n      <td>0</td>\n      <td>0</td>\n    </tr>\n    <tr>\n      <th>282</th>\n      <td>043h2p</td>\n      <td>0</td>\n      <td>75</td>\n      <td>1</td>\n      <td>5</td>\n      <td>0</td>\n      <td>0.0</td>\n      <td>0</td>\n      <td>0</td>\n      <td>1.0</td>\n      <td>...</td>\n      <td>1</td>\n      <td>0</td>\n      <td>0</td>\n      <td>0</td>\n      <td>0</td>\n      <td>0</td>\n      <td>0</td>\n      <td>0</td>\n      <td>0</td>\n      <td>0</td>\n    </tr>\n    <tr>\n      <th>318</th>\n      <td>04j1ef</td>\n      <td>1</td>\n      <td>52</td>\n      <td>1</td>\n      <td>9</td>\n      <td>0</td>\n      <td>1.0</td>\n      <td>0</td>\n      <td>0</td>\n      <td>1.0</td>\n      <td>...</td>\n      <td>0</td>\n      <td>0</td>\n      <td>0</td>\n      <td>0</td>\n      <td>0</td>\n      <td>0</td>\n      <td>0</td>\n      <td>0</td>\n      <td>0</td>\n      <td>0</td>\n    </tr>\n    <tr>\n      <th>...</th>\n      <td>...</td>\n      <td>...</td>\n      <td>...</td>\n      <td>...</td>\n      <td>...</td>\n      <td>...</td>\n      <td>...</td>\n      <td>...</td>\n      <td>...</td>\n      <td>...</td>\n      <td>...</td>\n      <td>...</td>\n      <td>...</td>\n      <td>...</td>\n      <td>...</td>\n      <td>...</td>\n      <td>...</td>\n      <td>...</td>\n      <td>...</td>\n      <td>...</td>\n      <td>...</td>\n    </tr>\n    <tr>\n      <th>94372</th>\n      <td>zxrcm4</td>\n      <td>1</td>\n      <td>68</td>\n      <td>0</td>\n      <td>3</td>\n      <td>0</td>\n      <td>0.0</td>\n      <td>0</td>\n      <td>0</td>\n      <td>2.0</td>\n      <td>...</td>\n      <td>0</td>\n      <td>0</td>\n      <td>0</td>\n      <td>0</td>\n      <td>0</td>\n      <td>0</td>\n      <td>0</td>\n      <td>0</td>\n      <td>0</td>\n      <td>0</td>\n    </tr>\n    <tr>\n      <th>94373</th>\n      <td>zxrcm4</td>\n      <td>1</td>\n      <td>68</td>\n      <td>0</td>\n      <td>3</td>\n      <td>0</td>\n      <td>0.0</td>\n      <td>0</td>\n      <td>0</td>\n      <td>2.0</td>\n      <td>...</td>\n      <td>0</td>\n      <td>0</td>\n      <td>0</td>\n      <td>0</td>\n      <td>0</td>\n      <td>0</td>\n      <td>0</td>\n      <td>0</td>\n      <td>0</td>\n      <td>0</td>\n    </tr>\n    <tr>\n      <th>94385</th>\n      <td>zxrynt</td>\n      <td>1</td>\n      <td>90</td>\n      <td>1</td>\n      <td>7</td>\n      <td>0</td>\n      <td>0.0</td>\n      <td>1</td>\n      <td>0</td>\n      <td>1.0</td>\n      <td>...</td>\n      <td>0</td>\n      <td>0</td>\n      <td>0</td>\n      <td>1</td>\n      <td>0</td>\n      <td>0</td>\n      <td>0</td>\n      <td>0</td>\n      <td>0</td>\n      <td>0</td>\n    </tr>\n    <tr>\n      <th>94386</th>\n      <td>zxrynt</td>\n      <td>1</td>\n      <td>90</td>\n      <td>1</td>\n      <td>5</td>\n      <td>0</td>\n      <td>0.0</td>\n      <td>0</td>\n      <td>0</td>\n      <td>1.0</td>\n      <td>...</td>\n      <td>1</td>\n      <td>0</td>\n      <td>0</td>\n      <td>0</td>\n      <td>0</td>\n      <td>0</td>\n      <td>0</td>\n      <td>0</td>\n      <td>0</td>\n      <td>0</td>\n    </tr>\n    <tr>\n      <th>94387</th>\n      <td>zxrynt</td>\n      <td>1</td>\n      <td>90</td>\n      <td>1</td>\n      <td>6</td>\n      <td>0</td>\n      <td>0.0</td>\n      <td>0</td>\n      <td>0</td>\n      <td>1.0</td>\n      <td>...</td>\n      <td>0</td>\n      <td>0</td>\n      <td>0</td>\n      <td>0</td>\n      <td>0</td>\n      <td>0</td>\n      <td>0</td>\n      <td>0</td>\n      <td>0</td>\n      <td>0</td>\n    </tr>\n  </tbody>\n</table>\n<p>3060 rows × 106 columns</p>\n</div>"
     },
     "metadata": {},
     "execution_count": 50
    }
   ],
   "source": [
    "# Show rows where the null values are \n",
    "# Data check\n",
    "check_data = df_copy\n",
    "check_data[check_data.isna().any(axis=1)]"
   ]
  },
  {
   "cell_type": "code",
   "execution_count": 51,
   "metadata": {},
   "outputs": [
    {
     "output_type": "execute_result",
     "data": {
      "text/plain": [
       "nrd_visitlink       94498\n",
       "ibd_readm           94498\n",
       "age                 94498\n",
       "female              94498\n",
       "los                 94498\n",
       "                    ...  \n",
       "malignancies_adm    94498\n",
       "fracture_adm        94498\n",
       "thrombosis_adm      94498\n",
       "ibd_specific_adm    94498\n",
       "others_adm          94498\n",
       "Length: 106, dtype: int64"
      ]
     },
     "metadata": {},
     "execution_count": 51
    }
   ],
   "source": [
    "# Check the columns where there are null or missing values\n",
    "data.count()"
   ]
  },
  {
   "cell_type": "code",
   "execution_count": 52,
   "metadata": {},
   "outputs": [
    {
     "output_type": "execute_result",
     "data": {
      "text/plain": [
       "      nrd_visitlink ibd_readm  age  female  los  aweekend  elective  orproc  \\\n",
       "94473        zzn0wq         1   34       0    4         1       0.0       0   \n",
       "94474        zzn0wq         1   34       0    2         0       0.0       0   \n",
       "94475        zzn0wq         1   34       0    3         0       0.0       0   \n",
       "94476        zzn0wq         1   34       0    4         1       0.0       0   \n",
       "94477        zzn0wq         1   34       0    3         0       0.0       0   \n",
       "94478        zzn0wq         1   35       0    1         0       0.0       0   \n",
       "94479        zzn0wq         1   35       0   14         1       0.0       1   \n",
       "94480        zzq862         1   50       1    6         0       0.0       1   \n",
       "94481        zzq862         1   50       1    2         0       0.0       1   \n",
       "94482        zzrc5b         0   20       1    6         0       0.0       0   \n",
       "94483        zzs3kb         1   66       1    3         0       0.0       0   \n",
       "94484        zzs3kb         1   66       1    6         1       0.0       0   \n",
       "94485        zzs3kb         1   66       1   20         0       0.0       0   \n",
       "94486        zzs3kb         1   67       1    7         1       0.0       0   \n",
       "94487        zzs3kb         1   67       1   17         0       0.0       0   \n",
       "94488        zzs3kb         1   67       1   13         1       0.0       0   \n",
       "94489        zzs3kb         1   67       1    6         0       0.0       0   \n",
       "94490        zzs3kb         1   67       1   12         0       1.0       1   \n",
       "94491        zzt9y5         0   32       1    3         1       0.0       0   \n",
       "94492        zzufqr         0   54       0    4         0       1.0       1   \n",
       "94493        zzwwck         1   44       0    9         0       1.0       1   \n",
       "94494        zzwwck         1   44       0    4         0       1.0       1   \n",
       "94495        zzwwck         1   44       0    5         0       0.0       0   \n",
       "94496        zzxq92         0   52       1    2         0       1.0       1   \n",
       "94497        zzzhlf         0   72       0    4         1       0.0       0   \n",
       "\n",
       "       hosp_urban_rural_location  payer  ...  infxn_adm  gu_adm  gi_adm  \\\n",
       "94473                          0    1.0  ...          0       0       0   \n",
       "94474                          0    1.0  ...          0       0       0   \n",
       "94475                          0    1.0  ...          0       0       0   \n",
       "94476                          0    1.0  ...          0       0       0   \n",
       "94477                          0    1.0  ...          0       0       0   \n",
       "94478                          0    1.0  ...          0       0       1   \n",
       "94479                          0    1.0  ...          0       0       1   \n",
       "94480                          0    2.0  ...          0       0       0   \n",
       "94481                          0    2.0  ...          0       0       1   \n",
       "94482                          0    2.0  ...          0       0       0   \n",
       "94483                          0    2.0  ...          0       0       0   \n",
       "94484                          0    2.0  ...          0       0       0   \n",
       "94485                          0    2.0  ...          0       0       0   \n",
       "94486                          0    2.0  ...          0       0       0   \n",
       "94487                          0    2.0  ...          0       0       0   \n",
       "94488                          0    2.0  ...          0       0       0   \n",
       "94489                          0    2.0  ...          0       0       0   \n",
       "94490                          0    2.0  ...          0       0       0   \n",
       "94491                          0    2.0  ...          0       0       0   \n",
       "94492                          0    2.0  ...          0       0       1   \n",
       "94493                          0    2.0  ...          0       0       0   \n",
       "94494                          0    2.0  ...          0       0       1   \n",
       "94495                          0    2.0  ...          0       0       0   \n",
       "94496                          0    1.0  ...          0       0       0   \n",
       "94497                          0    1.0  ...          0       0       0   \n",
       "\n",
       "       endo_adm  neuro_adm  malignancies_adm  fracture_adm  thrombosis_adm  \\\n",
       "94473         0          0                 0             0               0   \n",
       "94474         0          0                 0             0               0   \n",
       "94475         0          0                 0             0               0   \n",
       "94476         0          0                 0             0               0   \n",
       "94477         0          0                 0             0               0   \n",
       "94478         0          0                 0             0               0   \n",
       "94479         0          0                 0             0               0   \n",
       "94480         0          0                 0             0               0   \n",
       "94481         0          0                 0             0               0   \n",
       "94482         0          0                 0             0               0   \n",
       "94483         0          0                 1             0               0   \n",
       "94484         0          0                 1             0               0   \n",
       "94485         0          0                 1             0               0   \n",
       "94486         0          0                 1             0               0   \n",
       "94487         0          0                 1             0               0   \n",
       "94488         0          0                 1             0               0   \n",
       "94489         0          0                 1             0               0   \n",
       "94490         0          0                 0             0               0   \n",
       "94491         0          0                 0             0               0   \n",
       "94492         0          0                 0             0               0   \n",
       "94493         0          0                 0             0               0   \n",
       "94494         0          0                 0             0               0   \n",
       "94495         0          0                 0             0               0   \n",
       "94496         0          0                 0             0               0   \n",
       "94497         0          0                 0             0               0   \n",
       "\n",
       "       ibd_specific_adm  others_adm  \n",
       "94473                 0           0  \n",
       "94474                 1           0  \n",
       "94475                 1           0  \n",
       "94476                 1           0  \n",
       "94477                 1           0  \n",
       "94478                 0           0  \n",
       "94479                 0           0  \n",
       "94480                 0           0  \n",
       "94481                 0           0  \n",
       "94482                 1           0  \n",
       "94483                 0           0  \n",
       "94484                 0           0  \n",
       "94485                 0           0  \n",
       "94486                 0           0  \n",
       "94487                 0           0  \n",
       "94488                 0           0  \n",
       "94489                 0           0  \n",
       "94490                 0           0  \n",
       "94491                 0           0  \n",
       "94492                 0           0  \n",
       "94493                 1           0  \n",
       "94494                 0           0  \n",
       "94495                 0           0  \n",
       "94496                 0           0  \n",
       "94497                 1           0  \n",
       "\n",
       "[25 rows x 106 columns]"
      ],
      "text/html": "<div>\n<style scoped>\n    .dataframe tbody tr th:only-of-type {\n        vertical-align: middle;\n    }\n\n    .dataframe tbody tr th {\n        vertical-align: top;\n    }\n\n    .dataframe thead th {\n        text-align: right;\n    }\n</style>\n<table border=\"1\" class=\"dataframe\">\n  <thead>\n    <tr style=\"text-align: right;\">\n      <th></th>\n      <th>nrd_visitlink</th>\n      <th>ibd_readm</th>\n      <th>age</th>\n      <th>female</th>\n      <th>los</th>\n      <th>aweekend</th>\n      <th>elective</th>\n      <th>orproc</th>\n      <th>hosp_urban_rural_location</th>\n      <th>payer</th>\n      <th>...</th>\n      <th>infxn_adm</th>\n      <th>gu_adm</th>\n      <th>gi_adm</th>\n      <th>endo_adm</th>\n      <th>neuro_adm</th>\n      <th>malignancies_adm</th>\n      <th>fracture_adm</th>\n      <th>thrombosis_adm</th>\n      <th>ibd_specific_adm</th>\n      <th>others_adm</th>\n    </tr>\n  </thead>\n  <tbody>\n    <tr>\n      <th>94473</th>\n      <td>zzn0wq</td>\n      <td>1</td>\n      <td>34</td>\n      <td>0</td>\n      <td>4</td>\n      <td>1</td>\n      <td>0.0</td>\n      <td>0</td>\n      <td>0</td>\n      <td>1.0</td>\n      <td>...</td>\n      <td>0</td>\n      <td>0</td>\n      <td>0</td>\n      <td>0</td>\n      <td>0</td>\n      <td>0</td>\n      <td>0</td>\n      <td>0</td>\n      <td>0</td>\n      <td>0</td>\n    </tr>\n    <tr>\n      <th>94474</th>\n      <td>zzn0wq</td>\n      <td>1</td>\n      <td>34</td>\n      <td>0</td>\n      <td>2</td>\n      <td>0</td>\n      <td>0.0</td>\n      <td>0</td>\n      <td>0</td>\n      <td>1.0</td>\n      <td>...</td>\n      <td>0</td>\n      <td>0</td>\n      <td>0</td>\n      <td>0</td>\n      <td>0</td>\n      <td>0</td>\n      <td>0</td>\n      <td>0</td>\n      <td>1</td>\n      <td>0</td>\n    </tr>\n    <tr>\n      <th>94475</th>\n      <td>zzn0wq</td>\n      <td>1</td>\n      <td>34</td>\n      <td>0</td>\n      <td>3</td>\n      <td>0</td>\n      <td>0.0</td>\n      <td>0</td>\n      <td>0</td>\n      <td>1.0</td>\n      <td>...</td>\n      <td>0</td>\n      <td>0</td>\n      <td>0</td>\n      <td>0</td>\n      <td>0</td>\n      <td>0</td>\n      <td>0</td>\n      <td>0</td>\n      <td>1</td>\n      <td>0</td>\n    </tr>\n    <tr>\n      <th>94476</th>\n      <td>zzn0wq</td>\n      <td>1</td>\n      <td>34</td>\n      <td>0</td>\n      <td>4</td>\n      <td>1</td>\n      <td>0.0</td>\n      <td>0</td>\n      <td>0</td>\n      <td>1.0</td>\n      <td>...</td>\n      <td>0</td>\n      <td>0</td>\n      <td>0</td>\n      <td>0</td>\n      <td>0</td>\n      <td>0</td>\n      <td>0</td>\n      <td>0</td>\n      <td>1</td>\n      <td>0</td>\n    </tr>\n    <tr>\n      <th>94477</th>\n      <td>zzn0wq</td>\n      <td>1</td>\n      <td>34</td>\n      <td>0</td>\n      <td>3</td>\n      <td>0</td>\n      <td>0.0</td>\n      <td>0</td>\n      <td>0</td>\n      <td>1.0</td>\n      <td>...</td>\n      <td>0</td>\n      <td>0</td>\n      <td>0</td>\n      <td>0</td>\n      <td>0</td>\n      <td>0</td>\n      <td>0</td>\n      <td>0</td>\n      <td>1</td>\n      <td>0</td>\n    </tr>\n    <tr>\n      <th>94478</th>\n      <td>zzn0wq</td>\n      <td>1</td>\n      <td>35</td>\n      <td>0</td>\n      <td>1</td>\n      <td>0</td>\n      <td>0.0</td>\n      <td>0</td>\n      <td>0</td>\n      <td>1.0</td>\n      <td>...</td>\n      <td>0</td>\n      <td>0</td>\n      <td>1</td>\n      <td>0</td>\n      <td>0</td>\n      <td>0</td>\n      <td>0</td>\n      <td>0</td>\n      <td>0</td>\n      <td>0</td>\n    </tr>\n    <tr>\n      <th>94479</th>\n      <td>zzn0wq</td>\n      <td>1</td>\n      <td>35</td>\n      <td>0</td>\n      <td>14</td>\n      <td>1</td>\n      <td>0.0</td>\n      <td>1</td>\n      <td>0</td>\n      <td>1.0</td>\n      <td>...</td>\n      <td>0</td>\n      <td>0</td>\n      <td>1</td>\n      <td>0</td>\n      <td>0</td>\n      <td>0</td>\n      <td>0</td>\n      <td>0</td>\n      <td>0</td>\n      <td>0</td>\n    </tr>\n    <tr>\n      <th>94480</th>\n      <td>zzq862</td>\n      <td>1</td>\n      <td>50</td>\n      <td>1</td>\n      <td>6</td>\n      <td>0</td>\n      <td>0.0</td>\n      <td>1</td>\n      <td>0</td>\n      <td>2.0</td>\n      <td>...</td>\n      <td>0</td>\n      <td>0</td>\n      <td>0</td>\n      <td>0</td>\n      <td>0</td>\n      <td>0</td>\n      <td>0</td>\n      <td>0</td>\n      <td>0</td>\n      <td>0</td>\n    </tr>\n    <tr>\n      <th>94481</th>\n      <td>zzq862</td>\n      <td>1</td>\n      <td>50</td>\n      <td>1</td>\n      <td>2</td>\n      <td>0</td>\n      <td>0.0</td>\n      <td>1</td>\n      <td>0</td>\n      <td>2.0</td>\n      <td>...</td>\n      <td>0</td>\n      <td>0</td>\n      <td>1</td>\n      <td>0</td>\n      <td>0</td>\n      <td>0</td>\n      <td>0</td>\n      <td>0</td>\n      <td>0</td>\n      <td>0</td>\n    </tr>\n    <tr>\n      <th>94482</th>\n      <td>zzrc5b</td>\n      <td>0</td>\n      <td>20</td>\n      <td>1</td>\n      <td>6</td>\n      <td>0</td>\n      <td>0.0</td>\n      <td>0</td>\n      <td>0</td>\n      <td>2.0</td>\n      <td>...</td>\n      <td>0</td>\n      <td>0</td>\n      <td>0</td>\n      <td>0</td>\n      <td>0</td>\n      <td>0</td>\n      <td>0</td>\n      <td>0</td>\n      <td>1</td>\n      <td>0</td>\n    </tr>\n    <tr>\n      <th>94483</th>\n      <td>zzs3kb</td>\n      <td>1</td>\n      <td>66</td>\n      <td>1</td>\n      <td>3</td>\n      <td>0</td>\n      <td>0.0</td>\n      <td>0</td>\n      <td>0</td>\n      <td>2.0</td>\n      <td>...</td>\n      <td>0</td>\n      <td>0</td>\n      <td>0</td>\n      <td>0</td>\n      <td>0</td>\n      <td>1</td>\n      <td>0</td>\n      <td>0</td>\n      <td>0</td>\n      <td>0</td>\n    </tr>\n    <tr>\n      <th>94484</th>\n      <td>zzs3kb</td>\n      <td>1</td>\n      <td>66</td>\n      <td>1</td>\n      <td>6</td>\n      <td>1</td>\n      <td>0.0</td>\n      <td>0</td>\n      <td>0</td>\n      <td>2.0</td>\n      <td>...</td>\n      <td>0</td>\n      <td>0</td>\n      <td>0</td>\n      <td>0</td>\n      <td>0</td>\n      <td>1</td>\n      <td>0</td>\n      <td>0</td>\n      <td>0</td>\n      <td>0</td>\n    </tr>\n    <tr>\n      <th>94485</th>\n      <td>zzs3kb</td>\n      <td>1</td>\n      <td>66</td>\n      <td>1</td>\n      <td>20</td>\n      <td>0</td>\n      <td>0.0</td>\n      <td>0</td>\n      <td>0</td>\n      <td>2.0</td>\n      <td>...</td>\n      <td>0</td>\n      <td>0</td>\n      <td>0</td>\n      <td>0</td>\n      <td>0</td>\n      <td>1</td>\n      <td>0</td>\n      <td>0</td>\n      <td>0</td>\n      <td>0</td>\n    </tr>\n    <tr>\n      <th>94486</th>\n      <td>zzs3kb</td>\n      <td>1</td>\n      <td>67</td>\n      <td>1</td>\n      <td>7</td>\n      <td>1</td>\n      <td>0.0</td>\n      <td>0</td>\n      <td>0</td>\n      <td>2.0</td>\n      <td>...</td>\n      <td>0</td>\n      <td>0</td>\n      <td>0</td>\n      <td>0</td>\n      <td>0</td>\n      <td>1</td>\n      <td>0</td>\n      <td>0</td>\n      <td>0</td>\n      <td>0</td>\n    </tr>\n    <tr>\n      <th>94487</th>\n      <td>zzs3kb</td>\n      <td>1</td>\n      <td>67</td>\n      <td>1</td>\n      <td>17</td>\n      <td>0</td>\n      <td>0.0</td>\n      <td>0</td>\n      <td>0</td>\n      <td>2.0</td>\n      <td>...</td>\n      <td>0</td>\n      <td>0</td>\n      <td>0</td>\n      <td>0</td>\n      <td>0</td>\n      <td>1</td>\n      <td>0</td>\n      <td>0</td>\n      <td>0</td>\n      <td>0</td>\n    </tr>\n    <tr>\n      <th>94488</th>\n      <td>zzs3kb</td>\n      <td>1</td>\n      <td>67</td>\n      <td>1</td>\n      <td>13</td>\n      <td>1</td>\n      <td>0.0</td>\n      <td>0</td>\n      <td>0</td>\n      <td>2.0</td>\n      <td>...</td>\n      <td>0</td>\n      <td>0</td>\n      <td>0</td>\n      <td>0</td>\n      <td>0</td>\n      <td>1</td>\n      <td>0</td>\n      <td>0</td>\n      <td>0</td>\n      <td>0</td>\n    </tr>\n    <tr>\n      <th>94489</th>\n      <td>zzs3kb</td>\n      <td>1</td>\n      <td>67</td>\n      <td>1</td>\n      <td>6</td>\n      <td>0</td>\n      <td>0.0</td>\n      <td>0</td>\n      <td>0</td>\n      <td>2.0</td>\n      <td>...</td>\n      <td>0</td>\n      <td>0</td>\n      <td>0</td>\n      <td>0</td>\n      <td>0</td>\n      <td>1</td>\n      <td>0</td>\n      <td>0</td>\n      <td>0</td>\n      <td>0</td>\n    </tr>\n    <tr>\n      <th>94490</th>\n      <td>zzs3kb</td>\n      <td>1</td>\n      <td>67</td>\n      <td>1</td>\n      <td>12</td>\n      <td>0</td>\n      <td>1.0</td>\n      <td>1</td>\n      <td>0</td>\n      <td>2.0</td>\n      <td>...</td>\n      <td>0</td>\n      <td>0</td>\n      <td>0</td>\n      <td>0</td>\n      <td>0</td>\n      <td>0</td>\n      <td>0</td>\n      <td>0</td>\n      <td>0</td>\n      <td>0</td>\n    </tr>\n    <tr>\n      <th>94491</th>\n      <td>zzt9y5</td>\n      <td>0</td>\n      <td>32</td>\n      <td>1</td>\n      <td>3</td>\n      <td>1</td>\n      <td>0.0</td>\n      <td>0</td>\n      <td>0</td>\n      <td>2.0</td>\n      <td>...</td>\n      <td>0</td>\n      <td>0</td>\n      <td>0</td>\n      <td>0</td>\n      <td>0</td>\n      <td>0</td>\n      <td>0</td>\n      <td>0</td>\n      <td>0</td>\n      <td>0</td>\n    </tr>\n    <tr>\n      <th>94492</th>\n      <td>zzufqr</td>\n      <td>0</td>\n      <td>54</td>\n      <td>0</td>\n      <td>4</td>\n      <td>0</td>\n      <td>1.0</td>\n      <td>1</td>\n      <td>0</td>\n      <td>2.0</td>\n      <td>...</td>\n      <td>0</td>\n      <td>0</td>\n      <td>1</td>\n      <td>0</td>\n      <td>0</td>\n      <td>0</td>\n      <td>0</td>\n      <td>0</td>\n      <td>0</td>\n      <td>0</td>\n    </tr>\n    <tr>\n      <th>94493</th>\n      <td>zzwwck</td>\n      <td>1</td>\n      <td>44</td>\n      <td>0</td>\n      <td>9</td>\n      <td>0</td>\n      <td>1.0</td>\n      <td>1</td>\n      <td>0</td>\n      <td>2.0</td>\n      <td>...</td>\n      <td>0</td>\n      <td>0</td>\n      <td>0</td>\n      <td>0</td>\n      <td>0</td>\n      <td>0</td>\n      <td>0</td>\n      <td>0</td>\n      <td>1</td>\n      <td>0</td>\n    </tr>\n    <tr>\n      <th>94494</th>\n      <td>zzwwck</td>\n      <td>1</td>\n      <td>44</td>\n      <td>0</td>\n      <td>4</td>\n      <td>0</td>\n      <td>1.0</td>\n      <td>1</td>\n      <td>0</td>\n      <td>2.0</td>\n      <td>...</td>\n      <td>0</td>\n      <td>0</td>\n      <td>1</td>\n      <td>0</td>\n      <td>0</td>\n      <td>0</td>\n      <td>0</td>\n      <td>0</td>\n      <td>0</td>\n      <td>0</td>\n    </tr>\n    <tr>\n      <th>94495</th>\n      <td>zzwwck</td>\n      <td>1</td>\n      <td>44</td>\n      <td>0</td>\n      <td>5</td>\n      <td>0</td>\n      <td>0.0</td>\n      <td>0</td>\n      <td>0</td>\n      <td>2.0</td>\n      <td>...</td>\n      <td>0</td>\n      <td>0</td>\n      <td>0</td>\n      <td>0</td>\n      <td>0</td>\n      <td>0</td>\n      <td>0</td>\n      <td>0</td>\n      <td>0</td>\n      <td>0</td>\n    </tr>\n    <tr>\n      <th>94496</th>\n      <td>zzxq92</td>\n      <td>0</td>\n      <td>52</td>\n      <td>1</td>\n      <td>2</td>\n      <td>0</td>\n      <td>1.0</td>\n      <td>1</td>\n      <td>0</td>\n      <td>1.0</td>\n      <td>...</td>\n      <td>0</td>\n      <td>0</td>\n      <td>0</td>\n      <td>0</td>\n      <td>0</td>\n      <td>0</td>\n      <td>0</td>\n      <td>0</td>\n      <td>0</td>\n      <td>0</td>\n    </tr>\n    <tr>\n      <th>94497</th>\n      <td>zzzhlf</td>\n      <td>0</td>\n      <td>72</td>\n      <td>0</td>\n      <td>4</td>\n      <td>1</td>\n      <td>0.0</td>\n      <td>0</td>\n      <td>0</td>\n      <td>1.0</td>\n      <td>...</td>\n      <td>0</td>\n      <td>0</td>\n      <td>0</td>\n      <td>0</td>\n      <td>0</td>\n      <td>0</td>\n      <td>0</td>\n      <td>0</td>\n      <td>1</td>\n      <td>0</td>\n    </tr>\n  </tbody>\n</table>\n<p>25 rows × 106 columns</p>\n</div>"
     },
     "metadata": {},
     "execution_count": 52
    }
   ],
   "source": [
    "data.tail(25)"
   ]
  },
  {
   "cell_type": "code",
   "execution_count": 58,
   "metadata": {},
   "outputs": [
    {
     "output_type": "execute_result",
     "data": {
      "text/plain": [
       "0     1\n",
       "1     1\n",
       "2     1\n",
       "3     0\n",
       "4     1\n",
       "5     1\n",
       "6     1\n",
       "7     1\n",
       "8     1\n",
       "9     0\n",
       "10    0\n",
       "11    1\n",
       "12    1\n",
       "13    1\n",
       "14    1\n",
       "15    1\n",
       "16    1\n",
       "17    1\n",
       "18    1\n",
       "19    1\n",
       "20    1\n",
       "21    0\n",
       "22    0\n",
       "23    1\n",
       "24    1\n",
       "Name: ibd_readm, dtype: object"
      ]
     },
     "metadata": {},
     "execution_count": 58
    }
   ],
   "source": [
    "# Identify outcome variable \n",
    "target = df_copy[\"ibd_readm\"]\n",
    "target_names = [\"none\", \"readmitted\"]\n",
    "target.head(25)"
   ]
  },
  {
   "cell_type": "code",
   "execution_count": 59,
   "metadata": {},
   "outputs": [
    {
     "output_type": "execute_result",
     "data": {
      "text/plain": [
       "0        1\n",
       "1        1\n",
       "2        1\n",
       "3        0\n",
       "4        1\n",
       "        ..\n",
       "94493    1\n",
       "94494    1\n",
       "94495    1\n",
       "94496    0\n",
       "94497    0\n",
       "Name: ibd_readm, Length: 94498, dtype: int64"
      ]
     },
     "metadata": {},
     "execution_count": 59
    }
   ],
   "source": [
    "target = target.astype('int64')\n",
    "target"
   ]
  },
  {
   "cell_type": "code",
   "execution_count": 44,
   "metadata": {},
   "outputs": [],
   "source": [
    "# # Change one of the variables\n",
    "\n",
    "# from sklearn.preprocessing import LabelEncoder\n",
    "\n",
    "# # Step 1: Label-encode data set\n",
    "# label_encoder = LabelEncoder()\n",
    "# label_encoder.fit(y)\n",
    "# encoded_y = label_encoder.transform(y)"
   ]
  },
  {
   "cell_type": "code",
   "execution_count": 60,
   "metadata": {},
   "outputs": [],
   "source": [
    "# Set up training and testing datasets\n",
    "\n",
    "from sklearn.model_selection import train_test_split\n",
    "X_train, X_test, y_train, y_test = train_test_split(data, target, random_state=42)"
   ]
  },
  {
   "cell_type": "code",
   "execution_count": 61,
   "metadata": {},
   "outputs": [
    {
     "output_type": "error",
     "ename": "ValueError",
     "evalue": "could not convert string to float: 'q6dcvu'",
     "traceback": [
      "\u001b[1;31m---------------------------------------------------------------------------\u001b[0m",
      "\u001b[1;31mValueError\u001b[0m                                Traceback (most recent call last)",
      "\u001b[1;32m<ipython-input-61-440d5240ca66>\u001b[0m in \u001b[0;36m<module>\u001b[1;34m\u001b[0m\n\u001b[0;32m      2\u001b[0m \u001b[1;33m\u001b[0m\u001b[0m\n\u001b[0;32m      3\u001b[0m \u001b[0mclf\u001b[0m \u001b[1;33m=\u001b[0m \u001b[0mtree\u001b[0m\u001b[1;33m.\u001b[0m\u001b[0mDecisionTreeClassifier\u001b[0m\u001b[1;33m(\u001b[0m\u001b[1;33m)\u001b[0m\u001b[1;33m\u001b[0m\u001b[1;33m\u001b[0m\u001b[0m\n\u001b[1;32m----> 4\u001b[1;33m \u001b[0mclf\u001b[0m \u001b[1;33m=\u001b[0m \u001b[0mclf\u001b[0m\u001b[1;33m.\u001b[0m\u001b[0mfit\u001b[0m\u001b[1;33m(\u001b[0m\u001b[0mX_train\u001b[0m\u001b[1;33m,\u001b[0m \u001b[0my_train\u001b[0m\u001b[1;33m)\u001b[0m\u001b[1;33m\u001b[0m\u001b[1;33m\u001b[0m\u001b[0m\n\u001b[0m\u001b[0;32m      5\u001b[0m \u001b[0mclf\u001b[0m\u001b[1;33m.\u001b[0m\u001b[0mscore\u001b[0m\u001b[1;33m(\u001b[0m\u001b[0mX_test\u001b[0m\u001b[1;33m,\u001b[0m \u001b[0my_test\u001b[0m\u001b[1;33m)\u001b[0m\u001b[1;33m\u001b[0m\u001b[1;33m\u001b[0m\u001b[0m\n",
      "\u001b[1;32m~\\anaconda3\\envs\\PythonData\\lib\\site-packages\\sklearn\\tree\\_classes.py\u001b[0m in \u001b[0;36mfit\u001b[1;34m(self, X, y, sample_weight, check_input, X_idx_sorted)\u001b[0m\n\u001b[0;32m    875\u001b[0m             \u001b[0msample_weight\u001b[0m\u001b[1;33m=\u001b[0m\u001b[0msample_weight\u001b[0m\u001b[1;33m,\u001b[0m\u001b[1;33m\u001b[0m\u001b[1;33m\u001b[0m\u001b[0m\n\u001b[0;32m    876\u001b[0m             \u001b[0mcheck_input\u001b[0m\u001b[1;33m=\u001b[0m\u001b[0mcheck_input\u001b[0m\u001b[1;33m,\u001b[0m\u001b[1;33m\u001b[0m\u001b[1;33m\u001b[0m\u001b[0m\n\u001b[1;32m--> 877\u001b[1;33m             X_idx_sorted=X_idx_sorted)\n\u001b[0m\u001b[0;32m    878\u001b[0m         \u001b[1;32mreturn\u001b[0m \u001b[0mself\u001b[0m\u001b[1;33m\u001b[0m\u001b[1;33m\u001b[0m\u001b[0m\n\u001b[0;32m    879\u001b[0m \u001b[1;33m\u001b[0m\u001b[0m\n",
      "\u001b[1;32m~\\anaconda3\\envs\\PythonData\\lib\\site-packages\\sklearn\\tree\\_classes.py\u001b[0m in \u001b[0;36mfit\u001b[1;34m(self, X, y, sample_weight, check_input, X_idx_sorted)\u001b[0m\n\u001b[0;32m    147\u001b[0m \u001b[1;33m\u001b[0m\u001b[0m\n\u001b[0;32m    148\u001b[0m         \u001b[1;32mif\u001b[0m \u001b[0mcheck_input\u001b[0m\u001b[1;33m:\u001b[0m\u001b[1;33m\u001b[0m\u001b[1;33m\u001b[0m\u001b[0m\n\u001b[1;32m--> 149\u001b[1;33m             \u001b[0mX\u001b[0m \u001b[1;33m=\u001b[0m \u001b[0mcheck_array\u001b[0m\u001b[1;33m(\u001b[0m\u001b[0mX\u001b[0m\u001b[1;33m,\u001b[0m \u001b[0mdtype\u001b[0m\u001b[1;33m=\u001b[0m\u001b[0mDTYPE\u001b[0m\u001b[1;33m,\u001b[0m \u001b[0maccept_sparse\u001b[0m\u001b[1;33m=\u001b[0m\u001b[1;34m\"csc\"\u001b[0m\u001b[1;33m)\u001b[0m\u001b[1;33m\u001b[0m\u001b[1;33m\u001b[0m\u001b[0m\n\u001b[0m\u001b[0;32m    150\u001b[0m             \u001b[0my\u001b[0m \u001b[1;33m=\u001b[0m \u001b[0mcheck_array\u001b[0m\u001b[1;33m(\u001b[0m\u001b[0my\u001b[0m\u001b[1;33m,\u001b[0m \u001b[0mensure_2d\u001b[0m\u001b[1;33m=\u001b[0m\u001b[1;32mFalse\u001b[0m\u001b[1;33m,\u001b[0m \u001b[0mdtype\u001b[0m\u001b[1;33m=\u001b[0m\u001b[1;32mNone\u001b[0m\u001b[1;33m)\u001b[0m\u001b[1;33m\u001b[0m\u001b[1;33m\u001b[0m\u001b[0m\n\u001b[0;32m    151\u001b[0m             \u001b[1;32mif\u001b[0m \u001b[0missparse\u001b[0m\u001b[1;33m(\u001b[0m\u001b[0mX\u001b[0m\u001b[1;33m)\u001b[0m\u001b[1;33m:\u001b[0m\u001b[1;33m\u001b[0m\u001b[1;33m\u001b[0m\u001b[0m\n",
      "\u001b[1;32m~\\anaconda3\\envs\\PythonData\\lib\\site-packages\\sklearn\\utils\\validation.py\u001b[0m in \u001b[0;36mcheck_array\u001b[1;34m(array, accept_sparse, accept_large_sparse, dtype, order, copy, force_all_finite, ensure_2d, allow_nd, ensure_min_samples, ensure_min_features, warn_on_dtype, estimator)\u001b[0m\n\u001b[0;32m    529\u001b[0m                     \u001b[0marray\u001b[0m \u001b[1;33m=\u001b[0m \u001b[0marray\u001b[0m\u001b[1;33m.\u001b[0m\u001b[0mastype\u001b[0m\u001b[1;33m(\u001b[0m\u001b[0mdtype\u001b[0m\u001b[1;33m,\u001b[0m \u001b[0mcasting\u001b[0m\u001b[1;33m=\u001b[0m\u001b[1;34m\"unsafe\"\u001b[0m\u001b[1;33m,\u001b[0m \u001b[0mcopy\u001b[0m\u001b[1;33m=\u001b[0m\u001b[1;32mFalse\u001b[0m\u001b[1;33m)\u001b[0m\u001b[1;33m\u001b[0m\u001b[1;33m\u001b[0m\u001b[0m\n\u001b[0;32m    530\u001b[0m                 \u001b[1;32melse\u001b[0m\u001b[1;33m:\u001b[0m\u001b[1;33m\u001b[0m\u001b[1;33m\u001b[0m\u001b[0m\n\u001b[1;32m--> 531\u001b[1;33m                     \u001b[0marray\u001b[0m \u001b[1;33m=\u001b[0m \u001b[0mnp\u001b[0m\u001b[1;33m.\u001b[0m\u001b[0masarray\u001b[0m\u001b[1;33m(\u001b[0m\u001b[0marray\u001b[0m\u001b[1;33m,\u001b[0m \u001b[0morder\u001b[0m\u001b[1;33m=\u001b[0m\u001b[0morder\u001b[0m\u001b[1;33m,\u001b[0m \u001b[0mdtype\u001b[0m\u001b[1;33m=\u001b[0m\u001b[0mdtype\u001b[0m\u001b[1;33m)\u001b[0m\u001b[1;33m\u001b[0m\u001b[1;33m\u001b[0m\u001b[0m\n\u001b[0m\u001b[0;32m    532\u001b[0m             \u001b[1;32mexcept\u001b[0m \u001b[0mComplexWarning\u001b[0m\u001b[1;33m:\u001b[0m\u001b[1;33m\u001b[0m\u001b[1;33m\u001b[0m\u001b[0m\n\u001b[0;32m    533\u001b[0m                 raise ValueError(\"Complex data not supported\\n\"\n",
      "\u001b[1;32m~\\anaconda3\\envs\\PythonData\\lib\\site-packages\\numpy\\core\\_asarray.py\u001b[0m in \u001b[0;36masarray\u001b[1;34m(a, dtype, order)\u001b[0m\n\u001b[0;32m     83\u001b[0m \u001b[1;33m\u001b[0m\u001b[0m\n\u001b[0;32m     84\u001b[0m     \"\"\"\n\u001b[1;32m---> 85\u001b[1;33m     \u001b[1;32mreturn\u001b[0m \u001b[0marray\u001b[0m\u001b[1;33m(\u001b[0m\u001b[0ma\u001b[0m\u001b[1;33m,\u001b[0m \u001b[0mdtype\u001b[0m\u001b[1;33m,\u001b[0m \u001b[0mcopy\u001b[0m\u001b[1;33m=\u001b[0m\u001b[1;32mFalse\u001b[0m\u001b[1;33m,\u001b[0m \u001b[0morder\u001b[0m\u001b[1;33m=\u001b[0m\u001b[0morder\u001b[0m\u001b[1;33m)\u001b[0m\u001b[1;33m\u001b[0m\u001b[1;33m\u001b[0m\u001b[0m\n\u001b[0m\u001b[0;32m     86\u001b[0m \u001b[1;33m\u001b[0m\u001b[0m\n\u001b[0;32m     87\u001b[0m \u001b[1;33m\u001b[0m\u001b[0m\n",
      "\u001b[1;31mValueError\u001b[0m: could not convert string to float: 'q6dcvu'"
     ]
    }
   ],
   "source": [
    "# Build the random forrest classifier\n",
    "\n",
    "clf = tree.DecisionTreeClassifier()\n",
    "clf = clf.fit(X_train, y_train)\n",
    "clf.score(X_test, y_test)"
   ]
  },
  {
   "cell_type": "code",
   "execution_count": 47,
   "metadata": {},
   "outputs": [
    {
     "output_type": "error",
     "ename": "ValueError",
     "evalue": "could not convert string to float: 'q6dcvu'",
     "traceback": [
      "\u001b[1;31m---------------------------------------------------------------------------\u001b[0m",
      "\u001b[1;31mValueError\u001b[0m                                Traceback (most recent call last)",
      "\u001b[1;32m<ipython-input-47-4d3da8f76e87>\u001b[0m in \u001b[0;36m<module>\u001b[1;34m\u001b[0m\n\u001b[0;32m      3\u001b[0m \u001b[1;32mfrom\u001b[0m \u001b[0msklearn\u001b[0m\u001b[1;33m.\u001b[0m\u001b[0mensemble\u001b[0m \u001b[1;32mimport\u001b[0m \u001b[0mRandomForestClassifier\u001b[0m\u001b[1;33m\u001b[0m\u001b[1;33m\u001b[0m\u001b[0m\n\u001b[0;32m      4\u001b[0m \u001b[0mrf\u001b[0m \u001b[1;33m=\u001b[0m \u001b[0mRandomForestClassifier\u001b[0m\u001b[1;33m(\u001b[0m\u001b[0mn_estimators\u001b[0m\u001b[1;33m=\u001b[0m\u001b[1;36m200\u001b[0m\u001b[1;33m)\u001b[0m\u001b[1;33m\u001b[0m\u001b[1;33m\u001b[0m\u001b[0m\n\u001b[1;32m----> 5\u001b[1;33m \u001b[0mrf\u001b[0m \u001b[1;33m=\u001b[0m \u001b[0mrf\u001b[0m\u001b[1;33m.\u001b[0m\u001b[0mfit\u001b[0m\u001b[1;33m(\u001b[0m\u001b[0mX_train\u001b[0m\u001b[1;33m,\u001b[0m \u001b[0my_train\u001b[0m\u001b[1;33m)\u001b[0m\u001b[1;33m\u001b[0m\u001b[1;33m\u001b[0m\u001b[0m\n\u001b[0m\u001b[0;32m      6\u001b[0m \u001b[0mrf\u001b[0m\u001b[1;33m.\u001b[0m\u001b[0mscore\u001b[0m\u001b[1;33m(\u001b[0m\u001b[0mX_test\u001b[0m\u001b[1;33m,\u001b[0m \u001b[0my_test\u001b[0m\u001b[1;33m)\u001b[0m\u001b[1;33m\u001b[0m\u001b[1;33m\u001b[0m\u001b[0m\n",
      "\u001b[1;32m~\\anaconda3\\envs\\PythonData\\lib\\site-packages\\sklearn\\ensemble\\_forest.py\u001b[0m in \u001b[0;36mfit\u001b[1;34m(self, X, y, sample_weight)\u001b[0m\n\u001b[0;32m    293\u001b[0m         \"\"\"\n\u001b[0;32m    294\u001b[0m         \u001b[1;31m# Validate or convert input data\u001b[0m\u001b[1;33m\u001b[0m\u001b[1;33m\u001b[0m\u001b[1;33m\u001b[0m\u001b[0m\n\u001b[1;32m--> 295\u001b[1;33m         \u001b[0mX\u001b[0m \u001b[1;33m=\u001b[0m \u001b[0mcheck_array\u001b[0m\u001b[1;33m(\u001b[0m\u001b[0mX\u001b[0m\u001b[1;33m,\u001b[0m \u001b[0maccept_sparse\u001b[0m\u001b[1;33m=\u001b[0m\u001b[1;34m\"csc\"\u001b[0m\u001b[1;33m,\u001b[0m \u001b[0mdtype\u001b[0m\u001b[1;33m=\u001b[0m\u001b[0mDTYPE\u001b[0m\u001b[1;33m)\u001b[0m\u001b[1;33m\u001b[0m\u001b[1;33m\u001b[0m\u001b[0m\n\u001b[0m\u001b[0;32m    296\u001b[0m         \u001b[0my\u001b[0m \u001b[1;33m=\u001b[0m \u001b[0mcheck_array\u001b[0m\u001b[1;33m(\u001b[0m\u001b[0my\u001b[0m\u001b[1;33m,\u001b[0m \u001b[0maccept_sparse\u001b[0m\u001b[1;33m=\u001b[0m\u001b[1;34m'csc'\u001b[0m\u001b[1;33m,\u001b[0m \u001b[0mensure_2d\u001b[0m\u001b[1;33m=\u001b[0m\u001b[1;32mFalse\u001b[0m\u001b[1;33m,\u001b[0m \u001b[0mdtype\u001b[0m\u001b[1;33m=\u001b[0m\u001b[1;32mNone\u001b[0m\u001b[1;33m)\u001b[0m\u001b[1;33m\u001b[0m\u001b[1;33m\u001b[0m\u001b[0m\n\u001b[0;32m    297\u001b[0m         \u001b[1;32mif\u001b[0m \u001b[0msample_weight\u001b[0m \u001b[1;32mis\u001b[0m \u001b[1;32mnot\u001b[0m \u001b[1;32mNone\u001b[0m\u001b[1;33m:\u001b[0m\u001b[1;33m\u001b[0m\u001b[1;33m\u001b[0m\u001b[0m\n",
      "\u001b[1;32m~\\anaconda3\\envs\\PythonData\\lib\\site-packages\\sklearn\\utils\\validation.py\u001b[0m in \u001b[0;36mcheck_array\u001b[1;34m(array, accept_sparse, accept_large_sparse, dtype, order, copy, force_all_finite, ensure_2d, allow_nd, ensure_min_samples, ensure_min_features, warn_on_dtype, estimator)\u001b[0m\n\u001b[0;32m    529\u001b[0m                     \u001b[0marray\u001b[0m \u001b[1;33m=\u001b[0m \u001b[0marray\u001b[0m\u001b[1;33m.\u001b[0m\u001b[0mastype\u001b[0m\u001b[1;33m(\u001b[0m\u001b[0mdtype\u001b[0m\u001b[1;33m,\u001b[0m \u001b[0mcasting\u001b[0m\u001b[1;33m=\u001b[0m\u001b[1;34m\"unsafe\"\u001b[0m\u001b[1;33m,\u001b[0m \u001b[0mcopy\u001b[0m\u001b[1;33m=\u001b[0m\u001b[1;32mFalse\u001b[0m\u001b[1;33m)\u001b[0m\u001b[1;33m\u001b[0m\u001b[1;33m\u001b[0m\u001b[0m\n\u001b[0;32m    530\u001b[0m                 \u001b[1;32melse\u001b[0m\u001b[1;33m:\u001b[0m\u001b[1;33m\u001b[0m\u001b[1;33m\u001b[0m\u001b[0m\n\u001b[1;32m--> 531\u001b[1;33m                     \u001b[0marray\u001b[0m \u001b[1;33m=\u001b[0m \u001b[0mnp\u001b[0m\u001b[1;33m.\u001b[0m\u001b[0masarray\u001b[0m\u001b[1;33m(\u001b[0m\u001b[0marray\u001b[0m\u001b[1;33m,\u001b[0m \u001b[0morder\u001b[0m\u001b[1;33m=\u001b[0m\u001b[0morder\u001b[0m\u001b[1;33m,\u001b[0m \u001b[0mdtype\u001b[0m\u001b[1;33m=\u001b[0m\u001b[0mdtype\u001b[0m\u001b[1;33m)\u001b[0m\u001b[1;33m\u001b[0m\u001b[1;33m\u001b[0m\u001b[0m\n\u001b[0m\u001b[0;32m    532\u001b[0m             \u001b[1;32mexcept\u001b[0m \u001b[0mComplexWarning\u001b[0m\u001b[1;33m:\u001b[0m\u001b[1;33m\u001b[0m\u001b[1;33m\u001b[0m\u001b[0m\n\u001b[0;32m    533\u001b[0m                 raise ValueError(\"Complex data not supported\\n\"\n",
      "\u001b[1;32m~\\anaconda3\\envs\\PythonData\\lib\\site-packages\\numpy\\core\\_asarray.py\u001b[0m in \u001b[0;36masarray\u001b[1;34m(a, dtype, order)\u001b[0m\n\u001b[0;32m     83\u001b[0m \u001b[1;33m\u001b[0m\u001b[0m\n\u001b[0;32m     84\u001b[0m     \"\"\"\n\u001b[1;32m---> 85\u001b[1;33m     \u001b[1;32mreturn\u001b[0m \u001b[0marray\u001b[0m\u001b[1;33m(\u001b[0m\u001b[0ma\u001b[0m\u001b[1;33m,\u001b[0m \u001b[0mdtype\u001b[0m\u001b[1;33m,\u001b[0m \u001b[0mcopy\u001b[0m\u001b[1;33m=\u001b[0m\u001b[1;32mFalse\u001b[0m\u001b[1;33m,\u001b[0m \u001b[0morder\u001b[0m\u001b[1;33m=\u001b[0m\u001b[0morder\u001b[0m\u001b[1;33m)\u001b[0m\u001b[1;33m\u001b[0m\u001b[1;33m\u001b[0m\u001b[0m\n\u001b[0m\u001b[0;32m     86\u001b[0m \u001b[1;33m\u001b[0m\u001b[0m\n\u001b[0;32m     87\u001b[0m \u001b[1;33m\u001b[0m\u001b[0m\n",
      "\u001b[1;31mValueError\u001b[0m: could not convert string to float: 'q6dcvu'"
     ]
    }
   ],
   "source": [
    "# Fit the model on the test dataset and evaluate the output\n",
    "\n",
    "from sklearn.ensemble import RandomForestClassifier\n",
    "rf = RandomForestClassifier(n_estimators=200)\n",
    "rf = rf.fit(X_train, y_train)\n",
    "rf.score(X_test, y_test)"
   ]
  },
  {
   "cell_type": "code",
   "execution_count": 38,
   "metadata": {},
   "outputs": [
    {
     "data": {
      "text/plain": [
       "[(0.4187393569226615, 'frailty_risk_score'),\n",
       " (0.40529742573967265, 'age'),\n",
       " (0.13412694363644825, 'los'),\n",
       " (0.022662018513261946, 'new_cc_index'),\n",
       " (0.019174255187955614, 'female')]"
      ]
     },
     "execution_count": 38,
     "metadata": {},
     "output_type": "execute_result"
    }
   ],
   "source": [
    "# Evaluate the features of the model\n",
    "\n",
    "sorted(zip(rf.feature_importances_, feature_names), reverse=True)"
   ]
  },
  {
   "cell_type": "code",
   "execution_count": 39,
   "metadata": {},
   "outputs": [
    {
     "ename": "NameError",
     "evalue": "name 'new_feature_names' is not defined",
     "output_type": "error",
     "traceback": [
      "\u001b[1;31m---------------------------------------------------------------------------\u001b[0m",
      "\u001b[1;31mNameError\u001b[0m                                 Traceback (most recent call last)",
      "\u001b[1;32m<ipython-input-39-53b72b84b971>\u001b[0m in \u001b[0;36m<module>\u001b[1;34m\u001b[0m\n\u001b[0;32m      2\u001b[0m \u001b[1;32mimport\u001b[0m \u001b[0mgraphviz\u001b[0m\u001b[1;33m\u001b[0m\u001b[1;33m\u001b[0m\u001b[0m\n\u001b[0;32m      3\u001b[0m dot_data = tree.export_graphviz(clf, out_file=None, \n\u001b[1;32m----> 4\u001b[1;33m                   \u001b[0mfeature_names\u001b[0m\u001b[1;33m=\u001b[0m\u001b[0mnew_feature_names\u001b[0m\u001b[1;33m,\u001b[0m\u001b[1;33m\u001b[0m\u001b[1;33m\u001b[0m\u001b[0m\n\u001b[0m\u001b[0;32m      5\u001b[0m                       \u001b[0mclass_names\u001b[0m\u001b[1;33m=\u001b[0m\u001b[0mtarget_names\u001b[0m\u001b[1;33m,\u001b[0m\u001b[1;33m\u001b[0m\u001b[1;33m\u001b[0m\u001b[0m\n\u001b[0;32m      6\u001b[0m                       filled=True, rounded=True)  \n",
      "\u001b[1;31mNameError\u001b[0m: name 'new_feature_names' is not defined"
     ]
    }
   ],
   "source": [
    "from sklearn import tree\n",
    "import graphviz \n",
    "dot_data = tree.export_graphviz(clf, out_file=None, \n",
    "                  feature_names=new_feature_names,  \n",
    "                      class_names=target_names,  \n",
    "                      filled=True, rounded=True)  \n",
    "#                      special_characters=False)\n",
    "\n",
    "graph = graphviz.Source(dot_data)  \n",
    "graph "
   ]
  },
  {
   "cell_type": "code",
   "execution_count": null,
   "metadata": {},
   "outputs": [],
   "source": [
    "new_feature_names = ['age', 'female', 'los', 'new_cc_index', 'frailty_risk_score']\n",
    "new_feature_names"
   ]
  },
  {
   "cell_type": "code",
   "execution_count": null,
   "metadata": {},
   "outputs": [],
   "source": [
    "target"
   ]
  },
  {
   "cell_type": "code",
   "execution_count": null,
   "metadata": {},
   "outputs": [],
   "source": []
  }
 ],
 "metadata": {
  "kernelspec": {
   "display_name": "Python 3",
   "language": "python",
   "name": "python3"
  },
  "language_info": {
   "codemirror_mode": {
    "name": "ipython",
    "version": 3
   },
   "file_extension": ".py",
   "mimetype": "text/x-python",
   "name": "python",
   "nbconvert_exporter": "python",
   "pygments_lexer": "ipython3",
   "version": "3.6.10-final"
  }
 },
 "nbformat": 4,
 "nbformat_minor": 4
}